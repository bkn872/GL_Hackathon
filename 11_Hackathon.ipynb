{
  "cells": [
    {
      "cell_type": "markdown",
      "metadata": {
        "id": "view-in-github",
        "colab_type": "text"
      },
      "source": [
        "<a href=\"https://colab.research.google.com/github/bkn872/GL_Hackathon/blob/main/11_Hackathon.ipynb\" target=\"_parent\"><img src=\"https://colab.research.google.com/assets/colab-badge.svg\" alt=\"Open In Colab\"/></a>"
      ]
    },
    {
      "cell_type": "markdown",
      "metadata": {
        "id": "FcZpdmpBaLqp"
      },
      "source": [
        "#**TVS Credit - Mega Hackathon**"
      ]
    },
    {
      "cell_type": "markdown",
      "metadata": {
        "id": "nq4YFMaQaV6p"
      },
      "source": [
        "##**Domain:** Bank_Loans"
      ]
    },
    {
      "cell_type": "markdown",
      "metadata": {
        "id": "rLY9OmQoZ8Hq"
      },
      "source": [
        "#**Goal:** \n",
        "The goal of the problem is to predict whether a client will default on the vehicle loan payment or not, given the recent data of all the loan transactions. This can help the institution to distinguish the future applicants who might default. For each ID in the Test Dataset, you must predict the “Default” level\n",
        "Note: Please answer the below descriptive question in the Jupyter Notebook Itself. This is going to carry more weightage in the final evaluation. This is an open-ended question and you are free to come up with a detailed explanation basis the analysis, model building exercise you have carried out.\n",
        "\n"
      ]
    },
    {
      "cell_type": "markdown",
      "metadata": {
        "id": "eWFZg3DjavxC"
      },
      "source": [
        "### **Project Objective:**\n",
        "\n",
        "Once you have a mechanism to estimate the “level of default”, please describe how the financial institution must use that mechanism to decide whether to approve or decline the prospect for the loan they are applying for."
      ]
    },
    {
      "cell_type": "markdown",
      "metadata": {
        "id": "8glzDVXXbSeR"
      },
      "source": [
        "## **1.1) Import Data set**"
      ]
    },
    {
      "cell_type": "code",
      "execution_count": null,
      "metadata": {
        "id": "PmfW7bo7ZhJJ"
      },
      "outputs": [],
      "source": [
        "import pandas as pd\n",
        "import numpy as np\n",
        "import matplotlib.pyplot as plt\n",
        "import seaborn as sns\n"
      ]
    },
    {
      "cell_type": "code",
      "execution_count": null,
      "metadata": {
        "colab": {
          "base_uri": "https://localhost:8080/"
        },
        "id": "rSSJAppobq1H",
        "outputId": "87e53859-9e1b-4630-f553-9d0e112eba44"
      },
      "outputs": [
        {
          "name": "stdout",
          "output_type": "stream",
          "text": [
            "Mounted at /content/drive\n"
          ]
        }
      ],
      "source": [
        "from google.colab import drive\n",
        "drive.mount('/content/drive')"
      ]
    },
    {
      "cell_type": "code",
      "execution_count": null,
      "metadata": {
        "colab": {
          "base_uri": "https://localhost:8080/",
          "height": 270
        },
        "id": "PVcGjKZpcEdf",
        "outputId": "e8347015-7ab9-45cf-8ce5-db811e51e43f"
      },
      "outputs": [
        {
          "data": {
            "text/html": [
              "\n",
              "  <div id=\"df-5bb0d453-01ad-4f1a-9206-c13fb79941a6\">\n",
              "    <div class=\"colab-df-container\">\n",
              "      <div>\n",
              "<style scoped>\n",
              "    .dataframe tbody tr th:only-of-type {\n",
              "        vertical-align: middle;\n",
              "    }\n",
              "\n",
              "    .dataframe tbody tr th {\n",
              "        vertical-align: top;\n",
              "    }\n",
              "\n",
              "    .dataframe thead th {\n",
              "        text-align: right;\n",
              "    }\n",
              "</style>\n",
              "<table border=\"1\" class=\"dataframe\">\n",
              "  <thead>\n",
              "    <tr style=\"text-align: right;\">\n",
              "      <th></th>\n",
              "      <th>ID</th>\n",
              "      <th>Compensation</th>\n",
              "      <th>Vehicle_Status</th>\n",
              "      <th>Loan_amt</th>\n",
              "      <th>Annuity_amt</th>\n",
              "      <th>density_Ind</th>\n",
              "      <th>Job_Type</th>\n",
              "      <th>Default_hist</th>\n",
              "      <th>Prop_List</th>\n",
              "      <th>Home_Appliances</th>\n",
              "      <th>Region_Type</th>\n",
              "      <th>Credit_Inq</th>\n",
              "      <th>Education_det</th>\n",
              "      <th>Marital_Stat</th>\n",
              "      <th>Gen</th>\n",
              "      <th>Credit_Lnks</th>\n",
              "      <th>Experience</th>\n",
              "      <th>Income_Alt</th>\n",
              "      <th>Day_Process</th>\n",
              "      <th>Ph.No</th>\n",
              "      <th>Type_Loan</th>\n",
              "      <th>Dependents</th>\n",
              "      <th>Company_Rating</th>\n",
              "      <th>Region</th>\n",
              "      <th>Age</th>\n",
              "      <th>hour_Process</th>\n",
              "      <th>Addr_permanent</th>\n",
              "      <th>Permanent_Addr_tag</th>\n",
              "      <th>c1_rated</th>\n",
              "      <th>c2_rated</th>\n",
              "      <th>Contact_age</th>\n",
              "      <th>Product_bought</th>\n",
              "    </tr>\n",
              "  </thead>\n",
              "  <tbody>\n",
              "    <tr>\n",
              "      <th>0</th>\n",
              "      <td>487410</td>\n",
              "      <td>653106.0</td>\n",
              "      <td>Y</td>\n",
              "      <td>809400.00</td>\n",
              "      <td>9145.51</td>\n",
              "      <td>0.0015</td>\n",
              "      <td>Govt.</td>\n",
              "      <td>ndf</td>\n",
              "      <td>Morethan_One</td>\n",
              "      <td>1.0</td>\n",
              "      <td>Metro</td>\n",
              "      <td>1</td>\n",
              "      <td>Grad</td>\n",
              "      <td>Married</td>\n",
              "      <td>M</td>\n",
              "      <td>1_to_3</td>\n",
              "      <td>5.4</td>\n",
              "      <td>Not_Specified</td>\n",
              "      <td>thur</td>\n",
              "      <td>Yes</td>\n",
              "      <td>CLoan</td>\n",
              "      <td>3.0</td>\n",
              "      <td>2.0</td>\n",
              "      <td>North</td>\n",
              "      <td>39.0</td>\n",
              "      <td>11.0</td>\n",
              "      <td>Yes</td>\n",
              "      <td>Yes</td>\n",
              "      <td>0.349</td>\n",
              "      <td>0.349</td>\n",
              "      <td>3133.0</td>\n",
              "      <td>2.0</td>\n",
              "    </tr>\n",
              "    <tr>\n",
              "      <th>1</th>\n",
              "      <td>533258</td>\n",
              "      <td>434150.0</td>\n",
              "      <td>N</td>\n",
              "      <td>72618.75</td>\n",
              "      <td>7683.23</td>\n",
              "      <td>0.0332</td>\n",
              "      <td>Govt.</td>\n",
              "      <td>ndf</td>\n",
              "      <td>One</td>\n",
              "      <td>4.0</td>\n",
              "      <td>Metro</td>\n",
              "      <td>1</td>\n",
              "      <td>Grad</td>\n",
              "      <td>Married</td>\n",
              "      <td>M</td>\n",
              "      <td>1_to_3</td>\n",
              "      <td>2.3</td>\n",
              "      <td>Y</td>\n",
              "      <td>wed</td>\n",
              "      <td>No</td>\n",
              "      <td>CLoan</td>\n",
              "      <td>2.0</td>\n",
              "      <td>3.0</td>\n",
              "      <td>Central</td>\n",
              "      <td>46.0</td>\n",
              "      <td>13.0</td>\n",
              "      <td>Yes</td>\n",
              "      <td>Yes</td>\n",
              "      <td>0.237</td>\n",
              "      <td>0.237</td>\n",
              "      <td>1730.0</td>\n",
              "      <td>5.0</td>\n",
              "    </tr>\n",
              "    <tr>\n",
              "      <th>2</th>\n",
              "      <td>581926</td>\n",
              "      <td>489060.0</td>\n",
              "      <td>N</td>\n",
              "      <td>267255.80</td>\n",
              "      <td>9032.85</td>\n",
              "      <td>0.0316</td>\n",
              "      <td>IT</td>\n",
              "      <td>ndf</td>\n",
              "      <td>Morethan_One</td>\n",
              "      <td>NaN</td>\n",
              "      <td>Rural</td>\n",
              "      <td>1</td>\n",
              "      <td>Grad</td>\n",
              "      <td>Married</td>\n",
              "      <td>M</td>\n",
              "      <td>1_to_3</td>\n",
              "      <td>11.0</td>\n",
              "      <td>Y</td>\n",
              "      <td>thur</td>\n",
              "      <td>No</td>\n",
              "      <td>CLoan</td>\n",
              "      <td>3.0</td>\n",
              "      <td>2.0</td>\n",
              "      <td>South</td>\n",
              "      <td>33.0</td>\n",
              "      <td>15.0</td>\n",
              "      <td>Yes</td>\n",
              "      <td>Yes</td>\n",
              "      <td>0.111</td>\n",
              "      <td>0.111</td>\n",
              "      <td>759.0</td>\n",
              "      <td>4.0</td>\n",
              "    </tr>\n",
              "    <tr>\n",
              "      <th>3</th>\n",
              "      <td>486301</td>\n",
              "      <td>957294.0</td>\n",
              "      <td>N</td>\n",
              "      <td>623600.00</td>\n",
              "      <td>12838.25</td>\n",
              "      <td>0.0320</td>\n",
              "      <td>IT</td>\n",
              "      <td>ndf</td>\n",
              "      <td>One</td>\n",
              "      <td>4.0</td>\n",
              "      <td>Metro</td>\n",
              "      <td>1</td>\n",
              "      <td>Grad</td>\n",
              "      <td>Married</td>\n",
              "      <td>M</td>\n",
              "      <td>1_to_3</td>\n",
              "      <td>9.7</td>\n",
              "      <td>Y</td>\n",
              "      <td>Tue</td>\n",
              "      <td>Yes</td>\n",
              "      <td>CLoan</td>\n",
              "      <td>2.0</td>\n",
              "      <td>2.0</td>\n",
              "      <td>East</td>\n",
              "      <td>48.0</td>\n",
              "      <td>12.0</td>\n",
              "      <td>Yes</td>\n",
              "      <td>Yes</td>\n",
              "      <td>0.323</td>\n",
              "      <td>0.323</td>\n",
              "      <td>609.0</td>\n",
              "      <td>4.0</td>\n",
              "    </tr>\n",
              "    <tr>\n",
              "      <th>4</th>\n",
              "      <td>580822</td>\n",
              "      <td>1333739.0</td>\n",
              "      <td>N</td>\n",
              "      <td>529520.00</td>\n",
              "      <td>11799.09</td>\n",
              "      <td>0.0073</td>\n",
              "      <td>Non-IT</td>\n",
              "      <td>ndf</td>\n",
              "      <td>One</td>\n",
              "      <td>4.0</td>\n",
              "      <td>Metro</td>\n",
              "      <td>3</td>\n",
              "      <td>P_Grad</td>\n",
              "      <td>Married</td>\n",
              "      <td>F</td>\n",
              "      <td>1_to_3</td>\n",
              "      <td>NaN</td>\n",
              "      <td>Y</td>\n",
              "      <td>wed</td>\n",
              "      <td>Yes</td>\n",
              "      <td>RLoan</td>\n",
              "      <td>2.0</td>\n",
              "      <td>3.0</td>\n",
              "      <td>North</td>\n",
              "      <td>53.0</td>\n",
              "      <td>7.0</td>\n",
              "      <td>Yes</td>\n",
              "      <td>Yes</td>\n",
              "      <td>0.940</td>\n",
              "      <td>0.940</td>\n",
              "      <td>1222.0</td>\n",
              "      <td>1.0</td>\n",
              "    </tr>\n",
              "  </tbody>\n",
              "</table>\n",
              "</div>\n",
              "      <button class=\"colab-df-convert\" onclick=\"convertToInteractive('df-5bb0d453-01ad-4f1a-9206-c13fb79941a6')\"\n",
              "              title=\"Convert this dataframe to an interactive table.\"\n",
              "              style=\"display:none;\">\n",
              "        \n",
              "  <svg xmlns=\"http://www.w3.org/2000/svg\" height=\"24px\"viewBox=\"0 0 24 24\"\n",
              "       width=\"24px\">\n",
              "    <path d=\"M0 0h24v24H0V0z\" fill=\"none\"/>\n",
              "    <path d=\"M18.56 5.44l.94 2.06.94-2.06 2.06-.94-2.06-.94-.94-2.06-.94 2.06-2.06.94zm-11 1L8.5 8.5l.94-2.06 2.06-.94-2.06-.94L8.5 2.5l-.94 2.06-2.06.94zm10 10l.94 2.06.94-2.06 2.06-.94-2.06-.94-.94-2.06-.94 2.06-2.06.94z\"/><path d=\"M17.41 7.96l-1.37-1.37c-.4-.4-.92-.59-1.43-.59-.52 0-1.04.2-1.43.59L10.3 9.45l-7.72 7.72c-.78.78-.78 2.05 0 2.83L4 21.41c.39.39.9.59 1.41.59.51 0 1.02-.2 1.41-.59l7.78-7.78 2.81-2.81c.8-.78.8-2.07 0-2.86zM5.41 20L4 18.59l7.72-7.72 1.47 1.35L5.41 20z\"/>\n",
              "  </svg>\n",
              "      </button>\n",
              "      \n",
              "  <style>\n",
              "    .colab-df-container {\n",
              "      display:flex;\n",
              "      flex-wrap:wrap;\n",
              "      gap: 12px;\n",
              "    }\n",
              "\n",
              "    .colab-df-convert {\n",
              "      background-color: #E8F0FE;\n",
              "      border: none;\n",
              "      border-radius: 50%;\n",
              "      cursor: pointer;\n",
              "      display: none;\n",
              "      fill: #1967D2;\n",
              "      height: 32px;\n",
              "      padding: 0 0 0 0;\n",
              "      width: 32px;\n",
              "    }\n",
              "\n",
              "    .colab-df-convert:hover {\n",
              "      background-color: #E2EBFA;\n",
              "      box-shadow: 0px 1px 2px rgba(60, 64, 67, 0.3), 0px 1px 3px 1px rgba(60, 64, 67, 0.15);\n",
              "      fill: #174EA6;\n",
              "    }\n",
              "\n",
              "    [theme=dark] .colab-df-convert {\n",
              "      background-color: #3B4455;\n",
              "      fill: #D2E3FC;\n",
              "    }\n",
              "\n",
              "    [theme=dark] .colab-df-convert:hover {\n",
              "      background-color: #434B5C;\n",
              "      box-shadow: 0px 1px 3px 1px rgba(0, 0, 0, 0.15);\n",
              "      filter: drop-shadow(0px 1px 2px rgba(0, 0, 0, 0.3));\n",
              "      fill: #FFFFFF;\n",
              "    }\n",
              "  </style>\n",
              "\n",
              "      <script>\n",
              "        const buttonEl =\n",
              "          document.querySelector('#df-5bb0d453-01ad-4f1a-9206-c13fb79941a6 button.colab-df-convert');\n",
              "        buttonEl.style.display =\n",
              "          google.colab.kernel.accessAllowed ? 'block' : 'none';\n",
              "\n",
              "        async function convertToInteractive(key) {\n",
              "          const element = document.querySelector('#df-5bb0d453-01ad-4f1a-9206-c13fb79941a6');\n",
              "          const dataTable =\n",
              "            await google.colab.kernel.invokeFunction('convertToInteractive',\n",
              "                                                     [key], {});\n",
              "          if (!dataTable) return;\n",
              "\n",
              "          const docLinkHtml = 'Like what you see? Visit the ' +\n",
              "            '<a target=\"_blank\" href=https://colab.research.google.com/notebooks/data_table.ipynb>data table notebook</a>'\n",
              "            + ' to learn more about interactive tables.';\n",
              "          element.innerHTML = '';\n",
              "          dataTable['output_type'] = 'display_data';\n",
              "          await google.colab.output.renderOutput(dataTable, element);\n",
              "          const docLink = document.createElement('div');\n",
              "          docLink.innerHTML = docLinkHtml;\n",
              "          element.appendChild(docLink);\n",
              "        }\n",
              "      </script>\n",
              "    </div>\n",
              "  </div>\n",
              "  "
            ],
            "text/plain": [
              "       ID  Compensation Vehicle_Status   Loan_amt  Annuity_amt  density_Ind  \\\n",
              "0  487410      653106.0              Y  809400.00      9145.51       0.0015   \n",
              "1  533258      434150.0              N   72618.75      7683.23       0.0332   \n",
              "2  581926      489060.0              N  267255.80      9032.85       0.0316   \n",
              "3  486301      957294.0              N  623600.00     12838.25       0.0320   \n",
              "4  580822     1333739.0              N  529520.00     11799.09       0.0073   \n",
              "\n",
              "  Job_Type Default_hist     Prop_List  Home_Appliances Region_Type Credit_Inq  \\\n",
              "0    Govt.          ndf  Morethan_One              1.0       Metro          1   \n",
              "1    Govt.          ndf           One              4.0       Metro          1   \n",
              "2       IT          ndf  Morethan_One              NaN       Rural          1   \n",
              "3       IT          ndf           One              4.0       Metro          1   \n",
              "4   Non-IT          ndf           One              4.0       Metro          3   \n",
              "\n",
              "  Education_det Marital_Stat Gen Credit_Lnks  Experience     Income_Alt  \\\n",
              "0          Grad      Married   M      1_to_3         5.4  Not_Specified   \n",
              "1          Grad      Married   M      1_to_3         2.3              Y   \n",
              "2          Grad      Married   M      1_to_3        11.0              Y   \n",
              "3          Grad      Married   M      1_to_3         9.7              Y   \n",
              "4        P_Grad      Married   F      1_to_3         NaN              Y   \n",
              "\n",
              "  Day_Process Ph.No Type_Loan  Dependents  Company_Rating   Region   Age  \\\n",
              "0        thur   Yes     CLoan         3.0             2.0    North  39.0   \n",
              "1         wed    No     CLoan         2.0             3.0  Central  46.0   \n",
              "2        thur    No     CLoan         3.0             2.0    South  33.0   \n",
              "3         Tue   Yes     CLoan         2.0             2.0     East  48.0   \n",
              "4         wed   Yes     RLoan         2.0             3.0    North  53.0   \n",
              "\n",
              "   hour_Process Addr_permanent Permanent_Addr_tag  c1_rated  c2_rated  \\\n",
              "0          11.0            Yes                Yes     0.349     0.349   \n",
              "1          13.0            Yes                Yes     0.237     0.237   \n",
              "2          15.0            Yes                Yes     0.111     0.111   \n",
              "3          12.0            Yes                Yes     0.323     0.323   \n",
              "4           7.0            Yes                Yes     0.940     0.940   \n",
              "\n",
              "   Contact_age  Product_bought  \n",
              "0       3133.0             2.0  \n",
              "1       1730.0             5.0  \n",
              "2        759.0             4.0  \n",
              "3        609.0             4.0  \n",
              "4       1222.0             1.0  "
            ]
          },
          "execution_count": 3,
          "metadata": {},
          "output_type": "execute_result"
        }
      ],
      "source": [
        "test_set= pd.read_csv('/content/drive/My Drive/Python/ht_tvs/Test_Set_TVS.csv')\n",
        "pd.set_option('display.max_columns',None)\n",
        "test_set.head()"
      ]
    },
    {
      "cell_type": "code",
      "execution_count": null,
      "metadata": {
        "colab": {
          "base_uri": "https://localhost:8080/"
        },
        "id": "ZmeVWMWamcCF",
        "outputId": "04be631c-32bb-4dba-e188-ce4ace247441"
      },
      "outputs": [
        {
          "data": {
            "text/plain": [
              "(56760, 32)"
            ]
          },
          "execution_count": 4,
          "metadata": {},
          "output_type": "execute_result"
        }
      ],
      "source": [
        "test_set.shape"
      ]
    },
    {
      "cell_type": "code",
      "execution_count": null,
      "metadata": {
        "colab": {
          "base_uri": "https://localhost:8080/",
          "height": 270
        },
        "id": "vVU06uSSeATU",
        "outputId": "63996f24-dc01-4198-e25b-e70e4e31318a"
      },
      "outputs": [
        {
          "data": {
            "text/html": [
              "\n",
              "  <div id=\"df-8240ff66-ad98-4ebf-848d-b37c4a01e8ac\">\n",
              "    <div class=\"colab-df-container\">\n",
              "      <div>\n",
              "<style scoped>\n",
              "    .dataframe tbody tr th:only-of-type {\n",
              "        vertical-align: middle;\n",
              "    }\n",
              "\n",
              "    .dataframe tbody tr th {\n",
              "        vertical-align: top;\n",
              "    }\n",
              "\n",
              "    .dataframe thead th {\n",
              "        text-align: right;\n",
              "    }\n",
              "</style>\n",
              "<table border=\"1\" class=\"dataframe\">\n",
              "  <thead>\n",
              "    <tr style=\"text-align: right;\">\n",
              "      <th></th>\n",
              "      <th>ID</th>\n",
              "      <th>Compensation</th>\n",
              "      <th>Vehicle_Status</th>\n",
              "      <th>Loan_amt</th>\n",
              "      <th>Annuity_amt</th>\n",
              "      <th>density_Ind</th>\n",
              "      <th>Job_Type</th>\n",
              "      <th>Default_hist</th>\n",
              "      <th>Prop_List</th>\n",
              "      <th>Home_Appliances</th>\n",
              "      <th>Region_Type</th>\n",
              "      <th>Credit_Inq</th>\n",
              "      <th>Education_det</th>\n",
              "      <th>Marital_Stat</th>\n",
              "      <th>Gen</th>\n",
              "      <th>Credit_Lnks</th>\n",
              "      <th>Experience</th>\n",
              "      <th>Income_Alt</th>\n",
              "      <th>Day_Process</th>\n",
              "      <th>Ph.No</th>\n",
              "      <th>Type_Loan</th>\n",
              "      <th>Dependents</th>\n",
              "      <th>Company_Rating</th>\n",
              "      <th>Region</th>\n",
              "      <th>Age</th>\n",
              "      <th>hour_Process</th>\n",
              "      <th>Addr_permanent</th>\n",
              "      <th>Permanent_Addr_tag</th>\n",
              "      <th>c1_rated</th>\n",
              "      <th>c2_rated</th>\n",
              "      <th>Contact_age</th>\n",
              "      <th>Product_bought</th>\n",
              "      <th>Default</th>\n",
              "    </tr>\n",
              "  </thead>\n",
              "  <tbody>\n",
              "    <tr>\n",
              "      <th>0</th>\n",
              "      <td>540071</td>\n",
              "      <td>801850.0</td>\n",
              "      <td>Y</td>\n",
              "      <td>658040.0</td>\n",
              "      <td>13816.52</td>\n",
              "      <td>0.0304</td>\n",
              "      <td>IT</td>\n",
              "      <td>ndf</td>\n",
              "      <td>Morethan_One</td>\n",
              "      <td>NaN</td>\n",
              "      <td>Metro</td>\n",
              "      <td>1</td>\n",
              "      <td>Grad</td>\n",
              "      <td>Married</td>\n",
              "      <td>F</td>\n",
              "      <td>1_to_3</td>\n",
              "      <td>0.9</td>\n",
              "      <td>Not_Specified</td>\n",
              "      <td>SAT</td>\n",
              "      <td>Yes</td>\n",
              "      <td>CLoan</td>\n",
              "      <td>3.0</td>\n",
              "      <td>2.0</td>\n",
              "      <td>East</td>\n",
              "      <td>46.0</td>\n",
              "      <td>10.0</td>\n",
              "      <td>Yes</td>\n",
              "      <td>No</td>\n",
              "      <td>0.077</td>\n",
              "      <td>0.077</td>\n",
              "      <td>18.0</td>\n",
              "      <td>2.0</td>\n",
              "      <td>1.0</td>\n",
              "    </tr>\n",
              "    <tr>\n",
              "      <th>1</th>\n",
              "      <td>511643</td>\n",
              "      <td>884222.0</td>\n",
              "      <td>N</td>\n",
              "      <td>198075.0</td>\n",
              "      <td>11173.06</td>\n",
              "      <td>0.0194</td>\n",
              "      <td>IT</td>\n",
              "      <td>ndf</td>\n",
              "      <td>Morethan_One</td>\n",
              "      <td>1.0</td>\n",
              "      <td>Metro</td>\n",
              "      <td>2</td>\n",
              "      <td>Grad</td>\n",
              "      <td>Married</td>\n",
              "      <td>M</td>\n",
              "      <td>1_to_3</td>\n",
              "      <td>3.0</td>\n",
              "      <td>Not_Specified</td>\n",
              "      <td>wed</td>\n",
              "      <td>Yes</td>\n",
              "      <td>CLoan</td>\n",
              "      <td>3.0</td>\n",
              "      <td>1.0</td>\n",
              "      <td>North</td>\n",
              "      <td>46.0</td>\n",
              "      <td>12.0</td>\n",
              "      <td>Yes</td>\n",
              "      <td>Yes</td>\n",
              "      <td>0.184</td>\n",
              "      <td>0.184</td>\n",
              "      <td>306.0</td>\n",
              "      <td>4.0</td>\n",
              "      <td>0.0</td>\n",
              "    </tr>\n",
              "    <tr>\n",
              "      <th>2</th>\n",
              "      <td>506688</td>\n",
              "      <td>284120.0</td>\n",
              "      <td>N</td>\n",
              "      <td>101056.0</td>\n",
              "      <td>8390.40</td>\n",
              "      <td>0.0118</td>\n",
              "      <td>Govt.</td>\n",
              "      <td>ndf</td>\n",
              "      <td>One</td>\n",
              "      <td>4.0</td>\n",
              "      <td>Metro</td>\n",
              "      <td>3</td>\n",
              "      <td>Other</td>\n",
              "      <td>Married</td>\n",
              "      <td>M</td>\n",
              "      <td>1_to_3</td>\n",
              "      <td>NaN</td>\n",
              "      <td>Not_Specified</td>\n",
              "      <td>mon</td>\n",
              "      <td>Yes</td>\n",
              "      <td>CLoan</td>\n",
              "      <td>2.0</td>\n",
              "      <td>3.0</td>\n",
              "      <td>North</td>\n",
              "      <td>57.0</td>\n",
              "      <td>5.0</td>\n",
              "      <td>Yes</td>\n",
              "      <td>Yes</td>\n",
              "      <td>0.538</td>\n",
              "      <td>0.538</td>\n",
              "      <td>281.0</td>\n",
              "      <td>4.0</td>\n",
              "      <td>0.0</td>\n",
              "    </tr>\n",
              "    <tr>\n",
              "      <th>3</th>\n",
              "      <td>499360</td>\n",
              "      <td>341874.0</td>\n",
              "      <td>N</td>\n",
              "      <td>179008.0</td>\n",
              "      <td>7184.13</td>\n",
              "      <td>0.0373</td>\n",
              "      <td>Non-IT</td>\n",
              "      <td>df</td>\n",
              "      <td>None</td>\n",
              "      <td>2.0</td>\n",
              "      <td>Metro</td>\n",
              "      <td>1</td>\n",
              "      <td>Grad</td>\n",
              "      <td>Married</td>\n",
              "      <td>M</td>\n",
              "      <td>1_to_3</td>\n",
              "      <td>4.7</td>\n",
              "      <td>Not_Specified</td>\n",
              "      <td>wed</td>\n",
              "      <td>Yes</td>\n",
              "      <td>RLoan</td>\n",
              "      <td>4.0</td>\n",
              "      <td>2.0</td>\n",
              "      <td>South</td>\n",
              "      <td>39.0</td>\n",
              "      <td>12.0</td>\n",
              "      <td>Yes</td>\n",
              "      <td>Yes</td>\n",
              "      <td>NaN</td>\n",
              "      <td>0.561</td>\n",
              "      <td>20.0</td>\n",
              "      <td>4.0</td>\n",
              "      <td>0.0</td>\n",
              "    </tr>\n",
              "    <tr>\n",
              "      <th>4</th>\n",
              "      <td>438350</td>\n",
              "      <td>1259895.0</td>\n",
              "      <td>Y</td>\n",
              "      <td>573715.0</td>\n",
              "      <td>13212.77</td>\n",
              "      <td>0.0138</td>\n",
              "      <td>Non-IT</td>\n",
              "      <td>ndf</td>\n",
              "      <td>Morethan_One</td>\n",
              "      <td>1.0</td>\n",
              "      <td>Rural</td>\n",
              "      <td>2</td>\n",
              "      <td>Grad</td>\n",
              "      <td>Married</td>\n",
              "      <td>F</td>\n",
              "      <td>4_to_6</td>\n",
              "      <td>6.9</td>\n",
              "      <td>Y</td>\n",
              "      <td>Sun</td>\n",
              "      <td>Yes</td>\n",
              "      <td>CLoan</td>\n",
              "      <td>3.0</td>\n",
              "      <td>1.0</td>\n",
              "      <td>North</td>\n",
              "      <td>32.0</td>\n",
              "      <td>16.0</td>\n",
              "      <td>Yes</td>\n",
              "      <td>Yes</td>\n",
              "      <td>NaN</td>\n",
              "      <td>0.200</td>\n",
              "      <td>2339.0</td>\n",
              "      <td>6.0</td>\n",
              "      <td>0.0</td>\n",
              "    </tr>\n",
              "  </tbody>\n",
              "</table>\n",
              "</div>\n",
              "      <button class=\"colab-df-convert\" onclick=\"convertToInteractive('df-8240ff66-ad98-4ebf-848d-b37c4a01e8ac')\"\n",
              "              title=\"Convert this dataframe to an interactive table.\"\n",
              "              style=\"display:none;\">\n",
              "        \n",
              "  <svg xmlns=\"http://www.w3.org/2000/svg\" height=\"24px\"viewBox=\"0 0 24 24\"\n",
              "       width=\"24px\">\n",
              "    <path d=\"M0 0h24v24H0V0z\" fill=\"none\"/>\n",
              "    <path d=\"M18.56 5.44l.94 2.06.94-2.06 2.06-.94-2.06-.94-.94-2.06-.94 2.06-2.06.94zm-11 1L8.5 8.5l.94-2.06 2.06-.94-2.06-.94L8.5 2.5l-.94 2.06-2.06.94zm10 10l.94 2.06.94-2.06 2.06-.94-2.06-.94-.94-2.06-.94 2.06-2.06.94z\"/><path d=\"M17.41 7.96l-1.37-1.37c-.4-.4-.92-.59-1.43-.59-.52 0-1.04.2-1.43.59L10.3 9.45l-7.72 7.72c-.78.78-.78 2.05 0 2.83L4 21.41c.39.39.9.59 1.41.59.51 0 1.02-.2 1.41-.59l7.78-7.78 2.81-2.81c.8-.78.8-2.07 0-2.86zM5.41 20L4 18.59l7.72-7.72 1.47 1.35L5.41 20z\"/>\n",
              "  </svg>\n",
              "      </button>\n",
              "      \n",
              "  <style>\n",
              "    .colab-df-container {\n",
              "      display:flex;\n",
              "      flex-wrap:wrap;\n",
              "      gap: 12px;\n",
              "    }\n",
              "\n",
              "    .colab-df-convert {\n",
              "      background-color: #E8F0FE;\n",
              "      border: none;\n",
              "      border-radius: 50%;\n",
              "      cursor: pointer;\n",
              "      display: none;\n",
              "      fill: #1967D2;\n",
              "      height: 32px;\n",
              "      padding: 0 0 0 0;\n",
              "      width: 32px;\n",
              "    }\n",
              "\n",
              "    .colab-df-convert:hover {\n",
              "      background-color: #E2EBFA;\n",
              "      box-shadow: 0px 1px 2px rgba(60, 64, 67, 0.3), 0px 1px 3px 1px rgba(60, 64, 67, 0.15);\n",
              "      fill: #174EA6;\n",
              "    }\n",
              "\n",
              "    [theme=dark] .colab-df-convert {\n",
              "      background-color: #3B4455;\n",
              "      fill: #D2E3FC;\n",
              "    }\n",
              "\n",
              "    [theme=dark] .colab-df-convert:hover {\n",
              "      background-color: #434B5C;\n",
              "      box-shadow: 0px 1px 3px 1px rgba(0, 0, 0, 0.15);\n",
              "      filter: drop-shadow(0px 1px 2px rgba(0, 0, 0, 0.3));\n",
              "      fill: #FFFFFF;\n",
              "    }\n",
              "  </style>\n",
              "\n",
              "      <script>\n",
              "        const buttonEl =\n",
              "          document.querySelector('#df-8240ff66-ad98-4ebf-848d-b37c4a01e8ac button.colab-df-convert');\n",
              "        buttonEl.style.display =\n",
              "          google.colab.kernel.accessAllowed ? 'block' : 'none';\n",
              "\n",
              "        async function convertToInteractive(key) {\n",
              "          const element = document.querySelector('#df-8240ff66-ad98-4ebf-848d-b37c4a01e8ac');\n",
              "          const dataTable =\n",
              "            await google.colab.kernel.invokeFunction('convertToInteractive',\n",
              "                                                     [key], {});\n",
              "          if (!dataTable) return;\n",
              "\n",
              "          const docLinkHtml = 'Like what you see? Visit the ' +\n",
              "            '<a target=\"_blank\" href=https://colab.research.google.com/notebooks/data_table.ipynb>data table notebook</a>'\n",
              "            + ' to learn more about interactive tables.';\n",
              "          element.innerHTML = '';\n",
              "          dataTable['output_type'] = 'display_data';\n",
              "          await google.colab.output.renderOutput(dataTable, element);\n",
              "          const docLink = document.createElement('div');\n",
              "          docLink.innerHTML = docLinkHtml;\n",
              "          element.appendChild(docLink);\n",
              "        }\n",
              "      </script>\n",
              "    </div>\n",
              "  </div>\n",
              "  "
            ],
            "text/plain": [
              "       ID  Compensation Vehicle_Status  Loan_amt  Annuity_amt  density_Ind  \\\n",
              "0  540071      801850.0              Y  658040.0     13816.52       0.0304   \n",
              "1  511643      884222.0              N  198075.0     11173.06       0.0194   \n",
              "2  506688      284120.0              N  101056.0      8390.40       0.0118   \n",
              "3  499360      341874.0              N  179008.0      7184.13       0.0373   \n",
              "4  438350     1259895.0              Y  573715.0     13212.77       0.0138   \n",
              "\n",
              "  Job_Type Default_hist     Prop_List  Home_Appliances Region_Type Credit_Inq  \\\n",
              "0       IT          ndf  Morethan_One              NaN       Metro          1   \n",
              "1       IT          ndf  Morethan_One              1.0       Metro          2   \n",
              "2    Govt.          ndf           One              4.0       Metro          3   \n",
              "3   Non-IT           df          None              2.0       Metro          1   \n",
              "4   Non-IT          ndf  Morethan_One              1.0       Rural          2   \n",
              "\n",
              "  Education_det Marital_Stat Gen Credit_Lnks  Experience     Income_Alt  \\\n",
              "0          Grad      Married   F      1_to_3         0.9  Not_Specified   \n",
              "1          Grad      Married   M      1_to_3         3.0  Not_Specified   \n",
              "2         Other      Married   M      1_to_3         NaN  Not_Specified   \n",
              "3          Grad      Married   M      1_to_3         4.7  Not_Specified   \n",
              "4          Grad      Married   F      4_to_6         6.9              Y   \n",
              "\n",
              "  Day_Process Ph.No Type_Loan  Dependents  Company_Rating Region   Age  \\\n",
              "0         SAT   Yes     CLoan         3.0             2.0   East  46.0   \n",
              "1         wed   Yes     CLoan         3.0             1.0  North  46.0   \n",
              "2         mon   Yes     CLoan         2.0             3.0  North  57.0   \n",
              "3         wed   Yes     RLoan         4.0             2.0  South  39.0   \n",
              "4         Sun   Yes     CLoan         3.0             1.0  North  32.0   \n",
              "\n",
              "   hour_Process Addr_permanent Permanent_Addr_tag  c1_rated  c2_rated  \\\n",
              "0          10.0            Yes                 No     0.077     0.077   \n",
              "1          12.0            Yes                Yes     0.184     0.184   \n",
              "2           5.0            Yes                Yes     0.538     0.538   \n",
              "3          12.0            Yes                Yes       NaN     0.561   \n",
              "4          16.0            Yes                Yes       NaN     0.200   \n",
              "\n",
              "   Contact_age  Product_bought  Default  \n",
              "0         18.0             2.0      1.0  \n",
              "1        306.0             4.0      0.0  \n",
              "2        281.0             4.0      0.0  \n",
              "3         20.0             4.0      0.0  \n",
              "4       2339.0             6.0      0.0  "
            ]
          },
          "execution_count": 5,
          "metadata": {},
          "output_type": "execute_result"
        }
      ],
      "source": [
        "train_set= pd.read_csv('/content/drive/My Drive/Python/ht_tvs/Train_Set_TVS.csv')\n",
        "\n",
        "pd.set_option('display.max_columns',None)\n",
        "train_set.head()"
      ]
    },
    {
      "cell_type": "code",
      "execution_count": null,
      "metadata": {
        "colab": {
          "base_uri": "https://localhost:8080/"
        },
        "id": "H8HUqeaWmTge",
        "outputId": "9a723825-e105-4aa3-b653-b73f3425795c"
      },
      "outputs": [
        {
          "data": {
            "text/plain": [
              "(132440, 33)"
            ]
          },
          "execution_count": 6,
          "metadata": {},
          "output_type": "execute_result"
        }
      ],
      "source": [
        "train_set.shape"
      ]
    },
    {
      "cell_type": "code",
      "execution_count": null,
      "metadata": {
        "colab": {
          "base_uri": "https://localhost:8080/",
          "height": 364
        },
        "id": "mvbPY7ZmedPT",
        "outputId": "b603f968-0df9-4ede-d16f-25281e5e20e4"
      },
      "outputs": [
        {
          "data": {
            "text/html": [
              "\n",
              "  <div id=\"df-64b52915-343f-4644-aa2b-f99c56da103b\">\n",
              "    <div class=\"colab-df-container\">\n",
              "      <div>\n",
              "<style scoped>\n",
              "    .dataframe tbody tr th:only-of-type {\n",
              "        vertical-align: middle;\n",
              "    }\n",
              "\n",
              "    .dataframe tbody tr th {\n",
              "        vertical-align: top;\n",
              "    }\n",
              "\n",
              "    .dataframe thead th {\n",
              "        text-align: right;\n",
              "    }\n",
              "</style>\n",
              "<table border=\"1\" class=\"dataframe\">\n",
              "  <thead>\n",
              "    <tr style=\"text-align: right;\">\n",
              "      <th></th>\n",
              "      <th>ID</th>\n",
              "      <th>Compensation</th>\n",
              "      <th>Loan_amt</th>\n",
              "      <th>Annuity_amt</th>\n",
              "      <th>density_Ind</th>\n",
              "      <th>Home_Appliances</th>\n",
              "      <th>Experience</th>\n",
              "      <th>Dependents</th>\n",
              "      <th>Company_Rating</th>\n",
              "      <th>Age</th>\n",
              "      <th>hour_Process</th>\n",
              "      <th>c1_rated</th>\n",
              "      <th>c2_rated</th>\n",
              "      <th>Contact_age</th>\n",
              "      <th>Product_bought</th>\n",
              "      <th>Default</th>\n",
              "    </tr>\n",
              "  </thead>\n",
              "  <tbody>\n",
              "    <tr>\n",
              "      <th>count</th>\n",
              "      <td>132440.000000</td>\n",
              "      <td>1.261980e+05</td>\n",
              "      <td>1.324400e+05</td>\n",
              "      <td>127829.000000</td>\n",
              "      <td>127024.000000</td>\n",
              "      <td>121476.000000</td>\n",
              "      <td>110595.000000</td>\n",
              "      <td>132440.000000</td>\n",
              "      <td>120709.000000</td>\n",
              "      <td>132440.00000</td>\n",
              "      <td>132440.000000</td>\n",
              "      <td>114927.000000</td>\n",
              "      <td>119119.000000</td>\n",
              "      <td>124287.000000</td>\n",
              "      <td>132440.000000</td>\n",
              "      <td>132440.000000</td>\n",
              "    </tr>\n",
              "    <tr>\n",
              "      <th>mean</th>\n",
              "      <td>488938.279319</td>\n",
              "      <td>7.450519e+05</td>\n",
              "      <td>4.148011e+05</td>\n",
              "      <td>10845.286442</td>\n",
              "      <td>0.020446</td>\n",
              "      <td>3.220891</td>\n",
              "      <td>6.580616</td>\n",
              "      <td>2.155467</td>\n",
              "      <td>2.030553</td>\n",
              "      <td>43.93326</td>\n",
              "      <td>12.060865</td>\n",
              "      <td>0.505929</td>\n",
              "      <td>0.506181</td>\n",
              "      <td>979.451383</td>\n",
              "      <td>3.387738</td>\n",
              "      <td>0.264301</td>\n",
              "    </tr>\n",
              "    <tr>\n",
              "      <th>std</th>\n",
              "      <td>58568.207772</td>\n",
              "      <td>4.702762e+05</td>\n",
              "      <td>2.746788e+05</td>\n",
              "      <td>2061.529355</td>\n",
              "      <td>0.015077</td>\n",
              "      <td>1.241751</td>\n",
              "      <td>6.357054</td>\n",
              "      <td>0.909046</td>\n",
              "      <td>0.503750</td>\n",
              "      <td>11.96270</td>\n",
              "      <td>3.566714</td>\n",
              "      <td>0.268665</td>\n",
              "      <td>0.268716</td>\n",
              "      <td>829.632194</td>\n",
              "      <td>2.173246</td>\n",
              "      <td>0.440962</td>\n",
              "    </tr>\n",
              "    <tr>\n",
              "      <th>min</th>\n",
              "      <td>387652.000000</td>\n",
              "      <td>1.527280e+05</td>\n",
              "      <td>3.427500e+04</td>\n",
              "      <td>5852.100000</td>\n",
              "      <td>0.000100</td>\n",
              "      <td>1.000000</td>\n",
              "      <td>0.000000</td>\n",
              "      <td>1.000000</td>\n",
              "      <td>1.000000</td>\n",
              "      <td>21.00000</td>\n",
              "      <td>0.000000</td>\n",
              "      <td>0.000000</td>\n",
              "      <td>0.000000</td>\n",
              "      <td>10.000000</td>\n",
              "      <td>0.000000</td>\n",
              "      <td>0.000000</td>\n",
              "    </tr>\n",
              "    <tr>\n",
              "      <th>25%</th>\n",
              "      <td>438095.500000</td>\n",
              "      <td>5.177060e+05</td>\n",
              "      <td>2.045300e+05</td>\n",
              "      <td>9348.370000</td>\n",
              "      <td>0.010400</td>\n",
              "      <td>2.000000</td>\n",
              "      <td>2.100000</td>\n",
              "      <td>2.000000</td>\n",
              "      <td>2.000000</td>\n",
              "      <td>34.00000</td>\n",
              "      <td>10.000000</td>\n",
              "      <td>0.268000</td>\n",
              "      <td>0.268000</td>\n",
              "      <td>288.000000</td>\n",
              "      <td>2.000000</td>\n",
              "      <td>0.000000</td>\n",
              "    </tr>\n",
              "    <tr>\n",
              "      <th>50%</th>\n",
              "      <td>488952.500000</td>\n",
              "      <td>6.659960e+05</td>\n",
              "      <td>3.495425e+05</td>\n",
              "      <td>10773.820000</td>\n",
              "      <td>0.020400</td>\n",
              "      <td>4.000000</td>\n",
              "      <td>4.600000</td>\n",
              "      <td>2.000000</td>\n",
              "      <td>2.000000</td>\n",
              "      <td>43.00000</td>\n",
              "      <td>12.000000</td>\n",
              "      <td>0.500000</td>\n",
              "      <td>0.500000</td>\n",
              "      <td>770.000000</td>\n",
              "      <td>3.000000</td>\n",
              "      <td>0.000000</td>\n",
              "    </tr>\n",
              "    <tr>\n",
              "      <th>75%</th>\n",
              "      <td>539702.000000</td>\n",
              "      <td>8.794890e+05</td>\n",
              "      <td>5.582050e+05</td>\n",
              "      <td>12165.390000</td>\n",
              "      <td>0.030400</td>\n",
              "      <td>4.000000</td>\n",
              "      <td>9.000000</td>\n",
              "      <td>3.000000</td>\n",
              "      <td>2.000000</td>\n",
              "      <td>54.00000</td>\n",
              "      <td>15.000000</td>\n",
              "      <td>0.769000</td>\n",
              "      <td>0.769000</td>\n",
              "      <td>1589.000000</td>\n",
              "      <td>5.000000</td>\n",
              "      <td>1.000000</td>\n",
              "    </tr>\n",
              "    <tr>\n",
              "      <th>max</th>\n",
              "      <td>590407.000000</td>\n",
              "      <td>7.037702e+07</td>\n",
              "      <td>2.872142e+06</td>\n",
              "      <td>41301.000000</td>\n",
              "      <td>2.017800</td>\n",
              "      <td>19.000000</td>\n",
              "      <td>48.100000</td>\n",
              "      <td>9.000000</td>\n",
              "      <td>3.000000</td>\n",
              "      <td>69.00000</td>\n",
              "      <td>25.000000</td>\n",
              "      <td>0.947000</td>\n",
              "      <td>0.947000</td>\n",
              "      <td>4309.000000</td>\n",
              "      <td>25.000000</td>\n",
              "      <td>1.000000</td>\n",
              "    </tr>\n",
              "  </tbody>\n",
              "</table>\n",
              "</div>\n",
              "      <button class=\"colab-df-convert\" onclick=\"convertToInteractive('df-64b52915-343f-4644-aa2b-f99c56da103b')\"\n",
              "              title=\"Convert this dataframe to an interactive table.\"\n",
              "              style=\"display:none;\">\n",
              "        \n",
              "  <svg xmlns=\"http://www.w3.org/2000/svg\" height=\"24px\"viewBox=\"0 0 24 24\"\n",
              "       width=\"24px\">\n",
              "    <path d=\"M0 0h24v24H0V0z\" fill=\"none\"/>\n",
              "    <path d=\"M18.56 5.44l.94 2.06.94-2.06 2.06-.94-2.06-.94-.94-2.06-.94 2.06-2.06.94zm-11 1L8.5 8.5l.94-2.06 2.06-.94-2.06-.94L8.5 2.5l-.94 2.06-2.06.94zm10 10l.94 2.06.94-2.06 2.06-.94-2.06-.94-.94-2.06-.94 2.06-2.06.94z\"/><path d=\"M17.41 7.96l-1.37-1.37c-.4-.4-.92-.59-1.43-.59-.52 0-1.04.2-1.43.59L10.3 9.45l-7.72 7.72c-.78.78-.78 2.05 0 2.83L4 21.41c.39.39.9.59 1.41.59.51 0 1.02-.2 1.41-.59l7.78-7.78 2.81-2.81c.8-.78.8-2.07 0-2.86zM5.41 20L4 18.59l7.72-7.72 1.47 1.35L5.41 20z\"/>\n",
              "  </svg>\n",
              "      </button>\n",
              "      \n",
              "  <style>\n",
              "    .colab-df-container {\n",
              "      display:flex;\n",
              "      flex-wrap:wrap;\n",
              "      gap: 12px;\n",
              "    }\n",
              "\n",
              "    .colab-df-convert {\n",
              "      background-color: #E8F0FE;\n",
              "      border: none;\n",
              "      border-radius: 50%;\n",
              "      cursor: pointer;\n",
              "      display: none;\n",
              "      fill: #1967D2;\n",
              "      height: 32px;\n",
              "      padding: 0 0 0 0;\n",
              "      width: 32px;\n",
              "    }\n",
              "\n",
              "    .colab-df-convert:hover {\n",
              "      background-color: #E2EBFA;\n",
              "      box-shadow: 0px 1px 2px rgba(60, 64, 67, 0.3), 0px 1px 3px 1px rgba(60, 64, 67, 0.15);\n",
              "      fill: #174EA6;\n",
              "    }\n",
              "\n",
              "    [theme=dark] .colab-df-convert {\n",
              "      background-color: #3B4455;\n",
              "      fill: #D2E3FC;\n",
              "    }\n",
              "\n",
              "    [theme=dark] .colab-df-convert:hover {\n",
              "      background-color: #434B5C;\n",
              "      box-shadow: 0px 1px 3px 1px rgba(0, 0, 0, 0.15);\n",
              "      filter: drop-shadow(0px 1px 2px rgba(0, 0, 0, 0.3));\n",
              "      fill: #FFFFFF;\n",
              "    }\n",
              "  </style>\n",
              "\n",
              "      <script>\n",
              "        const buttonEl =\n",
              "          document.querySelector('#df-64b52915-343f-4644-aa2b-f99c56da103b button.colab-df-convert');\n",
              "        buttonEl.style.display =\n",
              "          google.colab.kernel.accessAllowed ? 'block' : 'none';\n",
              "\n",
              "        async function convertToInteractive(key) {\n",
              "          const element = document.querySelector('#df-64b52915-343f-4644-aa2b-f99c56da103b');\n",
              "          const dataTable =\n",
              "            await google.colab.kernel.invokeFunction('convertToInteractive',\n",
              "                                                     [key], {});\n",
              "          if (!dataTable) return;\n",
              "\n",
              "          const docLinkHtml = 'Like what you see? Visit the ' +\n",
              "            '<a target=\"_blank\" href=https://colab.research.google.com/notebooks/data_table.ipynb>data table notebook</a>'\n",
              "            + ' to learn more about interactive tables.';\n",
              "          element.innerHTML = '';\n",
              "          dataTable['output_type'] = 'display_data';\n",
              "          await google.colab.output.renderOutput(dataTable, element);\n",
              "          const docLink = document.createElement('div');\n",
              "          docLink.innerHTML = docLinkHtml;\n",
              "          element.appendChild(docLink);\n",
              "        }\n",
              "      </script>\n",
              "    </div>\n",
              "  </div>\n",
              "  "
            ],
            "text/plain": [
              "                  ID  Compensation      Loan_amt    Annuity_amt  \\\n",
              "count  132440.000000  1.261980e+05  1.324400e+05  127829.000000   \n",
              "mean   488938.279319  7.450519e+05  4.148011e+05   10845.286442   \n",
              "std     58568.207772  4.702762e+05  2.746788e+05    2061.529355   \n",
              "min    387652.000000  1.527280e+05  3.427500e+04    5852.100000   \n",
              "25%    438095.500000  5.177060e+05  2.045300e+05    9348.370000   \n",
              "50%    488952.500000  6.659960e+05  3.495425e+05   10773.820000   \n",
              "75%    539702.000000  8.794890e+05  5.582050e+05   12165.390000   \n",
              "max    590407.000000  7.037702e+07  2.872142e+06   41301.000000   \n",
              "\n",
              "         density_Ind  Home_Appliances     Experience     Dependents  \\\n",
              "count  127024.000000    121476.000000  110595.000000  132440.000000   \n",
              "mean        0.020446         3.220891       6.580616       2.155467   \n",
              "std         0.015077         1.241751       6.357054       0.909046   \n",
              "min         0.000100         1.000000       0.000000       1.000000   \n",
              "25%         0.010400         2.000000       2.100000       2.000000   \n",
              "50%         0.020400         4.000000       4.600000       2.000000   \n",
              "75%         0.030400         4.000000       9.000000       3.000000   \n",
              "max         2.017800        19.000000      48.100000       9.000000   \n",
              "\n",
              "       Company_Rating           Age   hour_Process       c1_rated  \\\n",
              "count   120709.000000  132440.00000  132440.000000  114927.000000   \n",
              "mean         2.030553      43.93326      12.060865       0.505929   \n",
              "std          0.503750      11.96270       3.566714       0.268665   \n",
              "min          1.000000      21.00000       0.000000       0.000000   \n",
              "25%          2.000000      34.00000      10.000000       0.268000   \n",
              "50%          2.000000      43.00000      12.000000       0.500000   \n",
              "75%          2.000000      54.00000      15.000000       0.769000   \n",
              "max          3.000000      69.00000      25.000000       0.947000   \n",
              "\n",
              "            c2_rated    Contact_age  Product_bought        Default  \n",
              "count  119119.000000  124287.000000   132440.000000  132440.000000  \n",
              "mean        0.506181     979.451383        3.387738       0.264301  \n",
              "std         0.268716     829.632194        2.173246       0.440962  \n",
              "min         0.000000      10.000000        0.000000       0.000000  \n",
              "25%         0.268000     288.000000        2.000000       0.000000  \n",
              "50%         0.500000     770.000000        3.000000       0.000000  \n",
              "75%         0.769000    1589.000000        5.000000       1.000000  \n",
              "max         0.947000    4309.000000       25.000000       1.000000  "
            ]
          },
          "execution_count": 7,
          "metadata": {},
          "output_type": "execute_result"
        }
      ],
      "source": [
        "train_set.describe()"
      ]
    },
    {
      "cell_type": "code",
      "execution_count": null,
      "metadata": {
        "colab": {
          "base_uri": "https://localhost:8080/"
        },
        "id": "o8mpp0eKn4TE",
        "outputId": "3b9ef597-dc01-4b0e-8ad9-2bef60c4d544"
      },
      "outputs": [
        {
          "name": "stdout",
          "output_type": "stream",
          "text": [
            "<class 'pandas.core.frame.DataFrame'>\n",
            "RangeIndex: 56760 entries, 0 to 56759\n",
            "Data columns (total 32 columns):\n",
            " #   Column              Non-Null Count  Dtype  \n",
            "---  ------              --------------  -----  \n",
            " 0   ID                  56760 non-null  int64  \n",
            " 1   Compensation        54010 non-null  float64\n",
            " 2   Vehicle_Status      52877 non-null  object \n",
            " 3   Loan_amt            56760 non-null  float64\n",
            " 4   Annuity_amt         54797 non-null  float64\n",
            " 5   density_Ind         54485 non-null  float64\n",
            " 6   Job_Type            52440 non-null  object \n",
            " 7   Default_hist        56760 non-null  object \n",
            " 8   Prop_List           55849 non-null  object \n",
            " 9   Home_Appliances     52001 non-null  float64\n",
            " 10  Region_Type         56760 non-null  object \n",
            " 11  Credit_Inq          55594 non-null  object \n",
            " 12  Education_det       56760 non-null  object \n",
            " 13  Marital_Stat        56760 non-null  object \n",
            " 14  Gen                 56760 non-null  object \n",
            " 15  Credit_Lnks         56760 non-null  object \n",
            " 16  Experience          47409 non-null  float64\n",
            " 17  Income_Alt          53461 non-null  object \n",
            " 18  Day_Process         56760 non-null  object \n",
            " 19  Ph.No               56760 non-null  object \n",
            " 20  Type_Loan           56760 non-null  object \n",
            " 21  Dependents          56760 non-null  float64\n",
            " 22  Company_Rating      51707 non-null  float64\n",
            " 23  Region              56760 non-null  object \n",
            " 24  Age                 56760 non-null  float64\n",
            " 25  hour_Process        56760 non-null  float64\n",
            " 26  Addr_permanent      56760 non-null  object \n",
            " 27  Permanent_Addr_tag  56760 non-null  object \n",
            " 28  c1_rated            49397 non-null  float64\n",
            " 29  c2_rated            51105 non-null  float64\n",
            " 30  Contact_age         53238 non-null  float64\n",
            " 31  Product_bought      56760 non-null  float64\n",
            "dtypes: float64(14), int64(1), object(17)\n",
            "memory usage: 13.9+ MB\n"
          ]
        }
      ],
      "source": [
        "test_set.info()"
      ]
    },
    {
      "cell_type": "code",
      "execution_count": null,
      "metadata": {
        "colab": {
          "base_uri": "https://localhost:8080/"
        },
        "id": "MY3uOcgtn9b7",
        "outputId": "c702ffed-c6e1-4722-a3ea-2de17209d524"
      },
      "outputs": [
        {
          "name": "stdout",
          "output_type": "stream",
          "text": [
            "<class 'pandas.core.frame.DataFrame'>\n",
            "RangeIndex: 132440 entries, 0 to 132439\n",
            "Data columns (total 33 columns):\n",
            " #   Column              Non-Null Count   Dtype  \n",
            "---  ------              --------------   -----  \n",
            " 0   ID                  132440 non-null  int64  \n",
            " 1   Compensation        126198 non-null  float64\n",
            " 2   Vehicle_Status      123336 non-null  object \n",
            " 3   Loan_amt            132440 non-null  float64\n",
            " 4   Annuity_amt         127829 non-null  float64\n",
            " 5   density_Ind         127024 non-null  float64\n",
            " 6   Job_Type            122192 non-null  object \n",
            " 7   Default_hist        132440 non-null  object \n",
            " 8   Prop_List           130475 non-null  object \n",
            " 9   Home_Appliances     121476 non-null  float64\n",
            " 10  Region_Type         132440 non-null  object \n",
            " 11  Credit_Inq          129750 non-null  object \n",
            " 12  Education_det       132440 non-null  object \n",
            " 13  Marital_Stat        132440 non-null  object \n",
            " 14  Gen                 132440 non-null  object \n",
            " 15  Credit_Lnks         132440 non-null  object \n",
            " 16  Experience          110595 non-null  float64\n",
            " 17  Income_Alt          124758 non-null  object \n",
            " 18  Day_Process         132440 non-null  object \n",
            " 19  Ph.No               132440 non-null  object \n",
            " 20  Type_Loan           132440 non-null  object \n",
            " 21  Dependents          132440 non-null  float64\n",
            " 22  Company_Rating      120709 non-null  float64\n",
            " 23  Region              132440 non-null  object \n",
            " 24  Age                 132440 non-null  float64\n",
            " 25  hour_Process        132440 non-null  float64\n",
            " 26  Addr_permanent      132440 non-null  object \n",
            " 27  Permanent_Addr_tag  132440 non-null  object \n",
            " 28  c1_rated            114927 non-null  float64\n",
            " 29  c2_rated            119119 non-null  float64\n",
            " 30  Contact_age         124287 non-null  float64\n",
            " 31  Product_bought      132440 non-null  float64\n",
            " 32  Default             132440 non-null  float64\n",
            "dtypes: float64(15), int64(1), object(17)\n",
            "memory usage: 33.3+ MB\n"
          ]
        }
      ],
      "source": [
        "train_set.info()"
      ]
    },
    {
      "cell_type": "markdown",
      "metadata": {
        "id": "bwkbgZV3d_BF"
      },
      "source": [
        "#**1.2) Data Cleaning**"
      ]
    },
    {
      "cell_type": "code",
      "execution_count": null,
      "metadata": {
        "colab": {
          "base_uri": "https://localhost:8080/"
        },
        "id": "-gHK_RQPQIQm",
        "outputId": "51a6b7d3-7f11-4048-fd0f-5dd565ce507e"
      },
      "outputs": [
        {
          "data": {
            "text/plain": [
              "ID                    False\n",
              "Compensation           True\n",
              "Vehicle_Status         True\n",
              "Loan_amt              False\n",
              "Annuity_amt            True\n",
              "density_Ind            True\n",
              "Job_Type               True\n",
              "Default_hist          False\n",
              "Prop_List              True\n",
              "Home_Appliances        True\n",
              "Region_Type           False\n",
              "Credit_Inq             True\n",
              "Education_det         False\n",
              "Marital_Stat          False\n",
              "Gen                   False\n",
              "Credit_Lnks           False\n",
              "Experience             True\n",
              "Income_Alt             True\n",
              "Day_Process           False\n",
              "Ph.No                 False\n",
              "Type_Loan             False\n",
              "Dependents            False\n",
              "Company_Rating         True\n",
              "Region                False\n",
              "Age                   False\n",
              "hour_Process          False\n",
              "Addr_permanent        False\n",
              "Permanent_Addr_tag    False\n",
              "c1_rated               True\n",
              "c2_rated               True\n",
              "Contact_age            True\n",
              "Product_bought        False\n",
              "Default               False\n",
              "dtype: bool"
            ]
          },
          "execution_count": 10,
          "metadata": {},
          "output_type": "execute_result"
        }
      ],
      "source": [
        "train_set.isnull().any()"
      ]
    },
    {
      "cell_type": "code",
      "execution_count": null,
      "metadata": {
        "colab": {
          "base_uri": "https://localhost:8080/",
          "height": 239
        },
        "id": "NK6m1ZOjUPf5",
        "outputId": "9730b6b7-ad75-4746-a2b3-64d7e283e868"
      },
      "outputs": [
        {
          "data": {
            "text/html": [
              "\n",
              "  <div id=\"df-26bb842d-e337-43f0-bdd5-07a2a595a585\">\n",
              "    <div class=\"colab-df-container\">\n",
              "      <div>\n",
              "<style scoped>\n",
              "    .dataframe tbody tr th:only-of-type {\n",
              "        vertical-align: middle;\n",
              "    }\n",
              "\n",
              "    .dataframe tbody tr th {\n",
              "        vertical-align: top;\n",
              "    }\n",
              "\n",
              "    .dataframe thead th {\n",
              "        text-align: right;\n",
              "    }\n",
              "</style>\n",
              "<table border=\"1\" class=\"dataframe\">\n",
              "  <thead>\n",
              "    <tr style=\"text-align: right;\">\n",
              "      <th></th>\n",
              "      <th>Vehicle_Status</th>\n",
              "      <th>Job_Type</th>\n",
              "      <th>Default_hist</th>\n",
              "      <th>Prop_List</th>\n",
              "      <th>Region_Type</th>\n",
              "      <th>Credit_Inq</th>\n",
              "      <th>Education_det</th>\n",
              "      <th>Marital_Stat</th>\n",
              "      <th>Gen</th>\n",
              "      <th>Credit_Lnks</th>\n",
              "      <th>Income_Alt</th>\n",
              "      <th>Day_Process</th>\n",
              "      <th>Ph.No</th>\n",
              "      <th>Type_Loan</th>\n",
              "      <th>Region</th>\n",
              "      <th>Addr_permanent</th>\n",
              "      <th>Permanent_Addr_tag</th>\n",
              "    </tr>\n",
              "  </thead>\n",
              "  <tbody>\n",
              "    <tr>\n",
              "      <th>count</th>\n",
              "      <td>123336</td>\n",
              "      <td>122192</td>\n",
              "      <td>132440</td>\n",
              "      <td>130475</td>\n",
              "      <td>132440</td>\n",
              "      <td>129750</td>\n",
              "      <td>132440</td>\n",
              "      <td>132440</td>\n",
              "      <td>132440</td>\n",
              "      <td>132440</td>\n",
              "      <td>124758</td>\n",
              "      <td>132440</td>\n",
              "      <td>132440</td>\n",
              "      <td>132440</td>\n",
              "      <td>132440</td>\n",
              "      <td>132440</td>\n",
              "      <td>132440</td>\n",
              "    </tr>\n",
              "    <tr>\n",
              "      <th>unique</th>\n",
              "      <td>2</td>\n",
              "      <td>3</td>\n",
              "      <td>2</td>\n",
              "      <td>3</td>\n",
              "      <td>3</td>\n",
              "      <td>4</td>\n",
              "      <td>3</td>\n",
              "      <td>4</td>\n",
              "      <td>2</td>\n",
              "      <td>3</td>\n",
              "      <td>2</td>\n",
              "      <td>7</td>\n",
              "      <td>2</td>\n",
              "      <td>2</td>\n",
              "      <td>4</td>\n",
              "      <td>2</td>\n",
              "      <td>2</td>\n",
              "    </tr>\n",
              "    <tr>\n",
              "      <th>top</th>\n",
              "      <td>N</td>\n",
              "      <td>IT</td>\n",
              "      <td>ndf</td>\n",
              "      <td>One</td>\n",
              "      <td>Metro</td>\n",
              "      <td>1</td>\n",
              "      <td>Grad</td>\n",
              "      <td>Married</td>\n",
              "      <td>M</td>\n",
              "      <td>1_to_3</td>\n",
              "      <td>Not_Specified</td>\n",
              "      <td>Tue</td>\n",
              "      <td>Yes</td>\n",
              "      <td>CLoan</td>\n",
              "      <td>North</td>\n",
              "      <td>Yes</td>\n",
              "      <td>Yes</td>\n",
              "    </tr>\n",
              "    <tr>\n",
              "      <th>freq</th>\n",
              "      <td>81370</td>\n",
              "      <td>66982</td>\n",
              "      <td>119170</td>\n",
              "      <td>91559</td>\n",
              "      <td>107548</td>\n",
              "      <td>67072</td>\n",
              "      <td>93858</td>\n",
              "      <td>97609</td>\n",
              "      <td>87063</td>\n",
              "      <td>117604</td>\n",
              "      <td>89848</td>\n",
              "      <td>23146</td>\n",
              "      <td>105944</td>\n",
              "      <td>119928</td>\n",
              "      <td>53101</td>\n",
              "      <td>122098</td>\n",
              "      <td>108616</td>\n",
              "    </tr>\n",
              "  </tbody>\n",
              "</table>\n",
              "</div>\n",
              "      <button class=\"colab-df-convert\" onclick=\"convertToInteractive('df-26bb842d-e337-43f0-bdd5-07a2a595a585')\"\n",
              "              title=\"Convert this dataframe to an interactive table.\"\n",
              "              style=\"display:none;\">\n",
              "        \n",
              "  <svg xmlns=\"http://www.w3.org/2000/svg\" height=\"24px\"viewBox=\"0 0 24 24\"\n",
              "       width=\"24px\">\n",
              "    <path d=\"M0 0h24v24H0V0z\" fill=\"none\"/>\n",
              "    <path d=\"M18.56 5.44l.94 2.06.94-2.06 2.06-.94-2.06-.94-.94-2.06-.94 2.06-2.06.94zm-11 1L8.5 8.5l.94-2.06 2.06-.94-2.06-.94L8.5 2.5l-.94 2.06-2.06.94zm10 10l.94 2.06.94-2.06 2.06-.94-2.06-.94-.94-2.06-.94 2.06-2.06.94z\"/><path d=\"M17.41 7.96l-1.37-1.37c-.4-.4-.92-.59-1.43-.59-.52 0-1.04.2-1.43.59L10.3 9.45l-7.72 7.72c-.78.78-.78 2.05 0 2.83L4 21.41c.39.39.9.59 1.41.59.51 0 1.02-.2 1.41-.59l7.78-7.78 2.81-2.81c.8-.78.8-2.07 0-2.86zM5.41 20L4 18.59l7.72-7.72 1.47 1.35L5.41 20z\"/>\n",
              "  </svg>\n",
              "      </button>\n",
              "      \n",
              "  <style>\n",
              "    .colab-df-container {\n",
              "      display:flex;\n",
              "      flex-wrap:wrap;\n",
              "      gap: 12px;\n",
              "    }\n",
              "\n",
              "    .colab-df-convert {\n",
              "      background-color: #E8F0FE;\n",
              "      border: none;\n",
              "      border-radius: 50%;\n",
              "      cursor: pointer;\n",
              "      display: none;\n",
              "      fill: #1967D2;\n",
              "      height: 32px;\n",
              "      padding: 0 0 0 0;\n",
              "      width: 32px;\n",
              "    }\n",
              "\n",
              "    .colab-df-convert:hover {\n",
              "      background-color: #E2EBFA;\n",
              "      box-shadow: 0px 1px 2px rgba(60, 64, 67, 0.3), 0px 1px 3px 1px rgba(60, 64, 67, 0.15);\n",
              "      fill: #174EA6;\n",
              "    }\n",
              "\n",
              "    [theme=dark] .colab-df-convert {\n",
              "      background-color: #3B4455;\n",
              "      fill: #D2E3FC;\n",
              "    }\n",
              "\n",
              "    [theme=dark] .colab-df-convert:hover {\n",
              "      background-color: #434B5C;\n",
              "      box-shadow: 0px 1px 3px 1px rgba(0, 0, 0, 0.15);\n",
              "      filter: drop-shadow(0px 1px 2px rgba(0, 0, 0, 0.3));\n",
              "      fill: #FFFFFF;\n",
              "    }\n",
              "  </style>\n",
              "\n",
              "      <script>\n",
              "        const buttonEl =\n",
              "          document.querySelector('#df-26bb842d-e337-43f0-bdd5-07a2a595a585 button.colab-df-convert');\n",
              "        buttonEl.style.display =\n",
              "          google.colab.kernel.accessAllowed ? 'block' : 'none';\n",
              "\n",
              "        async function convertToInteractive(key) {\n",
              "          const element = document.querySelector('#df-26bb842d-e337-43f0-bdd5-07a2a595a585');\n",
              "          const dataTable =\n",
              "            await google.colab.kernel.invokeFunction('convertToInteractive',\n",
              "                                                     [key], {});\n",
              "          if (!dataTable) return;\n",
              "\n",
              "          const docLinkHtml = 'Like what you see? Visit the ' +\n",
              "            '<a target=\"_blank\" href=https://colab.research.google.com/notebooks/data_table.ipynb>data table notebook</a>'\n",
              "            + ' to learn more about interactive tables.';\n",
              "          element.innerHTML = '';\n",
              "          dataTable['output_type'] = 'display_data';\n",
              "          await google.colab.output.renderOutput(dataTable, element);\n",
              "          const docLink = document.createElement('div');\n",
              "          docLink.innerHTML = docLinkHtml;\n",
              "          element.appendChild(docLink);\n",
              "        }\n",
              "      </script>\n",
              "    </div>\n",
              "  </div>\n",
              "  "
            ],
            "text/plain": [
              "       Vehicle_Status Job_Type Default_hist Prop_List Region_Type Credit_Inq  \\\n",
              "count          123336   122192       132440    130475      132440     129750   \n",
              "unique              2        3            2         3           3          4   \n",
              "top                 N       IT          ndf       One       Metro          1   \n",
              "freq            81370    66982       119170     91559      107548      67072   \n",
              "\n",
              "       Education_det Marital_Stat     Gen Credit_Lnks     Income_Alt  \\\n",
              "count         132440       132440  132440      132440         124758   \n",
              "unique             3            4       2           3              2   \n",
              "top             Grad      Married       M      1_to_3  Not_Specified   \n",
              "freq           93858        97609   87063      117604          89848   \n",
              "\n",
              "       Day_Process   Ph.No Type_Loan  Region Addr_permanent Permanent_Addr_tag  \n",
              "count       132440  132440    132440  132440         132440             132440  \n",
              "unique           7       2         2       4              2                  2  \n",
              "top            Tue     Yes     CLoan   North            Yes                Yes  \n",
              "freq         23146  105944    119928   53101         122098             108616  "
            ]
          },
          "execution_count": 11,
          "metadata": {},
          "output_type": "execute_result"
        }
      ],
      "source": [
        "train_set.describe(include='object')"
      ]
    },
    {
      "cell_type": "code",
      "execution_count": null,
      "metadata": {
        "colab": {
          "base_uri": "https://localhost:8080/"
        },
        "id": "UaIxy0RETFIL",
        "outputId": "8d828f15-8712-49fd-b6e1-81c206b96f9c"
      },
      "outputs": [
        {
          "data": {
            "text/plain": [
              "(132440, 33)"
            ]
          },
          "execution_count": 12,
          "metadata": {},
          "output_type": "execute_result"
        }
      ],
      "source": [
        "mydata=train_set\n",
        "mydata.shape"
      ]
    },
    {
      "cell_type": "code",
      "execution_count": null,
      "metadata": {
        "colab": {
          "base_uri": "https://localhost:8080/",
          "height": 984
        },
        "id": "VhLsK43zcpnH",
        "outputId": "0bc7a0c8-179b-47b2-8d87-b3a25e49518a"
      },
      "outputs": [
        {
          "data": {
            "image/png": "[encoded data removed]",
            "text/plain": [
              "<Figure size 864x2160 with 28 Axes>"
            ]
          },
          "metadata": {},
          "output_type": "display_data"
        }
      ],
      "source": [
        "columns = list(mydata)[0:-1] # Excluding Outcome column which has only \n",
        "mydata[columns].hist(stacked=False, bins=100, figsize=(12,30), layout=(14,2)); \n",
        "# Histogram of first 8 columns"
      ]
    },
    {
      "cell_type": "code",
      "execution_count": null,
      "metadata": {
        "colab": {
          "base_uri": "https://localhost:8080/",
          "height": 615
        },
        "id": "Em_3xr-ldQ6Q",
        "outputId": "08a6d439-10ec-45f1-c396-ce5962e2118b"
      },
      "outputs": [
        {
          "data": {
            "text/html": [
              "\n",
              "  <div id=\"df-7f209a2b-b46a-43f6-889f-180520f39976\">\n",
              "    <div class=\"colab-df-container\">\n",
              "      <div>\n",
              "<style scoped>\n",
              "    .dataframe tbody tr th:only-of-type {\n",
              "        vertical-align: middle;\n",
              "    }\n",
              "\n",
              "    .dataframe tbody tr th {\n",
              "        vertical-align: top;\n",
              "    }\n",
              "\n",
              "    .dataframe thead th {\n",
              "        text-align: right;\n",
              "    }\n",
              "</style>\n",
              "<table border=\"1\" class=\"dataframe\">\n",
              "  <thead>\n",
              "    <tr style=\"text-align: right;\">\n",
              "      <th></th>\n",
              "      <th>ID</th>\n",
              "      <th>Compensation</th>\n",
              "      <th>Loan_amt</th>\n",
              "      <th>Annuity_amt</th>\n",
              "      <th>density_Ind</th>\n",
              "      <th>Home_Appliances</th>\n",
              "      <th>Experience</th>\n",
              "      <th>Dependents</th>\n",
              "      <th>Company_Rating</th>\n",
              "      <th>Age</th>\n",
              "      <th>hour_Process</th>\n",
              "      <th>c1_rated</th>\n",
              "      <th>c2_rated</th>\n",
              "      <th>Contact_age</th>\n",
              "      <th>Product_bought</th>\n",
              "      <th>Default</th>\n",
              "    </tr>\n",
              "  </thead>\n",
              "  <tbody>\n",
              "    <tr>\n",
              "      <th>ID</th>\n",
              "      <td>1.000000</td>\n",
              "      <td>0.000663</td>\n",
              "      <td>0.001005</td>\n",
              "      <td>0.001591</td>\n",
              "      <td>0.001294</td>\n",
              "      <td>0.002065</td>\n",
              "      <td>-0.006953</td>\n",
              "      <td>0.000616</td>\n",
              "      <td>0.001091</td>\n",
              "      <td>-0.000608</td>\n",
              "      <td>0.000909</td>\n",
              "      <td>0.003904</td>\n",
              "      <td>0.003714</td>\n",
              "      <td>-0.003894</td>\n",
              "      <td>0.001894</td>\n",
              "      <td>0.000072</td>\n",
              "    </tr>\n",
              "    <tr>\n",
              "      <th>Compensation</th>\n",
              "      <td>0.000663</td>\n",
              "      <td>1.000000</td>\n",
              "      <td>0.266282</td>\n",
              "      <td>0.240677</td>\n",
              "      <td>0.000676</td>\n",
              "      <td>-0.027005</td>\n",
              "      <td>0.026336</td>\n",
              "      <td>0.028301</td>\n",
              "      <td>-0.163948</td>\n",
              "      <td>-0.042217</td>\n",
              "      <td>0.064352</td>\n",
              "      <td>-0.015832</td>\n",
              "      <td>-0.014824</td>\n",
              "      <td>0.033560</td>\n",
              "      <td>0.018357</td>\n",
              "      <td>-0.001455</td>\n",
              "    </tr>\n",
              "    <tr>\n",
              "      <th>Loan_amt</th>\n",
              "      <td>0.001005</td>\n",
              "      <td>0.266282</td>\n",
              "      <td>1.000000</td>\n",
              "      <td>0.487726</td>\n",
              "      <td>0.000780</td>\n",
              "      <td>0.002664</td>\n",
              "      <td>0.076666</td>\n",
              "      <td>0.054520</td>\n",
              "      <td>-0.101911</td>\n",
              "      <td>0.049473</td>\n",
              "      <td>0.042255</td>\n",
              "      <td>0.006083</td>\n",
              "      <td>0.005706</td>\n",
              "      <td>0.063308</td>\n",
              "      <td>-0.029405</td>\n",
              "      <td>-0.008946</td>\n",
              "    </tr>\n",
              "    <tr>\n",
              "      <th>Annuity_amt</th>\n",
              "      <td>0.001591</td>\n",
              "      <td>0.240677</td>\n",
              "      <td>0.487726</td>\n",
              "      <td>1.000000</td>\n",
              "      <td>0.002008</td>\n",
              "      <td>-0.012353</td>\n",
              "      <td>0.035001</td>\n",
              "      <td>0.051107</td>\n",
              "      <td>-0.096917</td>\n",
              "      <td>-0.006268</td>\n",
              "      <td>0.030093</td>\n",
              "      <td>0.003830</td>\n",
              "      <td>0.001989</td>\n",
              "      <td>0.040426</td>\n",
              "      <td>-0.008943</td>\n",
              "      <td>-0.004134</td>\n",
              "    </tr>\n",
              "    <tr>\n",
              "      <th>density_Ind</th>\n",
              "      <td>0.001294</td>\n",
              "      <td>0.000676</td>\n",
              "      <td>0.000780</td>\n",
              "      <td>0.002008</td>\n",
              "      <td>1.000000</td>\n",
              "      <td>0.001068</td>\n",
              "      <td>-0.002896</td>\n",
              "      <td>-0.000848</td>\n",
              "      <td>-0.009716</td>\n",
              "      <td>-0.001770</td>\n",
              "      <td>0.003082</td>\n",
              "      <td>-0.001601</td>\n",
              "      <td>-0.003426</td>\n",
              "      <td>-0.003137</td>\n",
              "      <td>0.000278</td>\n",
              "      <td>0.000991</td>\n",
              "    </tr>\n",
              "    <tr>\n",
              "      <th>Home_Appliances</th>\n",
              "      <td>0.002065</td>\n",
              "      <td>-0.027005</td>\n",
              "      <td>0.002664</td>\n",
              "      <td>-0.012353</td>\n",
              "      <td>0.001068</td>\n",
              "      <td>1.000000</td>\n",
              "      <td>0.072510</td>\n",
              "      <td>-0.618543</td>\n",
              "      <td>-0.010596</td>\n",
              "      <td>0.330201</td>\n",
              "      <td>0.001249</td>\n",
              "      <td>0.007362</td>\n",
              "      <td>0.008609</td>\n",
              "      <td>-0.007108</td>\n",
              "      <td>0.030492</td>\n",
              "      <td>-0.003848</td>\n",
              "    </tr>\n",
              "    <tr>\n",
              "      <th>Experience</th>\n",
              "      <td>-0.006953</td>\n",
              "      <td>0.026336</td>\n",
              "      <td>0.076666</td>\n",
              "      <td>0.035001</td>\n",
              "      <td>-0.002896</td>\n",
              "      <td>0.072510</td>\n",
              "      <td>1.000000</td>\n",
              "      <td>-0.035172</td>\n",
              "      <td>0.006026</td>\n",
              "      <td>0.329404</td>\n",
              "      <td>-0.012679</td>\n",
              "      <td>0.040402</td>\n",
              "      <td>0.041519</td>\n",
              "      <td>0.132993</td>\n",
              "      <td>-0.001461</td>\n",
              "      <td>-0.022894</td>\n",
              "    </tr>\n",
              "    <tr>\n",
              "      <th>Dependents</th>\n",
              "      <td>0.000616</td>\n",
              "      <td>0.028301</td>\n",
              "      <td>0.054520</td>\n",
              "      <td>0.051107</td>\n",
              "      <td>-0.000848</td>\n",
              "      <td>-0.618543</td>\n",
              "      <td>-0.035172</td>\n",
              "      <td>1.000000</td>\n",
              "      <td>0.030451</td>\n",
              "      <td>-0.264799</td>\n",
              "      <td>-0.011311</td>\n",
              "      <td>-0.004097</td>\n",
              "      <td>-0.003398</td>\n",
              "      <td>0.027048</td>\n",
              "      <td>-0.017262</td>\n",
              "      <td>0.002355</td>\n",
              "    </tr>\n",
              "    <tr>\n",
              "      <th>Company_Rating</th>\n",
              "      <td>0.001091</td>\n",
              "      <td>-0.163948</td>\n",
              "      <td>-0.101911</td>\n",
              "      <td>-0.096917</td>\n",
              "      <td>-0.009716</td>\n",
              "      <td>-0.010596</td>\n",
              "      <td>0.006026</td>\n",
              "      <td>0.030451</td>\n",
              "      <td>1.000000</td>\n",
              "      <td>-0.006189</td>\n",
              "      <td>-0.232106</td>\n",
              "      <td>0.000479</td>\n",
              "      <td>0.001683</td>\n",
              "      <td>-0.024565</td>\n",
              "      <td>0.006244</td>\n",
              "      <td>0.015499</td>\n",
              "    </tr>\n",
              "    <tr>\n",
              "      <th>Age</th>\n",
              "      <td>-0.000608</td>\n",
              "      <td>-0.042217</td>\n",
              "      <td>0.049473</td>\n",
              "      <td>-0.006268</td>\n",
              "      <td>-0.001770</td>\n",
              "      <td>0.330201</td>\n",
              "      <td>0.329404</td>\n",
              "      <td>-0.264799</td>\n",
              "      <td>-0.006189</td>\n",
              "      <td>1.000000</td>\n",
              "      <td>-0.076291</td>\n",
              "      <td>0.061336</td>\n",
              "      <td>0.061904</td>\n",
              "      <td>0.077793</td>\n",
              "      <td>0.052711</td>\n",
              "      <td>-0.023211</td>\n",
              "    </tr>\n",
              "    <tr>\n",
              "      <th>hour_Process</th>\n",
              "      <td>0.000909</td>\n",
              "      <td>0.064352</td>\n",
              "      <td>0.042255</td>\n",
              "      <td>0.030093</td>\n",
              "      <td>0.003082</td>\n",
              "      <td>0.001249</td>\n",
              "      <td>-0.012679</td>\n",
              "      <td>-0.011311</td>\n",
              "      <td>-0.232106</td>\n",
              "      <td>-0.076291</td>\n",
              "      <td>1.000000</td>\n",
              "      <td>-0.012199</td>\n",
              "      <td>-0.011544</td>\n",
              "      <td>0.013144</td>\n",
              "      <td>-0.019775</td>\n",
              "      <td>-0.007573</td>\n",
              "    </tr>\n",
              "    <tr>\n",
              "      <th>c1_rated</th>\n",
              "      <td>0.003904</td>\n",
              "      <td>-0.015832</td>\n",
              "      <td>0.006083</td>\n",
              "      <td>0.003830</td>\n",
              "      <td>-0.001601</td>\n",
              "      <td>0.007362</td>\n",
              "      <td>0.040402</td>\n",
              "      <td>-0.004097</td>\n",
              "      <td>0.000479</td>\n",
              "      <td>0.061336</td>\n",
              "      <td>-0.012199</td>\n",
              "      <td>1.000000</td>\n",
              "      <td>1.000000</td>\n",
              "      <td>0.022208</td>\n",
              "      <td>-0.022674</td>\n",
              "      <td>-0.014637</td>\n",
              "    </tr>\n",
              "    <tr>\n",
              "      <th>c2_rated</th>\n",
              "      <td>0.003714</td>\n",
              "      <td>-0.014824</td>\n",
              "      <td>0.005706</td>\n",
              "      <td>0.001989</td>\n",
              "      <td>-0.003426</td>\n",
              "      <td>0.008609</td>\n",
              "      <td>0.041519</td>\n",
              "      <td>-0.003398</td>\n",
              "      <td>0.001683</td>\n",
              "      <td>0.061904</td>\n",
              "      <td>-0.011544</td>\n",
              "      <td>1.000000</td>\n",
              "      <td>1.000000</td>\n",
              "      <td>0.021460</td>\n",
              "      <td>-0.022996</td>\n",
              "      <td>-0.014249</td>\n",
              "    </tr>\n",
              "    <tr>\n",
              "      <th>Contact_age</th>\n",
              "      <td>-0.003894</td>\n",
              "      <td>0.033560</td>\n",
              "      <td>0.063308</td>\n",
              "      <td>0.040426</td>\n",
              "      <td>-0.003137</td>\n",
              "      <td>-0.007108</td>\n",
              "      <td>0.132993</td>\n",
              "      <td>0.027048</td>\n",
              "      <td>-0.024565</td>\n",
              "      <td>0.077793</td>\n",
              "      <td>0.013144</td>\n",
              "      <td>0.022208</td>\n",
              "      <td>0.021460</td>\n",
              "      <td>1.000000</td>\n",
              "      <td>0.078508</td>\n",
              "      <td>-0.014431</td>\n",
              "    </tr>\n",
              "    <tr>\n",
              "      <th>Product_bought</th>\n",
              "      <td>0.001894</td>\n",
              "      <td>0.018357</td>\n",
              "      <td>-0.029405</td>\n",
              "      <td>-0.008943</td>\n",
              "      <td>0.000278</td>\n",
              "      <td>0.030492</td>\n",
              "      <td>-0.001461</td>\n",
              "      <td>-0.017262</td>\n",
              "      <td>0.006244</td>\n",
              "      <td>0.052711</td>\n",
              "      <td>-0.019775</td>\n",
              "      <td>-0.022674</td>\n",
              "      <td>-0.022996</td>\n",
              "      <td>0.078508</td>\n",
              "      <td>1.000000</td>\n",
              "      <td>0.006387</td>\n",
              "    </tr>\n",
              "    <tr>\n",
              "      <th>Default</th>\n",
              "      <td>0.000072</td>\n",
              "      <td>-0.001455</td>\n",
              "      <td>-0.008946</td>\n",
              "      <td>-0.004134</td>\n",
              "      <td>0.000991</td>\n",
              "      <td>-0.003848</td>\n",
              "      <td>-0.022894</td>\n",
              "      <td>0.002355</td>\n",
              "      <td>0.015499</td>\n",
              "      <td>-0.023211</td>\n",
              "      <td>-0.007573</td>\n",
              "      <td>-0.014637</td>\n",
              "      <td>-0.014249</td>\n",
              "      <td>-0.014431</td>\n",
              "      <td>0.006387</td>\n",
              "      <td>1.000000</td>\n",
              "    </tr>\n",
              "  </tbody>\n",
              "</table>\n",
              "</div>\n",
              "      <button class=\"colab-df-convert\" onclick=\"convertToInteractive('df-7f209a2b-b46a-43f6-889f-180520f39976')\"\n",
              "              title=\"Convert this dataframe to an interactive table.\"\n",
              "              style=\"display:none;\">\n",
              "        \n",
              "  <svg xmlns=\"http://www.w3.org/2000/svg\" height=\"24px\"viewBox=\"0 0 24 24\"\n",
              "       width=\"24px\">\n",
              "    <path d=\"M0 0h24v24H0V0z\" fill=\"none\"/>\n",
              "    <path d=\"M18.56 5.44l.94 2.06.94-2.06 2.06-.94-2.06-.94-.94-2.06-.94 2.06-2.06.94zm-11 1L8.5 8.5l.94-2.06 2.06-.94-2.06-.94L8.5 2.5l-.94 2.06-2.06.94zm10 10l.94 2.06.94-2.06 2.06-.94-2.06-.94-.94-2.06-.94 2.06-2.06.94z\"/><path d=\"M17.41 7.96l-1.37-1.37c-.4-.4-.92-.59-1.43-.59-.52 0-1.04.2-1.43.59L10.3 9.45l-7.72 7.72c-.78.78-.78 2.05 0 2.83L4 21.41c.39.39.9.59 1.41.59.51 0 1.02-.2 1.41-.59l7.78-7.78 2.81-2.81c.8-.78.8-2.07 0-2.86zM5.41 20L4 18.59l7.72-7.72 1.47 1.35L5.41 20z\"/>\n",
              "  </svg>\n",
              "      </button>\n",
              "      \n",
              "  <style>\n",
              "    .colab-df-container {\n",
              "      display:flex;\n",
              "      flex-wrap:wrap;\n",
              "      gap: 12px;\n",
              "    }\n",
              "\n",
              "    .colab-df-convert {\n",
              "      background-color: #E8F0FE;\n",
              "      border: none;\n",
              "      border-radius: 50%;\n",
              "      cursor: pointer;\n",
              "      display: none;\n",
              "      fill: #1967D2;\n",
              "      height: 32px;\n",
              "      padding: 0 0 0 0;\n",
              "      width: 32px;\n",
              "    }\n",
              "\n",
              "    .colab-df-convert:hover {\n",
              "      background-color: #E2EBFA;\n",
              "      box-shadow: 0px 1px 2px rgba(60, 64, 67, 0.3), 0px 1px 3px 1px rgba(60, 64, 67, 0.15);\n",
              "      fill: #174EA6;\n",
              "    }\n",
              "\n",
              "    [theme=dark] .colab-df-convert {\n",
              "      background-color: #3B4455;\n",
              "      fill: #D2E3FC;\n",
              "    }\n",
              "\n",
              "    [theme=dark] .colab-df-convert:hover {\n",
              "      background-color: #434B5C;\n",
              "      box-shadow: 0px 1px 3px 1px rgba(0, 0, 0, 0.15);\n",
              "      filter: drop-shadow(0px 1px 2px rgba(0, 0, 0, 0.3));\n",
              "      fill: #FFFFFF;\n",
              "    }\n",
              "  </style>\n",
              "\n",
              "      <script>\n",
              "        const buttonEl =\n",
              "          document.querySelector('#df-7f209a2b-b46a-43f6-889f-180520f39976 button.colab-df-convert');\n",
              "        buttonEl.style.display =\n",
              "          google.colab.kernel.accessAllowed ? 'block' : 'none';\n",
              "\n",
              "        async function convertToInteractive(key) {\n",
              "          const element = document.querySelector('#df-7f209a2b-b46a-43f6-889f-180520f39976');\n",
              "          const dataTable =\n",
              "            await google.colab.kernel.invokeFunction('convertToInteractive',\n",
              "                                                     [key], {});\n",
              "          if (!dataTable) return;\n",
              "\n",
              "          const docLinkHtml = 'Like what you see? Visit the ' +\n",
              "            '<a target=\"_blank\" href=https://colab.research.google.com/notebooks/data_table.ipynb>data table notebook</a>'\n",
              "            + ' to learn more about interactive tables.';\n",
              "          element.innerHTML = '';\n",
              "          dataTable['output_type'] = 'display_data';\n",
              "          await google.colab.output.renderOutput(dataTable, element);\n",
              "          const docLink = document.createElement('div');\n",
              "          docLink.innerHTML = docLinkHtml;\n",
              "          element.appendChild(docLink);\n",
              "        }\n",
              "      </script>\n",
              "    </div>\n",
              "  </div>\n",
              "  "
            ],
            "text/plain": [
              "                       ID  Compensation  Loan_amt  Annuity_amt  density_Ind  \\\n",
              "ID               1.000000      0.000663  0.001005     0.001591     0.001294   \n",
              "Compensation     0.000663      1.000000  0.266282     0.240677     0.000676   \n",
              "Loan_amt         0.001005      0.266282  1.000000     0.487726     0.000780   \n",
              "Annuity_amt      0.001591      0.240677  0.487726     1.000000     0.002008   \n",
              "density_Ind      0.001294      0.000676  0.000780     0.002008     1.000000   \n",
              "Home_Appliances  0.002065     -0.027005  0.002664    -0.012353     0.001068   \n",
              "Experience      -0.006953      0.026336  0.076666     0.035001    -0.002896   \n",
              "Dependents       0.000616      0.028301  0.054520     0.051107    -0.000848   \n",
              "Company_Rating   0.001091     -0.163948 -0.101911    -0.096917    -0.009716   \n",
              "Age             -0.000608     -0.042217  0.049473    -0.006268    -0.001770   \n",
              "hour_Process     0.000909      0.064352  0.042255     0.030093     0.003082   \n",
              "c1_rated         0.003904     -0.015832  0.006083     0.003830    -0.001601   \n",
              "c2_rated         0.003714     -0.014824  0.005706     0.001989    -0.003426   \n",
              "Contact_age     -0.003894      0.033560  0.063308     0.040426    -0.003137   \n",
              "Product_bought   0.001894      0.018357 -0.029405    -0.008943     0.000278   \n",
              "Default          0.000072     -0.001455 -0.008946    -0.004134     0.000991   \n",
              "\n",
              "                 Home_Appliances  Experience  Dependents  Company_Rating  \\\n",
              "ID                      0.002065   -0.006953    0.000616        0.001091   \n",
              "Compensation           -0.027005    0.026336    0.028301       -0.163948   \n",
              "Loan_amt                0.002664    0.076666    0.054520       -0.101911   \n",
              "Annuity_amt            -0.012353    0.035001    0.051107       -0.096917   \n",
              "density_Ind             0.001068   -0.002896   -0.000848       -0.009716   \n",
              "Home_Appliances         1.000000    0.072510   -0.618543       -0.010596   \n",
              "Experience              0.072510    1.000000   -0.035172        0.006026   \n",
              "Dependents             -0.618543   -0.035172    1.000000        0.030451   \n",
              "Company_Rating         -0.010596    0.006026    0.030451        1.000000   \n",
              "Age                     0.330201    0.329404   -0.264799       -0.006189   \n",
              "hour_Process            0.001249   -0.012679   -0.011311       -0.232106   \n",
              "c1_rated                0.007362    0.040402   -0.004097        0.000479   \n",
              "c2_rated                0.008609    0.041519   -0.003398        0.001683   \n",
              "Contact_age            -0.007108    0.132993    0.027048       -0.024565   \n",
              "Product_bought          0.030492   -0.001461   -0.017262        0.006244   \n",
              "Default                -0.003848   -0.022894    0.002355        0.015499   \n",
              "\n",
              "                      Age  hour_Process  c1_rated  c2_rated  Contact_age  \\\n",
              "ID              -0.000608      0.000909  0.003904  0.003714    -0.003894   \n",
              "Compensation    -0.042217      0.064352 -0.015832 -0.014824     0.033560   \n",
              "Loan_amt         0.049473      0.042255  0.006083  0.005706     0.063308   \n",
              "Annuity_amt     -0.006268      0.030093  0.003830  0.001989     0.040426   \n",
              "density_Ind     -0.001770      0.003082 -0.001601 -0.003426    -0.003137   \n",
              "Home_Appliances  0.330201      0.001249  0.007362  0.008609    -0.007108   \n",
              "Experience       0.329404     -0.012679  0.040402  0.041519     0.132993   \n",
              "Dependents      -0.264799     -0.011311 -0.004097 -0.003398     0.027048   \n",
              "Company_Rating  -0.006189     -0.232106  0.000479  0.001683    -0.024565   \n",
              "Age              1.000000     -0.076291  0.061336  0.061904     0.077793   \n",
              "hour_Process    -0.076291      1.000000 -0.012199 -0.011544     0.013144   \n",
              "c1_rated         0.061336     -0.012199  1.000000  1.000000     0.022208   \n",
              "c2_rated         0.061904     -0.011544  1.000000  1.000000     0.021460   \n",
              "Contact_age      0.077793      0.013144  0.022208  0.021460     1.000000   \n",
              "Product_bought   0.052711     -0.019775 -0.022674 -0.022996     0.078508   \n",
              "Default         -0.023211     -0.007573 -0.014637 -0.014249    -0.014431   \n",
              "\n",
              "                 Product_bought   Default  \n",
              "ID                     0.001894  0.000072  \n",
              "Compensation           0.018357 -0.001455  \n",
              "Loan_amt              -0.029405 -0.008946  \n",
              "Annuity_amt           -0.008943 -0.004134  \n",
              "density_Ind            0.000278  0.000991  \n",
              "Home_Appliances        0.030492 -0.003848  \n",
              "Experience            -0.001461 -0.022894  \n",
              "Dependents            -0.017262  0.002355  \n",
              "Company_Rating         0.006244  0.015499  \n",
              "Age                    0.052711 -0.023211  \n",
              "hour_Process          -0.019775 -0.007573  \n",
              "c1_rated              -0.022674 -0.014637  \n",
              "c2_rated              -0.022996 -0.014249  \n",
              "Contact_age            0.078508 -0.014431  \n",
              "Product_bought         1.000000  0.006387  \n",
              "Default                0.006387  1.000000  "
            ]
          },
          "execution_count": 14,
          "metadata": {},
          "output_type": "execute_result"
        }
      ],
      "source": [
        "mydata.corr() # It will show correlation matrix "
      ]
    },
    {
      "cell_type": "code",
      "execution_count": null,
      "metadata": {
        "colab": {
          "base_uri": "https://localhost:8080/",
          "height": 366
        },
        "id": "f91J_6RMxu9E",
        "outputId": "8a53b6f1-ebfd-4244-f247-9bbe53ce9192"
      },
      "outputs": [
        {
          "data": {
            "text/plain": [
              "<matplotlib.axes._subplots.AxesSubplot at 0x7ff01959a150>"
            ]
          },
          "execution_count": 15,
          "metadata": {},
          "output_type": "execute_result"
        },
        {
          "data": {
            "image/png": "[encoded data removed]",
            "text/plain": [
              "<Figure size 432x288 with 2 Axes>"
            ]
          },
          "metadata": {},
          "output_type": "display_data"
        }
      ],
      "source": [
        "sns.heatmap(mydata.corr())"
      ]
    },
    {
      "cell_type": "code",
      "execution_count": null,
      "metadata": {
        "colab": {
          "base_uri": "https://localhost:8080/",
          "height": 297
        },
        "id": "-GmsnUlNeAuX",
        "outputId": "5143922c-b5f0-4306-b8c6-a1e81c961cc6"
      },
      "outputs": [
        {
          "data": {
            "text/plain": [
              "<matplotlib.axes._subplots.AxesSubplot at 0x7ff019344310>"
            ]
          },
          "execution_count": 16,
          "metadata": {},
          "output_type": "execute_result"
        },
        {
          "data": {
            "image/png": "[encoded data removed]",
            "text/plain": [
              "<Figure size 432x288 with 1 Axes>"
            ]
          },
          "metadata": {},
          "output_type": "display_data"
        }
      ],
      "source": [
        "sns.scatterplot( x=mydata['Dependents'],y=mydata['Home_Appliances'])"
      ]
    },
    {
      "cell_type": "code",
      "execution_count": null,
      "metadata": {
        "colab": {
          "base_uri": "https://localhost:8080/",
          "height": 239
        },
        "id": "zsZy3uC0fBaZ",
        "outputId": "44f0f7df-5fb3-47c1-b42e-ac6f8db7a14a"
      },
      "outputs": [
        {
          "data": {
            "text/html": [
              "\n",
              "  <div id=\"df-63110449-db90-4f7a-8223-c23358dfc28d\">\n",
              "    <div class=\"colab-df-container\">\n",
              "      <div>\n",
              "<style scoped>\n",
              "    .dataframe tbody tr th:only-of-type {\n",
              "        vertical-align: middle;\n",
              "    }\n",
              "\n",
              "    .dataframe tbody tr th {\n",
              "        vertical-align: top;\n",
              "    }\n",
              "\n",
              "    .dataframe thead th {\n",
              "        text-align: right;\n",
              "    }\n",
              "</style>\n",
              "<table border=\"1\" class=\"dataframe\">\n",
              "  <thead>\n",
              "    <tr style=\"text-align: right;\">\n",
              "      <th></th>\n",
              "      <th>Vehicle_Status</th>\n",
              "      <th>Job_Type</th>\n",
              "      <th>Default_hist</th>\n",
              "      <th>Prop_List</th>\n",
              "      <th>Region_Type</th>\n",
              "      <th>Credit_Inq</th>\n",
              "      <th>Education_det</th>\n",
              "      <th>Marital_Stat</th>\n",
              "      <th>Gen</th>\n",
              "      <th>Credit_Lnks</th>\n",
              "      <th>Income_Alt</th>\n",
              "      <th>Day_Process</th>\n",
              "      <th>Ph.No</th>\n",
              "      <th>Type_Loan</th>\n",
              "      <th>Region</th>\n",
              "      <th>Addr_permanent</th>\n",
              "      <th>Permanent_Addr_tag</th>\n",
              "    </tr>\n",
              "  </thead>\n",
              "  <tbody>\n",
              "    <tr>\n",
              "      <th>count</th>\n",
              "      <td>123336</td>\n",
              "      <td>122192</td>\n",
              "      <td>132440</td>\n",
              "      <td>130475</td>\n",
              "      <td>132440</td>\n",
              "      <td>129750</td>\n",
              "      <td>132440</td>\n",
              "      <td>132440</td>\n",
              "      <td>132440</td>\n",
              "      <td>132440</td>\n",
              "      <td>124758</td>\n",
              "      <td>132440</td>\n",
              "      <td>132440</td>\n",
              "      <td>132440</td>\n",
              "      <td>132440</td>\n",
              "      <td>132440</td>\n",
              "      <td>132440</td>\n",
              "    </tr>\n",
              "    <tr>\n",
              "      <th>unique</th>\n",
              "      <td>2</td>\n",
              "      <td>3</td>\n",
              "      <td>2</td>\n",
              "      <td>3</td>\n",
              "      <td>3</td>\n",
              "      <td>4</td>\n",
              "      <td>3</td>\n",
              "      <td>4</td>\n",
              "      <td>2</td>\n",
              "      <td>3</td>\n",
              "      <td>2</td>\n",
              "      <td>7</td>\n",
              "      <td>2</td>\n",
              "      <td>2</td>\n",
              "      <td>4</td>\n",
              "      <td>2</td>\n",
              "      <td>2</td>\n",
              "    </tr>\n",
              "    <tr>\n",
              "      <th>top</th>\n",
              "      <td>N</td>\n",
              "      <td>IT</td>\n",
              "      <td>ndf</td>\n",
              "      <td>One</td>\n",
              "      <td>Metro</td>\n",
              "      <td>1</td>\n",
              "      <td>Grad</td>\n",
              "      <td>Married</td>\n",
              "      <td>M</td>\n",
              "      <td>1_to_3</td>\n",
              "      <td>Not_Specified</td>\n",
              "      <td>Tue</td>\n",
              "      <td>Yes</td>\n",
              "      <td>CLoan</td>\n",
              "      <td>North</td>\n",
              "      <td>Yes</td>\n",
              "      <td>Yes</td>\n",
              "    </tr>\n",
              "    <tr>\n",
              "      <th>freq</th>\n",
              "      <td>81370</td>\n",
              "      <td>66982</td>\n",
              "      <td>119170</td>\n",
              "      <td>91559</td>\n",
              "      <td>107548</td>\n",
              "      <td>67072</td>\n",
              "      <td>93858</td>\n",
              "      <td>97609</td>\n",
              "      <td>87063</td>\n",
              "      <td>117604</td>\n",
              "      <td>89848</td>\n",
              "      <td>23146</td>\n",
              "      <td>105944</td>\n",
              "      <td>119928</td>\n",
              "      <td>53101</td>\n",
              "      <td>122098</td>\n",
              "      <td>108616</td>\n",
              "    </tr>\n",
              "  </tbody>\n",
              "</table>\n",
              "</div>\n",
              "      <button class=\"colab-df-convert\" onclick=\"convertToInteractive('df-63110449-db90-4f7a-8223-c23358dfc28d')\"\n",
              "              title=\"Convert this dataframe to an interactive table.\"\n",
              "              style=\"display:none;\">\n",
              "        \n",
              "  <svg xmlns=\"http://www.w3.org/2000/svg\" height=\"24px\"viewBox=\"0 0 24 24\"\n",
              "       width=\"24px\">\n",
              "    <path d=\"M0 0h24v24H0V0z\" fill=\"none\"/>\n",
              "    <path d=\"M18.56 5.44l.94 2.06.94-2.06 2.06-.94-2.06-.94-.94-2.06-.94 2.06-2.06.94zm-11 1L8.5 8.5l.94-2.06 2.06-.94-2.06-.94L8.5 2.5l-.94 2.06-2.06.94zm10 10l.94 2.06.94-2.06 2.06-.94-2.06-.94-.94-2.06-.94 2.06-2.06.94z\"/><path d=\"M17.41 7.96l-1.37-1.37c-.4-.4-.92-.59-1.43-.59-.52 0-1.04.2-1.43.59L10.3 9.45l-7.72 7.72c-.78.78-.78 2.05 0 2.83L4 21.41c.39.39.9.59 1.41.59.51 0 1.02-.2 1.41-.59l7.78-7.78 2.81-2.81c.8-.78.8-2.07 0-2.86zM5.41 20L4 18.59l7.72-7.72 1.47 1.35L5.41 20z\"/>\n",
              "  </svg>\n",
              "      </button>\n",
              "      \n",
              "  <style>\n",
              "    .colab-df-container {\n",
              "      display:flex;\n",
              "      flex-wrap:wrap;\n",
              "      gap: 12px;\n",
              "    }\n",
              "\n",
              "    .colab-df-convert {\n",
              "      background-color: #E8F0FE;\n",
              "      border: none;\n",
              "      border-radius: 50%;\n",
              "      cursor: pointer;\n",
              "      display: none;\n",
              "      fill: #1967D2;\n",
              "      height: 32px;\n",
              "      padding: 0 0 0 0;\n",
              "      width: 32px;\n",
              "    }\n",
              "\n",
              "    .colab-df-convert:hover {\n",
              "      background-color: #E2EBFA;\n",
              "      box-shadow: 0px 1px 2px rgba(60, 64, 67, 0.3), 0px 1px 3px 1px rgba(60, 64, 67, 0.15);\n",
              "      fill: #174EA6;\n",
              "    }\n",
              "\n",
              "    [theme=dark] .colab-df-convert {\n",
              "      background-color: #3B4455;\n",
              "      fill: #D2E3FC;\n",
              "    }\n",
              "\n",
              "    [theme=dark] .colab-df-convert:hover {\n",
              "      background-color: #434B5C;\n",
              "      box-shadow: 0px 1px 3px 1px rgba(0, 0, 0, 0.15);\n",
              "      filter: drop-shadow(0px 1px 2px rgba(0, 0, 0, 0.3));\n",
              "      fill: #FFFFFF;\n",
              "    }\n",
              "  </style>\n",
              "\n",
              "      <script>\n",
              "        const buttonEl =\n",
              "          document.querySelector('#df-63110449-db90-4f7a-8223-c23358dfc28d button.colab-df-convert');\n",
              "        buttonEl.style.display =\n",
              "          google.colab.kernel.accessAllowed ? 'block' : 'none';\n",
              "\n",
              "        async function convertToInteractive(key) {\n",
              "          const element = document.querySelector('#df-63110449-db90-4f7a-8223-c23358dfc28d');\n",
              "          const dataTable =\n",
              "            await google.colab.kernel.invokeFunction('convertToInteractive',\n",
              "                                                     [key], {});\n",
              "          if (!dataTable) return;\n",
              "\n",
              "          const docLinkHtml = 'Like what you see? Visit the ' +\n",
              "            '<a target=\"_blank\" href=https://colab.research.google.com/notebooks/data_table.ipynb>data table notebook</a>'\n",
              "            + ' to learn more about interactive tables.';\n",
              "          element.innerHTML = '';\n",
              "          dataTable['output_type'] = 'display_data';\n",
              "          await google.colab.output.renderOutput(dataTable, element);\n",
              "          const docLink = document.createElement('div');\n",
              "          docLink.innerHTML = docLinkHtml;\n",
              "          element.appendChild(docLink);\n",
              "        }\n",
              "      </script>\n",
              "    </div>\n",
              "  </div>\n",
              "  "
            ],
            "text/plain": [
              "       Vehicle_Status Job_Type Default_hist Prop_List Region_Type Credit_Inq  \\\n",
              "count          123336   122192       132440    130475      132440     129750   \n",
              "unique              2        3            2         3           3          4   \n",
              "top                 N       IT          ndf       One       Metro          1   \n",
              "freq            81370    66982       119170     91559      107548      67072   \n",
              "\n",
              "       Education_det Marital_Stat     Gen Credit_Lnks     Income_Alt  \\\n",
              "count         132440       132440  132440      132440         124758   \n",
              "unique             3            4       2           3              2   \n",
              "top             Grad      Married       M      1_to_3  Not_Specified   \n",
              "freq           93858        97609   87063      117604          89848   \n",
              "\n",
              "       Day_Process   Ph.No Type_Loan  Region Addr_permanent Permanent_Addr_tag  \n",
              "count       132440  132440    132440  132440         132440             132440  \n",
              "unique           7       2         2       4              2                  2  \n",
              "top            Tue     Yes     CLoan   North            Yes                Yes  \n",
              "freq         23146  105944    119928   53101         122098             108616  "
            ]
          },
          "execution_count": 17,
          "metadata": {},
          "output_type": "execute_result"
        }
      ],
      "source": [
        "mydata.describe(include='object')"
      ]
    },
    {
      "cell_type": "code",
      "execution_count": null,
      "metadata": {
        "colab": {
          "base_uri": "https://localhost:8080/"
        },
        "id": "R6m5ZfETV3Ob",
        "outputId": "e145e141-08b5-43fd-ba28-4746e28ba3eb"
      },
      "outputs": [
        {
          "name": "stdout",
          "output_type": "stream",
          "text": [
            "Job_Type: \n",
            " IT        66982\n",
            "Non-IT    29488\n",
            "Govt.     25722\n",
            "Name: Job_Type, dtype: int64 \n",
            "\n",
            "Credit_Inq: \n",
            " 1     67072\n",
            "2     30362\n",
            "3     23178\n",
            ">4     9138\n",
            "Name: Credit_Inq, dtype: int64 \n",
            "\n",
            "Gen: \n",
            " M    87063\n",
            "F    45377\n",
            "Name: Gen, dtype: int64 \n",
            "\n",
            "Credit_Lnks: \n",
            " 1_to_3    117604\n",
            "4_to_6     13182\n",
            ">6          1654\n",
            "Name: Credit_Lnks, dtype: int64 \n",
            "\n",
            "Day_Process: \n",
            " Tue     23146\n",
            "wed     22387\n",
            "thur    21958\n",
            "mon     21936\n",
            "Fri     21701\n",
            "SAT     14489\n",
            "Sun      6823\n",
            "Name: Day_Process, dtype: int64 \n",
            "\n",
            "Region: \n",
            " North      53101\n",
            "East       28615\n",
            "Central    27227\n",
            "South      23497\n",
            "Name: Region, dtype: int64 \n",
            "\n"
          ]
        }
      ],
      "source": [
        "print('Job_Type:','\\n',mydata['Job_Type'].value_counts(),'\\n')\n",
        "print('Credit_Inq:','\\n',mydata['Credit_Inq'].value_counts(),'\\n')\n",
        "print('Gen:','\\n',mydata['Gen'].value_counts(),'\\n')\n",
        "print('Credit_Lnks:','\\n',mydata['Credit_Lnks'].value_counts(),'\\n')\n",
        "print('Day_Process:','\\n',mydata['Day_Process'].value_counts(),'\\n')\n",
        "print('Region:','\\n',mydata['Region'].value_counts(),'\\n')\n",
        "\n"
      ]
    },
    {
      "cell_type": "code",
      "execution_count": null,
      "metadata": {
        "id": "Pkm5BVQgr5sd"
      },
      "outputs": [],
      "source": [
        "mydata=mydata.apply(lambda x: x.replace({\n",
        "                                 \n",
        "                                                  \">4\":1, # Credit_Inq\n",
        "                                         \n",
        "                                                 }, regex=True))"
      ]
    },
    {
      "cell_type": "code",
      "execution_count": null,
      "metadata": {
        "colab": {
          "base_uri": "https://localhost:8080/"
        },
        "id": "wxofp7vwtBgy",
        "outputId": "cba14f60-296c-439d-db00-f2f846212475"
      },
      "outputs": [
        {
          "data": {
            "text/plain": [
              "1    67072\n",
              "2    30362\n",
              "3    23178\n",
              "1     9138\n",
              "Name: Credit_Inq, dtype: int64"
            ]
          },
          "execution_count": 20,
          "metadata": {},
          "output_type": "execute_result"
        }
      ],
      "source": [
        "mydata['Credit_Inq'].value_counts()"
      ]
    },
    {
      "cell_type": "code",
      "execution_count": null,
      "metadata": {
        "colab": {
          "background_save": true
        },
        "id": "nd-r-m8GTQbu"
      },
      "outputs": [],
      "source": [
        "# more counts available considered as max count varriabel\n",
        "mydata=mydata.apply(lambda x: x.replace({'N':2,'Y':1, #vehicel status\n",
        "                                          'IT':3,'Govt.':2, #Job_Type\n",
        "                                         'ndf':2,'df':1,# Default_hist                                         \n",
        "                                                'One':3,'None':2, 'Morethan_One':1, #Prop_List\n",
        "                                                'Metro':3, 'Rural':2, 'other':1, # Region_Type\n",
        "                                                 \n",
        "                                                'Grad':3, 'P_Grad':2, 'Other':1, # Education_det\n",
        "                                                'Married':4, 'Single':3, 'Divorce':2, 'Widow':1, #Marital_Stat\n",
        "                                                 'M':2, \"F\":1, #Gen\n",
        "                                                 '1_to_3':3, '4_to_6':2, '>6':1, #Credit_Lnks\n",
        "                                                 'Not_Specified':2, \"Y\":1, # Income_Alt\n",
        "                                                 'Tue':7, 'wed':6,'thur':5,'mon':4, 'Fri':3, 'SAT':2,'Sun':1,  #Day_Process\n",
        "                                                 'Yes':2,'No':1, #Ph.No                                               \n",
        "                                                'CLoan':2,  'RLoan':1, #Type_Loan\n",
        "                                                 'North':4, 'East':3, 'Central':2, 'South':1, #Region\n",
        "                                                 'Yes':2,'No':1, #Addr_permanent\n",
        "                                                 'Yes':2,'No':1, #Permanent_Addr_tag\n",
        "                                                'NAN':0, 'NaN':0, 'np.nan':0, 'np.NaN':0, ' ':0, 'np.NAN':0,'':0\n",
        "                                                \n",
        "                                                  \n",
        "                                                 }, regex=True))\n",
        "\n"
      ]
    },
    {
      "cell_type": "code",
      "execution_count": null,
      "metadata": {
        "colab": {
          "background_save": true
        },
        "id": "7BVScwrbVdmu"
      },
      "outputs": [],
      "source": [
        "mydata.info()"
      ]
    },
    {
      "cell_type": "code",
      "execution_count": null,
      "metadata": {
        "colab": {
          "background_save": true
        },
        "id": "1UyRjmTfqkWw"
      },
      "outputs": [],
      "source": [
        "mydata['Credit_Inq']=mydata['Credit_Inq'].astype('float64')"
      ]
    },
    {
      "cell_type": "code",
      "execution_count": null,
      "metadata": {
        "colab": {
          "background_save": true
        },
        "id": "D2OlcztDzmFR"
      },
      "outputs": [],
      "source": [
        "mydata['Credit_Inq'].dtype"
      ]
    },
    {
      "cell_type": "code",
      "execution_count": null,
      "metadata": {
        "colab": {
          "background_save": true
        },
        "id": "e_57plU1zgky"
      },
      "outputs": [],
      "source": [
        "mydata.info()"
      ]
    },
    {
      "cell_type": "code",
      "execution_count": null,
      "metadata": {
        "colab": {
          "background_save": true
        },
        "id": "onOVlq4HrUGC"
      },
      "outputs": [],
      "source": [
        "mydata['Credit_Inq'].value_counts()"
      ]
    },
    {
      "cell_type": "code",
      "execution_count": null,
      "metadata": {
        "id": "rrmD7ztDvNSQ"
      },
      "outputs": [],
      "source": [
        "columns = list(mydata)[0:-1] # Excluding Outcome column which has only \n",
        "mydata[columns].hist(stacked=False, bins=20, figsize=(12,30), layout=(20,2)); \n",
        "plt.tight_layout()\n",
        "# Histogram of first 8 columns"
      ]
    },
    {
      "cell_type": "code",
      "execution_count": null,
      "metadata": {
        "id": "qqEcTU2wv21s"
      },
      "outputs": [],
      "source": [
        "mydata.corr()"
      ]
    },
    {
      "cell_type": "code",
      "execution_count": null,
      "metadata": {
        "id": "j0JkSQtVwAos"
      },
      "outputs": [],
      "source": [
        "mydata['Job_Type'].value_counts()"
      ]
    },
    {
      "cell_type": "code",
      "execution_count": null,
      "metadata": {
        "id": "s4WpvLpRwP8W"
      },
      "outputs": [],
      "source": [
        "mydata['Prop_List'].value_counts()"
      ]
    },
    {
      "cell_type": "code",
      "execution_count": null,
      "metadata": {
        "id": "VMBwNX4Swikl"
      },
      "outputs": [],
      "source": [
        "print('Job_Type:','\\n',mydata['Job_Type'].value_counts(),'\\n')\n",
        "print('Credit_Inq:','\\n',mydata['Credit_Inq'].value_counts(),'\\n')\n",
        "print('Gen:','\\n',mydata['Gen'].value_counts(),'\\n')\n",
        "print('Credit_Lnks:','\\n',mydata['Credit_Lnks'].value_counts(),'\\n')\n",
        "print('Day_Process:','\\n',mydata['Day_Process'].value_counts(),'\\n')\n",
        "print('Region:','\\n',mydata['Region'].value_counts(),'\\n')"
      ]
    },
    {
      "cell_type": "code",
      "execution_count": null,
      "metadata": {
        "id": "545nOlhdVBbE"
      },
      "outputs": [],
      "source": [
        "# However we want to see correlation in graphical representation so below is function for that\n",
        "def plot_corr1(df, size=11):\n",
        "    corr = df.corr()\n",
        "    fig, ax = plt.subplots(figsize=(size, size))\n",
        "    ax.matshow(corr)\n",
        "    plt.xticks(range(len(corr.columns)), corr.columns)\n",
        "    plt.yticks(range(len(corr.columns)), corr.columns)"
      ]
    },
    {
      "cell_type": "code",
      "execution_count": null,
      "metadata": {
        "id": "A1fYp1di0beP"
      },
      "outputs": [],
      "source": [
        "plot_corr1(mydata)"
      ]
    },
    {
      "cell_type": "code",
      "execution_count": null,
      "metadata": {
        "id": "NxnsTp9C0nsO"
      },
      "outputs": [],
      "source": [
        "sns.heatmap(mydata.corr())"
      ]
    },
    {
      "cell_type": "code",
      "execution_count": null,
      "metadata": {
        "id": "AN7nPnhT5_n_"
      },
      "outputs": [],
      "source": [
        "mydata.info()"
      ]
    },
    {
      "cell_type": "code",
      "execution_count": null,
      "metadata": {
        "id": "eW3ouihO-V5w"
      },
      "outputs": [],
      "source": [
        "mydata.fillna(0, inplace=True)"
      ]
    },
    {
      "cell_type": "code",
      "execution_count": null,
      "metadata": {
        "id": "36rCDbfB-Z8_"
      },
      "outputs": [],
      "source": [
        "mydata.info()"
      ]
    },
    {
      "cell_type": "markdown",
      "metadata": {
        "id": "BpYTbrYK6Wrh"
      },
      "source": [
        "Calculate Default ratio of True/False from outcome variable"
      ]
    },
    {
      "cell_type": "code",
      "execution_count": null,
      "metadata": {
        "id": "5Csx_jMR4DvT"
      },
      "outputs": [],
      "source": [
        "n_true = len(mydata.loc[mydata['Default'] == True])\n",
        "n_false = len(mydata.loc[mydata['Default'] == False])\n",
        "print(\"Number of true cases: {0} ({1:2.2f}%)\".format(n_true, (n_true / (n_true + n_false)) * 100 ))\n",
        "print(\"Number of false cases: {0} ({1:2.2f}%)\".format(n_false, (n_false / (n_true + n_false)) * 100))\n"
      ]
    },
    {
      "cell_type": "markdown",
      "metadata": {
        "id": "T2ykB1cS6lMC"
      },
      "source": [
        "So we have 26.43% people in current data set who have default and rest of 73.57% doesn't have default.\n",
        "\n",
        "Its a good distribution True/False cases of defaulters in data."
      ]
    },
    {
      "cell_type": "markdown",
      "metadata": {
        "id": "kAOul-ni65BB"
      },
      "source": [
        "Spliting the data"
      ]
    },
    {
      "cell_type": "code",
      "execution_count": null,
      "metadata": {
        "id": "Hj12h7xe6j8a"
      },
      "outputs": [],
      "source": [
        "from sklearn.model_selection import train_test_split\n",
        "\n",
        "X = mydata.drop('Default',axis=1)     # Predictor feature columns (8 X m)\n",
        "Y = mydata['Default']   # Predicted class (1=True, 0=False) (1 X m)\n",
        "\n",
        "x_train, x_test, y_train, y_test = train_test_split(X, Y, test_size=0.3, random_state=1)\n",
        "# 1 is just any random seed number\n",
        "\n",
        "x_train.head()"
      ]
    },
    {
      "cell_type": "markdown",
      "metadata": {
        "id": "CPAV8TX4713S"
      },
      "source": [
        "Lets check split of data"
      ]
    },
    {
      "cell_type": "code",
      "execution_count": null,
      "metadata": {
        "id": "z-XdQ4yO7j3A"
      },
      "outputs": [],
      "source": [
        "print(\"{0:0.2f}% data is in training set\".format((len(x_train)/len(mydata.index)) * 100))\n",
        "print(\"{0:0.2f}% data is in test set\".format((len(x_test)/len(mydata.index)) * 100))\n"
      ]
    },
    {
      "cell_type": "markdown",
      "metadata": {
        "id": "MRJdRa-F71QF"
      },
      "source": [
        "Now lets check default True/False ratio in split data"
      ]
    },
    {
      "cell_type": "code",
      "execution_count": null,
      "metadata": {
        "id": "BUul_kPK70na"
      },
      "outputs": [],
      "source": [
        "print(\"Original Default True Values    : {0} ({1:0.2f}%)\".format(len(mydata.loc[mydata['Default'] == 1]), (len(mydata.loc[mydata['Default'] == 1])/len(mydata.index)) * 100))\n",
        "print(\"Original Default False Values   : {0} ({1:0.2f}%)\".format(len(mydata.loc[mydata['Default'] == 0]), (len(mydata.loc[mydata['Default'] == 0])/len(mydata.index)) * 100))\n",
        "print(\"\")\n",
        "print(\"Training Default True Values    : {0} ({1:0.2f}%)\".format(len(y_train[y_train[:] == 1]), (len(y_train[y_train[:] == 1])/len(y_train)) * 100))\n",
        "print(\"Training Default False Values   : {0} ({1:0.2f}%)\".format(len(y_train[y_train[:] == 0]), (len(y_train[y_train[:] == 0])/len(y_train)) * 100))\n",
        "print(\"\")\n",
        "print(\"Test Default True Values        : {0} ({1:0.2f}%)\".format(len(y_test[y_test[:] == 1]), (len(y_test[y_test[:] == 1])/len(y_test)) * 100))\n",
        "print(\"Test Default False Values       : {0} ({1:0.2f}%)\".format(len(y_test[y_test[:] == 0]), (len(y_test[y_test[:] == 0])/len(y_test)) * 100))\n",
        "print(\"\")"
      ]
    },
    {
      "cell_type": "markdown",
      "metadata": {
        "id": "IFSpUd5X8wWo"
      },
      "source": [
        "##Data Preparation"
      ]
    },
    {
      "cell_type": "code",
      "execution_count": null,
      "metadata": {
        "id": "ahyL8w5M9k0i"
      },
      "outputs": [],
      "source": [
        "x_train"
      ]
    },
    {
      "cell_type": "code",
      "execution_count": null,
      "metadata": {
        "id": "h1K4MRt983DZ"
      },
      "outputs": [],
      "source": []
    },
    {
      "cell_type": "code",
      "execution_count": null,
      "metadata": {
        "id": "xmBD9sdK9TzZ"
      },
      "outputs": [],
      "source": [
        "from sklearn.impute import SimpleImputer\n",
        "rep_0 = SimpleImputer(missing_values=0, strategy=\"mean\")\n",
        "cols=x_train.columns\n",
        "x_train = pd.DataFrame(rep_0.fit_transform(x_train))\n",
        "x_test = pd.DataFrame(rep_0.fit_transform(x_test))\n",
        "\n",
        "x_train.columns = cols\n",
        "x_test.columns = cols\n",
        "\n",
        "x_train.head()"
      ]
    },
    {
      "cell_type": "code",
      "execution_count": null,
      "metadata": {
        "id": "3UpbAc_C9ak3"
      },
      "outputs": [],
      "source": [
        "from sklearn import metrics\n",
        "\n",
        "from sklearn.linear_model import LogisticRegression\n",
        "\n",
        "# Fit the model on train\n",
        "model = LogisticRegression(solver=\"liblinear\")\n",
        "model.fit(x_train, y_train)\n",
        "#predict on test\n",
        "y_predict = model.predict(x_test)\n",
        "\n",
        "\n",
        "coef_df = pd.DataFrame(model.coef_)\n",
        "coef_df['intercept'] = model.intercept_\n",
        "print(coef_df)"
      ]
    },
    {
      "cell_type": "code",
      "execution_count": null,
      "metadata": {
        "id": "2XQhlfoU--It"
      },
      "outputs": [],
      "source": [
        "#important\n",
        "model_score = model.score(x_test, y_test)\n",
        "print(model_score)"
      ]
    },
    {
      "cell_type": "code",
      "execution_count": null,
      "metadata": {
        "id": "ulmPwwlU_E5v"
      },
      "outputs": [],
      "source": [
        "cm=metrics.confusion_matrix(y_test, y_predict, labels=[1, 0])\n",
        "\n",
        "df_cm = pd.DataFrame(cm, index = [i for i in [\"1\",\"0\"]],\n",
        "                  columns = [i for i in [\"Predict 1\",\"Predict 0\"]])\n",
        "plt.figure(figsize = (7,5))\n",
        "sns.heatmap(df_cm, annot=True)"
      ]
    },
    {
      "cell_type": "code",
      "execution_count": null,
      "metadata": {
        "id": "KBQlzV2Vqszh"
      },
      "outputs": [],
      "source": []
    },
    {
      "cell_type": "markdown",
      "metadata": {
        "id": "9e5OGCEI_eEV"
      },
      "source": [
        "The confusion matrix\n",
        "\n",
        "True Positives (TP): we correctly predicted that they do have default 0\n",
        "\n",
        "True Negatives (TN): we correctly predicted that they don't have default(2.9e+4 = 2.9 x 10^4 = 29,000)---- 29000\n",
        "\n",
        "False Positives (FP): we incorrectly predicted that they do have defaul (a \"Type I error\") 0 Falsely predict positive Type I error\n",
        "\n",
        "False Negatives (FN): we incorrectly predicted that they don't have defaul (a \"Type II error\") 1e+04 = 1 x 10^4 = 10,000 Falsely predict negative Type II error"
      ]
    },
    {
      "cell_type": "code",
      "execution_count": null,
      "metadata": {
        "id": "yW-KWOeM_Zob"
      },
      "outputs": [],
      "source": [
        "x_train.shape"
      ]
    },
    {
      "cell_type": "code",
      "execution_count": null,
      "metadata": {
        "id": "pVeNsdfYD0Fh"
      },
      "outputs": [],
      "source": [
        "y_predict.shape"
      ]
    },
    {
      "cell_type": "code",
      "execution_count": null,
      "metadata": {
        "id": "UE9n2rj0D_zJ"
      },
      "outputs": [],
      "source": [
        "coef_df.head"
      ]
    },
    {
      "cell_type": "code",
      "execution_count": null,
      "metadata": {
        "id": "cEuKp93a8vkp"
      },
      "outputs": [],
      "source": []
    },
    {
      "cell_type": "code",
      "execution_count": null,
      "metadata": {
        "id": "2I3chyYBNpPt"
      },
      "outputs": [],
      "source": [
        "df=train_set[train_set['Default'] == 1]\n",
        "df.shape"
      ]
    },
    {
      "cell_type": "code",
      "execution_count": null,
      "metadata": {
        "id": "UmujYBxtOGzL"
      },
      "outputs": [],
      "source": [
        "df.head()"
      ]
    },
    {
      "cell_type": "code",
      "execution_count": null,
      "metadata": {
        "id": "nXGy1yodOYe9"
      },
      "outputs": [],
      "source": [
        "# describe the data\n",
        "df.describe(include='all')"
      ]
    },
    {
      "cell_type": "markdown",
      "metadata": {
        "id": "9goazPw7PsI8"
      },
      "source": [
        "As above data decribe\n",
        "\n",
        "1)Vehicle Status _ No ---elated are the more defaulters 21649 nos out of 32581\n",
        "\n",
        "2) Default historry  status as \"ndf\"( No Defaulters ) also have high 31487  Nos out of 35004\n",
        "\n",
        "3) Credit links 1_to_3\n",
        "\n",
        "4) Type of Loan---Car Loan--31793\n",
        "\n",
        "5) Region type --Metro"
      ]
    },
    {
      "cell_type": "code",
      "execution_count": null,
      "metadata": {
        "id": "u9gPthIkPstT"
      },
      "outputs": [],
      "source": [
        "df.isnull().sum()"
      ]
    },
    {
      "cell_type": "code",
      "execution_count": null,
      "metadata": {
        "id": "zEiZ0UiQRMkq"
      },
      "outputs": [],
      "source": [
        "df.dtypes.value_counts()"
      ]
    },
    {
      "cell_type": "code",
      "execution_count": null,
      "metadata": {
        "id": "CEitU7SZPrMh"
      },
      "outputs": [],
      "source": [
        "mydata=df.dropna()\n",
        "mydata.shape"
      ]
    },
    {
      "cell_type": "markdown",
      "metadata": {
        "id": "6Z7iyzA0lyLR"
      },
      "source": [
        "##**2) Exploratory Data Analyis**"
      ]
    },
    {
      "cell_type": "code",
      "execution_count": null,
      "metadata": {
        "id": "l_qGcLJ1Rqvp"
      },
      "outputs": [],
      "source": [
        "mydata.describe(include='object')"
      ]
    },
    {
      "cell_type": "code",
      "execution_count": null,
      "metadata": {
        "id": "68fJpMG6Te4i"
      },
      "outputs": [],
      "source": [
        "object_data_analyse=pd.DataFrame(mydata.describe(include='object'))\n",
        "object_data_analyse"
      ]
    },
    {
      "cell_type": "code",
      "execution_count": null,
      "metadata": {
        "id": "8XBCW1sPYArf"
      },
      "outputs": [],
      "source": [
        "oda=object_data_analyse.drop(index='top')\n",
        "oda"
      ]
    },
    {
      "cell_type": "code",
      "execution_count": null,
      "metadata": {
        "id": "xOCT4Go_eoe9"
      },
      "outputs": [],
      "source": [
        "oda.plot(figsize=(10,10))"
      ]
    },
    {
      "cell_type": "markdown",
      "metadata": {
        "id": "wAdqiyEnSwux"
      },
      "source": [
        "with above Object data analysis\n",
        "\n",
        "1) No Vehicle holders\n"
      ]
    },
    {
      "cell_type": "markdown",
      "metadata": {
        "id": "ZLKy63LRfKA-"
      },
      "source": [
        "##**Default is more in the category  as below mentioned 9000 thousand people out of 12407 Nos are defaulters going to do the further analysis in the same**\n",
        "\n",
        "1) Default_hist--Ndf\n",
        "\n",
        "2) Region_Type--Metro\n",
        "\n",
        "3) Credit_Lnks--1_to_3\n",
        "\n",
        "4) Type_Loan--CLoan\t\n",
        "\n",
        "5) Income_Alt--Not specified\n"
      ]
    },
    {
      "cell_type": "markdown",
      "metadata": {
        "id": "Zji_JUQSofW3"
      },
      "source": [
        "in without null Value reductin time in describe data \n",
        "\n",
        "below point observed \n",
        "\n",
        "1)Vehicle Status _ No ---elated are the more defaulters 21649 nos out of 32581\n",
        "\n",
        "2) Default historry  status as \"ndf\"( No Defaulters ) also have high 31487  Nos out of 35004\n",
        "\n",
        "3) Credit links 1_to_3\n",
        "\n",
        "4) Type of Loan---Car Loan--31793\n",
        "\n",
        "5) Region type --Metro"
      ]
    },
    {
      "cell_type": "markdown",
      "metadata": {
        "id": "NmuWkjDOpE8e"
      },
      "source": [
        "Commonly we see that \n",
        "\n",
        "Region_Type--Metro\n",
        "\n",
        "Credit_Lnks--1_to_3\n",
        "\n",
        "Type_Loan--CLoan.\n",
        "\n",
        "above three take into consideration \n",
        "vehicle Status , and Default history, income Aleratn not specified candidates reduced"
      ]
    },
    {
      "cell_type": "markdown",
      "metadata": {
        "id": "AnIQqJWLpEn4"
      },
      "source": [
        "##**3) Model Building**"
      ]
    },
    {
      "cell_type": "markdown",
      "metadata": {
        "id": "Ss_2HHb8YN80"
      },
      "source": [
        "3.1 Submit1 --based on gender"
      ]
    },
    {
      "cell_type": "markdown",
      "metadata": {
        "id": "CppVNZEvYOF7"
      },
      "source": [
        "3.2 Sbumit2--based on Govt job"
      ]
    },
    {
      "cell_type": "markdown",
      "metadata": {
        "id": "7MZ8HpKnYdJq"
      },
      "source": [
        "3.3 Submit3-based on Alternate incom and Job"
      ]
    },
    {
      "cell_type": "markdown",
      "metadata": {
        "id": "tFQNJt6RrE0g"
      },
      "source": [
        "**3.4 Model Building :** Based on data now go to apply who want Car loan in Metro area who have already 1 to 3 credit links are going to be most defaulters"
      ]
    },
    {
      "cell_type": "code",
      "execution_count": null,
      "metadata": {
        "id": "JjEbNg0lj4H2"
      },
      "outputs": [],
      "source": [
        "data_to_test=df.filter(['Region_Type','Credit_Lnks','Type_Loan'])\n",
        "data_to_test"
      ]
    },
    {
      "cell_type": "code",
      "execution_count": null,
      "metadata": {
        "id": "6xjRrUjUrkNJ"
      },
      "outputs": [],
      "source": [
        "df['Credit_Lnks'].value_counts()"
      ]
    },
    {
      "cell_type": "code",
      "execution_count": null,
      "metadata": {
        "id": "dwD9l1XmrzYJ"
      },
      "outputs": [],
      "source": [
        "train_set['Credit_Lnks'].value_counts()"
      ]
    },
    {
      "cell_type": "code",
      "execution_count": null,
      "metadata": {
        "id": "tlE_El77sBVk"
      },
      "outputs": [],
      "source": [
        "df['Type_Loan'].value_counts()"
      ]
    },
    {
      "cell_type": "code",
      "execution_count": null,
      "metadata": {
        "id": "R5ggyMBnsfNi"
      },
      "outputs": [],
      "source": [
        "train_set['Type_Loan'].value_counts()"
      ]
    },
    {
      "cell_type": "code",
      "execution_count": null,
      "metadata": {
        "id": "RuRDuf5isPZf"
      },
      "outputs": [],
      "source": [
        "train_set['Region_Type'].value_counts()"
      ]
    },
    {
      "cell_type": "code",
      "execution_count": null,
      "metadata": {
        "id": "GesLlapCsUJr"
      },
      "outputs": [],
      "source": [
        "result_29_07_01=test_set.filter(['ID','Region_Type','Credit_Lnks','Type_Loan'])\n",
        "result_29_07_01"
      ]
    },
    {
      "cell_type": "code",
      "execution_count": null,
      "metadata": {
        "id": "hRiOIF0hvEhB"
      },
      "outputs": [],
      "source": [
        "pd.crosstab(train_set['Region_Type'],train_set['Type_Loan'])"
      ]
    },
    {
      "cell_type": "code",
      "execution_count": null,
      "metadata": {
        "id": "c5OM0mK5pD8A"
      },
      "outputs": [],
      "source": [
        "pd.crosstab(train_set['Region_Type'],train_set['Credit_Lnks'])"
      ]
    },
    {
      "cell_type": "code",
      "execution_count": null,
      "metadata": {
        "id": "-VFfhOmvtpJl"
      },
      "outputs": [],
      "source": [
        "result_29_07_01=result_29_07_01.apply(lambda x: x.replace({'Metro':1, 'Rural':0, 'other':0,\n",
        "                                                           'CLoan':1,  'RLoan':0,\n",
        "                                                           '1_to_3':1, '4_to_6':0, '>6':0}, regex=True))\n",
        "result_29_07_01"
      ]
    },
    {
      "cell_type": "code",
      "execution_count": null,
      "metadata": {
        "id": "yajkkZ-hx639"
      },
      "outputs": [],
      "source": [
        "result_29_07_01.info()"
      ]
    },
    {
      "cell_type": "code",
      "execution_count": null,
      "metadata": {
        "id": "GxHbBq_eyNeF"
      },
      "outputs": [],
      "source": [
        "result_29_07_01['Default']=result_29_07_01.iloc[:,1:4].sum(axis=1)\n",
        "result_29_07_01"
      ]
    },
    {
      "cell_type": "code",
      "execution_count": null,
      "metadata": {
        "id": "W6wpomEzyzq0"
      },
      "outputs": [],
      "source": [
        "submit04=result_29_07_01.apply(lambda x: x.replace({ 1:0,2:0,3:1 }, regex=True))\n",
        "submit04"
      ]
    },
    {
      "cell_type": "code",
      "execution_count": null,
      "metadata": {
        "id": "iXVptvAkzL8b"
      },
      "outputs": [],
      "source": [
        "submit04=submit04.filter(['ID','Default'])\n",
        "submit04"
      ]
    },
    {
      "cell_type": "code",
      "execution_count": null,
      "metadata": {
        "id": "E_WT4hDTzdMC"
      },
      "outputs": [],
      "source": [
        "submit04['Default'].value_counts()"
      ]
    },
    {
      "cell_type": "code",
      "execution_count": null,
      "metadata": {
        "id": "HZlAFb6X0rFd"
      },
      "outputs": [],
      "source": [
        "submit04.to_csv('/content/drive/My Drive/Python/ht_tvs/submit04.csv')"
      ]
    },
    {
      "cell_type": "markdown",
      "metadata": {
        "id": "DvnE5dkD6hWF"
      },
      "source": [
        "###***Submit04-conclusion : in metro areas who want Car loan and who have credit links 1to3 are defauters***"
      ]
    },
    {
      "cell_type": "markdown",
      "metadata": {
        "id": "R5pyJdxssvnf"
      },
      "source": [
        "**3.4) Model Building :** now trying to start analyse with including compensation<7LPA"
      ]
    },
    {
      "cell_type": "code",
      "execution_count": null,
      "metadata": {
        "id": "6pd4u5Rusj_5"
      },
      "outputs": [],
      "source": [
        "result_29_07_02=test_set.filter(['ID','Compensation','Region_Type','Credit_Lnks','Type_Loan'])\n",
        "result_29_07_02"
      ]
    },
    {
      "cell_type": "code",
      "execution_count": null,
      "metadata": {
        "id": "ct2m7pof1omo"
      },
      "outputs": [],
      "source": [
        "result_29_07_02.fillna(result_29_07_02['Compensation'].mean(), inplace=True)"
      ]
    },
    {
      "cell_type": "code",
      "execution_count": null,
      "metadata": {
        "id": "mdIvGzXDuMFN"
      },
      "outputs": [],
      "source": [
        " result_29_07_02=result_29_07_02.apply(lambda x: x.replace({'Metro':1, 'Rural':0, 'other':0,\n",
        "                                                           'CLoan':1,  'RLoan':0,\n",
        "                                                           'NAN':0, 'NaN':0, 'np.nan':0, 'np.NaN':0, ' ':0,\n",
        "                                                           '1_to_3':1, '4_to_6':0, '>6':0}, regex=True))\n",
        "result_29_07_02"
      ]
    },
    {
      "cell_type": "code",
      "execution_count": null,
      "metadata": {
        "id": "BeeRI8q469CY"
      },
      "outputs": [],
      "source": [
        "result_29_07_02.loc[ result_29_07_02[\"Compensation\"] <= 700000, \"Compensation\"] = 1\n",
        "result_29_07_02.loc[ result_29_07_02[\"Compensation\"] >= 700001, \"Compensation\"] = 0\n",
        "\n",
        "result_29_07_02"
      ]
    },
    {
      "cell_type": "code",
      "execution_count": null,
      "metadata": {
        "id": "7AVYGWPoDkMZ"
      },
      "outputs": [],
      "source": [
        "result_29_07_02=result_29_07_02.astype(int)"
      ]
    },
    {
      "cell_type": "code",
      "execution_count": null,
      "metadata": {
        "id": "ysDpxad68A-u"
      },
      "outputs": [],
      "source": [
        "result_29_07_02['Default']=result_29_07_02.iloc[:,1:5\n",
        "                                                ].sum(axis=1)\n",
        "result_29_07_02"
      ]
    },
    {
      "cell_type": "code",
      "execution_count": null,
      "metadata": {
        "id": "G59RcDudOA_e"
      },
      "outputs": [],
      "source": [
        "submit05=result_29_07_02.apply(lambda x: x.replace({ 1:0,2:0,3:0, 4:1 }, regex=True))\n",
        "submit05"
      ]
    },
    {
      "cell_type": "code",
      "execution_count": null,
      "metadata": {
        "id": "HZ95eevSOP-F"
      },
      "outputs": [],
      "source": [
        "submit05=submit05.filter(['ID','Default'])\n",
        "submit05"
      ]
    },
    {
      "cell_type": "code",
      "execution_count": null,
      "metadata": {
        "id": "w2WkyLQbOnue"
      },
      "outputs": [],
      "source": [
        "submit05['Default'].value_counts()"
      ]
    },
    {
      "cell_type": "code",
      "execution_count": null,
      "metadata": {
        "colab": {
          "background_save": true
        },
        "id": "O47uaI8oHVOk"
      },
      "outputs": [],
      "source": [
        "submit05.to_csv('/content/drive/My Drive/Python/ht_tvs/submit05.csv',index=False)"
      ]
    },
    {
      "cell_type": "markdown",
      "metadata": {
        "id": "rFmOyyWpZSXY"
      },
      "source": [
        "Submit5 conclusion is .. same of Submit5 and added Compensation condition more than 7 Lakh"
      ]
    },
    {
      "cell_type": "markdown",
      "metadata": {
        "id": "c3V0aOpeMLGq"
      },
      "source": [
        "##3.6 give loan for all more than 5 lackh Salary\n"
      ]
    },
    {
      "cell_type": "code",
      "execution_count": null,
      "metadata": {
        "colab": {
          "background_save": true
        },
        "id": "dC-Ykl4oMKQU",
        "outputId": "894a7fcd-3dde-485a-90ad-647158dea403"
      },
      "outputs": [
        {
          "data": {
            "text/html": [
              "\n",
              "  <div id=\"df-a77dffff-982e-44ac-bb65-9299a6ecda3d\">\n",
              "    <div class=\"colab-df-container\">\n",
              "      <div>\n",
              "<style scoped>\n",
              "    .dataframe tbody tr th:only-of-type {\n",
              "        vertical-align: middle;\n",
              "    }\n",
              "\n",
              "    .dataframe tbody tr th {\n",
              "        vertical-align: top;\n",
              "    }\n",
              "\n",
              "    .dataframe thead th {\n",
              "        text-align: right;\n",
              "    }\n",
              "</style>\n",
              "<table border=\"1\" class=\"dataframe\">\n",
              "  <thead>\n",
              "    <tr style=\"text-align: right;\">\n",
              "      <th></th>\n",
              "      <th>ID</th>\n",
              "      <th>Compensation</th>\n",
              "    </tr>\n",
              "  </thead>\n",
              "  <tbody>\n",
              "    <tr>\n",
              "      <th>0</th>\n",
              "      <td>487410</td>\n",
              "      <td>653106.0</td>\n",
              "    </tr>\n",
              "    <tr>\n",
              "      <th>1</th>\n",
              "      <td>533258</td>\n",
              "      <td>434150.0</td>\n",
              "    </tr>\n",
              "    <tr>\n",
              "      <th>2</th>\n",
              "      <td>581926</td>\n",
              "      <td>489060.0</td>\n",
              "    </tr>\n",
              "    <tr>\n",
              "      <th>3</th>\n",
              "      <td>486301</td>\n",
              "      <td>957294.0</td>\n",
              "    </tr>\n",
              "    <tr>\n",
              "      <th>4</th>\n",
              "      <td>580822</td>\n",
              "      <td>1333739.0</td>\n",
              "    </tr>\n",
              "    <tr>\n",
              "      <th>...</th>\n",
              "      <td>...</td>\n",
              "      <td>...</td>\n",
              "    </tr>\n",
              "    <tr>\n",
              "      <th>56755</th>\n",
              "      <td>513665</td>\n",
              "      <td>671640.0</td>\n",
              "    </tr>\n",
              "    <tr>\n",
              "      <th>56756</th>\n",
              "      <td>450327</td>\n",
              "      <td>650680.0</td>\n",
              "    </tr>\n",
              "    <tr>\n",
              "      <th>56757</th>\n",
              "      <td>476417</td>\n",
              "      <td>551374.0</td>\n",
              "    </tr>\n",
              "    <tr>\n",
              "      <th>56758</th>\n",
              "      <td>461152</td>\n",
              "      <td>975117.0</td>\n",
              "    </tr>\n",
              "    <tr>\n",
              "      <th>56759</th>\n",
              "      <td>524075</td>\n",
              "      <td>NaN</td>\n",
              "    </tr>\n",
              "  </tbody>\n",
              "</table>\n",
              "<p>56760 rows × 2 columns</p>\n",
              "</div>\n",
              "      <button class=\"colab-df-convert\" onclick=\"convertToInteractive('df-a77dffff-982e-44ac-bb65-9299a6ecda3d')\"\n",
              "              title=\"Convert this dataframe to an interactive table.\"\n",
              "              style=\"display:none;\">\n",
              "        \n",
              "  <svg xmlns=\"http://www.w3.org/2000/svg\" height=\"24px\"viewBox=\"0 0 24 24\"\n",
              "       width=\"24px\">\n",
              "    <path d=\"M0 0h24v24H0V0z\" fill=\"none\"/>\n",
              "    <path d=\"M18.56 5.44l.94 2.06.94-2.06 2.06-.94-2.06-.94-.94-2.06-.94 2.06-2.06.94zm-11 1L8.5 8.5l.94-2.06 2.06-.94-2.06-.94L8.5 2.5l-.94 2.06-2.06.94zm10 10l.94 2.06.94-2.06 2.06-.94-2.06-.94-.94-2.06-.94 2.06-2.06.94z\"/><path d=\"M17.41 7.96l-1.37-1.37c-.4-.4-.92-.59-1.43-.59-.52 0-1.04.2-1.43.59L10.3 9.45l-7.72 7.72c-.78.78-.78 2.05 0 2.83L4 21.41c.39.39.9.59 1.41.59.51 0 1.02-.2 1.41-.59l7.78-7.78 2.81-2.81c.8-.78.8-2.07 0-2.86zM5.41 20L4 18.59l7.72-7.72 1.47 1.35L5.41 20z\"/>\n",
              "  </svg>\n",
              "      </button>\n",
              "      \n",
              "  <style>\n",
              "    .colab-df-container {\n",
              "      display:flex;\n",
              "      flex-wrap:wrap;\n",
              "      gap: 12px;\n",
              "    }\n",
              "\n",
              "    .colab-df-convert {\n",
              "      background-color: #E8F0FE;\n",
              "      border: none;\n",
              "      border-radius: 50%;\n",
              "      cursor: pointer;\n",
              "      display: none;\n",
              "      fill: #1967D2;\n",
              "      height: 32px;\n",
              "      padding: 0 0 0 0;\n",
              "      width: 32px;\n",
              "    }\n",
              "\n",
              "    .colab-df-convert:hover {\n",
              "      background-color: #E2EBFA;\n",
              "      box-shadow: 0px 1px 2px rgba(60, 64, 67, 0.3), 0px 1px 3px 1px rgba(60, 64, 67, 0.15);\n",
              "      fill: #174EA6;\n",
              "    }\n",
              "\n",
              "    [theme=dark] .colab-df-convert {\n",
              "      background-color: #3B4455;\n",
              "      fill: #D2E3FC;\n",
              "    }\n",
              "\n",
              "    [theme=dark] .colab-df-convert:hover {\n",
              "      background-color: #434B5C;\n",
              "      box-shadow: 0px 1px 3px 1px rgba(0, 0, 0, 0.15);\n",
              "      filter: drop-shadow(0px 1px 2px rgba(0, 0, 0, 0.3));\n",
              "      fill: #FFFFFF;\n",
              "    }\n",
              "  </style>\n",
              "\n",
              "      <script>\n",
              "        const buttonEl =\n",
              "          document.querySelector('#df-a77dffff-982e-44ac-bb65-9299a6ecda3d button.colab-df-convert');\n",
              "        buttonEl.style.display =\n",
              "          google.colab.kernel.accessAllowed ? 'block' : 'none';\n",
              "\n",
              "        async function convertToInteractive(key) {\n",
              "          const element = document.querySelector('#df-a77dffff-982e-44ac-bb65-9299a6ecda3d');\n",
              "          const dataTable =\n",
              "            await google.colab.kernel.invokeFunction('convertToInteractive',\n",
              "                                                     [key], {});\n",
              "          if (!dataTable) return;\n",
              "\n",
              "          const docLinkHtml = 'Like what you see? Visit the ' +\n",
              "            '<a target=\"_blank\" href=https://colab.research.google.com/notebooks/data_table.ipynb>data table notebook</a>'\n",
              "            + ' to learn more about interactive tables.';\n",
              "          element.innerHTML = '';\n",
              "          dataTable['output_type'] = 'display_data';\n",
              "          await google.colab.output.renderOutput(dataTable, element);\n",
              "          const docLink = document.createElement('div');\n",
              "          docLink.innerHTML = docLinkHtml;\n",
              "          element.appendChild(docLink);\n",
              "        }\n",
              "      </script>\n",
              "    </div>\n",
              "  </div>\n",
              "  "
            ],
            "text/plain": [
              "           ID  Compensation\n",
              "0      487410      653106.0\n",
              "1      533258      434150.0\n",
              "2      581926      489060.0\n",
              "3      486301      957294.0\n",
              "4      580822     1333739.0\n",
              "...       ...           ...\n",
              "56755  513665      671640.0\n",
              "56756  450327      650680.0\n",
              "56757  476417      551374.0\n",
              "56758  461152      975117.0\n",
              "56759  524075           NaN\n",
              "\n",
              "[56760 rows x 2 columns]"
            ]
          },
          "execution_count": 86,
          "metadata": {},
          "output_type": "execute_result"
        }
      ],
      "source": [
        "result_29_07_03=test_set.filter(['ID','Compensation'])\n",
        "result_29_07_03"
      ]
    },
    {
      "cell_type": "code",
      "execution_count": null,
      "metadata": {
        "colab": {
          "background_save": true
        },
        "id": "jcMU0vPYVsf0"
      },
      "outputs": [],
      "source": [
        "result_29_07_03.fillna(result_29_07_03['Compensation'].mean(), inplace=True)"
      ]
    },
    {
      "cell_type": "code",
      "execution_count": null,
      "metadata": {
        "colab": {
          "background_save": true
        },
        "id": "4yJ64LUgQprj",
        "outputId": "28906346-0774-451e-d2f7-eefc3a3f8493"
      },
      "outputs": [
        {
          "data": {
            "text/html": [
              "\n",
              "  <div id=\"df-f5d1959d-cb3b-455f-8f62-010031ce0e08\">\n",
              "    <div class=\"colab-df-container\">\n",
              "      <div>\n",
              "<style scoped>\n",
              "    .dataframe tbody tr th:only-of-type {\n",
              "        vertical-align: middle;\n",
              "    }\n",
              "\n",
              "    .dataframe tbody tr th {\n",
              "        vertical-align: top;\n",
              "    }\n",
              "\n",
              "    .dataframe thead th {\n",
              "        text-align: right;\n",
              "    }\n",
              "</style>\n",
              "<table border=\"1\" class=\"dataframe\">\n",
              "  <thead>\n",
              "    <tr style=\"text-align: right;\">\n",
              "      <th></th>\n",
              "      <th>ID</th>\n",
              "      <th>Compensation</th>\n",
              "      <th>Default</th>\n",
              "    </tr>\n",
              "  </thead>\n",
              "  <tbody>\n",
              "    <tr>\n",
              "      <th>0</th>\n",
              "      <td>487410</td>\n",
              "      <td>6.531060e+05</td>\n",
              "      <td>1.0</td>\n",
              "    </tr>\n",
              "    <tr>\n",
              "      <th>1</th>\n",
              "      <td>533258</td>\n",
              "      <td>4.341500e+05</td>\n",
              "      <td>1.0</td>\n",
              "    </tr>\n",
              "    <tr>\n",
              "      <th>2</th>\n",
              "      <td>581926</td>\n",
              "      <td>4.890600e+05</td>\n",
              "      <td>1.0</td>\n",
              "    </tr>\n",
              "    <tr>\n",
              "      <th>3</th>\n",
              "      <td>486301</td>\n",
              "      <td>9.572940e+05</td>\n",
              "      <td>2.0</td>\n",
              "    </tr>\n",
              "    <tr>\n",
              "      <th>4</th>\n",
              "      <td>580822</td>\n",
              "      <td>1.333739e+06</td>\n",
              "      <td>3.0</td>\n",
              "    </tr>\n",
              "    <tr>\n",
              "      <th>...</th>\n",
              "      <td>...</td>\n",
              "      <td>...</td>\n",
              "      <td>...</td>\n",
              "    </tr>\n",
              "    <tr>\n",
              "      <th>56755</th>\n",
              "      <td>513665</td>\n",
              "      <td>6.716400e+05</td>\n",
              "      <td>1.0</td>\n",
              "    </tr>\n",
              "    <tr>\n",
              "      <th>56756</th>\n",
              "      <td>450327</td>\n",
              "      <td>6.506800e+05</td>\n",
              "      <td>1.0</td>\n",
              "    </tr>\n",
              "    <tr>\n",
              "      <th>56757</th>\n",
              "      <td>476417</td>\n",
              "      <td>5.513740e+05</td>\n",
              "      <td>1.0</td>\n",
              "    </tr>\n",
              "    <tr>\n",
              "      <th>56758</th>\n",
              "      <td>461152</td>\n",
              "      <td>9.751170e+05</td>\n",
              "      <td>2.0</td>\n",
              "    </tr>\n",
              "    <tr>\n",
              "      <th>56759</th>\n",
              "      <td>524075</td>\n",
              "      <td>7.423110e+05</td>\n",
              "      <td>1.0</td>\n",
              "    </tr>\n",
              "  </tbody>\n",
              "</table>\n",
              "<p>56760 rows × 3 columns</p>\n",
              "</div>\n",
              "      <button class=\"colab-df-convert\" onclick=\"convertToInteractive('df-f5d1959d-cb3b-455f-8f62-010031ce0e08')\"\n",
              "              title=\"Convert this dataframe to an interactive table.\"\n",
              "              style=\"display:none;\">\n",
              "        \n",
              "  <svg xmlns=\"http://www.w3.org/2000/svg\" height=\"24px\"viewBox=\"0 0 24 24\"\n",
              "       width=\"24px\">\n",
              "    <path d=\"M0 0h24v24H0V0z\" fill=\"none\"/>\n",
              "    <path d=\"M18.56 5.44l.94 2.06.94-2.06 2.06-.94-2.06-.94-.94-2.06-.94 2.06-2.06.94zm-11 1L8.5 8.5l.94-2.06 2.06-.94-2.06-.94L8.5 2.5l-.94 2.06-2.06.94zm10 10l.94 2.06.94-2.06 2.06-.94-2.06-.94-.94-2.06-.94 2.06-2.06.94z\"/><path d=\"M17.41 7.96l-1.37-1.37c-.4-.4-.92-.59-1.43-.59-.52 0-1.04.2-1.43.59L10.3 9.45l-7.72 7.72c-.78.78-.78 2.05 0 2.83L4 21.41c.39.39.9.59 1.41.59.51 0 1.02-.2 1.41-.59l7.78-7.78 2.81-2.81c.8-.78.8-2.07 0-2.86zM5.41 20L4 18.59l7.72-7.72 1.47 1.35L5.41 20z\"/>\n",
              "  </svg>\n",
              "      </button>\n",
              "      \n",
              "  <style>\n",
              "    .colab-df-container {\n",
              "      display:flex;\n",
              "      flex-wrap:wrap;\n",
              "      gap: 12px;\n",
              "    }\n",
              "\n",
              "    .colab-df-convert {\n",
              "      background-color: #E8F0FE;\n",
              "      border: none;\n",
              "      border-radius: 50%;\n",
              "      cursor: pointer;\n",
              "      display: none;\n",
              "      fill: #1967D2;\n",
              "      height: 32px;\n",
              "      padding: 0 0 0 0;\n",
              "      width: 32px;\n",
              "    }\n",
              "\n",
              "    .colab-df-convert:hover {\n",
              "      background-color: #E2EBFA;\n",
              "      box-shadow: 0px 1px 2px rgba(60, 64, 67, 0.3), 0px 1px 3px 1px rgba(60, 64, 67, 0.15);\n",
              "      fill: #174EA6;\n",
              "    }\n",
              "\n",
              "    [theme=dark] .colab-df-convert {\n",
              "      background-color: #3B4455;\n",
              "      fill: #D2E3FC;\n",
              "    }\n",
              "\n",
              "    [theme=dark] .colab-df-convert:hover {\n",
              "      background-color: #434B5C;\n",
              "      box-shadow: 0px 1px 3px 1px rgba(0, 0, 0, 0.15);\n",
              "      filter: drop-shadow(0px 1px 2px rgba(0, 0, 0, 0.3));\n",
              "      fill: #FFFFFF;\n",
              "    }\n",
              "  </style>\n",
              "\n",
              "      <script>\n",
              "        const buttonEl =\n",
              "          document.querySelector('#df-f5d1959d-cb3b-455f-8f62-010031ce0e08 button.colab-df-convert');\n",
              "        buttonEl.style.display =\n",
              "          google.colab.kernel.accessAllowed ? 'block' : 'none';\n",
              "\n",
              "        async function convertToInteractive(key) {\n",
              "          const element = document.querySelector('#df-f5d1959d-cb3b-455f-8f62-010031ce0e08');\n",
              "          const dataTable =\n",
              "            await google.colab.kernel.invokeFunction('convertToInteractive',\n",
              "                                                     [key], {});\n",
              "          if (!dataTable) return;\n",
              "\n",
              "          const docLinkHtml = 'Like what you see? Visit the ' +\n",
              "            '<a target=\"_blank\" href=https://colab.research.google.com/notebooks/data_table.ipynb>data table notebook</a>'\n",
              "            + ' to learn more about interactive tables.';\n",
              "          element.innerHTML = '';\n",
              "          dataTable['output_type'] = 'display_data';\n",
              "          await google.colab.output.renderOutput(dataTable, element);\n",
              "          const docLink = document.createElement('div');\n",
              "          docLink.innerHTML = docLinkHtml;\n",
              "          element.appendChild(docLink);\n",
              "        }\n",
              "      </script>\n",
              "    </div>\n",
              "  </div>\n",
              "  "
            ],
            "text/plain": [
              "           ID  Compensation  Default\n",
              "0      487410  6.531060e+05      1.0\n",
              "1      533258  4.341500e+05      1.0\n",
              "2      581926  4.890600e+05      1.0\n",
              "3      486301  9.572940e+05      2.0\n",
              "4      580822  1.333739e+06      3.0\n",
              "...       ...           ...      ...\n",
              "56755  513665  6.716400e+05      1.0\n",
              "56756  450327  6.506800e+05      1.0\n",
              "56757  476417  5.513740e+05      1.0\n",
              "56758  461152  9.751170e+05      2.0\n",
              "56759  524075  7.423110e+05      1.0\n",
              "\n",
              "[56760 rows x 3 columns]"
            ]
          },
          "execution_count": 88,
          "metadata": {},
          "output_type": "execute_result"
        }
      ],
      "source": [
        "result_29_07_03['Default']=round(result_29_07_03['Compensation']/500000)\n",
        "result_29_07_03"
      ]
    },
    {
      "cell_type": "code",
      "execution_count": null,
      "metadata": {
        "colab": {
          "background_save": true
        },
        "id": "GCO_TwZoRaNg",
        "outputId": "190d5c49-f852-44a2-e1e2-538241fc4663"
      },
      "outputs": [
        {
          "data": {
            "text/plain": [
              "1.0     35748\n",
              "2.0     17022\n",
              "3.0      2885\n",
              "4.0       522\n",
              "0.0       260\n",
              "5.0       166\n",
              "6.0        64\n",
              "7.0        36\n",
              "9.0        17\n",
              "8.0        13\n",
              "11.0        5\n",
              "10.0        4\n",
              "15.0        4\n",
              "13.0        4\n",
              "14.0        3\n",
              "16.0        2\n",
              "12.0        2\n",
              "18.0        1\n",
              "35.0        1\n",
              "27.0        1\n",
              "Name: Default, dtype: int64"
            ]
          },
          "execution_count": 89,
          "metadata": {},
          "output_type": "execute_result"
        }
      ],
      "source": [
        "result_29_07_03['Default'].value_counts()"
      ]
    },
    {
      "cell_type": "code",
      "execution_count": null,
      "metadata": {
        "colab": {
          "background_save": true
        },
        "id": "w6fY8V68MzCR",
        "outputId": "f4cb9c14-fb84-46a1-e4e8-616308a788b4"
      },
      "outputs": [
        {
          "data": {
            "text/html": [
              "\n",
              "  <div id=\"df-d256e4a1-be57-4d72-89a9-045b88a4c81f\">\n",
              "    <div class=\"colab-df-container\">\n",
              "      <div>\n",
              "<style scoped>\n",
              "    .dataframe tbody tr th:only-of-type {\n",
              "        vertical-align: middle;\n",
              "    }\n",
              "\n",
              "    .dataframe tbody tr th {\n",
              "        vertical-align: top;\n",
              "    }\n",
              "\n",
              "    .dataframe thead th {\n",
              "        text-align: right;\n",
              "    }\n",
              "</style>\n",
              "<table border=\"1\" class=\"dataframe\">\n",
              "  <thead>\n",
              "    <tr style=\"text-align: right;\">\n",
              "      <th></th>\n",
              "      <th>ID</th>\n",
              "      <th>Compensation</th>\n",
              "      <th>Default</th>\n",
              "    </tr>\n",
              "  </thead>\n",
              "  <tbody>\n",
              "    <tr>\n",
              "      <th>0</th>\n",
              "      <td>487410</td>\n",
              "      <td>6.531060e+05</td>\n",
              "      <td>1.0</td>\n",
              "    </tr>\n",
              "    <tr>\n",
              "      <th>1</th>\n",
              "      <td>533258</td>\n",
              "      <td>4.341500e+05</td>\n",
              "      <td>1.0</td>\n",
              "    </tr>\n",
              "    <tr>\n",
              "      <th>2</th>\n",
              "      <td>581926</td>\n",
              "      <td>4.890600e+05</td>\n",
              "      <td>1.0</td>\n",
              "    </tr>\n",
              "    <tr>\n",
              "      <th>3</th>\n",
              "      <td>486301</td>\n",
              "      <td>9.572940e+05</td>\n",
              "      <td>0.0</td>\n",
              "    </tr>\n",
              "    <tr>\n",
              "      <th>4</th>\n",
              "      <td>580822</td>\n",
              "      <td>1.333739e+06</td>\n",
              "      <td>0.0</td>\n",
              "    </tr>\n",
              "    <tr>\n",
              "      <th>...</th>\n",
              "      <td>...</td>\n",
              "      <td>...</td>\n",
              "      <td>...</td>\n",
              "    </tr>\n",
              "    <tr>\n",
              "      <th>56755</th>\n",
              "      <td>513665</td>\n",
              "      <td>6.716400e+05</td>\n",
              "      <td>1.0</td>\n",
              "    </tr>\n",
              "    <tr>\n",
              "      <th>56756</th>\n",
              "      <td>450327</td>\n",
              "      <td>6.506800e+05</td>\n",
              "      <td>1.0</td>\n",
              "    </tr>\n",
              "    <tr>\n",
              "      <th>56757</th>\n",
              "      <td>476417</td>\n",
              "      <td>5.513740e+05</td>\n",
              "      <td>1.0</td>\n",
              "    </tr>\n",
              "    <tr>\n",
              "      <th>56758</th>\n",
              "      <td>461152</td>\n",
              "      <td>9.751170e+05</td>\n",
              "      <td>0.0</td>\n",
              "    </tr>\n",
              "    <tr>\n",
              "      <th>56759</th>\n",
              "      <td>524075</td>\n",
              "      <td>7.423110e+05</td>\n",
              "      <td>1.0</td>\n",
              "    </tr>\n",
              "  </tbody>\n",
              "</table>\n",
              "<p>56760 rows × 3 columns</p>\n",
              "</div>\n",
              "      <button class=\"colab-df-convert\" onclick=\"convertToInteractive('df-d256e4a1-be57-4d72-89a9-045b88a4c81f')\"\n",
              "              title=\"Convert this dataframe to an interactive table.\"\n",
              "              style=\"display:none;\">\n",
              "        \n",
              "  <svg xmlns=\"http://www.w3.org/2000/svg\" height=\"24px\"viewBox=\"0 0 24 24\"\n",
              "       width=\"24px\">\n",
              "    <path d=\"M0 0h24v24H0V0z\" fill=\"none\"/>\n",
              "    <path d=\"M18.56 5.44l.94 2.06.94-2.06 2.06-.94-2.06-.94-.94-2.06-.94 2.06-2.06.94zm-11 1L8.5 8.5l.94-2.06 2.06-.94-2.06-.94L8.5 2.5l-.94 2.06-2.06.94zm10 10l.94 2.06.94-2.06 2.06-.94-2.06-.94-.94-2.06-.94 2.06-2.06.94z\"/><path d=\"M17.41 7.96l-1.37-1.37c-.4-.4-.92-.59-1.43-.59-.52 0-1.04.2-1.43.59L10.3 9.45l-7.72 7.72c-.78.78-.78 2.05 0 2.83L4 21.41c.39.39.9.59 1.41.59.51 0 1.02-.2 1.41-.59l7.78-7.78 2.81-2.81c.8-.78.8-2.07 0-2.86zM5.41 20L4 18.59l7.72-7.72 1.47 1.35L5.41 20z\"/>\n",
              "  </svg>\n",
              "      </button>\n",
              "      \n",
              "  <style>\n",
              "    .colab-df-container {\n",
              "      display:flex;\n",
              "      flex-wrap:wrap;\n",
              "      gap: 12px;\n",
              "    }\n",
              "\n",
              "    .colab-df-convert {\n",
              "      background-color: #E8F0FE;\n",
              "      border: none;\n",
              "      border-radius: 50%;\n",
              "      cursor: pointer;\n",
              "      display: none;\n",
              "      fill: #1967D2;\n",
              "      height: 32px;\n",
              "      padding: 0 0 0 0;\n",
              "      width: 32px;\n",
              "    }\n",
              "\n",
              "    .colab-df-convert:hover {\n",
              "      background-color: #E2EBFA;\n",
              "      box-shadow: 0px 1px 2px rgba(60, 64, 67, 0.3), 0px 1px 3px 1px rgba(60, 64, 67, 0.15);\n",
              "      fill: #174EA6;\n",
              "    }\n",
              "\n",
              "    [theme=dark] .colab-df-convert {\n",
              "      background-color: #3B4455;\n",
              "      fill: #D2E3FC;\n",
              "    }\n",
              "\n",
              "    [theme=dark] .colab-df-convert:hover {\n",
              "      background-color: #434B5C;\n",
              "      box-shadow: 0px 1px 3px 1px rgba(0, 0, 0, 0.15);\n",
              "      filter: drop-shadow(0px 1px 2px rgba(0, 0, 0, 0.3));\n",
              "      fill: #FFFFFF;\n",
              "    }\n",
              "  </style>\n",
              "\n",
              "      <script>\n",
              "        const buttonEl =\n",
              "          document.querySelector('#df-d256e4a1-be57-4d72-89a9-045b88a4c81f button.colab-df-convert');\n",
              "        buttonEl.style.display =\n",
              "          google.colab.kernel.accessAllowed ? 'block' : 'none';\n",
              "\n",
              "        async function convertToInteractive(key) {\n",
              "          const element = document.querySelector('#df-d256e4a1-be57-4d72-89a9-045b88a4c81f');\n",
              "          const dataTable =\n",
              "            await google.colab.kernel.invokeFunction('convertToInteractive',\n",
              "                                                     [key], {});\n",
              "          if (!dataTable) return;\n",
              "\n",
              "          const docLinkHtml = 'Like what you see? Visit the ' +\n",
              "            '<a target=\"_blank\" href=https://colab.research.google.com/notebooks/data_table.ipynb>data table notebook</a>'\n",
              "            + ' to learn more about interactive tables.';\n",
              "          element.innerHTML = '';\n",
              "          dataTable['output_type'] = 'display_data';\n",
              "          await google.colab.output.renderOutput(dataTable, element);\n",
              "          const docLink = document.createElement('div');\n",
              "          docLink.innerHTML = docLinkHtml;\n",
              "          element.appendChild(docLink);\n",
              "        }\n",
              "      </script>\n",
              "    </div>\n",
              "  </div>\n",
              "  "
            ],
            "text/plain": [
              "           ID  Compensation  Default\n",
              "0      487410  6.531060e+05      1.0\n",
              "1      533258  4.341500e+05      1.0\n",
              "2      581926  4.890600e+05      1.0\n",
              "3      486301  9.572940e+05      0.0\n",
              "4      580822  1.333739e+06      0.0\n",
              "...       ...           ...      ...\n",
              "56755  513665  6.716400e+05      1.0\n",
              "56756  450327  6.506800e+05      1.0\n",
              "56757  476417  5.513740e+05      1.0\n",
              "56758  461152  9.751170e+05      0.0\n",
              "56759  524075  7.423110e+05      1.0\n",
              "\n",
              "[56760 rows x 3 columns]"
            ]
          },
          "execution_count": 90,
          "metadata": {},
          "output_type": "execute_result"
        }
      ],
      "source": [
        "submit06=result_29_07_03.apply(lambda x: x.replace({ 1.0:1,2.0:0,3.0:0, 4.0:0,5.0:0,6.0:0,7.0:0,8.0:0,9.0:0,\n",
        "                                                    10.0:0,11.0:0,12.0:0,13.0:0,14.0:0,15.0:0,16.0:0,17.0:0,18.0:0,35.0:0,27.0:0}, regex=True))\n",
        "submit06\n"
      ]
    },
    {
      "cell_type": "code",
      "execution_count": null,
      "metadata": {
        "colab": {
          "background_save": true
        },
        "id": "LLOCQxF_O6_k",
        "outputId": "9455a10b-52cd-466c-cb5c-4d3f8d3ceb89"
      },
      "outputs": [
        {
          "data": {
            "text/html": [
              "\n",
              "  <div id=\"df-f37c6415-6960-452f-9ce8-829aa354f488\">\n",
              "    <div class=\"colab-df-container\">\n",
              "      <div>\n",
              "<style scoped>\n",
              "    .dataframe tbody tr th:only-of-type {\n",
              "        vertical-align: middle;\n",
              "    }\n",
              "\n",
              "    .dataframe tbody tr th {\n",
              "        vertical-align: top;\n",
              "    }\n",
              "\n",
              "    .dataframe thead th {\n",
              "        text-align: right;\n",
              "    }\n",
              "</style>\n",
              "<table border=\"1\" class=\"dataframe\">\n",
              "  <thead>\n",
              "    <tr style=\"text-align: right;\">\n",
              "      <th></th>\n",
              "      <th>ID</th>\n",
              "      <th>Default</th>\n",
              "    </tr>\n",
              "  </thead>\n",
              "  <tbody>\n",
              "    <tr>\n",
              "      <th>0</th>\n",
              "      <td>487410</td>\n",
              "      <td>1.0</td>\n",
              "    </tr>\n",
              "    <tr>\n",
              "      <th>1</th>\n",
              "      <td>533258</td>\n",
              "      <td>1.0</td>\n",
              "    </tr>\n",
              "    <tr>\n",
              "      <th>2</th>\n",
              "      <td>581926</td>\n",
              "      <td>1.0</td>\n",
              "    </tr>\n",
              "    <tr>\n",
              "      <th>3</th>\n",
              "      <td>486301</td>\n",
              "      <td>0.0</td>\n",
              "    </tr>\n",
              "    <tr>\n",
              "      <th>4</th>\n",
              "      <td>580822</td>\n",
              "      <td>0.0</td>\n",
              "    </tr>\n",
              "    <tr>\n",
              "      <th>...</th>\n",
              "      <td>...</td>\n",
              "      <td>...</td>\n",
              "    </tr>\n",
              "    <tr>\n",
              "      <th>56755</th>\n",
              "      <td>513665</td>\n",
              "      <td>1.0</td>\n",
              "    </tr>\n",
              "    <tr>\n",
              "      <th>56756</th>\n",
              "      <td>450327</td>\n",
              "      <td>1.0</td>\n",
              "    </tr>\n",
              "    <tr>\n",
              "      <th>56757</th>\n",
              "      <td>476417</td>\n",
              "      <td>1.0</td>\n",
              "    </tr>\n",
              "    <tr>\n",
              "      <th>56758</th>\n",
              "      <td>461152</td>\n",
              "      <td>0.0</td>\n",
              "    </tr>\n",
              "    <tr>\n",
              "      <th>56759</th>\n",
              "      <td>524075</td>\n",
              "      <td>1.0</td>\n",
              "    </tr>\n",
              "  </tbody>\n",
              "</table>\n",
              "<p>56760 rows × 2 columns</p>\n",
              "</div>\n",
              "      <button class=\"colab-df-convert\" onclick=\"convertToInteractive('df-f37c6415-6960-452f-9ce8-829aa354f488')\"\n",
              "              title=\"Convert this dataframe to an interactive table.\"\n",
              "              style=\"display:none;\">\n",
              "        \n",
              "  <svg xmlns=\"http://www.w3.org/2000/svg\" height=\"24px\"viewBox=\"0 0 24 24\"\n",
              "       width=\"24px\">\n",
              "    <path d=\"M0 0h24v24H0V0z\" fill=\"none\"/>\n",
              "    <path d=\"M18.56 5.44l.94 2.06.94-2.06 2.06-.94-2.06-.94-.94-2.06-.94 2.06-2.06.94zm-11 1L8.5 8.5l.94-2.06 2.06-.94-2.06-.94L8.5 2.5l-.94 2.06-2.06.94zm10 10l.94 2.06.94-2.06 2.06-.94-2.06-.94-.94-2.06-.94 2.06-2.06.94z\"/><path d=\"M17.41 7.96l-1.37-1.37c-.4-.4-.92-.59-1.43-.59-.52 0-1.04.2-1.43.59L10.3 9.45l-7.72 7.72c-.78.78-.78 2.05 0 2.83L4 21.41c.39.39.9.59 1.41.59.51 0 1.02-.2 1.41-.59l7.78-7.78 2.81-2.81c.8-.78.8-2.07 0-2.86zM5.41 20L4 18.59l7.72-7.72 1.47 1.35L5.41 20z\"/>\n",
              "  </svg>\n",
              "      </button>\n",
              "      \n",
              "  <style>\n",
              "    .colab-df-container {\n",
              "      display:flex;\n",
              "      flex-wrap:wrap;\n",
              "      gap: 12px;\n",
              "    }\n",
              "\n",
              "    .colab-df-convert {\n",
              "      background-color: #E8F0FE;\n",
              "      border: none;\n",
              "      border-radius: 50%;\n",
              "      cursor: pointer;\n",
              "      display: none;\n",
              "      fill: #1967D2;\n",
              "      height: 32px;\n",
              "      padding: 0 0 0 0;\n",
              "      width: 32px;\n",
              "    }\n",
              "\n",
              "    .colab-df-convert:hover {\n",
              "      background-color: #E2EBFA;\n",
              "      box-shadow: 0px 1px 2px rgba(60, 64, 67, 0.3), 0px 1px 3px 1px rgba(60, 64, 67, 0.15);\n",
              "      fill: #174EA6;\n",
              "    }\n",
              "\n",
              "    [theme=dark] .colab-df-convert {\n",
              "      background-color: #3B4455;\n",
              "      fill: #D2E3FC;\n",
              "    }\n",
              "\n",
              "    [theme=dark] .colab-df-convert:hover {\n",
              "      background-color: #434B5C;\n",
              "      box-shadow: 0px 1px 3px 1px rgba(0, 0, 0, 0.15);\n",
              "      filter: drop-shadow(0px 1px 2px rgba(0, 0, 0, 0.3));\n",
              "      fill: #FFFFFF;\n",
              "    }\n",
              "  </style>\n",
              "\n",
              "      <script>\n",
              "        const buttonEl =\n",
              "          document.querySelector('#df-f37c6415-6960-452f-9ce8-829aa354f488 button.colab-df-convert');\n",
              "        buttonEl.style.display =\n",
              "          google.colab.kernel.accessAllowed ? 'block' : 'none';\n",
              "\n",
              "        async function convertToInteractive(key) {\n",
              "          const element = document.querySelector('#df-f37c6415-6960-452f-9ce8-829aa354f488');\n",
              "          const dataTable =\n",
              "            await google.colab.kernel.invokeFunction('convertToInteractive',\n",
              "                                                     [key], {});\n",
              "          if (!dataTable) return;\n",
              "\n",
              "          const docLinkHtml = 'Like what you see? Visit the ' +\n",
              "            '<a target=\"_blank\" href=https://colab.research.google.com/notebooks/data_table.ipynb>data table notebook</a>'\n",
              "            + ' to learn more about interactive tables.';\n",
              "          element.innerHTML = '';\n",
              "          dataTable['output_type'] = 'display_data';\n",
              "          await google.colab.output.renderOutput(dataTable, element);\n",
              "          const docLink = document.createElement('div');\n",
              "          docLink.innerHTML = docLinkHtml;\n",
              "          element.appendChild(docLink);\n",
              "        }\n",
              "      </script>\n",
              "    </div>\n",
              "  </div>\n",
              "  "
            ],
            "text/plain": [
              "           ID  Default\n",
              "0      487410      1.0\n",
              "1      533258      1.0\n",
              "2      581926      1.0\n",
              "3      486301      0.0\n",
              "4      580822      0.0\n",
              "...       ...      ...\n",
              "56755  513665      1.0\n",
              "56756  450327      1.0\n",
              "56757  476417      1.0\n",
              "56758  461152      0.0\n",
              "56759  524075      1.0\n",
              "\n",
              "[56760 rows x 2 columns]"
            ]
          },
          "execution_count": 91,
          "metadata": {},
          "output_type": "execute_result"
        }
      ],
      "source": [
        "submit06=submit06.filter(['ID','Default'])\n",
        "submit06"
      ]
    },
    {
      "cell_type": "code",
      "execution_count": null,
      "metadata": {
        "colab": {
          "background_save": true
        },
        "id": "KXNwaDKkXBJQ"
      },
      "outputs": [],
      "source": [
        "submit06.to_csv('/content/drive/My Drive/Python/ht_tvs/submit06.csv', index=False)"
      ]
    },
    {
      "cell_type": "markdown",
      "metadata": {
        "id": "otXehYo9Wi3z"
      },
      "source": [
        "### **Conclusion - Submit06:-**is who have salary less than 5 Lakh they  are defaulters --result--0.248"
      ]
    },
    {
      "cell_type": "markdown",
      "metadata": {
        "id": "4buJjZzqZ3YU"
      },
      "source": [
        "#**3.7 Model building** ---( Analyse only defaulters in every columnn consider which more default count is more than 18000)"
      ]
    },
    {
      "cell_type": "code",
      "execution_count": null,
      "metadata": {
        "colab": {
          "background_save": true
        },
        "id": "MOaaoAhwaWph",
        "outputId": "6aefb9e2-af73-430c-d20b-13df76f61378"
      },
      "outputs": [
        {
          "data": {
            "text/html": [
              "\n",
              "  <div id=\"df-baca6694-8856-4071-8afa-d18c99498f35\">\n",
              "    <div class=\"colab-df-container\">\n",
              "      <div>\n",
              "<style scoped>\n",
              "    .dataframe tbody tr th:only-of-type {\n",
              "        vertical-align: middle;\n",
              "    }\n",
              "\n",
              "    .dataframe tbody tr th {\n",
              "        vertical-align: top;\n",
              "    }\n",
              "\n",
              "    .dataframe thead th {\n",
              "        text-align: right;\n",
              "    }\n",
              "</style>\n",
              "<table border=\"1\" class=\"dataframe\">\n",
              "  <thead>\n",
              "    <tr style=\"text-align: right;\">\n",
              "      <th></th>\n",
              "      <th>ID</th>\n",
              "      <th>Compensation</th>\n",
              "      <th>Vehicle_Status</th>\n",
              "      <th>Loan_amt</th>\n",
              "      <th>Annuity_amt</th>\n",
              "      <th>density_Ind</th>\n",
              "      <th>Job_Type</th>\n",
              "      <th>Default_hist</th>\n",
              "      <th>Prop_List</th>\n",
              "      <th>Home_Appliances</th>\n",
              "      <th>Region_Type</th>\n",
              "      <th>Credit_Inq</th>\n",
              "      <th>Education_det</th>\n",
              "      <th>Marital_Stat</th>\n",
              "      <th>Gen</th>\n",
              "      <th>Credit_Lnks</th>\n",
              "      <th>Experience</th>\n",
              "      <th>Income_Alt</th>\n",
              "      <th>Day_Process</th>\n",
              "      <th>Ph.No</th>\n",
              "      <th>Type_Loan</th>\n",
              "      <th>Dependents</th>\n",
              "      <th>Company_Rating</th>\n",
              "      <th>Region</th>\n",
              "      <th>Age</th>\n",
              "      <th>hour_Process</th>\n",
              "      <th>Addr_permanent</th>\n",
              "      <th>Permanent_Addr_tag</th>\n",
              "      <th>c1_rated</th>\n",
              "      <th>c2_rated</th>\n",
              "      <th>Contact_age</th>\n",
              "      <th>Product_bought</th>\n",
              "      <th>Default</th>\n",
              "    </tr>\n",
              "  </thead>\n",
              "  <tbody>\n",
              "    <tr>\n",
              "      <th>0</th>\n",
              "      <td>540071</td>\n",
              "      <td>801850.0</td>\n",
              "      <td>Y</td>\n",
              "      <td>658040.0</td>\n",
              "      <td>13816.52</td>\n",
              "      <td>0.0304</td>\n",
              "      <td>IT</td>\n",
              "      <td>ndf</td>\n",
              "      <td>Morethan_One</td>\n",
              "      <td>NaN</td>\n",
              "      <td>Metro</td>\n",
              "      <td>1</td>\n",
              "      <td>Grad</td>\n",
              "      <td>Married</td>\n",
              "      <td>F</td>\n",
              "      <td>1_to_3</td>\n",
              "      <td>0.9</td>\n",
              "      <td>Not_Specified</td>\n",
              "      <td>SAT</td>\n",
              "      <td>Yes</td>\n",
              "      <td>CLoan</td>\n",
              "      <td>3.0</td>\n",
              "      <td>2.0</td>\n",
              "      <td>East</td>\n",
              "      <td>46.0</td>\n",
              "      <td>10.0</td>\n",
              "      <td>Yes</td>\n",
              "      <td>No</td>\n",
              "      <td>0.077</td>\n",
              "      <td>0.077</td>\n",
              "      <td>18.0</td>\n",
              "      <td>2.0</td>\n",
              "      <td>1.0</td>\n",
              "    </tr>\n",
              "    <tr>\n",
              "      <th>6</th>\n",
              "      <td>525234</td>\n",
              "      <td>757887.0</td>\n",
              "      <td>N</td>\n",
              "      <td>977270.0</td>\n",
              "      <td>10708.27</td>\n",
              "      <td>0.0089</td>\n",
              "      <td>IT</td>\n",
              "      <td>df</td>\n",
              "      <td>None</td>\n",
              "      <td>2.0</td>\n",
              "      <td>Metro</td>\n",
              "      <td>1</td>\n",
              "      <td>Grad</td>\n",
              "      <td>Married</td>\n",
              "      <td>F</td>\n",
              "      <td>1_to_3</td>\n",
              "      <td>4.1</td>\n",
              "      <td>Not_Specified</td>\n",
              "      <td>Tue</td>\n",
              "      <td>No</td>\n",
              "      <td>CLoan</td>\n",
              "      <td>4.0</td>\n",
              "      <td>2.0</td>\n",
              "      <td>South</td>\n",
              "      <td>36.0</td>\n",
              "      <td>12.0</td>\n",
              "      <td>Yes</td>\n",
              "      <td>Yes</td>\n",
              "      <td>0.142</td>\n",
              "      <td>0.142</td>\n",
              "      <td>721.0</td>\n",
              "      <td>3.0</td>\n",
              "      <td>1.0</td>\n",
              "    </tr>\n",
              "    <tr>\n",
              "      <th>9</th>\n",
              "      <td>497049</td>\n",
              "      <td>822222.0</td>\n",
              "      <td>N</td>\n",
              "      <td>265048.0</td>\n",
              "      <td>8849.20</td>\n",
              "      <td>0.0138</td>\n",
              "      <td>Non-IT</td>\n",
              "      <td>ndf</td>\n",
              "      <td>One</td>\n",
              "      <td>4.0</td>\n",
              "      <td>Metro</td>\n",
              "      <td>1</td>\n",
              "      <td>Grad</td>\n",
              "      <td>Single</td>\n",
              "      <td>M</td>\n",
              "      <td>4_to_6</td>\n",
              "      <td>1.3</td>\n",
              "      <td>Not_Specified</td>\n",
              "      <td>thur</td>\n",
              "      <td>Yes</td>\n",
              "      <td>CLoan</td>\n",
              "      <td>1.0</td>\n",
              "      <td>2.0</td>\n",
              "      <td>East</td>\n",
              "      <td>34.0</td>\n",
              "      <td>12.0</td>\n",
              "      <td>Yes</td>\n",
              "      <td>Yes</td>\n",
              "      <td>0.757</td>\n",
              "      <td>NaN</td>\n",
              "      <td>888.0</td>\n",
              "      <td>6.0</td>\n",
              "      <td>1.0</td>\n",
              "    </tr>\n",
              "    <tr>\n",
              "      <th>10</th>\n",
              "      <td>495109</td>\n",
              "      <td>733560.0</td>\n",
              "      <td>N</td>\n",
              "      <td>225547.0</td>\n",
              "      <td>9563.82</td>\n",
              "      <td>0.0345</td>\n",
              "      <td>IT</td>\n",
              "      <td>ndf</td>\n",
              "      <td>One</td>\n",
              "      <td>4.0</td>\n",
              "      <td>Metro</td>\n",
              "      <td>1</td>\n",
              "      <td>Grad</td>\n",
              "      <td>Married</td>\n",
              "      <td>M</td>\n",
              "      <td>1_to_3</td>\n",
              "      <td>2.4</td>\n",
              "      <td>Not_Specified</td>\n",
              "      <td>mon</td>\n",
              "      <td>Yes</td>\n",
              "      <td>CLoan</td>\n",
              "      <td>3.0</td>\n",
              "      <td>2.0</td>\n",
              "      <td>North</td>\n",
              "      <td>24.0</td>\n",
              "      <td>10.0</td>\n",
              "      <td>Yes</td>\n",
              "      <td>Yes</td>\n",
              "      <td>0.569</td>\n",
              "      <td>0.569</td>\n",
              "      <td>15.0</td>\n",
              "      <td>3.0</td>\n",
              "      <td>1.0</td>\n",
              "    </tr>\n",
              "    <tr>\n",
              "      <th>14</th>\n",
              "      <td>501807</td>\n",
              "      <td>346944.0</td>\n",
              "      <td>Y</td>\n",
              "      <td>187999.0</td>\n",
              "      <td>9332.92</td>\n",
              "      <td>0.0017</td>\n",
              "      <td>IT</td>\n",
              "      <td>df</td>\n",
              "      <td>None</td>\n",
              "      <td>2.0</td>\n",
              "      <td>Rural</td>\n",
              "      <td>1</td>\n",
              "      <td>Grad</td>\n",
              "      <td>Married</td>\n",
              "      <td>M</td>\n",
              "      <td>1_to_3</td>\n",
              "      <td>2.5</td>\n",
              "      <td>Not_Specified</td>\n",
              "      <td>wed</td>\n",
              "      <td>Yes</td>\n",
              "      <td>CLoan</td>\n",
              "      <td>4.0</td>\n",
              "      <td>2.0</td>\n",
              "      <td>East</td>\n",
              "      <td>34.0</td>\n",
              "      <td>13.0</td>\n",
              "      <td>Yes</td>\n",
              "      <td>Yes</td>\n",
              "      <td>NaN</td>\n",
              "      <td>0.755</td>\n",
              "      <td>18.0</td>\n",
              "      <td>4.0</td>\n",
              "      <td>1.0</td>\n",
              "    </tr>\n",
              "  </tbody>\n",
              "</table>\n",
              "</div>\n",
              "      <button class=\"colab-df-convert\" onclick=\"convertToInteractive('df-baca6694-8856-4071-8afa-d18c99498f35')\"\n",
              "              title=\"Convert this dataframe to an interactive table.\"\n",
              "              style=\"display:none;\">\n",
              "        \n",
              "  <svg xmlns=\"http://www.w3.org/2000/svg\" height=\"24px\"viewBox=\"0 0 24 24\"\n",
              "       width=\"24px\">\n",
              "    <path d=\"M0 0h24v24H0V0z\" fill=\"none\"/>\n",
              "    <path d=\"M18.56 5.44l.94 2.06.94-2.06 2.06-.94-2.06-.94-.94-2.06-.94 2.06-2.06.94zm-11 1L8.5 8.5l.94-2.06 2.06-.94-2.06-.94L8.5 2.5l-.94 2.06-2.06.94zm10 10l.94 2.06.94-2.06 2.06-.94-2.06-.94-.94-2.06-.94 2.06-2.06.94z\"/><path d=\"M17.41 7.96l-1.37-1.37c-.4-.4-.92-.59-1.43-.59-.52 0-1.04.2-1.43.59L10.3 9.45l-7.72 7.72c-.78.78-.78 2.05 0 2.83L4 21.41c.39.39.9.59 1.41.59.51 0 1.02-.2 1.41-.59l7.78-7.78 2.81-2.81c.8-.78.8-2.07 0-2.86zM5.41 20L4 18.59l7.72-7.72 1.47 1.35L5.41 20z\"/>\n",
              "  </svg>\n",
              "      </button>\n",
              "      \n",
              "  <style>\n",
              "    .colab-df-container {\n",
              "      display:flex;\n",
              "      flex-wrap:wrap;\n",
              "      gap: 12px;\n",
              "    }\n",
              "\n",
              "    .colab-df-convert {\n",
              "      background-color: #E8F0FE;\n",
              "      border: none;\n",
              "      border-radius: 50%;\n",
              "      cursor: pointer;\n",
              "      display: none;\n",
              "      fill: #1967D2;\n",
              "      height: 32px;\n",
              "      padding: 0 0 0 0;\n",
              "      width: 32px;\n",
              "    }\n",
              "\n",
              "    .colab-df-convert:hover {\n",
              "      background-color: #E2EBFA;\n",
              "      box-shadow: 0px 1px 2px rgba(60, 64, 67, 0.3), 0px 1px 3px 1px rgba(60, 64, 67, 0.15);\n",
              "      fill: #174EA6;\n",
              "    }\n",
              "\n",
              "    [theme=dark] .colab-df-convert {\n",
              "      background-color: #3B4455;\n",
              "      fill: #D2E3FC;\n",
              "    }\n",
              "\n",
              "    [theme=dark] .colab-df-convert:hover {\n",
              "      background-color: #434B5C;\n",
              "      box-shadow: 0px 1px 3px 1px rgba(0, 0, 0, 0.15);\n",
              "      filter: drop-shadow(0px 1px 2px rgba(0, 0, 0, 0.3));\n",
              "      fill: #FFFFFF;\n",
              "    }\n",
              "  </style>\n",
              "\n",
              "      <script>\n",
              "        const buttonEl =\n",
              "          document.querySelector('#df-baca6694-8856-4071-8afa-d18c99498f35 button.colab-df-convert');\n",
              "        buttonEl.style.display =\n",
              "          google.colab.kernel.accessAllowed ? 'block' : 'none';\n",
              "\n",
              "        async function convertToInteractive(key) {\n",
              "          const element = document.querySelector('#df-baca6694-8856-4071-8afa-d18c99498f35');\n",
              "          const dataTable =\n",
              "            await google.colab.kernel.invokeFunction('convertToInteractive',\n",
              "                                                     [key], {});\n",
              "          if (!dataTable) return;\n",
              "\n",
              "          const docLinkHtml = 'Like what you see? Visit the ' +\n",
              "            '<a target=\"_blank\" href=https://colab.research.google.com/notebooks/data_table.ipynb>data table notebook</a>'\n",
              "            + ' to learn more about interactive tables.';\n",
              "          element.innerHTML = '';\n",
              "          dataTable['output_type'] = 'display_data';\n",
              "          await google.colab.output.renderOutput(dataTable, element);\n",
              "          const docLink = document.createElement('div');\n",
              "          docLink.innerHTML = docLinkHtml;\n",
              "          element.appendChild(docLink);\n",
              "        }\n",
              "      </script>\n",
              "    </div>\n",
              "  </div>\n",
              "  "
            ],
            "text/plain": [
              "        ID  Compensation Vehicle_Status  Loan_amt  Annuity_amt  density_Ind  \\\n",
              "0   540071      801850.0              Y  658040.0     13816.52       0.0304   \n",
              "6   525234      757887.0              N  977270.0     10708.27       0.0089   \n",
              "9   497049      822222.0              N  265048.0      8849.20       0.0138   \n",
              "10  495109      733560.0              N  225547.0      9563.82       0.0345   \n",
              "14  501807      346944.0              Y  187999.0      9332.92       0.0017   \n",
              "\n",
              "   Job_Type Default_hist     Prop_List  Home_Appliances Region_Type  \\\n",
              "0        IT          ndf  Morethan_One              NaN       Metro   \n",
              "6        IT           df          None              2.0       Metro   \n",
              "9    Non-IT          ndf           One              4.0       Metro   \n",
              "10       IT          ndf           One              4.0       Metro   \n",
              "14       IT           df          None              2.0       Rural   \n",
              "\n",
              "   Credit_Inq Education_det Marital_Stat Gen Credit_Lnks  Experience  \\\n",
              "0           1          Grad      Married   F      1_to_3         0.9   \n",
              "6           1          Grad      Married   F      1_to_3         4.1   \n",
              "9           1          Grad       Single   M      4_to_6         1.3   \n",
              "10          1          Grad      Married   M      1_to_3         2.4   \n",
              "14          1          Grad      Married   M      1_to_3         2.5   \n",
              "\n",
              "       Income_Alt Day_Process Ph.No Type_Loan  Dependents  Company_Rating  \\\n",
              "0   Not_Specified         SAT   Yes     CLoan         3.0             2.0   \n",
              "6   Not_Specified         Tue    No     CLoan         4.0             2.0   \n",
              "9   Not_Specified        thur   Yes     CLoan         1.0             2.0   \n",
              "10  Not_Specified         mon   Yes     CLoan         3.0             2.0   \n",
              "14  Not_Specified         wed   Yes     CLoan         4.0             2.0   \n",
              "\n",
              "   Region   Age  hour_Process Addr_permanent Permanent_Addr_tag  c1_rated  \\\n",
              "0    East  46.0          10.0            Yes                 No     0.077   \n",
              "6   South  36.0          12.0            Yes                Yes     0.142   \n",
              "9    East  34.0          12.0            Yes                Yes     0.757   \n",
              "10  North  24.0          10.0            Yes                Yes     0.569   \n",
              "14   East  34.0          13.0            Yes                Yes       NaN   \n",
              "\n",
              "    c2_rated  Contact_age  Product_bought  Default  \n",
              "0      0.077         18.0             2.0      1.0  \n",
              "6      0.142        721.0             3.0      1.0  \n",
              "9        NaN        888.0             6.0      1.0  \n",
              "10     0.569         15.0             3.0      1.0  \n",
              "14     0.755         18.0             4.0      1.0  "
            ]
          },
          "execution_count": 93,
          "metadata": {},
          "output_type": "execute_result"
        }
      ],
      "source": [
        "df.head()"
      ]
    },
    {
      "cell_type": "code",
      "execution_count": null,
      "metadata": {
        "colab": {
          "background_save": true
        },
        "id": "TML_x4veqPcD",
        "outputId": "fd1b82bf-a34b-417a-913f-8279d60c2b5d"
      },
      "outputs": [
        {
          "data": {
            "text/html": [
              "\n",
              "  <div id=\"df-823021d9-6a21-4d02-ab56-b1cd70da7588\">\n",
              "    <div class=\"colab-df-container\">\n",
              "      <div>\n",
              "<style scoped>\n",
              "    .dataframe tbody tr th:only-of-type {\n",
              "        vertical-align: middle;\n",
              "    }\n",
              "\n",
              "    .dataframe tbody tr th {\n",
              "        vertical-align: top;\n",
              "    }\n",
              "\n",
              "    .dataframe thead th {\n",
              "        text-align: right;\n",
              "    }\n",
              "</style>\n",
              "<table border=\"1\" class=\"dataframe\">\n",
              "  <thead>\n",
              "    <tr style=\"text-align: right;\">\n",
              "      <th></th>\n",
              "      <th>ID</th>\n",
              "      <th>Compensation</th>\n",
              "      <th>Vehicle_Status</th>\n",
              "      <th>Loan_amt</th>\n",
              "      <th>Annuity_amt</th>\n",
              "      <th>density_Ind</th>\n",
              "      <th>Job_Type</th>\n",
              "      <th>Default_hist</th>\n",
              "      <th>Prop_List</th>\n",
              "      <th>Home_Appliances</th>\n",
              "      <th>Region_Type</th>\n",
              "      <th>Credit_Inq</th>\n",
              "      <th>Education_det</th>\n",
              "      <th>Marital_Stat</th>\n",
              "      <th>Gen</th>\n",
              "      <th>Credit_Lnks</th>\n",
              "      <th>Experience</th>\n",
              "      <th>Income_Alt</th>\n",
              "      <th>Day_Process</th>\n",
              "      <th>Ph.No</th>\n",
              "      <th>Type_Loan</th>\n",
              "      <th>Dependents</th>\n",
              "      <th>Company_Rating</th>\n",
              "      <th>Region</th>\n",
              "      <th>Age</th>\n",
              "      <th>hour_Process</th>\n",
              "      <th>Addr_permanent</th>\n",
              "      <th>Permanent_Addr_tag</th>\n",
              "      <th>c1_rated</th>\n",
              "      <th>c2_rated</th>\n",
              "      <th>Contact_age</th>\n",
              "      <th>Product_bought</th>\n",
              "      <th>Default</th>\n",
              "    </tr>\n",
              "  </thead>\n",
              "  <tbody>\n",
              "    <tr>\n",
              "      <th>count</th>\n",
              "      <td>35004.000000</td>\n",
              "      <td>3.338900e+04</td>\n",
              "      <td>32581</td>\n",
              "      <td>3.500400e+04</td>\n",
              "      <td>33773.000000</td>\n",
              "      <td>33546.000000</td>\n",
              "      <td>32333</td>\n",
              "      <td>35004</td>\n",
              "      <td>34462</td>\n",
              "      <td>32138.000000</td>\n",
              "      <td>35004</td>\n",
              "      <td>34341</td>\n",
              "      <td>35004</td>\n",
              "      <td>35004</td>\n",
              "      <td>35004</td>\n",
              "      <td>35004</td>\n",
              "      <td>29527.000000</td>\n",
              "      <td>32983</td>\n",
              "      <td>35004</td>\n",
              "      <td>35004</td>\n",
              "      <td>35004</td>\n",
              "      <td>35004.000000</td>\n",
              "      <td>31837.000000</td>\n",
              "      <td>35004</td>\n",
              "      <td>35004.000000</td>\n",
              "      <td>35004.000000</td>\n",
              "      <td>35004</td>\n",
              "      <td>35004</td>\n",
              "      <td>30409.000000</td>\n",
              "      <td>31434.000000</td>\n",
              "      <td>32843.000000</td>\n",
              "      <td>35004.000000</td>\n",
              "      <td>35004.0</td>\n",
              "    </tr>\n",
              "    <tr>\n",
              "      <th>unique</th>\n",
              "      <td>NaN</td>\n",
              "      <td>NaN</td>\n",
              "      <td>2</td>\n",
              "      <td>NaN</td>\n",
              "      <td>NaN</td>\n",
              "      <td>NaN</td>\n",
              "      <td>3</td>\n",
              "      <td>2</td>\n",
              "      <td>3</td>\n",
              "      <td>NaN</td>\n",
              "      <td>3</td>\n",
              "      <td>4</td>\n",
              "      <td>3</td>\n",
              "      <td>4</td>\n",
              "      <td>2</td>\n",
              "      <td>3</td>\n",
              "      <td>NaN</td>\n",
              "      <td>2</td>\n",
              "      <td>7</td>\n",
              "      <td>2</td>\n",
              "      <td>2</td>\n",
              "      <td>NaN</td>\n",
              "      <td>NaN</td>\n",
              "      <td>4</td>\n",
              "      <td>NaN</td>\n",
              "      <td>NaN</td>\n",
              "      <td>2</td>\n",
              "      <td>2</td>\n",
              "      <td>NaN</td>\n",
              "      <td>NaN</td>\n",
              "      <td>NaN</td>\n",
              "      <td>NaN</td>\n",
              "      <td>NaN</td>\n",
              "    </tr>\n",
              "    <tr>\n",
              "      <th>top</th>\n",
              "      <td>NaN</td>\n",
              "      <td>NaN</td>\n",
              "      <td>N</td>\n",
              "      <td>NaN</td>\n",
              "      <td>NaN</td>\n",
              "      <td>NaN</td>\n",
              "      <td>IT</td>\n",
              "      <td>ndf</td>\n",
              "      <td>One</td>\n",
              "      <td>NaN</td>\n",
              "      <td>Metro</td>\n",
              "      <td>1</td>\n",
              "      <td>Grad</td>\n",
              "      <td>Married</td>\n",
              "      <td>M</td>\n",
              "      <td>1_to_3</td>\n",
              "      <td>NaN</td>\n",
              "      <td>Not_Specified</td>\n",
              "      <td>Tue</td>\n",
              "      <td>Yes</td>\n",
              "      <td>CLoan</td>\n",
              "      <td>NaN</td>\n",
              "      <td>NaN</td>\n",
              "      <td>North</td>\n",
              "      <td>NaN</td>\n",
              "      <td>NaN</td>\n",
              "      <td>Yes</td>\n",
              "      <td>Yes</td>\n",
              "      <td>NaN</td>\n",
              "      <td>NaN</td>\n",
              "      <td>NaN</td>\n",
              "      <td>NaN</td>\n",
              "      <td>NaN</td>\n",
              "    </tr>\n",
              "    <tr>\n",
              "      <th>freq</th>\n",
              "      <td>NaN</td>\n",
              "      <td>NaN</td>\n",
              "      <td>21649</td>\n",
              "      <td>NaN</td>\n",
              "      <td>NaN</td>\n",
              "      <td>NaN</td>\n",
              "      <td>17767</td>\n",
              "      <td>31487</td>\n",
              "      <td>24105</td>\n",
              "      <td>NaN</td>\n",
              "      <td>28478</td>\n",
              "      <td>18101</td>\n",
              "      <td>25203</td>\n",
              "      <td>25811</td>\n",
              "      <td>22590</td>\n",
              "      <td>30907</td>\n",
              "      <td>NaN</td>\n",
              "      <td>23869</td>\n",
              "      <td>6095</td>\n",
              "      <td>27776</td>\n",
              "      <td>31793</td>\n",
              "      <td>NaN</td>\n",
              "      <td>NaN</td>\n",
              "      <td>13876</td>\n",
              "      <td>NaN</td>\n",
              "      <td>NaN</td>\n",
              "      <td>32001</td>\n",
              "      <td>28605</td>\n",
              "      <td>NaN</td>\n",
              "      <td>NaN</td>\n",
              "      <td>NaN</td>\n",
              "      <td>NaN</td>\n",
              "      <td>NaN</td>\n",
              "    </tr>\n",
              "    <tr>\n",
              "      <th>mean</th>\n",
              "      <td>488945.286310</td>\n",
              "      <td>7.439115e+05</td>\n",
              "      <td>NaN</td>\n",
              "      <td>4.107013e+05</td>\n",
              "      <td>10831.063325</td>\n",
              "      <td>0.020471</td>\n",
              "      <td>NaN</td>\n",
              "      <td>NaN</td>\n",
              "      <td>NaN</td>\n",
              "      <td>3.212926</td>\n",
              "      <td>NaN</td>\n",
              "      <td>NaN</td>\n",
              "      <td>NaN</td>\n",
              "      <td>NaN</td>\n",
              "      <td>NaN</td>\n",
              "      <td>NaN</td>\n",
              "      <td>6.339459</td>\n",
              "      <td>NaN</td>\n",
              "      <td>NaN</td>\n",
              "      <td>NaN</td>\n",
              "      <td>NaN</td>\n",
              "      <td>2.159039</td>\n",
              "      <td>2.043597</td>\n",
              "      <td>NaN</td>\n",
              "      <td>43.470003</td>\n",
              "      <td>12.015798</td>\n",
              "      <td>NaN</td>\n",
              "      <td>NaN</td>\n",
              "      <td>0.499373</td>\n",
              "      <td>0.499786</td>\n",
              "      <td>959.473556</td>\n",
              "      <td>3.410896</td>\n",
              "      <td>1.0</td>\n",
              "    </tr>\n",
              "    <tr>\n",
              "      <th>std</th>\n",
              "      <td>58561.752625</td>\n",
              "      <td>5.504846e+05</td>\n",
              "      <td>NaN</td>\n",
              "      <td>2.685998e+05</td>\n",
              "      <td>2042.823265</td>\n",
              "      <td>0.015880</td>\n",
              "      <td>NaN</td>\n",
              "      <td>NaN</td>\n",
              "      <td>NaN</td>\n",
              "      <td>1.246658</td>\n",
              "      <td>NaN</td>\n",
              "      <td>NaN</td>\n",
              "      <td>NaN</td>\n",
              "      <td>NaN</td>\n",
              "      <td>NaN</td>\n",
              "      <td>NaN</td>\n",
              "      <td>6.190152</td>\n",
              "      <td>NaN</td>\n",
              "      <td>NaN</td>\n",
              "      <td>NaN</td>\n",
              "      <td>NaN</td>\n",
              "      <td>0.911751</td>\n",
              "      <td>0.503708</td>\n",
              "      <td>NaN</td>\n",
              "      <td>11.961570</td>\n",
              "      <td>3.563602</td>\n",
              "      <td>NaN</td>\n",
              "      <td>NaN</td>\n",
              "      <td>0.269254</td>\n",
              "      <td>0.269507</td>\n",
              "      <td>824.357134</td>\n",
              "      <td>2.182402</td>\n",
              "      <td>0.0</td>\n",
              "    </tr>\n",
              "    <tr>\n",
              "      <th>min</th>\n",
              "      <td>387662.000000</td>\n",
              "      <td>1.657950e+05</td>\n",
              "      <td>NaN</td>\n",
              "      <td>3.430000e+04</td>\n",
              "      <td>5993.280000</td>\n",
              "      <td>0.000100</td>\n",
              "      <td>NaN</td>\n",
              "      <td>NaN</td>\n",
              "      <td>NaN</td>\n",
              "      <td>1.000000</td>\n",
              "      <td>NaN</td>\n",
              "      <td>NaN</td>\n",
              "      <td>NaN</td>\n",
              "      <td>NaN</td>\n",
              "      <td>NaN</td>\n",
              "      <td>NaN</td>\n",
              "      <td>0.000000</td>\n",
              "      <td>NaN</td>\n",
              "      <td>NaN</td>\n",
              "      <td>NaN</td>\n",
              "      <td>NaN</td>\n",
              "      <td>1.000000</td>\n",
              "      <td>1.000000</td>\n",
              "      <td>NaN</td>\n",
              "      <td>21.000000</td>\n",
              "      <td>0.000000</td>\n",
              "      <td>NaN</td>\n",
              "      <td>NaN</td>\n",
              "      <td>0.000000</td>\n",
              "      <td>0.000000</td>\n",
              "      <td>10.000000</td>\n",
              "      <td>0.000000</td>\n",
              "      <td>1.0</td>\n",
              "    </tr>\n",
              "    <tr>\n",
              "      <th>25%</th>\n",
              "      <td>437966.500000</td>\n",
              "      <td>5.174800e+05</td>\n",
              "      <td>NaN</td>\n",
              "      <td>2.062618e+05</td>\n",
              "      <td>9328.330000</td>\n",
              "      <td>0.010400</td>\n",
              "      <td>NaN</td>\n",
              "      <td>NaN</td>\n",
              "      <td>NaN</td>\n",
              "      <td>2.000000</td>\n",
              "      <td>NaN</td>\n",
              "      <td>NaN</td>\n",
              "      <td>NaN</td>\n",
              "      <td>NaN</td>\n",
              "      <td>NaN</td>\n",
              "      <td>NaN</td>\n",
              "      <td>2.000000</td>\n",
              "      <td>NaN</td>\n",
              "      <td>NaN</td>\n",
              "      <td>NaN</td>\n",
              "      <td>NaN</td>\n",
              "      <td>2.000000</td>\n",
              "      <td>2.000000</td>\n",
              "      <td>NaN</td>\n",
              "      <td>33.000000</td>\n",
              "      <td>10.000000</td>\n",
              "      <td>NaN</td>\n",
              "      <td>NaN</td>\n",
              "      <td>0.260000</td>\n",
              "      <td>0.261000</td>\n",
              "      <td>274.000000</td>\n",
              "      <td>2.000000</td>\n",
              "      <td>1.0</td>\n",
              "    </tr>\n",
              "    <tr>\n",
              "      <th>50%</th>\n",
              "      <td>489394.500000</td>\n",
              "      <td>6.665880e+05</td>\n",
              "      <td>NaN</td>\n",
              "      <td>3.473168e+05</td>\n",
              "      <td>10762.320000</td>\n",
              "      <td>0.020400</td>\n",
              "      <td>NaN</td>\n",
              "      <td>NaN</td>\n",
              "      <td>NaN</td>\n",
              "      <td>4.000000</td>\n",
              "      <td>NaN</td>\n",
              "      <td>NaN</td>\n",
              "      <td>NaN</td>\n",
              "      <td>NaN</td>\n",
              "      <td>NaN</td>\n",
              "      <td>NaN</td>\n",
              "      <td>4.400000</td>\n",
              "      <td>NaN</td>\n",
              "      <td>NaN</td>\n",
              "      <td>NaN</td>\n",
              "      <td>NaN</td>\n",
              "      <td>2.000000</td>\n",
              "      <td>2.000000</td>\n",
              "      <td>NaN</td>\n",
              "      <td>43.000000</td>\n",
              "      <td>12.000000</td>\n",
              "      <td>NaN</td>\n",
              "      <td>NaN</td>\n",
              "      <td>0.500000</td>\n",
              "      <td>0.500000</td>\n",
              "      <td>746.000000</td>\n",
              "      <td>3.000000</td>\n",
              "      <td>1.0</td>\n",
              "    </tr>\n",
              "    <tr>\n",
              "      <th>75%</th>\n",
              "      <td>539509.250000</td>\n",
              "      <td>8.783190e+05</td>\n",
              "      <td>NaN</td>\n",
              "      <td>5.524995e+05</td>\n",
              "      <td>12154.130000</td>\n",
              "      <td>0.030300</td>\n",
              "      <td>NaN</td>\n",
              "      <td>NaN</td>\n",
              "      <td>NaN</td>\n",
              "      <td>4.000000</td>\n",
              "      <td>NaN</td>\n",
              "      <td>NaN</td>\n",
              "      <td>NaN</td>\n",
              "      <td>NaN</td>\n",
              "      <td>NaN</td>\n",
              "      <td>NaN</td>\n",
              "      <td>8.700000</td>\n",
              "      <td>NaN</td>\n",
              "      <td>NaN</td>\n",
              "      <td>NaN</td>\n",
              "      <td>NaN</td>\n",
              "      <td>3.000000</td>\n",
              "      <td>2.000000</td>\n",
              "      <td>NaN</td>\n",
              "      <td>53.000000</td>\n",
              "      <td>15.000000</td>\n",
              "      <td>NaN</td>\n",
              "      <td>NaN</td>\n",
              "      <td>0.760000</td>\n",
              "      <td>0.762000</td>\n",
              "      <td>1566.000000</td>\n",
              "      <td>5.000000</td>\n",
              "      <td>1.0</td>\n",
              "    </tr>\n",
              "    <tr>\n",
              "      <th>max</th>\n",
              "      <td>590407.000000</td>\n",
              "      <td>7.037702e+07</td>\n",
              "      <td>NaN</td>\n",
              "      <td>2.872142e+06</td>\n",
              "      <td>32761.880000</td>\n",
              "      <td>2.017800</td>\n",
              "      <td>NaN</td>\n",
              "      <td>NaN</td>\n",
              "      <td>NaN</td>\n",
              "      <td>12.000000</td>\n",
              "      <td>NaN</td>\n",
              "      <td>NaN</td>\n",
              "      <td>NaN</td>\n",
              "      <td>NaN</td>\n",
              "      <td>NaN</td>\n",
              "      <td>NaN</td>\n",
              "      <td>47.000000</td>\n",
              "      <td>NaN</td>\n",
              "      <td>NaN</td>\n",
              "      <td>NaN</td>\n",
              "      <td>NaN</td>\n",
              "      <td>9.000000</td>\n",
              "      <td>3.000000</td>\n",
              "      <td>NaN</td>\n",
              "      <td>69.000000</td>\n",
              "      <td>25.000000</td>\n",
              "      <td>NaN</td>\n",
              "      <td>NaN</td>\n",
              "      <td>0.941000</td>\n",
              "      <td>0.941000</td>\n",
              "      <td>4309.000000</td>\n",
              "      <td>24.000000</td>\n",
              "      <td>1.0</td>\n",
              "    </tr>\n",
              "  </tbody>\n",
              "</table>\n",
              "</div>\n",
              "      <button class=\"colab-df-convert\" onclick=\"convertToInteractive('df-823021d9-6a21-4d02-ab56-b1cd70da7588')\"\n",
              "              title=\"Convert this dataframe to an interactive table.\"\n",
              "              style=\"display:none;\">\n",
              "        \n",
              "  <svg xmlns=\"http://www.w3.org/2000/svg\" height=\"24px\"viewBox=\"0 0 24 24\"\n",
              "       width=\"24px\">\n",
              "    <path d=\"M0 0h24v24H0V0z\" fill=\"none\"/>\n",
              "    <path d=\"M18.56 5.44l.94 2.06.94-2.06 2.06-.94-2.06-.94-.94-2.06-.94 2.06-2.06.94zm-11 1L8.5 8.5l.94-2.06 2.06-.94-2.06-.94L8.5 2.5l-.94 2.06-2.06.94zm10 10l.94 2.06.94-2.06 2.06-.94-2.06-.94-.94-2.06-.94 2.06-2.06.94z\"/><path d=\"M17.41 7.96l-1.37-1.37c-.4-.4-.92-.59-1.43-.59-.52 0-1.04.2-1.43.59L10.3 9.45l-7.72 7.72c-.78.78-.78 2.05 0 2.83L4 21.41c.39.39.9.59 1.41.59.51 0 1.02-.2 1.41-.59l7.78-7.78 2.81-2.81c.8-.78.8-2.07 0-2.86zM5.41 20L4 18.59l7.72-7.72 1.47 1.35L5.41 20z\"/>\n",
              "  </svg>\n",
              "      </button>\n",
              "      \n",
              "  <style>\n",
              "    .colab-df-container {\n",
              "      display:flex;\n",
              "      flex-wrap:wrap;\n",
              "      gap: 12px;\n",
              "    }\n",
              "\n",
              "    .colab-df-convert {\n",
              "      background-color: #E8F0FE;\n",
              "      border: none;\n",
              "      border-radius: 50%;\n",
              "      cursor: pointer;\n",
              "      display: none;\n",
              "      fill: #1967D2;\n",
              "      height: 32px;\n",
              "      padding: 0 0 0 0;\n",
              "      width: 32px;\n",
              "    }\n",
              "\n",
              "    .colab-df-convert:hover {\n",
              "      background-color: #E2EBFA;\n",
              "      box-shadow: 0px 1px 2px rgba(60, 64, 67, 0.3), 0px 1px 3px 1px rgba(60, 64, 67, 0.15);\n",
              "      fill: #174EA6;\n",
              "    }\n",
              "\n",
              "    [theme=dark] .colab-df-convert {\n",
              "      background-color: #3B4455;\n",
              "      fill: #D2E3FC;\n",
              "    }\n",
              "\n",
              "    [theme=dark] .colab-df-convert:hover {\n",
              "      background-color: #434B5C;\n",
              "      box-shadow: 0px 1px 3px 1px rgba(0, 0, 0, 0.15);\n",
              "      filter: drop-shadow(0px 1px 2px rgba(0, 0, 0, 0.3));\n",
              "      fill: #FFFFFF;\n",
              "    }\n",
              "  </style>\n",
              "\n",
              "      <script>\n",
              "        const buttonEl =\n",
              "          document.querySelector('#df-823021d9-6a21-4d02-ab56-b1cd70da7588 button.colab-df-convert');\n",
              "        buttonEl.style.display =\n",
              "          google.colab.kernel.accessAllowed ? 'block' : 'none';\n",
              "\n",
              "        async function convertToInteractive(key) {\n",
              "          const element = document.querySelector('#df-823021d9-6a21-4d02-ab56-b1cd70da7588');\n",
              "          const dataTable =\n",
              "            await google.colab.kernel.invokeFunction('convertToInteractive',\n",
              "                                                     [key], {});\n",
              "          if (!dataTable) return;\n",
              "\n",
              "          const docLinkHtml = 'Like what you see? Visit the ' +\n",
              "            '<a target=\"_blank\" href=https://colab.research.google.com/notebooks/data_table.ipynb>data table notebook</a>'\n",
              "            + ' to learn more about interactive tables.';\n",
              "          element.innerHTML = '';\n",
              "          dataTable['output_type'] = 'display_data';\n",
              "          await google.colab.output.renderOutput(dataTable, element);\n",
              "          const docLink = document.createElement('div');\n",
              "          docLink.innerHTML = docLinkHtml;\n",
              "          element.appendChild(docLink);\n",
              "        }\n",
              "      </script>\n",
              "    </div>\n",
              "  </div>\n",
              "  "
            ],
            "text/plain": [
              "                   ID  Compensation Vehicle_Status      Loan_amt  \\\n",
              "count    35004.000000  3.338900e+04          32581  3.500400e+04   \n",
              "unique            NaN           NaN              2           NaN   \n",
              "top               NaN           NaN              N           NaN   \n",
              "freq              NaN           NaN          21649           NaN   \n",
              "mean    488945.286310  7.439115e+05            NaN  4.107013e+05   \n",
              "std      58561.752625  5.504846e+05            NaN  2.685998e+05   \n",
              "min     387662.000000  1.657950e+05            NaN  3.430000e+04   \n",
              "25%     437966.500000  5.174800e+05            NaN  2.062618e+05   \n",
              "50%     489394.500000  6.665880e+05            NaN  3.473168e+05   \n",
              "75%     539509.250000  8.783190e+05            NaN  5.524995e+05   \n",
              "max     590407.000000  7.037702e+07            NaN  2.872142e+06   \n",
              "\n",
              "         Annuity_amt   density_Ind Job_Type Default_hist Prop_List  \\\n",
              "count   33773.000000  33546.000000    32333        35004     34462   \n",
              "unique           NaN           NaN        3            2         3   \n",
              "top              NaN           NaN       IT          ndf       One   \n",
              "freq             NaN           NaN    17767        31487     24105   \n",
              "mean    10831.063325      0.020471      NaN          NaN       NaN   \n",
              "std      2042.823265      0.015880      NaN          NaN       NaN   \n",
              "min      5993.280000      0.000100      NaN          NaN       NaN   \n",
              "25%      9328.330000      0.010400      NaN          NaN       NaN   \n",
              "50%     10762.320000      0.020400      NaN          NaN       NaN   \n",
              "75%     12154.130000      0.030300      NaN          NaN       NaN   \n",
              "max     32761.880000      2.017800      NaN          NaN       NaN   \n",
              "\n",
              "        Home_Appliances Region_Type Credit_Inq Education_det Marital_Stat  \\\n",
              "count      32138.000000       35004      34341         35004        35004   \n",
              "unique              NaN           3          4             3            4   \n",
              "top                 NaN       Metro          1          Grad      Married   \n",
              "freq                NaN       28478      18101         25203        25811   \n",
              "mean           3.212926         NaN        NaN           NaN          NaN   \n",
              "std            1.246658         NaN        NaN           NaN          NaN   \n",
              "min            1.000000         NaN        NaN           NaN          NaN   \n",
              "25%            2.000000         NaN        NaN           NaN          NaN   \n",
              "50%            4.000000         NaN        NaN           NaN          NaN   \n",
              "75%            4.000000         NaN        NaN           NaN          NaN   \n",
              "max           12.000000         NaN        NaN           NaN          NaN   \n",
              "\n",
              "          Gen Credit_Lnks    Experience     Income_Alt Day_Process  Ph.No  \\\n",
              "count   35004       35004  29527.000000          32983       35004  35004   \n",
              "unique      2           3           NaN              2           7      2   \n",
              "top         M      1_to_3           NaN  Not_Specified         Tue    Yes   \n",
              "freq    22590       30907           NaN          23869        6095  27776   \n",
              "mean      NaN         NaN      6.339459            NaN         NaN    NaN   \n",
              "std       NaN         NaN      6.190152            NaN         NaN    NaN   \n",
              "min       NaN         NaN      0.000000            NaN         NaN    NaN   \n",
              "25%       NaN         NaN      2.000000            NaN         NaN    NaN   \n",
              "50%       NaN         NaN      4.400000            NaN         NaN    NaN   \n",
              "75%       NaN         NaN      8.700000            NaN         NaN    NaN   \n",
              "max       NaN         NaN     47.000000            NaN         NaN    NaN   \n",
              "\n",
              "       Type_Loan    Dependents  Company_Rating Region           Age  \\\n",
              "count      35004  35004.000000    31837.000000  35004  35004.000000   \n",
              "unique         2           NaN             NaN      4           NaN   \n",
              "top        CLoan           NaN             NaN  North           NaN   \n",
              "freq       31793           NaN             NaN  13876           NaN   \n",
              "mean         NaN      2.159039        2.043597    NaN     43.470003   \n",
              "std          NaN      0.911751        0.503708    NaN     11.961570   \n",
              "min          NaN      1.000000        1.000000    NaN     21.000000   \n",
              "25%          NaN      2.000000        2.000000    NaN     33.000000   \n",
              "50%          NaN      2.000000        2.000000    NaN     43.000000   \n",
              "75%          NaN      3.000000        2.000000    NaN     53.000000   \n",
              "max          NaN      9.000000        3.000000    NaN     69.000000   \n",
              "\n",
              "        hour_Process Addr_permanent Permanent_Addr_tag      c1_rated  \\\n",
              "count   35004.000000          35004              35004  30409.000000   \n",
              "unique           NaN              2                  2           NaN   \n",
              "top              NaN            Yes                Yes           NaN   \n",
              "freq             NaN          32001              28605           NaN   \n",
              "mean       12.015798            NaN                NaN      0.499373   \n",
              "std         3.563602            NaN                NaN      0.269254   \n",
              "min         0.000000            NaN                NaN      0.000000   \n",
              "25%        10.000000            NaN                NaN      0.260000   \n",
              "50%        12.000000            NaN                NaN      0.500000   \n",
              "75%        15.000000            NaN                NaN      0.760000   \n",
              "max        25.000000            NaN                NaN      0.941000   \n",
              "\n",
              "            c2_rated   Contact_age  Product_bought  Default  \n",
              "count   31434.000000  32843.000000    35004.000000  35004.0  \n",
              "unique           NaN           NaN             NaN      NaN  \n",
              "top              NaN           NaN             NaN      NaN  \n",
              "freq             NaN           NaN             NaN      NaN  \n",
              "mean        0.499786    959.473556        3.410896      1.0  \n",
              "std         0.269507    824.357134        2.182402      0.0  \n",
              "min         0.000000     10.000000        0.000000      1.0  \n",
              "25%         0.261000    274.000000        2.000000      1.0  \n",
              "50%         0.500000    746.000000        3.000000      1.0  \n",
              "75%         0.762000   1566.000000        5.000000      1.0  \n",
              "max         0.941000   4309.000000       24.000000      1.0  "
            ]
          },
          "execution_count": 94,
          "metadata": {},
          "output_type": "execute_result"
        }
      ],
      "source": [
        "df.describe(include=\"all\")"
      ]
    },
    {
      "cell_type": "code",
      "execution_count": null,
      "metadata": {
        "colab": {
          "background_save": true
        },
        "id": "z-Dy3hAarmuG"
      },
      "outputs": [],
      "source": [
        "\n",
        "sd=df[['Vehicle_Status','Default_hist','Prop_List','Region_Type','Credit_Inq','Education_det','Marital_Stat','Income_Alt','Ph.No','Type_Loan','Addr_permanent','Permanent_Addr_tag']]\n"
      ]
    },
    {
      "cell_type": "code",
      "execution_count": null,
      "metadata": {
        "colab": {
          "background_save": true
        },
        "id": "UggsLRBXs92m",
        "outputId": "7f3332ce-bbfe-4392-f2f8-e08ad45f56f4"
      },
      "outputs": [
        {
          "data": {
            "text/html": [
              "\n",
              "  <div id=\"df-a0a04ae9-06c1-4090-bce7-65e9f4d3c04a\">\n",
              "    <div class=\"colab-df-container\">\n",
              "      <div>\n",
              "<style scoped>\n",
              "    .dataframe tbody tr th:only-of-type {\n",
              "        vertical-align: middle;\n",
              "    }\n",
              "\n",
              "    .dataframe tbody tr th {\n",
              "        vertical-align: top;\n",
              "    }\n",
              "\n",
              "    .dataframe thead th {\n",
              "        text-align: right;\n",
              "    }\n",
              "</style>\n",
              "<table border=\"1\" class=\"dataframe\">\n",
              "  <thead>\n",
              "    <tr style=\"text-align: right;\">\n",
              "      <th></th>\n",
              "      <th>Vehicle_Status</th>\n",
              "      <th>Default_hist</th>\n",
              "      <th>Prop_List</th>\n",
              "      <th>Region_Type</th>\n",
              "      <th>Credit_Inq</th>\n",
              "      <th>Education_det</th>\n",
              "      <th>Marital_Stat</th>\n",
              "      <th>Income_Alt</th>\n",
              "      <th>Ph.No</th>\n",
              "      <th>Type_Loan</th>\n",
              "      <th>Addr_permanent</th>\n",
              "      <th>Permanent_Addr_tag</th>\n",
              "    </tr>\n",
              "  </thead>\n",
              "  <tbody>\n",
              "    <tr>\n",
              "      <th>0</th>\n",
              "      <td>Y</td>\n",
              "      <td>ndf</td>\n",
              "      <td>Morethan_One</td>\n",
              "      <td>Metro</td>\n",
              "      <td>1</td>\n",
              "      <td>Grad</td>\n",
              "      <td>Married</td>\n",
              "      <td>Not_Specified</td>\n",
              "      <td>Yes</td>\n",
              "      <td>CLoan</td>\n",
              "      <td>Yes</td>\n",
              "      <td>No</td>\n",
              "    </tr>\n",
              "    <tr>\n",
              "      <th>6</th>\n",
              "      <td>N</td>\n",
              "      <td>df</td>\n",
              "      <td>None</td>\n",
              "      <td>Metro</td>\n",
              "      <td>1</td>\n",
              "      <td>Grad</td>\n",
              "      <td>Married</td>\n",
              "      <td>Not_Specified</td>\n",
              "      <td>No</td>\n",
              "      <td>CLoan</td>\n",
              "      <td>Yes</td>\n",
              "      <td>Yes</td>\n",
              "    </tr>\n",
              "    <tr>\n",
              "      <th>9</th>\n",
              "      <td>N</td>\n",
              "      <td>ndf</td>\n",
              "      <td>One</td>\n",
              "      <td>Metro</td>\n",
              "      <td>1</td>\n",
              "      <td>Grad</td>\n",
              "      <td>Single</td>\n",
              "      <td>Not_Specified</td>\n",
              "      <td>Yes</td>\n",
              "      <td>CLoan</td>\n",
              "      <td>Yes</td>\n",
              "      <td>Yes</td>\n",
              "    </tr>\n",
              "    <tr>\n",
              "      <th>10</th>\n",
              "      <td>N</td>\n",
              "      <td>ndf</td>\n",
              "      <td>One</td>\n",
              "      <td>Metro</td>\n",
              "      <td>1</td>\n",
              "      <td>Grad</td>\n",
              "      <td>Married</td>\n",
              "      <td>Not_Specified</td>\n",
              "      <td>Yes</td>\n",
              "      <td>CLoan</td>\n",
              "      <td>Yes</td>\n",
              "      <td>Yes</td>\n",
              "    </tr>\n",
              "    <tr>\n",
              "      <th>14</th>\n",
              "      <td>Y</td>\n",
              "      <td>df</td>\n",
              "      <td>None</td>\n",
              "      <td>Rural</td>\n",
              "      <td>1</td>\n",
              "      <td>Grad</td>\n",
              "      <td>Married</td>\n",
              "      <td>Not_Specified</td>\n",
              "      <td>Yes</td>\n",
              "      <td>CLoan</td>\n",
              "      <td>Yes</td>\n",
              "      <td>Yes</td>\n",
              "    </tr>\n",
              "  </tbody>\n",
              "</table>\n",
              "</div>\n",
              "      <button class=\"colab-df-convert\" onclick=\"convertToInteractive('df-a0a04ae9-06c1-4090-bce7-65e9f4d3c04a')\"\n",
              "              title=\"Convert this dataframe to an interactive table.\"\n",
              "              style=\"display:none;\">\n",
              "        \n",
              "  <svg xmlns=\"http://www.w3.org/2000/svg\" height=\"24px\"viewBox=\"0 0 24 24\"\n",
              "       width=\"24px\">\n",
              "    <path d=\"M0 0h24v24H0V0z\" fill=\"none\"/>\n",
              "    <path d=\"M18.56 5.44l.94 2.06.94-2.06 2.06-.94-2.06-.94-.94-2.06-.94 2.06-2.06.94zm-11 1L8.5 8.5l.94-2.06 2.06-.94-2.06-.94L8.5 2.5l-.94 2.06-2.06.94zm10 10l.94 2.06.94-2.06 2.06-.94-2.06-.94-.94-2.06-.94 2.06-2.06.94z\"/><path d=\"M17.41 7.96l-1.37-1.37c-.4-.4-.92-.59-1.43-.59-.52 0-1.04.2-1.43.59L10.3 9.45l-7.72 7.72c-.78.78-.78 2.05 0 2.83L4 21.41c.39.39.9.59 1.41.59.51 0 1.02-.2 1.41-.59l7.78-7.78 2.81-2.81c.8-.78.8-2.07 0-2.86zM5.41 20L4 18.59l7.72-7.72 1.47 1.35L5.41 20z\"/>\n",
              "  </svg>\n",
              "      </button>\n",
              "      \n",
              "  <style>\n",
              "    .colab-df-container {\n",
              "      display:flex;\n",
              "      flex-wrap:wrap;\n",
              "      gap: 12px;\n",
              "    }\n",
              "\n",
              "    .colab-df-convert {\n",
              "      background-color: #E8F0FE;\n",
              "      border: none;\n",
              "      border-radius: 50%;\n",
              "      cursor: pointer;\n",
              "      display: none;\n",
              "      fill: #1967D2;\n",
              "      height: 32px;\n",
              "      padding: 0 0 0 0;\n",
              "      width: 32px;\n",
              "    }\n",
              "\n",
              "    .colab-df-convert:hover {\n",
              "      background-color: #E2EBFA;\n",
              "      box-shadow: 0px 1px 2px rgba(60, 64, 67, 0.3), 0px 1px 3px 1px rgba(60, 64, 67, 0.15);\n",
              "      fill: #174EA6;\n",
              "    }\n",
              "\n",
              "    [theme=dark] .colab-df-convert {\n",
              "      background-color: #3B4455;\n",
              "      fill: #D2E3FC;\n",
              "    }\n",
              "\n",
              "    [theme=dark] .colab-df-convert:hover {\n",
              "      background-color: #434B5C;\n",
              "      box-shadow: 0px 1px 3px 1px rgba(0, 0, 0, 0.15);\n",
              "      filter: drop-shadow(0px 1px 2px rgba(0, 0, 0, 0.3));\n",
              "      fill: #FFFFFF;\n",
              "    }\n",
              "  </style>\n",
              "\n",
              "      <script>\n",
              "        const buttonEl =\n",
              "          document.querySelector('#df-a0a04ae9-06c1-4090-bce7-65e9f4d3c04a button.colab-df-convert');\n",
              "        buttonEl.style.display =\n",
              "          google.colab.kernel.accessAllowed ? 'block' : 'none';\n",
              "\n",
              "        async function convertToInteractive(key) {\n",
              "          const element = document.querySelector('#df-a0a04ae9-06c1-4090-bce7-65e9f4d3c04a');\n",
              "          const dataTable =\n",
              "            await google.colab.kernel.invokeFunction('convertToInteractive',\n",
              "                                                     [key], {});\n",
              "          if (!dataTable) return;\n",
              "\n",
              "          const docLinkHtml = 'Like what you see? Visit the ' +\n",
              "            '<a target=\"_blank\" href=https://colab.research.google.com/notebooks/data_table.ipynb>data table notebook</a>'\n",
              "            + ' to learn more about interactive tables.';\n",
              "          element.innerHTML = '';\n",
              "          dataTable['output_type'] = 'display_data';\n",
              "          await google.colab.output.renderOutput(dataTable, element);\n",
              "          const docLink = document.createElement('div');\n",
              "          docLink.innerHTML = docLinkHtml;\n",
              "          element.appendChild(docLink);\n",
              "        }\n",
              "      </script>\n",
              "    </div>\n",
              "  </div>\n",
              "  "
            ],
            "text/plain": [
              "   Vehicle_Status Default_hist     Prop_List Region_Type Credit_Inq  \\\n",
              "0               Y          ndf  Morethan_One       Metro          1   \n",
              "6               N           df          None       Metro          1   \n",
              "9               N          ndf           One       Metro          1   \n",
              "10              N          ndf           One       Metro          1   \n",
              "14              Y           df          None       Rural          1   \n",
              "\n",
              "   Education_det Marital_Stat     Income_Alt Ph.No Type_Loan Addr_permanent  \\\n",
              "0           Grad      Married  Not_Specified   Yes     CLoan            Yes   \n",
              "6           Grad      Married  Not_Specified    No     CLoan            Yes   \n",
              "9           Grad       Single  Not_Specified   Yes     CLoan            Yes   \n",
              "10          Grad      Married  Not_Specified   Yes     CLoan            Yes   \n",
              "14          Grad      Married  Not_Specified   Yes     CLoan            Yes   \n",
              "\n",
              "   Permanent_Addr_tag  \n",
              "0                  No  \n",
              "6                 Yes  \n",
              "9                 Yes  \n",
              "10                Yes  \n",
              "14                Yes  "
            ]
          },
          "execution_count": 96,
          "metadata": {},
          "output_type": "execute_result"
        }
      ],
      "source": [
        "sd.head()"
      ]
    },
    {
      "cell_type": "code",
      "execution_count": null,
      "metadata": {
        "colab": {
          "background_save": true
        },
        "id": "vd1-fK8Xx_rp",
        "outputId": "76a535a0-cf52-4249-bc56-a5bd8340b1f3"
      },
      "outputs": [
        {
          "data": {
            "text/plain": [
              "Yes    32001\n",
              "No      3003\n",
              "Name: Addr_permanent, dtype: int64"
            ]
          },
          "execution_count": 97,
          "metadata": {},
          "output_type": "execute_result"
        }
      ],
      "source": [
        "sd['Addr_permanent'].value_counts()"
      ]
    },
    {
      "cell_type": "code",
      "execution_count": null,
      "metadata": {
        "colab": {
          "background_save": true
        },
        "id": "zYnoGOpazeih",
        "outputId": "68b6c0ce-cb99-4d35-a478-336de9d92cba"
      },
      "outputs": [
        {
          "name": "stdout",
          "output_type": "stream",
          "text": [
            "<class 'pandas.core.frame.DataFrame'>\n",
            "Int64Index: 35004 entries, 0 to 132439\n",
            "Data columns (total 12 columns):\n",
            " #   Column              Non-Null Count  Dtype \n",
            "---  ------              --------------  ----- \n",
            " 0   Vehicle_Status      32581 non-null  object\n",
            " 1   Default_hist        35004 non-null  object\n",
            " 2   Prop_List           34462 non-null  object\n",
            " 3   Region_Type         35004 non-null  object\n",
            " 4   Credit_Inq          34341 non-null  object\n",
            " 5   Education_det       35004 non-null  object\n",
            " 6   Marital_Stat        35004 non-null  object\n",
            " 7   Income_Alt          32983 non-null  object\n",
            " 8   Ph.No               35004 non-null  object\n",
            " 9   Type_Loan           35004 non-null  object\n",
            " 10  Addr_permanent      35004 non-null  object\n",
            " 11  Permanent_Addr_tag  35004 non-null  object\n",
            "dtypes: object(12)\n",
            "memory usage: 3.5+ MB\n"
          ]
        }
      ],
      "source": [
        "sd.info()"
      ]
    },
    {
      "cell_type": "code",
      "execution_count": null,
      "metadata": {
        "colab": {
          "background_save": true
        },
        "id": "zoUW_9WbyoNh",
        "outputId": "a9d92894-b69f-4ff2-af2d-c54d8dbd681c"
      },
      "outputs": [
        {
          "data": {
            "text/html": [
              "\n",
              "  <div id=\"df-bf23b9ae-7107-4344-907e-420c2feb97e7\">\n",
              "    <div class=\"colab-df-container\">\n",
              "      <div>\n",
              "<style scoped>\n",
              "    .dataframe tbody tr th:only-of-type {\n",
              "        vertical-align: middle;\n",
              "    }\n",
              "\n",
              "    .dataframe tbody tr th {\n",
              "        vertical-align: top;\n",
              "    }\n",
              "\n",
              "    .dataframe thead th {\n",
              "        text-align: right;\n",
              "    }\n",
              "</style>\n",
              "<table border=\"1\" class=\"dataframe\">\n",
              "  <thead>\n",
              "    <tr style=\"text-align: right;\">\n",
              "      <th></th>\n",
              "      <th>Vehicle_Status</th>\n",
              "      <th>Default_hist</th>\n",
              "      <th>Prop_List</th>\n",
              "      <th>Region_Type</th>\n",
              "      <th>Credit_Inq</th>\n",
              "      <th>Education_det</th>\n",
              "      <th>Marital_Stat</th>\n",
              "      <th>Income_Alt</th>\n",
              "      <th>Ph.No</th>\n",
              "      <th>Type_Loan</th>\n",
              "      <th>Addr_permanent</th>\n",
              "      <th>Permanent_Addr_tag</th>\n",
              "    </tr>\n",
              "  </thead>\n",
              "  <tbody>\n",
              "    <tr>\n",
              "      <th>count</th>\n",
              "      <td>32581</td>\n",
              "      <td>35004</td>\n",
              "      <td>34462</td>\n",
              "      <td>35004</td>\n",
              "      <td>34341</td>\n",
              "      <td>35004</td>\n",
              "      <td>35004</td>\n",
              "      <td>32983</td>\n",
              "      <td>35004</td>\n",
              "      <td>35004</td>\n",
              "      <td>35004</td>\n",
              "      <td>35004</td>\n",
              "    </tr>\n",
              "    <tr>\n",
              "      <th>unique</th>\n",
              "      <td>2</td>\n",
              "      <td>2</td>\n",
              "      <td>3</td>\n",
              "      <td>3</td>\n",
              "      <td>4</td>\n",
              "      <td>3</td>\n",
              "      <td>4</td>\n",
              "      <td>2</td>\n",
              "      <td>2</td>\n",
              "      <td>2</td>\n",
              "      <td>2</td>\n",
              "      <td>2</td>\n",
              "    </tr>\n",
              "    <tr>\n",
              "      <th>top</th>\n",
              "      <td>N</td>\n",
              "      <td>ndf</td>\n",
              "      <td>One</td>\n",
              "      <td>Metro</td>\n",
              "      <td>1</td>\n",
              "      <td>Grad</td>\n",
              "      <td>Married</td>\n",
              "      <td>Not_Specified</td>\n",
              "      <td>Yes</td>\n",
              "      <td>CLoan</td>\n",
              "      <td>Yes</td>\n",
              "      <td>Yes</td>\n",
              "    </tr>\n",
              "    <tr>\n",
              "      <th>freq</th>\n",
              "      <td>21649</td>\n",
              "      <td>31487</td>\n",
              "      <td>24105</td>\n",
              "      <td>28478</td>\n",
              "      <td>18101</td>\n",
              "      <td>25203</td>\n",
              "      <td>25811</td>\n",
              "      <td>23869</td>\n",
              "      <td>27776</td>\n",
              "      <td>31793</td>\n",
              "      <td>32001</td>\n",
              "      <td>28605</td>\n",
              "    </tr>\n",
              "  </tbody>\n",
              "</table>\n",
              "</div>\n",
              "      <button class=\"colab-df-convert\" onclick=\"convertToInteractive('df-bf23b9ae-7107-4344-907e-420c2feb97e7')\"\n",
              "              title=\"Convert this dataframe to an interactive table.\"\n",
              "              style=\"display:none;\">\n",
              "        \n",
              "  <svg xmlns=\"http://www.w3.org/2000/svg\" height=\"24px\"viewBox=\"0 0 24 24\"\n",
              "       width=\"24px\">\n",
              "    <path d=\"M0 0h24v24H0V0z\" fill=\"none\"/>\n",
              "    <path d=\"M18.56 5.44l.94 2.06.94-2.06 2.06-.94-2.06-.94-.94-2.06-.94 2.06-2.06.94zm-11 1L8.5 8.5l.94-2.06 2.06-.94-2.06-.94L8.5 2.5l-.94 2.06-2.06.94zm10 10l.94 2.06.94-2.06 2.06-.94-2.06-.94-.94-2.06-.94 2.06-2.06.94z\"/><path d=\"M17.41 7.96l-1.37-1.37c-.4-.4-.92-.59-1.43-.59-.52 0-1.04.2-1.43.59L10.3 9.45l-7.72 7.72c-.78.78-.78 2.05 0 2.83L4 21.41c.39.39.9.59 1.41.59.51 0 1.02-.2 1.41-.59l7.78-7.78 2.81-2.81c.8-.78.8-2.07 0-2.86zM5.41 20L4 18.59l7.72-7.72 1.47 1.35L5.41 20z\"/>\n",
              "  </svg>\n",
              "      </button>\n",
              "      \n",
              "  <style>\n",
              "    .colab-df-container {\n",
              "      display:flex;\n",
              "      flex-wrap:wrap;\n",
              "      gap: 12px;\n",
              "    }\n",
              "\n",
              "    .colab-df-convert {\n",
              "      background-color: #E8F0FE;\n",
              "      border: none;\n",
              "      border-radius: 50%;\n",
              "      cursor: pointer;\n",
              "      display: none;\n",
              "      fill: #1967D2;\n",
              "      height: 32px;\n",
              "      padding: 0 0 0 0;\n",
              "      width: 32px;\n",
              "    }\n",
              "\n",
              "    .colab-df-convert:hover {\n",
              "      background-color: #E2EBFA;\n",
              "      box-shadow: 0px 1px 2px rgba(60, 64, 67, 0.3), 0px 1px 3px 1px rgba(60, 64, 67, 0.15);\n",
              "      fill: #174EA6;\n",
              "    }\n",
              "\n",
              "    [theme=dark] .colab-df-convert {\n",
              "      background-color: #3B4455;\n",
              "      fill: #D2E3FC;\n",
              "    }\n",
              "\n",
              "    [theme=dark] .colab-df-convert:hover {\n",
              "      background-color: #434B5C;\n",
              "      box-shadow: 0px 1px 3px 1px rgba(0, 0, 0, 0.15);\n",
              "      filter: drop-shadow(0px 1px 2px rgba(0, 0, 0, 0.3));\n",
              "      fill: #FFFFFF;\n",
              "    }\n",
              "  </style>\n",
              "\n",
              "      <script>\n",
              "        const buttonEl =\n",
              "          document.querySelector('#df-bf23b9ae-7107-4344-907e-420c2feb97e7 button.colab-df-convert');\n",
              "        buttonEl.style.display =\n",
              "          google.colab.kernel.accessAllowed ? 'block' : 'none';\n",
              "\n",
              "        async function convertToInteractive(key) {\n",
              "          const element = document.querySelector('#df-bf23b9ae-7107-4344-907e-420c2feb97e7');\n",
              "          const dataTable =\n",
              "            await google.colab.kernel.invokeFunction('convertToInteractive',\n",
              "                                                     [key], {});\n",
              "          if (!dataTable) return;\n",
              "\n",
              "          const docLinkHtml = 'Like what you see? Visit the ' +\n",
              "            '<a target=\"_blank\" href=https://colab.research.google.com/notebooks/data_table.ipynb>data table notebook</a>'\n",
              "            + ' to learn more about interactive tables.';\n",
              "          element.innerHTML = '';\n",
              "          dataTable['output_type'] = 'display_data';\n",
              "          await google.colab.output.renderOutput(dataTable, element);\n",
              "          const docLink = document.createElement('div');\n",
              "          docLink.innerHTML = docLinkHtml;\n",
              "          element.appendChild(docLink);\n",
              "        }\n",
              "      </script>\n",
              "    </div>\n",
              "  </div>\n",
              "  "
            ],
            "text/plain": [
              "       Vehicle_Status Default_hist Prop_List Region_Type Credit_Inq  \\\n",
              "count           32581        35004     34462       35004      34341   \n",
              "unique              2            2         3           3          4   \n",
              "top                 N          ndf       One       Metro          1   \n",
              "freq            21649        31487     24105       28478      18101   \n",
              "\n",
              "       Education_det Marital_Stat     Income_Alt  Ph.No Type_Loan  \\\n",
              "count          35004        35004          32983  35004     35004   \n",
              "unique             3            4              2      2         2   \n",
              "top             Grad      Married  Not_Specified    Yes     CLoan   \n",
              "freq           25203        25811          23869  27776     31793   \n",
              "\n",
              "       Addr_permanent Permanent_Addr_tag  \n",
              "count           35004              35004  \n",
              "unique              2                  2  \n",
              "top               Yes                Yes  \n",
              "freq            32001              28605  "
            ]
          },
          "execution_count": 99,
          "metadata": {},
          "output_type": "execute_result"
        }
      ],
      "source": [
        "sd.describe()"
      ]
    },
    {
      "cell_type": "code",
      "execution_count": null,
      "metadata": {
        "colab": {
          "background_save": true
        },
        "id": "I5C5TQfCzU4x"
      },
      "outputs": [],
      "source": [
        "result_07=test_set[['ID','Compensation','Vehicle_Status','Default_hist','Prop_List','Region_Type','Credit_Inq','Education_det','Marital_Stat','Income_Alt','Ph.No','Type_Loan','Addr_permanent','Permanent_Addr_tag']]"
      ]
    },
    {
      "cell_type": "code",
      "execution_count": null,
      "metadata": {
        "colab": {
          "background_save": true
        },
        "id": "AtObVs1szp3m",
        "outputId": "a6139310-cfa8-4080-a45a-3a00fe06cbd9"
      },
      "outputs": [
        {
          "data": {
            "text/html": [
              "\n",
              "  <div id=\"df-1cde24b7-7068-4e14-ac59-366d0d30b709\">\n",
              "    <div class=\"colab-df-container\">\n",
              "      <div>\n",
              "<style scoped>\n",
              "    .dataframe tbody tr th:only-of-type {\n",
              "        vertical-align: middle;\n",
              "    }\n",
              "\n",
              "    .dataframe tbody tr th {\n",
              "        vertical-align: top;\n",
              "    }\n",
              "\n",
              "    .dataframe thead th {\n",
              "        text-align: right;\n",
              "    }\n",
              "</style>\n",
              "<table border=\"1\" class=\"dataframe\">\n",
              "  <thead>\n",
              "    <tr style=\"text-align: right;\">\n",
              "      <th></th>\n",
              "      <th>ID</th>\n",
              "      <th>Compensation</th>\n",
              "      <th>Vehicle_Status</th>\n",
              "      <th>Default_hist</th>\n",
              "      <th>Prop_List</th>\n",
              "      <th>Region_Type</th>\n",
              "      <th>Credit_Inq</th>\n",
              "      <th>Education_det</th>\n",
              "      <th>Marital_Stat</th>\n",
              "      <th>Income_Alt</th>\n",
              "      <th>Ph.No</th>\n",
              "      <th>Type_Loan</th>\n",
              "      <th>Addr_permanent</th>\n",
              "      <th>Permanent_Addr_tag</th>\n",
              "    </tr>\n",
              "  </thead>\n",
              "  <tbody>\n",
              "    <tr>\n",
              "      <th>0</th>\n",
              "      <td>487410</td>\n",
              "      <td>653106.0</td>\n",
              "      <td>Y</td>\n",
              "      <td>ndf</td>\n",
              "      <td>Morethan_One</td>\n",
              "      <td>Metro</td>\n",
              "      <td>1</td>\n",
              "      <td>Grad</td>\n",
              "      <td>Married</td>\n",
              "      <td>Not_Specified</td>\n",
              "      <td>Yes</td>\n",
              "      <td>CLoan</td>\n",
              "      <td>Yes</td>\n",
              "      <td>Yes</td>\n",
              "    </tr>\n",
              "    <tr>\n",
              "      <th>1</th>\n",
              "      <td>533258</td>\n",
              "      <td>434150.0</td>\n",
              "      <td>N</td>\n",
              "      <td>ndf</td>\n",
              "      <td>One</td>\n",
              "      <td>Metro</td>\n",
              "      <td>1</td>\n",
              "      <td>Grad</td>\n",
              "      <td>Married</td>\n",
              "      <td>Y</td>\n",
              "      <td>No</td>\n",
              "      <td>CLoan</td>\n",
              "      <td>Yes</td>\n",
              "      <td>Yes</td>\n",
              "    </tr>\n",
              "    <tr>\n",
              "      <th>2</th>\n",
              "      <td>581926</td>\n",
              "      <td>489060.0</td>\n",
              "      <td>N</td>\n",
              "      <td>ndf</td>\n",
              "      <td>Morethan_One</td>\n",
              "      <td>Rural</td>\n",
              "      <td>1</td>\n",
              "      <td>Grad</td>\n",
              "      <td>Married</td>\n",
              "      <td>Y</td>\n",
              "      <td>No</td>\n",
              "      <td>CLoan</td>\n",
              "      <td>Yes</td>\n",
              "      <td>Yes</td>\n",
              "    </tr>\n",
              "    <tr>\n",
              "      <th>3</th>\n",
              "      <td>486301</td>\n",
              "      <td>957294.0</td>\n",
              "      <td>N</td>\n",
              "      <td>ndf</td>\n",
              "      <td>One</td>\n",
              "      <td>Metro</td>\n",
              "      <td>1</td>\n",
              "      <td>Grad</td>\n",
              "      <td>Married</td>\n",
              "      <td>Y</td>\n",
              "      <td>Yes</td>\n",
              "      <td>CLoan</td>\n",
              "      <td>Yes</td>\n",
              "      <td>Yes</td>\n",
              "    </tr>\n",
              "    <tr>\n",
              "      <th>4</th>\n",
              "      <td>580822</td>\n",
              "      <td>1333739.0</td>\n",
              "      <td>N</td>\n",
              "      <td>ndf</td>\n",
              "      <td>One</td>\n",
              "      <td>Metro</td>\n",
              "      <td>3</td>\n",
              "      <td>P_Grad</td>\n",
              "      <td>Married</td>\n",
              "      <td>Y</td>\n",
              "      <td>Yes</td>\n",
              "      <td>RLoan</td>\n",
              "      <td>Yes</td>\n",
              "      <td>Yes</td>\n",
              "    </tr>\n",
              "    <tr>\n",
              "      <th>...</th>\n",
              "      <td>...</td>\n",
              "      <td>...</td>\n",
              "      <td>...</td>\n",
              "      <td>...</td>\n",
              "      <td>...</td>\n",
              "      <td>...</td>\n",
              "      <td>...</td>\n",
              "      <td>...</td>\n",
              "      <td>...</td>\n",
              "      <td>...</td>\n",
              "      <td>...</td>\n",
              "      <td>...</td>\n",
              "      <td>...</td>\n",
              "      <td>...</td>\n",
              "    </tr>\n",
              "    <tr>\n",
              "      <th>56755</th>\n",
              "      <td>513665</td>\n",
              "      <td>671640.0</td>\n",
              "      <td>N</td>\n",
              "      <td>ndf</td>\n",
              "      <td>One</td>\n",
              "      <td>Metro</td>\n",
              "      <td>1</td>\n",
              "      <td>Grad</td>\n",
              "      <td>Single</td>\n",
              "      <td>Not_Specified</td>\n",
              "      <td>Yes</td>\n",
              "      <td>CLoan</td>\n",
              "      <td>Yes</td>\n",
              "      <td>Yes</td>\n",
              "    </tr>\n",
              "    <tr>\n",
              "      <th>56756</th>\n",
              "      <td>450327</td>\n",
              "      <td>650680.0</td>\n",
              "      <td>N</td>\n",
              "      <td>ndf</td>\n",
              "      <td>One</td>\n",
              "      <td>Metro</td>\n",
              "      <td>1</td>\n",
              "      <td>Grad</td>\n",
              "      <td>Married</td>\n",
              "      <td>Y</td>\n",
              "      <td>Yes</td>\n",
              "      <td>CLoan</td>\n",
              "      <td>Yes</td>\n",
              "      <td>Yes</td>\n",
              "    </tr>\n",
              "    <tr>\n",
              "      <th>56757</th>\n",
              "      <td>476417</td>\n",
              "      <td>551374.0</td>\n",
              "      <td>NaN</td>\n",
              "      <td>df</td>\n",
              "      <td>None</td>\n",
              "      <td>Metro</td>\n",
              "      <td>1</td>\n",
              "      <td>Grad</td>\n",
              "      <td>Divorce</td>\n",
              "      <td>Not_Specified</td>\n",
              "      <td>Yes</td>\n",
              "      <td>RLoan</td>\n",
              "      <td>No</td>\n",
              "      <td>Yes</td>\n",
              "    </tr>\n",
              "    <tr>\n",
              "      <th>56758</th>\n",
              "      <td>461152</td>\n",
              "      <td>975117.0</td>\n",
              "      <td>N</td>\n",
              "      <td>ndf</td>\n",
              "      <td>One</td>\n",
              "      <td>Metro</td>\n",
              "      <td>2</td>\n",
              "      <td>Other</td>\n",
              "      <td>Single</td>\n",
              "      <td>Y</td>\n",
              "      <td>Yes</td>\n",
              "      <td>CLoan</td>\n",
              "      <td>Yes</td>\n",
              "      <td>No</td>\n",
              "    </tr>\n",
              "    <tr>\n",
              "      <th>56759</th>\n",
              "      <td>524075</td>\n",
              "      <td>NaN</td>\n",
              "      <td>N</td>\n",
              "      <td>ndf</td>\n",
              "      <td>One</td>\n",
              "      <td>Metro</td>\n",
              "      <td>1</td>\n",
              "      <td>Grad</td>\n",
              "      <td>Married</td>\n",
              "      <td>Not_Specified</td>\n",
              "      <td>Yes</td>\n",
              "      <td>CLoan</td>\n",
              "      <td>Yes</td>\n",
              "      <td>No</td>\n",
              "    </tr>\n",
              "  </tbody>\n",
              "</table>\n",
              "<p>56760 rows × 14 columns</p>\n",
              "</div>\n",
              "      <button class=\"colab-df-convert\" onclick=\"convertToInteractive('df-1cde24b7-7068-4e14-ac59-366d0d30b709')\"\n",
              "              title=\"Convert this dataframe to an interactive table.\"\n",
              "              style=\"display:none;\">\n",
              "        \n",
              "  <svg xmlns=\"http://www.w3.org/2000/svg\" height=\"24px\"viewBox=\"0 0 24 24\"\n",
              "       width=\"24px\">\n",
              "    <path d=\"M0 0h24v24H0V0z\" fill=\"none\"/>\n",
              "    <path d=\"M18.56 5.44l.94 2.06.94-2.06 2.06-.94-2.06-.94-.94-2.06-.94 2.06-2.06.94zm-11 1L8.5 8.5l.94-2.06 2.06-.94-2.06-.94L8.5 2.5l-.94 2.06-2.06.94zm10 10l.94 2.06.94-2.06 2.06-.94-2.06-.94-.94-2.06-.94 2.06-2.06.94z\"/><path d=\"M17.41 7.96l-1.37-1.37c-.4-.4-.92-.59-1.43-.59-.52 0-1.04.2-1.43.59L10.3 9.45l-7.72 7.72c-.78.78-.78 2.05 0 2.83L4 21.41c.39.39.9.59 1.41.59.51 0 1.02-.2 1.41-.59l7.78-7.78 2.81-2.81c.8-.78.8-2.07 0-2.86zM5.41 20L4 18.59l7.72-7.72 1.47 1.35L5.41 20z\"/>\n",
              "  </svg>\n",
              "      </button>\n",
              "      \n",
              "  <style>\n",
              "    .colab-df-container {\n",
              "      display:flex;\n",
              "      flex-wrap:wrap;\n",
              "      gap: 12px;\n",
              "    }\n",
              "\n",
              "    .colab-df-convert {\n",
              "      background-color: #E8F0FE;\n",
              "      border: none;\n",
              "      border-radius: 50%;\n",
              "      cursor: pointer;\n",
              "      display: none;\n",
              "      fill: #1967D2;\n",
              "      height: 32px;\n",
              "      padding: 0 0 0 0;\n",
              "      width: 32px;\n",
              "    }\n",
              "\n",
              "    .colab-df-convert:hover {\n",
              "      background-color: #E2EBFA;\n",
              "      box-shadow: 0px 1px 2px rgba(60, 64, 67, 0.3), 0px 1px 3px 1px rgba(60, 64, 67, 0.15);\n",
              "      fill: #174EA6;\n",
              "    }\n",
              "\n",
              "    [theme=dark] .colab-df-convert {\n",
              "      background-color: #3B4455;\n",
              "      fill: #D2E3FC;\n",
              "    }\n",
              "\n",
              "    [theme=dark] .colab-df-convert:hover {\n",
              "      background-color: #434B5C;\n",
              "      box-shadow: 0px 1px 3px 1px rgba(0, 0, 0, 0.15);\n",
              "      filter: drop-shadow(0px 1px 2px rgba(0, 0, 0, 0.3));\n",
              "      fill: #FFFFFF;\n",
              "    }\n",
              "  </style>\n",
              "\n",
              "      <script>\n",
              "        const buttonEl =\n",
              "          document.querySelector('#df-1cde24b7-7068-4e14-ac59-366d0d30b709 button.colab-df-convert');\n",
              "        buttonEl.style.display =\n",
              "          google.colab.kernel.accessAllowed ? 'block' : 'none';\n",
              "\n",
              "        async function convertToInteractive(key) {\n",
              "          const element = document.querySelector('#df-1cde24b7-7068-4e14-ac59-366d0d30b709');\n",
              "          const dataTable =\n",
              "            await google.colab.kernel.invokeFunction('convertToInteractive',\n",
              "                                                     [key], {});\n",
              "          if (!dataTable) return;\n",
              "\n",
              "          const docLinkHtml = 'Like what you see? Visit the ' +\n",
              "            '<a target=\"_blank\" href=https://colab.research.google.com/notebooks/data_table.ipynb>data table notebook</a>'\n",
              "            + ' to learn more about interactive tables.';\n",
              "          element.innerHTML = '';\n",
              "          dataTable['output_type'] = 'display_data';\n",
              "          await google.colab.output.renderOutput(dataTable, element);\n",
              "          const docLink = document.createElement('div');\n",
              "          docLink.innerHTML = docLinkHtml;\n",
              "          element.appendChild(docLink);\n",
              "        }\n",
              "      </script>\n",
              "    </div>\n",
              "  </div>\n",
              "  "
            ],
            "text/plain": [
              "           ID  Compensation Vehicle_Status Default_hist     Prop_List  \\\n",
              "0      487410      653106.0              Y          ndf  Morethan_One   \n",
              "1      533258      434150.0              N          ndf           One   \n",
              "2      581926      489060.0              N          ndf  Morethan_One   \n",
              "3      486301      957294.0              N          ndf           One   \n",
              "4      580822     1333739.0              N          ndf           One   \n",
              "...       ...           ...            ...          ...           ...   \n",
              "56755  513665      671640.0              N          ndf           One   \n",
              "56756  450327      650680.0              N          ndf           One   \n",
              "56757  476417      551374.0            NaN           df          None   \n",
              "56758  461152      975117.0              N          ndf           One   \n",
              "56759  524075           NaN              N          ndf           One   \n",
              "\n",
              "      Region_Type Credit_Inq Education_det Marital_Stat     Income_Alt Ph.No  \\\n",
              "0           Metro          1          Grad      Married  Not_Specified   Yes   \n",
              "1           Metro          1          Grad      Married              Y    No   \n",
              "2           Rural          1          Grad      Married              Y    No   \n",
              "3           Metro          1          Grad      Married              Y   Yes   \n",
              "4           Metro          3        P_Grad      Married              Y   Yes   \n",
              "...           ...        ...           ...          ...            ...   ...   \n",
              "56755       Metro          1          Grad       Single  Not_Specified   Yes   \n",
              "56756       Metro          1          Grad      Married              Y   Yes   \n",
              "56757       Metro          1          Grad      Divorce  Not_Specified   Yes   \n",
              "56758       Metro          2         Other       Single              Y   Yes   \n",
              "56759       Metro          1          Grad      Married  Not_Specified   Yes   \n",
              "\n",
              "      Type_Loan Addr_permanent Permanent_Addr_tag  \n",
              "0         CLoan            Yes                Yes  \n",
              "1         CLoan            Yes                Yes  \n",
              "2         CLoan            Yes                Yes  \n",
              "3         CLoan            Yes                Yes  \n",
              "4         RLoan            Yes                Yes  \n",
              "...         ...            ...                ...  \n",
              "56755     CLoan            Yes                Yes  \n",
              "56756     CLoan            Yes                Yes  \n",
              "56757     RLoan             No                Yes  \n",
              "56758     CLoan            Yes                 No  \n",
              "56759     CLoan            Yes                 No  \n",
              "\n",
              "[56760 rows x 14 columns]"
            ]
          },
          "execution_count": 101,
          "metadata": {},
          "output_type": "execute_result"
        }
      ],
      "source": [
        "result_07"
      ]
    },
    {
      "cell_type": "code",
      "execution_count": null,
      "metadata": {
        "colab": {
          "background_save": true
        },
        "id": "SXhbgbhVCuDc",
        "outputId": "5f732b74-0fb1-4bda-a51c-383a8a4ed16b"
      },
      "outputs": [
        {
          "name": "stderr",
          "output_type": "stream",
          "text": [
            "/usr/local/lib/python3.7/dist-packages/pandas/core/generic.py:6392: SettingWithCopyWarning: \n",
            "A value is trying to be set on a copy of a slice from a DataFrame\n",
            "\n",
            "See the caveats in the documentation: https://pandas.pydata.org/pandas-docs/stable/user_guide/indexing.html#returning-a-view-versus-a-copy\n",
            "  return self._update_inplace(result)\n",
            "/usr/local/lib/python3.7/dist-packages/ipykernel_launcher.py:2: SettingWithCopyWarning: \n",
            "A value is trying to be set on a copy of a slice from a DataFrame.\n",
            "Try using .loc[row_indexer,col_indexer] = value instead\n",
            "\n",
            "See the caveats in the documentation: https://pandas.pydata.org/pandas-docs/stable/user_guide/indexing.html#returning-a-view-versus-a-copy\n",
            "  \n"
          ]
        },
        {
          "data": {
            "text/html": [
              "\n",
              "  <div id=\"df-a2424043-bc43-4593-83ef-6189bdc7f3b8\">\n",
              "    <div class=\"colab-df-container\">\n",
              "      <div>\n",
              "<style scoped>\n",
              "    .dataframe tbody tr th:only-of-type {\n",
              "        vertical-align: middle;\n",
              "    }\n",
              "\n",
              "    .dataframe tbody tr th {\n",
              "        vertical-align: top;\n",
              "    }\n",
              "\n",
              "    .dataframe thead th {\n",
              "        text-align: right;\n",
              "    }\n",
              "</style>\n",
              "<table border=\"1\" class=\"dataframe\">\n",
              "  <thead>\n",
              "    <tr style=\"text-align: right;\">\n",
              "      <th></th>\n",
              "      <th>ID</th>\n",
              "      <th>Compensation</th>\n",
              "      <th>Vehicle_Status</th>\n",
              "      <th>Default_hist</th>\n",
              "      <th>Prop_List</th>\n",
              "      <th>Region_Type</th>\n",
              "      <th>Credit_Inq</th>\n",
              "      <th>Education_det</th>\n",
              "      <th>Marital_Stat</th>\n",
              "      <th>Income_Alt</th>\n",
              "      <th>Ph.No</th>\n",
              "      <th>Type_Loan</th>\n",
              "      <th>Addr_permanent</th>\n",
              "      <th>Permanent_Addr_tag</th>\n",
              "      <th>pass</th>\n",
              "    </tr>\n",
              "  </thead>\n",
              "  <tbody>\n",
              "    <tr>\n",
              "      <th>0</th>\n",
              "      <td>487410</td>\n",
              "      <td>6.531060e+05</td>\n",
              "      <td>Y</td>\n",
              "      <td>ndf</td>\n",
              "      <td>Morethan_One</td>\n",
              "      <td>Metro</td>\n",
              "      <td>1</td>\n",
              "      <td>Grad</td>\n",
              "      <td>Married</td>\n",
              "      <td>Not_Specified</td>\n",
              "      <td>Yes</td>\n",
              "      <td>CLoan</td>\n",
              "      <td>Yes</td>\n",
              "      <td>Yes</td>\n",
              "      <td>1.0</td>\n",
              "    </tr>\n",
              "    <tr>\n",
              "      <th>1</th>\n",
              "      <td>533258</td>\n",
              "      <td>4.341500e+05</td>\n",
              "      <td>N</td>\n",
              "      <td>ndf</td>\n",
              "      <td>One</td>\n",
              "      <td>Metro</td>\n",
              "      <td>1</td>\n",
              "      <td>Grad</td>\n",
              "      <td>Married</td>\n",
              "      <td>Y</td>\n",
              "      <td>No</td>\n",
              "      <td>CLoan</td>\n",
              "      <td>Yes</td>\n",
              "      <td>Yes</td>\n",
              "      <td>1.0</td>\n",
              "    </tr>\n",
              "    <tr>\n",
              "      <th>2</th>\n",
              "      <td>581926</td>\n",
              "      <td>4.890600e+05</td>\n",
              "      <td>N</td>\n",
              "      <td>ndf</td>\n",
              "      <td>Morethan_One</td>\n",
              "      <td>Rural</td>\n",
              "      <td>1</td>\n",
              "      <td>Grad</td>\n",
              "      <td>Married</td>\n",
              "      <td>Y</td>\n",
              "      <td>No</td>\n",
              "      <td>CLoan</td>\n",
              "      <td>Yes</td>\n",
              "      <td>Yes</td>\n",
              "      <td>1.0</td>\n",
              "    </tr>\n",
              "    <tr>\n",
              "      <th>3</th>\n",
              "      <td>486301</td>\n",
              "      <td>9.572940e+05</td>\n",
              "      <td>N</td>\n",
              "      <td>ndf</td>\n",
              "      <td>One</td>\n",
              "      <td>Metro</td>\n",
              "      <td>1</td>\n",
              "      <td>Grad</td>\n",
              "      <td>Married</td>\n",
              "      <td>Y</td>\n",
              "      <td>Yes</td>\n",
              "      <td>CLoan</td>\n",
              "      <td>Yes</td>\n",
              "      <td>Yes</td>\n",
              "      <td>2.0</td>\n",
              "    </tr>\n",
              "    <tr>\n",
              "      <th>4</th>\n",
              "      <td>580822</td>\n",
              "      <td>1.333739e+06</td>\n",
              "      <td>N</td>\n",
              "      <td>ndf</td>\n",
              "      <td>One</td>\n",
              "      <td>Metro</td>\n",
              "      <td>3</td>\n",
              "      <td>P_Grad</td>\n",
              "      <td>Married</td>\n",
              "      <td>Y</td>\n",
              "      <td>Yes</td>\n",
              "      <td>RLoan</td>\n",
              "      <td>Yes</td>\n",
              "      <td>Yes</td>\n",
              "      <td>3.0</td>\n",
              "    </tr>\n",
              "    <tr>\n",
              "      <th>...</th>\n",
              "      <td>...</td>\n",
              "      <td>...</td>\n",
              "      <td>...</td>\n",
              "      <td>...</td>\n",
              "      <td>...</td>\n",
              "      <td>...</td>\n",
              "      <td>...</td>\n",
              "      <td>...</td>\n",
              "      <td>...</td>\n",
              "      <td>...</td>\n",
              "      <td>...</td>\n",
              "      <td>...</td>\n",
              "      <td>...</td>\n",
              "      <td>...</td>\n",
              "      <td>...</td>\n",
              "    </tr>\n",
              "    <tr>\n",
              "      <th>56755</th>\n",
              "      <td>513665</td>\n",
              "      <td>6.716400e+05</td>\n",
              "      <td>N</td>\n",
              "      <td>ndf</td>\n",
              "      <td>One</td>\n",
              "      <td>Metro</td>\n",
              "      <td>1</td>\n",
              "      <td>Grad</td>\n",
              "      <td>Single</td>\n",
              "      <td>Not_Specified</td>\n",
              "      <td>Yes</td>\n",
              "      <td>CLoan</td>\n",
              "      <td>Yes</td>\n",
              "      <td>Yes</td>\n",
              "      <td>1.0</td>\n",
              "    </tr>\n",
              "    <tr>\n",
              "      <th>56756</th>\n",
              "      <td>450327</td>\n",
              "      <td>6.506800e+05</td>\n",
              "      <td>N</td>\n",
              "      <td>ndf</td>\n",
              "      <td>One</td>\n",
              "      <td>Metro</td>\n",
              "      <td>1</td>\n",
              "      <td>Grad</td>\n",
              "      <td>Married</td>\n",
              "      <td>Y</td>\n",
              "      <td>Yes</td>\n",
              "      <td>CLoan</td>\n",
              "      <td>Yes</td>\n",
              "      <td>Yes</td>\n",
              "      <td>1.0</td>\n",
              "    </tr>\n",
              "    <tr>\n",
              "      <th>56757</th>\n",
              "      <td>476417</td>\n",
              "      <td>5.513740e+05</td>\n",
              "      <td>NaN</td>\n",
              "      <td>df</td>\n",
              "      <td>None</td>\n",
              "      <td>Metro</td>\n",
              "      <td>1</td>\n",
              "      <td>Grad</td>\n",
              "      <td>Divorce</td>\n",
              "      <td>Not_Specified</td>\n",
              "      <td>Yes</td>\n",
              "      <td>RLoan</td>\n",
              "      <td>No</td>\n",
              "      <td>Yes</td>\n",
              "      <td>1.0</td>\n",
              "    </tr>\n",
              "    <tr>\n",
              "      <th>56758</th>\n",
              "      <td>461152</td>\n",
              "      <td>9.751170e+05</td>\n",
              "      <td>N</td>\n",
              "      <td>ndf</td>\n",
              "      <td>One</td>\n",
              "      <td>Metro</td>\n",
              "      <td>2</td>\n",
              "      <td>Other</td>\n",
              "      <td>Single</td>\n",
              "      <td>Y</td>\n",
              "      <td>Yes</td>\n",
              "      <td>CLoan</td>\n",
              "      <td>Yes</td>\n",
              "      <td>No</td>\n",
              "      <td>2.0</td>\n",
              "    </tr>\n",
              "    <tr>\n",
              "      <th>56759</th>\n",
              "      <td>524075</td>\n",
              "      <td>7.423110e+05</td>\n",
              "      <td>N</td>\n",
              "      <td>ndf</td>\n",
              "      <td>One</td>\n",
              "      <td>Metro</td>\n",
              "      <td>1</td>\n",
              "      <td>Grad</td>\n",
              "      <td>Married</td>\n",
              "      <td>Not_Specified</td>\n",
              "      <td>Yes</td>\n",
              "      <td>CLoan</td>\n",
              "      <td>Yes</td>\n",
              "      <td>No</td>\n",
              "      <td>1.0</td>\n",
              "    </tr>\n",
              "  </tbody>\n",
              "</table>\n",
              "<p>56760 rows × 15 columns</p>\n",
              "</div>\n",
              "      <button class=\"colab-df-convert\" onclick=\"convertToInteractive('df-a2424043-bc43-4593-83ef-6189bdc7f3b8')\"\n",
              "              title=\"Convert this dataframe to an interactive table.\"\n",
              "              style=\"display:none;\">\n",
              "        \n",
              "  <svg xmlns=\"http://www.w3.org/2000/svg\" height=\"24px\"viewBox=\"0 0 24 24\"\n",
              "       width=\"24px\">\n",
              "    <path d=\"M0 0h24v24H0V0z\" fill=\"none\"/>\n",
              "    <path d=\"M18.56 5.44l.94 2.06.94-2.06 2.06-.94-2.06-.94-.94-2.06-.94 2.06-2.06.94zm-11 1L8.5 8.5l.94-2.06 2.06-.94-2.06-.94L8.5 2.5l-.94 2.06-2.06.94zm10 10l.94 2.06.94-2.06 2.06-.94-2.06-.94-.94-2.06-.94 2.06-2.06.94z\"/><path d=\"M17.41 7.96l-1.37-1.37c-.4-.4-.92-.59-1.43-.59-.52 0-1.04.2-1.43.59L10.3 9.45l-7.72 7.72c-.78.78-.78 2.05 0 2.83L4 21.41c.39.39.9.59 1.41.59.51 0 1.02-.2 1.41-.59l7.78-7.78 2.81-2.81c.8-.78.8-2.07 0-2.86zM5.41 20L4 18.59l7.72-7.72 1.47 1.35L5.41 20z\"/>\n",
              "  </svg>\n",
              "      </button>\n",
              "      \n",
              "  <style>\n",
              "    .colab-df-container {\n",
              "      display:flex;\n",
              "      flex-wrap:wrap;\n",
              "      gap: 12px;\n",
              "    }\n",
              "\n",
              "    .colab-df-convert {\n",
              "      background-color: #E8F0FE;\n",
              "      border: none;\n",
              "      border-radius: 50%;\n",
              "      cursor: pointer;\n",
              "      display: none;\n",
              "      fill: #1967D2;\n",
              "      height: 32px;\n",
              "      padding: 0 0 0 0;\n",
              "      width: 32px;\n",
              "    }\n",
              "\n",
              "    .colab-df-convert:hover {\n",
              "      background-color: #E2EBFA;\n",
              "      box-shadow: 0px 1px 2px rgba(60, 64, 67, 0.3), 0px 1px 3px 1px rgba(60, 64, 67, 0.15);\n",
              "      fill: #174EA6;\n",
              "    }\n",
              "\n",
              "    [theme=dark] .colab-df-convert {\n",
              "      background-color: #3B4455;\n",
              "      fill: #D2E3FC;\n",
              "    }\n",
              "\n",
              "    [theme=dark] .colab-df-convert:hover {\n",
              "      background-color: #434B5C;\n",
              "      box-shadow: 0px 1px 3px 1px rgba(0, 0, 0, 0.15);\n",
              "      filter: drop-shadow(0px 1px 2px rgba(0, 0, 0, 0.3));\n",
              "      fill: #FFFFFF;\n",
              "    }\n",
              "  </style>\n",
              "\n",
              "      <script>\n",
              "        const buttonEl =\n",
              "          document.querySelector('#df-a2424043-bc43-4593-83ef-6189bdc7f3b8 button.colab-df-convert');\n",
              "        buttonEl.style.display =\n",
              "          google.colab.kernel.accessAllowed ? 'block' : 'none';\n",
              "\n",
              "        async function convertToInteractive(key) {\n",
              "          const element = document.querySelector('#df-a2424043-bc43-4593-83ef-6189bdc7f3b8');\n",
              "          const dataTable =\n",
              "            await google.colab.kernel.invokeFunction('convertToInteractive',\n",
              "                                                     [key], {});\n",
              "          if (!dataTable) return;\n",
              "\n",
              "          const docLinkHtml = 'Like what you see? Visit the ' +\n",
              "            '<a target=\"_blank\" href=https://colab.research.google.com/notebooks/data_table.ipynb>data table notebook</a>'\n",
              "            + ' to learn more about interactive tables.';\n",
              "          element.innerHTML = '';\n",
              "          dataTable['output_type'] = 'display_data';\n",
              "          await google.colab.output.renderOutput(dataTable, element);\n",
              "          const docLink = document.createElement('div');\n",
              "          docLink.innerHTML = docLinkHtml;\n",
              "          element.appendChild(docLink);\n",
              "        }\n",
              "      </script>\n",
              "    </div>\n",
              "  </div>\n",
              "  "
            ],
            "text/plain": [
              "           ID  Compensation Vehicle_Status Default_hist     Prop_List  \\\n",
              "0      487410  6.531060e+05              Y          ndf  Morethan_One   \n",
              "1      533258  4.341500e+05              N          ndf           One   \n",
              "2      581926  4.890600e+05              N          ndf  Morethan_One   \n",
              "3      486301  9.572940e+05              N          ndf           One   \n",
              "4      580822  1.333739e+06              N          ndf           One   \n",
              "...       ...           ...            ...          ...           ...   \n",
              "56755  513665  6.716400e+05              N          ndf           One   \n",
              "56756  450327  6.506800e+05              N          ndf           One   \n",
              "56757  476417  5.513740e+05            NaN           df          None   \n",
              "56758  461152  9.751170e+05              N          ndf           One   \n",
              "56759  524075  7.423110e+05              N          ndf           One   \n",
              "\n",
              "      Region_Type Credit_Inq Education_det Marital_Stat     Income_Alt Ph.No  \\\n",
              "0           Metro          1          Grad      Married  Not_Specified   Yes   \n",
              "1           Metro          1          Grad      Married              Y    No   \n",
              "2           Rural          1          Grad      Married              Y    No   \n",
              "3           Metro          1          Grad      Married              Y   Yes   \n",
              "4           Metro          3        P_Grad      Married              Y   Yes   \n",
              "...           ...        ...           ...          ...            ...   ...   \n",
              "56755       Metro          1          Grad       Single  Not_Specified   Yes   \n",
              "56756       Metro          1          Grad      Married              Y   Yes   \n",
              "56757       Metro          1          Grad      Divorce  Not_Specified   Yes   \n",
              "56758       Metro          2         Other       Single              Y   Yes   \n",
              "56759       Metro          1          Grad      Married  Not_Specified   Yes   \n",
              "\n",
              "      Type_Loan Addr_permanent Permanent_Addr_tag  pass  \n",
              "0         CLoan            Yes                Yes   1.0  \n",
              "1         CLoan            Yes                Yes   1.0  \n",
              "2         CLoan            Yes                Yes   1.0  \n",
              "3         CLoan            Yes                Yes   2.0  \n",
              "4         RLoan            Yes                Yes   3.0  \n",
              "...         ...            ...                ...   ...  \n",
              "56755     CLoan            Yes                Yes   1.0  \n",
              "56756     CLoan            Yes                Yes   1.0  \n",
              "56757     RLoan             No                Yes   1.0  \n",
              "56758     CLoan            Yes                 No   2.0  \n",
              "56759     CLoan            Yes                 No   1.0  \n",
              "\n",
              "[56760 rows x 15 columns]"
            ]
          },
          "execution_count": 102,
          "metadata": {},
          "output_type": "execute_result"
        }
      ],
      "source": [
        "result_07['Compensation'].fillna(result_29_07_03['Compensation'].mean(), inplace=True)\n",
        "result_07['pass']=round(result_29_07_03['Compensation']/500000)\n",
        "\n",
        "result_07"
      ]
    },
    {
      "cell_type": "code",
      "execution_count": null,
      "metadata": {
        "colab": {
          "background_save": true
        },
        "id": "BgbyqrcT1K4h",
        "outputId": "da83f810-1cab-4435-ab82-d001f810317e"
      },
      "outputs": [
        {
          "data": {
            "text/plain": [
              "N    34721\n",
              "Y    18156\n",
              "Name: Vehicle_Status, dtype: int64"
            ]
          },
          "execution_count": 103,
          "metadata": {},
          "output_type": "execute_result"
        }
      ],
      "source": [
        "result_07['Vehicle_Status'].value_counts()"
      ]
    },
    {
      "cell_type": "code",
      "execution_count": null,
      "metadata": {
        "colab": {
          "background_save": true
        },
        "id": "RmetyQPp1Fzf",
        "outputId": "bf865b97-7cb5-437c-c11f-029e70d0d556"
      },
      "outputs": [
        {
          "data": {
            "text/plain": [
              "ndf    51070\n",
              "df      5690\n",
              "Name: Default_hist, dtype: int64"
            ]
          },
          "execution_count": 104,
          "metadata": {},
          "output_type": "execute_result"
        }
      ],
      "source": [
        "result_07['Default_hist'].value_counts()"
      ]
    },
    {
      "cell_type": "code",
      "execution_count": null,
      "metadata": {
        "colab": {
          "background_save": true
        },
        "id": "Kug9ETUp0_1s",
        "outputId": "0b9a7d02-bddd-4e87-b771-d72eaee8c038"
      },
      "outputs": [
        {
          "data": {
            "text/plain": [
              "One             39222\n",
              "Morethan_One    11046\n",
              "None             5581\n",
              "Name: Prop_List, dtype: int64"
            ]
          },
          "execution_count": 105,
          "metadata": {},
          "output_type": "execute_result"
        }
      ],
      "source": [
        "result_07['Prop_List'].value_counts()"
      ]
    },
    {
      "cell_type": "code",
      "execution_count": null,
      "metadata": {
        "colab": {
          "background_save": true
        },
        "id": "JRHgHkfJ0zUs",
        "outputId": "2ff489be-51ae-4288-cb52-88d40ea9dc1e"
      },
      "outputs": [
        {
          "data": {
            "text/plain": [
              "Metro    46048\n",
              "Rural     9526\n",
              "other     1186\n",
              "Name: Region_Type, dtype: int64"
            ]
          },
          "execution_count": 106,
          "metadata": {},
          "output_type": "execute_result"
        }
      ],
      "source": [
        "result_07['Region_Type'].value_counts()"
      ]
    },
    {
      "cell_type": "code",
      "execution_count": null,
      "metadata": {
        "colab": {
          "background_save": true
        },
        "id": "FaSQscqD1eYU",
        "outputId": "0fa6f0af-ca52-491a-e18f-7f2ebc76e917"
      },
      "outputs": [
        {
          "data": {
            "text/plain": [
              "1     28703\n",
              "2     13030\n",
              "3      9998\n",
              ">4     3863\n",
              "Name: Credit_Inq, dtype: int64"
            ]
          },
          "execution_count": 107,
          "metadata": {},
          "output_type": "execute_result"
        }
      ],
      "source": [
        "result_07['Credit_Inq'].value_counts()"
      ]
    },
    {
      "cell_type": "code",
      "execution_count": null,
      "metadata": {
        "colab": {
          "background_save": true
        },
        "id": "TbgwOkF32jNO",
        "outputId": "dd9a86cd-c64c-474c-c412-4c6896aea5b4"
      },
      "outputs": [
        {
          "data": {
            "text/plain": [
              "Grad      40408\n",
              "P_Grad    13689\n",
              "Other      2663\n",
              "Name: Education_det, dtype: int64"
            ]
          },
          "execution_count": 108,
          "metadata": {},
          "output_type": "execute_result"
        }
      ],
      "source": [
        "result_07['Education_det'].value_counts()"
      ]
    },
    {
      "cell_type": "code",
      "execution_count": null,
      "metadata": {
        "colab": {
          "background_save": true
        },
        "id": "Ca6GPX6B3E7B",
        "outputId": "a2b27120-25b2-49a3-882d-8c6624adb1dc"
      },
      "outputs": [
        {
          "data": {
            "text/plain": [
              "Married    41725\n",
              "Single      8335\n",
              "Divorce     3727\n",
              "Widow       2973\n",
              "Name: Marital_Stat, dtype: int64"
            ]
          },
          "execution_count": 109,
          "metadata": {},
          "output_type": "execute_result"
        }
      ],
      "source": [
        "result_07['Marital_Stat'].value_counts()"
      ]
    },
    {
      "cell_type": "code",
      "execution_count": null,
      "metadata": {
        "colab": {
          "background_save": true
        },
        "id": "Wyj3FaTU3qif",
        "outputId": "e1e2e7ec-0a9a-4e58-cccf-c42b8f3cff0f"
      },
      "outputs": [
        {
          "data": {
            "text/plain": [
              "Not_Specified    38441\n",
              "Y                15020\n",
              "Name: Income_Alt, dtype: int64"
            ]
          },
          "execution_count": 110,
          "metadata": {},
          "output_type": "execute_result"
        }
      ],
      "source": [
        "result_07['Income_Alt'].value_counts()"
      ]
    },
    {
      "cell_type": "code",
      "execution_count": null,
      "metadata": {
        "colab": {
          "background_save": true
        },
        "id": "d3-yTHcO39V5",
        "outputId": "c9f2dc89-6778-4c03-974b-2187e741b9ec"
      },
      "outputs": [
        {
          "data": {
            "text/plain": [
              "Yes    45399\n",
              "No     11361\n",
              "Name: Ph.No, dtype: int64"
            ]
          },
          "execution_count": 111,
          "metadata": {},
          "output_type": "execute_result"
        }
      ],
      "source": [
        "result_07['Ph.No'].value_counts()"
      ]
    },
    {
      "cell_type": "code",
      "execution_count": null,
      "metadata": {
        "colab": {
          "background_save": true
        },
        "id": "zpeI0UQi392g",
        "outputId": "f3487764-6c7a-477f-c5c6-ac6b672239e7"
      },
      "outputs": [
        {
          "data": {
            "text/plain": [
              "CLoan    51444\n",
              "RLoan     5316\n",
              "Name: Type_Loan, dtype: int64"
            ]
          },
          "execution_count": 112,
          "metadata": {},
          "output_type": "execute_result"
        }
      ],
      "source": [
        "result_07['Type_Loan'].value_counts()"
      ]
    },
    {
      "cell_type": "code",
      "execution_count": null,
      "metadata": {
        "colab": {
          "background_save": true
        },
        "id": "nkzwmFci4ZCo",
        "outputId": "1ea7c116-085a-4643-f9ff-24a1bf737790"
      },
      "outputs": [
        {
          "data": {
            "text/plain": [
              "Yes    52441\n",
              "No      4319\n",
              "Name: Addr_permanent, dtype: int64"
            ]
          },
          "execution_count": 113,
          "metadata": {},
          "output_type": "execute_result"
        }
      ],
      "source": [
        "result_07['Addr_permanent'].value_counts()\n"
      ]
    },
    {
      "cell_type": "code",
      "execution_count": null,
      "metadata": {
        "colab": {
          "background_save": true
        },
        "id": "opyviBQQ4qND",
        "outputId": "fe36e5e1-dd32-4f50-bea4-809f9689a8d6"
      },
      "outputs": [
        {
          "data": {
            "text/plain": [
              "Yes    46600\n",
              "No     10160\n",
              "Name: Permanent_Addr_tag, dtype: int64"
            ]
          },
          "execution_count": 114,
          "metadata": {},
          "output_type": "execute_result"
        }
      ],
      "source": [
        "result_07['Permanent_Addr_tag'].value_counts()\n"
      ]
    },
    {
      "cell_type": "code",
      "execution_count": null,
      "metadata": {
        "id": "5L8LMH8Ezto4"
      },
      "outputs": [],
      "source": [
        " result_07=result_07.apply(lambda x: x.replace({'N':1,'Y':0,\n",
        "                                                'ndf':1,'df':0,\n",
        "                                                'One':1,'None':0, 'Morethan_One':0,\n",
        "                                                'Metro':1, 'Rural':0, 'other':0,\n",
        "                                                 1:1, 2:0, 3:0, \">4\":0,\n",
        "                                                'Grad':1, 'P_Grad':0, 'Other':0,\n",
        "                                                'Married':1, 'Single':0, 'Divorce':0, 'Widow':0,\n",
        "                                                 'Not_Specified':1, \"Y\":0,\n",
        "                                                 'Yes':1,'No':0,                                               \n",
        "                                                'CLoan':1,  'RLoan':0,\n",
        "                                                 'Yes':1,'No':0,\n",
        "                                                 'Yes':1,'No':0,\n",
        "                                                'NAN':0, 'NaN':0, 'np.nan':0, 'np.NaN':0, ' ':0, '':0\n",
        "                                                 }, regex=True))"
      ]
    },
    {
      "cell_type": "code",
      "execution_count": null,
      "metadata": {
        "id": "mOgYXY-HLAH-"
      },
      "outputs": [],
      "source": [
        "result_07.info()"
      ]
    },
    {
      "cell_type": "code",
      "execution_count": null,
      "metadata": {
        "id": "D57Ew-hpL1bs"
      },
      "outputs": [],
      "source": [
        "result_07"
      ]
    },
    {
      "cell_type": "code",
      "execution_count": null,
      "metadata": {
        "id": "x2gCfCODYs8k"
      },
      "outputs": [],
      "source": [
        "result_07.info()"
      ]
    },
    {
      "cell_type": "code",
      "execution_count": null,
      "metadata": {
        "id": "jIgN0n4wFdQJ"
      },
      "outputs": [],
      "source": [
        "result_07=result_07.apply(lambda x: x.replace({ 1.0:1,2.0:0,3.0:0, 4.0:0,5.0:0,6.0:0,7.0:0,8.0:0,9.0:0,\n",
        "                                                    10.0:0,11.0:0,12.0:0,13.0:0,14.0:0,15.0:0,16.0:0,17.0:0,18.0:0,35.0:0,27.0:0, \"NaN\":0}, regex=True))\n",
        "result_07"
      ]
    },
    {
      "cell_type": "code",
      "execution_count": null,
      "metadata": {
        "id": "k5lqIcuAMfwx"
      },
      "outputs": [],
      "source": [
        "result_07.fillna(0, inplace=True)\n",
        "result_07\n"
      ]
    },
    {
      "cell_type": "code",
      "execution_count": null,
      "metadata": {
        "id": "OPbFuDNJM11a"
      },
      "outputs": [],
      "source": [
        "result_07.info()"
      ]
    },
    {
      "cell_type": "code",
      "execution_count": null,
      "metadata": {
        "id": "bodGIVTu5sGb"
      },
      "outputs": [],
      "source": [
        "result_07['Default']=result_07.iloc[:,2:14].sum(axis=1)"
      ]
    },
    {
      "cell_type": "code",
      "execution_count": null,
      "metadata": {
        "id": "dyxuXZVSRLOz"
      },
      "outputs": [],
      "source": [
        "result_07"
      ]
    },
    {
      "cell_type": "code",
      "execution_count": null,
      "metadata": {
        "id": "2Yq9HeHIRQh4"
      },
      "outputs": [],
      "source": [
        "result_07['Default'].value_counts().sum()"
      ]
    },
    {
      "cell_type": "code",
      "execution_count": null,
      "metadata": {
        "id": "T6uF906t5in1"
      },
      "outputs": [],
      "source": [
        "submit07=result_07[['ID','Default']]\n",
        "submit07"
      ]
    },
    {
      "cell_type": "code",
      "execution_count": null,
      "metadata": {
        "id": "Anx9pNxKEd5r"
      },
      "outputs": [],
      "source": [
        "submit07=submit07.astype('int64')\n"
      ]
    },
    {
      "cell_type": "code",
      "execution_count": null,
      "metadata": {
        "id": "Bndxi4plB6ex"
      },
      "outputs": [],
      "source": [
        "submit07['Default'].value_counts"
      ]
    },
    {
      "cell_type": "code",
      "execution_count": null,
      "metadata": {
        "id": "-wKgaomsUt1D"
      },
      "outputs": [],
      "source": [
        "submit07.describe()"
      ]
    },
    {
      "cell_type": "code",
      "execution_count": null,
      "metadata": {
        "id": "aaGQxHovU6R8"
      },
      "outputs": [],
      "source": [
        "submit07['Default'].unique()"
      ]
    },
    {
      "cell_type": "code",
      "execution_count": null,
      "metadata": {
        "id": "6fSsRqzzVDyA"
      },
      "outputs": [],
      "source": [
        "submit07_1=submit07.apply(lambda x: x.replace({ 11:1,1:0,2:0,'2':0,3:0,4:0,5:0,6:0, 7:0,8:0,9:0,10:0}, regex=True))\n",
        "submit07_1"
      ]
    },
    {
      "cell_type": "code",
      "execution_count": null,
      "metadata": {
        "id": "W3waFrU1VVGa"
      },
      "outputs": [],
      "source": [
        "submit07_1['Default'].unique()"
      ]
    },
    {
      "cell_type": "code",
      "execution_count": null,
      "metadata": {
        "id": "7kefugWlWd3w"
      },
      "outputs": [],
      "source": [
        "submit07_1['Default'].value_counts()"
      ]
    },
    {
      "cell_type": "code",
      "execution_count": null,
      "metadata": {
        "id": "IEWXbh5zWo7o"
      },
      "outputs": [],
      "source": [
        "submit07_1.to_csv('/content/drive/My Drive/Python/ht_tvs/submit07.csv')"
      ]
    },
    {
      "cell_type": "markdown",
      "metadata": {
        "id": "yHq6X3mOZ2B2"
      },
      "source": [
        "##**Conclusion submit07**---if more than 11 catagories have default hist those considered as most defaulters "
      ]
    },
    {
      "cell_type": "code",
      "execution_count": null,
      "metadata": {
        "id": "Jh9l9ubgcv1u"
      },
      "outputs": [],
      "source": [
        "submit07_2=submit07.apply(lambda x: x.replace({ 11:1,1:0,2:0,'2':0,3:0,4:0,5:0,6:0, 7:0,8:1,9:1,10:1}, regex=True))\n",
        "submit07_2"
      ]
    },
    {
      "cell_type": "code",
      "execution_count": null,
      "metadata": {
        "id": "Hz-apsT7eAkV"
      },
      "outputs": [],
      "source": [
        "submit07_2['Default'].unique()"
      ]
    },
    {
      "cell_type": "code",
      "execution_count": null,
      "metadata": {
        "id": "Rugaq8pVeIOc"
      },
      "outputs": [],
      "source": [
        "submit07_2['Default'].value_counts()"
      ]
    },
    {
      "cell_type": "code",
      "execution_count": null,
      "metadata": {
        "id": "glamb36meUtK"
      },
      "outputs": [],
      "source": [
        "submit07_2.to_csv('/content/drive/My Drive/Python/ht_tvs/submit8.csv', index=False)"
      ]
    },
    {
      "cell_type": "markdown",
      "metadata": {
        "id": "OUtocGBSeidZ"
      },
      "source": [
        "##**Conclusion submit08**---if more than 7 catagories have default hist those considered as most defaulters"
      ]
    },
    {
      "cell_type": "code",
      "execution_count": null,
      "metadata": {
        "id": "JcxV3amxf_JS"
      },
      "outputs": [],
      "source": [
        "submit07_3=submit07.apply(lambda x: x.replace({ 11:1,1:0,2:0,'2':0,3:0,4:0,5:0,6:0, 7:1,8:1,9:1,10:1}, regex=True))\n",
        "submit07_3"
      ]
    },
    {
      "cell_type": "code",
      "execution_count": null,
      "metadata": {
        "id": "rHzETtdpgJhg"
      },
      "outputs": [],
      "source": [
        "submit07_3['Default'].unique()"
      ]
    },
    {
      "cell_type": "code",
      "execution_count": null,
      "metadata": {
        "id": "zy4vW6BMgMBm"
      },
      "outputs": [],
      "source": [
        "submit07_3['Default'].value_counts()"
      ]
    },
    {
      "cell_type": "code",
      "execution_count": null,
      "metadata": {
        "id": "pP1bYn-ngixK"
      },
      "outputs": [],
      "source": [
        "submit07_3.to_csv('/content/drive/My Drive/Python/ht_tvs/submit9.csv', index=False)"
      ]
    },
    {
      "cell_type": "markdown",
      "metadata": {
        "id": "YHzH3wJ4gW1I"
      },
      "source": [
        "##**Conclusion submit09-**--if more than 6 catagories have default hist those considered as most defaulters"
      ]
    },
    {
      "cell_type": "code",
      "execution_count": null,
      "metadata": {
        "id": "1cvBrZLvhw8P"
      },
      "outputs": [],
      "source": [
        "submit07_4=submit07.apply(lambda x: x.replace({ 11:1,1:0,2:0,'2':0,3:0,4:0,5:0,6:1, 7:1,8:1,9:1,10:1}, regex=True))\n",
        "submit07_4"
      ]
    },
    {
      "cell_type": "code",
      "execution_count": null,
      "metadata": {
        "id": "dlhYOalQipsM"
      },
      "outputs": [],
      "source": [
        "submit07_4['Default'].unique()"
      ]
    },
    {
      "cell_type": "code",
      "execution_count": null,
      "metadata": {
        "id": "sSj7lHB8iuJ0"
      },
      "outputs": [],
      "source": [
        "submit07_4['Default'].value_counts()"
      ]
    },
    {
      "cell_type": "code",
      "execution_count": null,
      "metadata": {
        "id": "5_O99r4mi5XU"
      },
      "outputs": [],
      "source": [
        "submit07_4.to_csv('/content/drive/My Drive/Python/ht_tvs/submit10.csv', index=False)"
      ]
    },
    {
      "cell_type": "markdown",
      "metadata": {
        "id": "OwfI2b3Hi8xu"
      },
      "source": [
        "##**Conclusion submit10**---if more than 5 catagories have default hist those considered as most defaulters"
      ]
    },
    {
      "cell_type": "code",
      "execution_count": null,
      "metadata": {
        "id": "zdUpfu3WtwL-"
      },
      "outputs": [],
      "source": [
        "test_set.info()"
      ]
    },
    {
      "cell_type": "code",
      "execution_count": null,
      "metadata": {
        "id": "OI-s5rDOFBLG"
      },
      "outputs": [],
      "source": [
        "submit07_4.to_csv('/content/drive/My Drive/Python/ht_tvs/submit11.csv', index=False)"
      ]
    },
    {
      "cell_type": "markdown",
      "metadata": {
        "id": "wchzNrsHE8FH"
      },
      "source": [
        "\n",
        "##conclusion\n",
        "in metro areas Car loans which with already credit linsks will fall under Default and their salary less than 5 lakhs\n",
        "\n",
        "on Tue day given loans"
      ]
    },
    {
      "cell_type": "markdown",
      "metadata": {
        "id": "2sb8_CWOFmtS"
      },
      "source": [
        "end"
      ]
    }
  ],
  "metadata": {
    "colab": {
      "collapsed_sections": [],
      "provenance": [],
      "authorship_tag": "ABX9TyM7fSJrPB5FWKuq/SBnmGbs",
      "include_colab_link": true
    },
    "kernelspec": {
      "display_name": "Python 3",
      "name": "python3"
    },
    "language_info": {
      "name": "python"
    }
  },
  "nbformat": 4,
  "nbformat_minor": 0
}