{
  "cells": [
    {
      "cell_type": "markdown",
      "metadata": {
        "id": "view-in-github",
        "colab_type": "text"
      },
      "source": [
        "<a href=\"https://colab.research.google.com/github/bkn872/GL_Hackathon/blob/main/NLP_Project1_Updated.ipynb\" target=\"_parent\"><img src=\"https://colab.research.google.com/assets/colab-badge.svg\" alt=\"Open In Colab\"/></a>"
      ]
    },
    {
      "cell_type": "markdown",
      "metadata": {
        "id": "dLccHXZEB0hO"
      },
      "source": [
        "## **Part A - 40 Marks:**"
      ]
    },
    {
      "cell_type": "markdown",
      "metadata": {
        "id": "iNqEa76BC9LG"
      },
      "source": [
        "# **DOMAIN:** Digital content management\n",
        "\n",
        "• **CONTEXT:** Classification is probably the most popular task that you would deal with in real life. Text in the form of blogs, posts, articles, etc. \n",
        "are written every second. It is a challenge to predict the information about the writer without knowing about him/her. We are going to create a \n",
        "classifier that predicts multiple features of the author of a given text. We have designed it as a Multi label classification problem.\n",
        "\n",
        "• **DATA DESCRIPTION**: Over 600,000 posts from more than 19 thousand bloggers The Blog Authorship Corpus consists of the collected posts of \n",
        "19,320 bloggers gathered from blogger.com in August 2004. The corpus incorporates a total of 681,288 posts and over 140 million words - or \n",
        "approximately 35 posts and 7250 words per person. Each blog is presented as a separate file, the name of which indicates a blogger id# and \n",
        "the blogger’s self-provided gender, age, industry, and astrological sign. (All are labelled for gender and age but for many, industry and/or sign is \n",
        "marked as unknown.) All bloggers included in the corpus fall into one of three age groups:\n",
        "\n",
        "• 8240 \"10s\" blogs (ages 13-17),\n",
        "\n",
        "• 8086 \"20s\" blogs(ages 23-27) and\n",
        "\n",
        "• 2994 \"30s\" blogs (ages 33-47)\n",
        "\n",
        "• For each age group, there is an equal number of male and female bloggers. Each blog in the corpus includes at least 200 occurrences of \n",
        "common English words. All formatting has been stripped with two exceptions. Individual posts within a single blogger are separated by the \n",
        "date of the following post and links within a post are denoted by the label url link."
      ]
    },
    {
      "cell_type": "markdown",
      "metadata": {
        "id": "Je0Qgg-cDgYW"
      },
      "source": [
        "### **PROJECT OBJECTIVE:** \n",
        "To build a NLP classifier which can use input text parameters to determine the label/s of the blog. Specific to this case\n",
        "study, you can consider the text of the blog: ‘text’ feature as independent variable and ‘topic’ as dependent variable."
      ]
    },
    {
      "cell_type": "markdown",
      "metadata": {
        "id": "4di5pf1K4y4s"
      },
      "source": [
        "Steps and tasks: [ Total Score: 40 Marks]"
      ]
    },
    {
      "cell_type": "markdown",
      "metadata": {
        "id": "P0Nfzk795LZK"
      },
      "source": [
        "1.1. Read and Analyse Dataset. [5 Marks]"
      ]
    },
    {
      "cell_type": "code",
      "execution_count": 1,
      "metadata": {
        "colab": {
          "base_uri": "https://localhost:8080/"
        },
        "id": "PtZttez9NfIT",
        "outputId": "5939ca68-71dd-4145-9274-23cfb86f910c"
      },
      "outputs": [
        {
          "output_type": "stream",
          "name": "stdout",
          "text": [
            "Mounted at /content/drive/\n"
          ]
        }
      ],
      "source": [
        "import pandas as pd\n",
        "import numpy as np\n",
        "import matplotlib.pyplot as plt\n",
        "import seaborn as sns\n",
        "import warnings\n",
        "##warnings.filewarnings('ignore')\n",
        "\n",
        "from google.colab import drive\n",
        "drive.mount('/content/drive/')\n",
        "project_path = \"/content/drive/My Drive/Python/NLP/\"\n",
        "\n",
        "from zipfile import ZipFile\n",
        "with ZipFile(project_path+'blogs.zip','r') as z:\n",
        "  z.extractall()"
      ]
    },
    {
      "cell_type": "code",
      "execution_count": 2,
      "metadata": {
        "colab": {
          "base_uri": "https://localhost:8080/",
          "height": 206
        },
        "id": "8TXwp-CrXFdm",
        "outputId": "a6d4406f-4028-4cb3-d066-879d67f40ce3"
      },
      "outputs": [
        {
          "output_type": "execute_result",
          "data": {
            "text/plain": [
              "        id gender  age              topic      sign          date  \\\n",
              "0  2059027   male   15            Student       Leo   14,May,2004   \n",
              "1  2059027   male   15            Student       Leo   13,May,2004   \n",
              "2  2059027   male   15            Student       Leo   12,May,2004   \n",
              "3  2059027   male   15            Student       Leo   12,May,2004   \n",
              "4  3581210   male   33  InvestmentBanking  Aquarius  11,June,2004   \n",
              "\n",
              "                                                text  \n",
              "0             Info has been found (+/- 100 pages,...  \n",
              "1             These are the team members:   Drewe...  \n",
              "2             In het kader van kernfusie op aarde...  \n",
              "3                   testing!!!  testing!!!            \n",
              "4               Thanks to Yahoo!'s Toolbar I can ...  "
            ],
            "text/html": [
              "\n",
              "  <div id=\"df-0188e657-3f4a-4b00-9c4c-2973a3bab6a4\">\n",
              "    <div class=\"colab-df-container\">\n",
              "      <div>\n",
              "<style scoped>\n",
              "    .dataframe tbody tr th:only-of-type {\n",
              "        vertical-align: middle;\n",
              "    }\n",
              "\n",
              "    .dataframe tbody tr th {\n",
              "        vertical-align: top;\n",
              "    }\n",
              "\n",
              "    .dataframe thead th {\n",
              "        text-align: right;\n",
              "    }\n",
              "</style>\n",
              "<table border=\"1\" class=\"dataframe\">\n",
              "  <thead>\n",
              "    <tr style=\"text-align: right;\">\n",
              "      <th></th>\n",
              "      <th>id</th>\n",
              "      <th>gender</th>\n",
              "      <th>age</th>\n",
              "      <th>topic</th>\n",
              "      <th>sign</th>\n",
              "      <th>date</th>\n",
              "      <th>text</th>\n",
              "    </tr>\n",
              "  </thead>\n",
              "  <tbody>\n",
              "    <tr>\n",
              "      <th>0</th>\n",
              "      <td>2059027</td>\n",
              "      <td>male</td>\n",
              "      <td>15</td>\n",
              "      <td>Student</td>\n",
              "      <td>Leo</td>\n",
              "      <td>14,May,2004</td>\n",
              "      <td>Info has been found (+/- 100 pages,...</td>\n",
              "    </tr>\n",
              "    <tr>\n",
              "      <th>1</th>\n",
              "      <td>2059027</td>\n",
              "      <td>male</td>\n",
              "      <td>15</td>\n",
              "      <td>Student</td>\n",
              "      <td>Leo</td>\n",
              "      <td>13,May,2004</td>\n",
              "      <td>These are the team members:   Drewe...</td>\n",
              "    </tr>\n",
              "    <tr>\n",
              "      <th>2</th>\n",
              "      <td>2059027</td>\n",
              "      <td>male</td>\n",
              "      <td>15</td>\n",
              "      <td>Student</td>\n",
              "      <td>Leo</td>\n",
              "      <td>12,May,2004</td>\n",
              "      <td>In het kader van kernfusie op aarde...</td>\n",
              "    </tr>\n",
              "    <tr>\n",
              "      <th>3</th>\n",
              "      <td>2059027</td>\n",
              "      <td>male</td>\n",
              "      <td>15</td>\n",
              "      <td>Student</td>\n",
              "      <td>Leo</td>\n",
              "      <td>12,May,2004</td>\n",
              "      <td>testing!!!  testing!!!</td>\n",
              "    </tr>\n",
              "    <tr>\n",
              "      <th>4</th>\n",
              "      <td>3581210</td>\n",
              "      <td>male</td>\n",
              "      <td>33</td>\n",
              "      <td>InvestmentBanking</td>\n",
              "      <td>Aquarius</td>\n",
              "      <td>11,June,2004</td>\n",
              "      <td>Thanks to Yahoo!'s Toolbar I can ...</td>\n",
              "    </tr>\n",
              "  </tbody>\n",
              "</table>\n",
              "</div>\n",
              "      <button class=\"colab-df-convert\" onclick=\"convertToInteractive('df-0188e657-3f4a-4b00-9c4c-2973a3bab6a4')\"\n",
              "              title=\"Convert this dataframe to an interactive table.\"\n",
              "              style=\"display:none;\">\n",
              "        \n",
              "  <svg xmlns=\"http://www.w3.org/2000/svg\" height=\"24px\"viewBox=\"0 0 24 24\"\n",
              "       width=\"24px\">\n",
              "    <path d=\"M0 0h24v24H0V0z\" fill=\"none\"/>\n",
              "    <path d=\"M18.56 5.44l.94 2.06.94-2.06 2.06-.94-2.06-.94-.94-2.06-.94 2.06-2.06.94zm-11 1L8.5 8.5l.94-2.06 2.06-.94-2.06-.94L8.5 2.5l-.94 2.06-2.06.94zm10 10l.94 2.06.94-2.06 2.06-.94-2.06-.94-.94-2.06-.94 2.06-2.06.94z\"/><path d=\"M17.41 7.96l-1.37-1.37c-.4-.4-.92-.59-1.43-.59-.52 0-1.04.2-1.43.59L10.3 9.45l-7.72 7.72c-.78.78-.78 2.05 0 2.83L4 21.41c.39.39.9.59 1.41.59.51 0 1.02-.2 1.41-.59l7.78-7.78 2.81-2.81c.8-.78.8-2.07 0-2.86zM5.41 20L4 18.59l7.72-7.72 1.47 1.35L5.41 20z\"/>\n",
              "  </svg>\n",
              "      </button>\n",
              "      \n",
              "  <style>\n",
              "    .colab-df-container {\n",
              "      display:flex;\n",
              "      flex-wrap:wrap;\n",
              "      gap: 12px;\n",
              "    }\n",
              "\n",
              "    .colab-df-convert {\n",
              "      background-color: #E8F0FE;\n",
              "      border: none;\n",
              "      border-radius: 50%;\n",
              "      cursor: pointer;\n",
              "      display: none;\n",
              "      fill: #1967D2;\n",
              "      height: 32px;\n",
              "      padding: 0 0 0 0;\n",
              "      width: 32px;\n",
              "    }\n",
              "\n",
              "    .colab-df-convert:hover {\n",
              "      background-color: #E2EBFA;\n",
              "      box-shadow: 0px 1px 2px rgba(60, 64, 67, 0.3), 0px 1px 3px 1px rgba(60, 64, 67, 0.15);\n",
              "      fill: #174EA6;\n",
              "    }\n",
              "\n",
              "    [theme=dark] .colab-df-convert {\n",
              "      background-color: #3B4455;\n",
              "      fill: #D2E3FC;\n",
              "    }\n",
              "\n",
              "    [theme=dark] .colab-df-convert:hover {\n",
              "      background-color: #434B5C;\n",
              "      box-shadow: 0px 1px 3px 1px rgba(0, 0, 0, 0.15);\n",
              "      filter: drop-shadow(0px 1px 2px rgba(0, 0, 0, 0.3));\n",
              "      fill: #FFFFFF;\n",
              "    }\n",
              "  </style>\n",
              "\n",
              "      <script>\n",
              "        const buttonEl =\n",
              "          document.querySelector('#df-0188e657-3f4a-4b00-9c4c-2973a3bab6a4 button.colab-df-convert');\n",
              "        buttonEl.style.display =\n",
              "          google.colab.kernel.accessAllowed ? 'block' : 'none';\n",
              "\n",
              "        async function convertToInteractive(key) {\n",
              "          const element = document.querySelector('#df-0188e657-3f4a-4b00-9c4c-2973a3bab6a4');\n",
              "          const dataTable =\n",
              "            await google.colab.kernel.invokeFunction('convertToInteractive',\n",
              "                                                     [key], {});\n",
              "          if (!dataTable) return;\n",
              "\n",
              "          const docLinkHtml = 'Like what you see? Visit the ' +\n",
              "            '<a target=\"_blank\" href=https://colab.research.google.com/notebooks/data_table.ipynb>data table notebook</a>'\n",
              "            + ' to learn more about interactive tables.';\n",
              "          element.innerHTML = '';\n",
              "          dataTable['output_type'] = 'display_data';\n",
              "          await google.colab.output.renderOutput(dataTable, element);\n",
              "          const docLink = document.createElement('div');\n",
              "          docLink.innerHTML = docLinkHtml;\n",
              "          element.appendChild(docLink);\n",
              "        }\n",
              "      </script>\n",
              "    </div>\n",
              "  </div>\n",
              "  "
            ]
          },
          "metadata": {},
          "execution_count": 2
        }
      ],
      "source": [
        "data=pd.read_csv('./blogtext.csv')\n",
        "data.head()"
      ]
    },
    {
      "cell_type": "code",
      "execution_count": 3,
      "metadata": {
        "colab": {
          "base_uri": "https://localhost:8080/",
          "height": 206
        },
        "id": "U6Iz_3x8aS1O",
        "outputId": "fd380ce8-4641-49bb-d81b-e656201e1ba6"
      },
      "outputs": [
        {
          "output_type": "execute_result",
          "data": {
            "text/plain": [
              "             id gender  age    topic    sign          date  \\\n",
              "681279  1713845   male   23  Student  Taurus  01,July,2004   \n",
              "681280  1713845   male   23  Student  Taurus  01,July,2004   \n",
              "681281  1713845   male   23  Student  Taurus  01,July,2004   \n",
              "681282  1713845   male   23  Student  Taurus  01,July,2004   \n",
              "681283  1713845   male   23  Student  Taurus  01,July,2004   \n",
              "\n",
              "                                                     text  \n",
              "681279         Dear Susan,  I could write some really ...  \n",
              "681280         Dear Susan,  'I have the second yeast i...  \n",
              "681281         Dear Susan,  Your 'boyfriend' is fuckin...  \n",
              "681282         Dear Susan:    Just to clarify, I am as...  \n",
              "681283         Hey everybody...and Susan,  You might a...  "
            ],
            "text/html": [
              "\n",
              "  <div id=\"df-94581f1b-a999-4e5b-8ff1-b3a38e1c6060\">\n",
              "    <div class=\"colab-df-container\">\n",
              "      <div>\n",
              "<style scoped>\n",
              "    .dataframe tbody tr th:only-of-type {\n",
              "        vertical-align: middle;\n",
              "    }\n",
              "\n",
              "    .dataframe tbody tr th {\n",
              "        vertical-align: top;\n",
              "    }\n",
              "\n",
              "    .dataframe thead th {\n",
              "        text-align: right;\n",
              "    }\n",
              "</style>\n",
              "<table border=\"1\" class=\"dataframe\">\n",
              "  <thead>\n",
              "    <tr style=\"text-align: right;\">\n",
              "      <th></th>\n",
              "      <th>id</th>\n",
              "      <th>gender</th>\n",
              "      <th>age</th>\n",
              "      <th>topic</th>\n",
              "      <th>sign</th>\n",
              "      <th>date</th>\n",
              "      <th>text</th>\n",
              "    </tr>\n",
              "  </thead>\n",
              "  <tbody>\n",
              "    <tr>\n",
              "      <th>681279</th>\n",
              "      <td>1713845</td>\n",
              "      <td>male</td>\n",
              "      <td>23</td>\n",
              "      <td>Student</td>\n",
              "      <td>Taurus</td>\n",
              "      <td>01,July,2004</td>\n",
              "      <td>Dear Susan,  I could write some really ...</td>\n",
              "    </tr>\n",
              "    <tr>\n",
              "      <th>681280</th>\n",
              "      <td>1713845</td>\n",
              "      <td>male</td>\n",
              "      <td>23</td>\n",
              "      <td>Student</td>\n",
              "      <td>Taurus</td>\n",
              "      <td>01,July,2004</td>\n",
              "      <td>Dear Susan,  'I have the second yeast i...</td>\n",
              "    </tr>\n",
              "    <tr>\n",
              "      <th>681281</th>\n",
              "      <td>1713845</td>\n",
              "      <td>male</td>\n",
              "      <td>23</td>\n",
              "      <td>Student</td>\n",
              "      <td>Taurus</td>\n",
              "      <td>01,July,2004</td>\n",
              "      <td>Dear Susan,  Your 'boyfriend' is fuckin...</td>\n",
              "    </tr>\n",
              "    <tr>\n",
              "      <th>681282</th>\n",
              "      <td>1713845</td>\n",
              "      <td>male</td>\n",
              "      <td>23</td>\n",
              "      <td>Student</td>\n",
              "      <td>Taurus</td>\n",
              "      <td>01,July,2004</td>\n",
              "      <td>Dear Susan:    Just to clarify, I am as...</td>\n",
              "    </tr>\n",
              "    <tr>\n",
              "      <th>681283</th>\n",
              "      <td>1713845</td>\n",
              "      <td>male</td>\n",
              "      <td>23</td>\n",
              "      <td>Student</td>\n",
              "      <td>Taurus</td>\n",
              "      <td>01,July,2004</td>\n",
              "      <td>Hey everybody...and Susan,  You might a...</td>\n",
              "    </tr>\n",
              "  </tbody>\n",
              "</table>\n",
              "</div>\n",
              "      <button class=\"colab-df-convert\" onclick=\"convertToInteractive('df-94581f1b-a999-4e5b-8ff1-b3a38e1c6060')\"\n",
              "              title=\"Convert this dataframe to an interactive table.\"\n",
              "              style=\"display:none;\">\n",
              "        \n",
              "  <svg xmlns=\"http://www.w3.org/2000/svg\" height=\"24px\"viewBox=\"0 0 24 24\"\n",
              "       width=\"24px\">\n",
              "    <path d=\"M0 0h24v24H0V0z\" fill=\"none\"/>\n",
              "    <path d=\"M18.56 5.44l.94 2.06.94-2.06 2.06-.94-2.06-.94-.94-2.06-.94 2.06-2.06.94zm-11 1L8.5 8.5l.94-2.06 2.06-.94-2.06-.94L8.5 2.5l-.94 2.06-2.06.94zm10 10l.94 2.06.94-2.06 2.06-.94-2.06-.94-.94-2.06-.94 2.06-2.06.94z\"/><path d=\"M17.41 7.96l-1.37-1.37c-.4-.4-.92-.59-1.43-.59-.52 0-1.04.2-1.43.59L10.3 9.45l-7.72 7.72c-.78.78-.78 2.05 0 2.83L4 21.41c.39.39.9.59 1.41.59.51 0 1.02-.2 1.41-.59l7.78-7.78 2.81-2.81c.8-.78.8-2.07 0-2.86zM5.41 20L4 18.59l7.72-7.72 1.47 1.35L5.41 20z\"/>\n",
              "  </svg>\n",
              "      </button>\n",
              "      \n",
              "  <style>\n",
              "    .colab-df-container {\n",
              "      display:flex;\n",
              "      flex-wrap:wrap;\n",
              "      gap: 12px;\n",
              "    }\n",
              "\n",
              "    .colab-df-convert {\n",
              "      background-color: #E8F0FE;\n",
              "      border: none;\n",
              "      border-radius: 50%;\n",
              "      cursor: pointer;\n",
              "      display: none;\n",
              "      fill: #1967D2;\n",
              "      height: 32px;\n",
              "      padding: 0 0 0 0;\n",
              "      width: 32px;\n",
              "    }\n",
              "\n",
              "    .colab-df-convert:hover {\n",
              "      background-color: #E2EBFA;\n",
              "      box-shadow: 0px 1px 2px rgba(60, 64, 67, 0.3), 0px 1px 3px 1px rgba(60, 64, 67, 0.15);\n",
              "      fill: #174EA6;\n",
              "    }\n",
              "\n",
              "    [theme=dark] .colab-df-convert {\n",
              "      background-color: #3B4455;\n",
              "      fill: #D2E3FC;\n",
              "    }\n",
              "\n",
              "    [theme=dark] .colab-df-convert:hover {\n",
              "      background-color: #434B5C;\n",
              "      box-shadow: 0px 1px 3px 1px rgba(0, 0, 0, 0.15);\n",
              "      filter: drop-shadow(0px 1px 2px rgba(0, 0, 0, 0.3));\n",
              "      fill: #FFFFFF;\n",
              "    }\n",
              "  </style>\n",
              "\n",
              "      <script>\n",
              "        const buttonEl =\n",
              "          document.querySelector('#df-94581f1b-a999-4e5b-8ff1-b3a38e1c6060 button.colab-df-convert');\n",
              "        buttonEl.style.display =\n",
              "          google.colab.kernel.accessAllowed ? 'block' : 'none';\n",
              "\n",
              "        async function convertToInteractive(key) {\n",
              "          const element = document.querySelector('#df-94581f1b-a999-4e5b-8ff1-b3a38e1c6060');\n",
              "          const dataTable =\n",
              "            await google.colab.kernel.invokeFunction('convertToInteractive',\n",
              "                                                     [key], {});\n",
              "          if (!dataTable) return;\n",
              "\n",
              "          const docLinkHtml = 'Like what you see? Visit the ' +\n",
              "            '<a target=\"_blank\" href=https://colab.research.google.com/notebooks/data_table.ipynb>data table notebook</a>'\n",
              "            + ' to learn more about interactive tables.';\n",
              "          element.innerHTML = '';\n",
              "          dataTable['output_type'] = 'display_data';\n",
              "          await google.colab.output.renderOutput(dataTable, element);\n",
              "          const docLink = document.createElement('div');\n",
              "          docLink.innerHTML = docLinkHtml;\n",
              "          element.appendChild(docLink);\n",
              "        }\n",
              "      </script>\n",
              "    </div>\n",
              "  </div>\n",
              "  "
            ]
          },
          "metadata": {},
          "execution_count": 3
        }
      ],
      "source": [
        "data.tail()"
      ]
    },
    {
      "cell_type": "code",
      "source": [
        "data.isnull().sum()"
      ],
      "metadata": {
        "colab": {
          "base_uri": "https://localhost:8080/"
        },
        "id": "iPndfsZje7sk",
        "outputId": "0c0eebb9-ceec-4d74-ded5-5ec5a8fc38cd"
      },
      "execution_count": 4,
      "outputs": [
        {
          "output_type": "execute_result",
          "data": {
            "text/plain": [
              "id        0\n",
              "gender    0\n",
              "age       0\n",
              "topic     0\n",
              "sign      0\n",
              "date      0\n",
              "text      0\n",
              "dtype: int64"
            ]
          },
          "metadata": {},
          "execution_count": 4
        }
      ]
    },
    {
      "cell_type": "code",
      "source": [
        "data[pd.isnull(data).any(axis=1)]"
      ],
      "metadata": {
        "colab": {
          "base_uri": "https://localhost:8080/",
          "height": 49
        },
        "id": "MzPEJR6wfGGg",
        "outputId": "d4874fb9-9748-4f60-e740-57ac7f3bc1dd"
      },
      "execution_count": 5,
      "outputs": [
        {
          "output_type": "execute_result",
          "data": {
            "text/plain": [
              "Empty DataFrame\n",
              "Columns: [id, gender, age, topic, sign, date, text]\n",
              "Index: []"
            ],
            "text/html": [
              "\n",
              "  <div id=\"df-22dfb917-5c5c-4fd9-967f-5b8a62e31db1\">\n",
              "    <div class=\"colab-df-container\">\n",
              "      <div>\n",
              "<style scoped>\n",
              "    .dataframe tbody tr th:only-of-type {\n",
              "        vertical-align: middle;\n",
              "    }\n",
              "\n",
              "    .dataframe tbody tr th {\n",
              "        vertical-align: top;\n",
              "    }\n",
              "\n",
              "    .dataframe thead th {\n",
              "        text-align: right;\n",
              "    }\n",
              "</style>\n",
              "<table border=\"1\" class=\"dataframe\">\n",
              "  <thead>\n",
              "    <tr style=\"text-align: right;\">\n",
              "      <th></th>\n",
              "      <th>id</th>\n",
              "      <th>gender</th>\n",
              "      <th>age</th>\n",
              "      <th>topic</th>\n",
              "      <th>sign</th>\n",
              "      <th>date</th>\n",
              "      <th>text</th>\n",
              "    </tr>\n",
              "  </thead>\n",
              "  <tbody>\n",
              "  </tbody>\n",
              "</table>\n",
              "</div>\n",
              "      <button class=\"colab-df-convert\" onclick=\"convertToInteractive('df-22dfb917-5c5c-4fd9-967f-5b8a62e31db1')\"\n",
              "              title=\"Convert this dataframe to an interactive table.\"\n",
              "              style=\"display:none;\">\n",
              "        \n",
              "  <svg xmlns=\"http://www.w3.org/2000/svg\" height=\"24px\"viewBox=\"0 0 24 24\"\n",
              "       width=\"24px\">\n",
              "    <path d=\"M0 0h24v24H0V0z\" fill=\"none\"/>\n",
              "    <path d=\"M18.56 5.44l.94 2.06.94-2.06 2.06-.94-2.06-.94-.94-2.06-.94 2.06-2.06.94zm-11 1L8.5 8.5l.94-2.06 2.06-.94-2.06-.94L8.5 2.5l-.94 2.06-2.06.94zm10 10l.94 2.06.94-2.06 2.06-.94-2.06-.94-.94-2.06-.94 2.06-2.06.94z\"/><path d=\"M17.41 7.96l-1.37-1.37c-.4-.4-.92-.59-1.43-.59-.52 0-1.04.2-1.43.59L10.3 9.45l-7.72 7.72c-.78.78-.78 2.05 0 2.83L4 21.41c.39.39.9.59 1.41.59.51 0 1.02-.2 1.41-.59l7.78-7.78 2.81-2.81c.8-.78.8-2.07 0-2.86zM5.41 20L4 18.59l7.72-7.72 1.47 1.35L5.41 20z\"/>\n",
              "  </svg>\n",
              "      </button>\n",
              "      \n",
              "  <style>\n",
              "    .colab-df-container {\n",
              "      display:flex;\n",
              "      flex-wrap:wrap;\n",
              "      gap: 12px;\n",
              "    }\n",
              "\n",
              "    .colab-df-convert {\n",
              "      background-color: #E8F0FE;\n",
              "      border: none;\n",
              "      border-radius: 50%;\n",
              "      cursor: pointer;\n",
              "      display: none;\n",
              "      fill: #1967D2;\n",
              "      height: 32px;\n",
              "      padding: 0 0 0 0;\n",
              "      width: 32px;\n",
              "    }\n",
              "\n",
              "    .colab-df-convert:hover {\n",
              "      background-color: #E2EBFA;\n",
              "      box-shadow: 0px 1px 2px rgba(60, 64, 67, 0.3), 0px 1px 3px 1px rgba(60, 64, 67, 0.15);\n",
              "      fill: #174EA6;\n",
              "    }\n",
              "\n",
              "    [theme=dark] .colab-df-convert {\n",
              "      background-color: #3B4455;\n",
              "      fill: #D2E3FC;\n",
              "    }\n",
              "\n",
              "    [theme=dark] .colab-df-convert:hover {\n",
              "      background-color: #434B5C;\n",
              "      box-shadow: 0px 1px 3px 1px rgba(0, 0, 0, 0.15);\n",
              "      filter: drop-shadow(0px 1px 2px rgba(0, 0, 0, 0.3));\n",
              "      fill: #FFFFFF;\n",
              "    }\n",
              "  </style>\n",
              "\n",
              "      <script>\n",
              "        const buttonEl =\n",
              "          document.querySelector('#df-22dfb917-5c5c-4fd9-967f-5b8a62e31db1 button.colab-df-convert');\n",
              "        buttonEl.style.display =\n",
              "          google.colab.kernel.accessAllowed ? 'block' : 'none';\n",
              "\n",
              "        async function convertToInteractive(key) {\n",
              "          const element = document.querySelector('#df-22dfb917-5c5c-4fd9-967f-5b8a62e31db1');\n",
              "          const dataTable =\n",
              "            await google.colab.kernel.invokeFunction('convertToInteractive',\n",
              "                                                     [key], {});\n",
              "          if (!dataTable) return;\n",
              "\n",
              "          const docLinkHtml = 'Like what you see? Visit the ' +\n",
              "            '<a target=\"_blank\" href=https://colab.research.google.com/notebooks/data_table.ipynb>data table notebook</a>'\n",
              "            + ' to learn more about interactive tables.';\n",
              "          element.innerHTML = '';\n",
              "          dataTable['output_type'] = 'display_data';\n",
              "          await google.colab.output.renderOutput(dataTable, element);\n",
              "          const docLink = document.createElement('div');\n",
              "          docLink.innerHTML = docLinkHtml;\n",
              "          element.appendChild(docLink);\n",
              "        }\n",
              "      </script>\n",
              "    </div>\n",
              "  </div>\n",
              "  "
            ]
          },
          "metadata": {},
          "execution_count": 5
        }
      ]
    },
    {
      "cell_type": "code",
      "execution_count": 6,
      "metadata": {
        "colab": {
          "base_uri": "https://localhost:8080/"
        },
        "id": "9JcQIA6sbVcX",
        "outputId": "a65962da-b130-43c8-e36b-a6a7b90ee556"
      },
      "outputs": [
        {
          "output_type": "stream",
          "name": "stdout",
          "text": [
            "<class 'pandas.core.frame.DataFrame'>\n",
            "RangeIndex: 681284 entries, 0 to 681283\n",
            "Data columns (total 7 columns):\n",
            " #   Column  Non-Null Count   Dtype \n",
            "---  ------  --------------   ----- \n",
            " 0   id      681284 non-null  int64 \n",
            " 1   gender  681284 non-null  object\n",
            " 2   age     681284 non-null  int64 \n",
            " 3   topic   681284 non-null  object\n",
            " 4   sign    681284 non-null  object\n",
            " 5   date    681284 non-null  object\n",
            " 6   text    681284 non-null  object\n",
            "dtypes: int64(2), object(5)\n",
            "memory usage: 36.4+ MB\n"
          ]
        }
      ],
      "source": [
        "data.info()"
      ]
    },
    {
      "cell_type": "code",
      "source": [
        "print(data['id'].value_counts())"
      ],
      "metadata": {
        "colab": {
          "base_uri": "https://localhost:8080/"
        },
        "id": "nSyPVSDqM5CM",
        "outputId": "767055a9-448c-4cf5-97fe-6b9437d6f289"
      },
      "execution_count": 7,
      "outputs": [
        {
          "output_type": "stream",
          "name": "stdout",
          "text": [
            "449628     4221\n",
            "734562     2301\n",
            "589736     2294\n",
            "1975546    2261\n",
            "958176     2244\n",
            "           ... \n",
            "3424020       1\n",
            "4325089       1\n",
            "3516939       1\n",
            "3331848       1\n",
            "3717818       1\n",
            "Name: id, Length: 19320, dtype: int64\n"
          ]
        }
      ]
    },
    {
      "cell_type": "code",
      "execution_count": 8,
      "metadata": {
        "colab": {
          "base_uri": "https://localhost:8080/"
        },
        "id": "1_NnKnD45KlK",
        "outputId": "a2c69aec-af68-4e6f-8a5b-1b774f67205b"
      },
      "outputs": [
        {
          "output_type": "stream",
          "name": "stdout",
          "text": [
            "['male' 'female']\n"
          ]
        }
      ],
      "source": [
        "print(data['gender'].unique())"
      ]
    },
    {
      "cell_type": "code",
      "execution_count": 9,
      "metadata": {
        "colab": {
          "base_uri": "https://localhost:8080/"
        },
        "id": "0VvgVbz1khh4",
        "outputId": "424ac22a-0065-4bb6-a733-79f69ec57955"
      },
      "outputs": [
        {
          "output_type": "stream",
          "name": "stdout",
          "text": [
            "male      345193\n",
            "female    336091\n",
            "Name: gender, dtype: int64\n"
          ]
        }
      ],
      "source": [
        "print(data['gender'].value_counts())"
      ]
    },
    {
      "cell_type": "code",
      "execution_count": 10,
      "metadata": {
        "colab": {
          "base_uri": "https://localhost:8080/"
        },
        "id": "pNzoOvx1_NJe",
        "outputId": "7a6022a4-a0fa-4fbd-9d07-1a5a6c0c4b47"
      },
      "outputs": [
        {
          "output_type": "stream",
          "name": "stdout",
          "text": [
            "['Student' 'InvestmentBanking' 'indUnk' 'Non-Profit' 'Banking' 'Education'\n",
            " 'Engineering' 'Science' 'Communications-Media' 'BusinessServices'\n",
            " 'Sports-Recreation' 'Arts' 'Internet' 'Museums-Libraries' 'Accounting'\n",
            " 'Technology' 'Law' 'Consulting' 'Automotive' 'Religion' 'Fashion'\n",
            " 'Publishing' 'Marketing' 'LawEnforcement-Security' 'HumanResources'\n",
            " 'Telecommunications' 'Military' 'Government' 'Transportation'\n",
            " 'Architecture' 'Advertising' 'Agriculture' 'Biotech' 'RealEstate'\n",
            " 'Manufacturing' 'Construction' 'Chemicals' 'Maritime' 'Tourism'\n",
            " 'Environment']\n"
          ]
        }
      ],
      "source": [
        "print(data['topic'].unique())"
      ]
    },
    {
      "cell_type": "code",
      "execution_count": 11,
      "metadata": {
        "colab": {
          "base_uri": "https://localhost:8080/"
        },
        "id": "Jh4TXp6w_RgR",
        "outputId": "e14a7022-b95f-4eff-f5d4-99dbc5ca275f"
      },
      "outputs": [
        {
          "output_type": "stream",
          "name": "stdout",
          "text": [
            "indUnk                     251015\n",
            "Student                    153903\n",
            "Technology                  42055\n",
            "Arts                        32449\n",
            "Education                   29633\n",
            "Communications-Media        20140\n",
            "Internet                    16006\n",
            "Non-Profit                  14700\n",
            "Engineering                 11653\n",
            "Law                          9040\n",
            "Publishing                   7753\n",
            "Science                      7269\n",
            "Government                   6907\n",
            "Consulting                   5862\n",
            "Religion                     5235\n",
            "Fashion                      4851\n",
            "Marketing                    4769\n",
            "Advertising                  4676\n",
            "BusinessServices             4500\n",
            "Banking                      4049\n",
            "Chemicals                    3928\n",
            "Telecommunications           3891\n",
            "Accounting                   3832\n",
            "Military                     3128\n",
            "Museums-Libraries            3096\n",
            "Sports-Recreation            3038\n",
            "HumanResources               3010\n",
            "RealEstate                   2870\n",
            "Transportation               2326\n",
            "Manufacturing                2272\n",
            "Biotech                      2234\n",
            "Tourism                      1942\n",
            "LawEnforcement-Security      1878\n",
            "Architecture                 1638\n",
            "InvestmentBanking            1292\n",
            "Automotive                   1244\n",
            "Agriculture                  1235\n",
            "Construction                 1093\n",
            "Environment                   592\n",
            "Maritime                      280\n",
            "Name: topic, dtype: int64\n"
          ]
        }
      ],
      "source": [
        "print(data['topic'].value_counts())"
      ]
    },
    {
      "cell_type": "code",
      "execution_count": 12,
      "metadata": {
        "colab": {
          "base_uri": "https://localhost:8080/"
        },
        "id": "CGEBt2d95_sg",
        "outputId": "f5b4a028-6729-4b29-dfd1-8d4853308e24"
      },
      "outputs": [
        {
          "output_type": "stream",
          "name": "stdout",
          "text": [
            "26\n"
          ]
        }
      ],
      "source": [
        "print(data['age'].nunique())"
      ]
    },
    {
      "cell_type": "code",
      "execution_count": 13,
      "metadata": {
        "colab": {
          "base_uri": "https://localhost:8080/"
        },
        "id": "kirNV7D1vcje",
        "outputId": "fc0d77d1-be4c-4006-8a86-8d0a9f65bb4e"
      },
      "outputs": [
        {
          "output_type": "stream",
          "name": "stdout",
          "text": [
            "['Leo' 'Aquarius' 'Aries' 'Capricorn' 'Gemini' 'Cancer' 'Sagittarius'\n",
            " 'Scorpio' 'Libra' 'Virgo' 'Taurus' 'Pisces']\n"
          ]
        }
      ],
      "source": [
        "print(data['sign'].unique())"
      ]
    },
    {
      "cell_type": "code",
      "execution_count": 14,
      "metadata": {
        "colab": {
          "base_uri": "https://localhost:8080/"
        },
        "id": "oQBRvSF6-3K5",
        "outputId": "4c09a089-b31d-470d-e271-8eecc770b1cc"
      },
      "outputs": [
        {
          "output_type": "stream",
          "name": "stdout",
          "text": [
            "Cancer         65048\n",
            "Aries          64979\n",
            "Taurus         62561\n",
            "Libra          62363\n",
            "Virgo          60399\n",
            "Scorpio        57161\n",
            "Pisces         54053\n",
            "Leo            53811\n",
            "Gemini         51985\n",
            "Sagittarius    50036\n",
            "Aquarius       49687\n",
            "Capricorn      49201\n",
            "Name: sign, dtype: int64\n"
          ]
        }
      ],
      "source": [
        "print(data['sign'].value_counts())"
      ]
    },
    {
      "cell_type": "code",
      "execution_count": 15,
      "metadata": {
        "colab": {
          "base_uri": "https://localhost:8080/"
        },
        "id": "gx1TJVqFcLge",
        "outputId": "93a97469-b2b2-4965-ccd5-eb364e7b51e1"
      },
      "outputs": [
        {
          "output_type": "stream",
          "name": "stdout",
          "text": [
            "[15 33 14 25 17 23 37 26 24 27 45 34 41 44 16 39 35 36 46 42 13 38 43 40\n",
            " 47 48]\n"
          ]
        }
      ],
      "source": [
        "print(data['age'].unique())"
      ]
    },
    {
      "cell_type": "code",
      "execution_count": 16,
      "metadata": {
        "colab": {
          "base_uri": "https://localhost:8080/"
        },
        "id": "MNQHJNbAkz8W",
        "outputId": "9982a0dd-513f-476e-e830-289b21822fca"
      },
      "outputs": [
        {
          "output_type": "stream",
          "name": "stdout",
          "text": [
            "17    80859\n",
            "24    80071\n",
            "23    72889\n",
            "16    72708\n",
            "25    67051\n",
            "26    55312\n",
            "27    46124\n",
            "15    41767\n",
            "14    27400\n",
            "34    21347\n",
            "33    17584\n",
            "35    17462\n",
            "36    14229\n",
            "13    13133\n",
            "37     9317\n",
            "38     7545\n",
            "39     5556\n",
            "40     5016\n",
            "45     4482\n",
            "43     4230\n",
            "41     3738\n",
            "48     3572\n",
            "42     2908\n",
            "46     2733\n",
            "47     2207\n",
            "44     2044\n",
            "Name: age, dtype: int64\n"
          ]
        }
      ],
      "source": [
        "print(data['age'].value_counts())"
      ]
    },
    {
      "cell_type": "code",
      "source": [
        "sns.boxplot(x='gender', y='age', data=data)"
      ],
      "metadata": {
        "colab": {
          "base_uri": "https://localhost:8080/",
          "height": 297
        },
        "id": "0xS3Db3qPbXe",
        "outputId": "6b9252ac-4037-4bc9-8381-5da0a8e9e480"
      },
      "execution_count": 17,
      "outputs": [
        {
          "output_type": "execute_result",
          "data": {
            "text/plain": [
              "<matplotlib.axes._subplots.AxesSubplot at 0x7ff4070f1a10>"
            ]
          },
          "metadata": {},
          "execution_count": 17
        },
        {
          "output_type": "display_data",
          "data": {
            "text/plain": [
              "<Figure size 432x288 with 1 Axes>"
            ],
            "image/png": "[encoded data removed]"
          },
          "metadata": {
            "needs_background": "light"
          }
        }
      ]
    },
    {
      "cell_type": "code",
      "source": [
        "plt.figure(figsize = (20,8))\n",
        "plt.xticks(rotation = 'vertical')\n",
        "sns.boxplot(x='topic', y='age', data=data )"
      ],
      "metadata": {
        "colab": {
          "base_uri": "https://localhost:8080/"
        },
        "id": "imeL7V7lPvCS",
        "outputId": "ebb0dce2-7cc9-4b71-f160-8c9468d005c7"
      },
      "execution_count": null,
      "outputs": [
        {
          "output_type": "execute_result",
          "data": {
            "text/plain": [
              "<matplotlib.axes._subplots.AxesSubplot at 0x7ff401aef150>"
            ]
          },
          "metadata": {},
          "execution_count": 18
        }
      ]
    },
    {
      "cell_type": "code",
      "source": [
        "plt.figure(figsize = (14,8))\n",
        "plt.xticks(rotation = 'vertical')\n",
        "#plt.xlabel(\"Sign\")\n",
        "#plt.ylabel(\"Age\")\n",
        "plt.title(\"Sign vs. Age observations\")\n",
        "sns.boxplot(x='sign', y='age', data=data)"
      ],
      "metadata": {
        "id": "XA37sVc7P_Wf"
      },
      "execution_count": null,
      "outputs": []
    },
    {
      "cell_type": "markdown",
      "source": [
        "Aries have less outliers "
      ],
      "metadata": {
        "id": "-8x9W60RWAn9"
      }
    },
    {
      "cell_type": "code",
      "source": [
        "plt.title('Distribution plost for age')\n",
        "sns.distplot(data['age'])"
      ],
      "metadata": {
        "colab": {
          "base_uri": "https://localhost:8080/",
          "height": 369
        },
        "id": "1qokzBgAX5nk",
        "outputId": "9c10f70e-14d9-46a9-aae2-3a0eb78f73e3"
      },
      "execution_count": 35,
      "outputs": [
        {
          "output_type": "stream",
          "name": "stderr",
          "text": [
            "/usr/local/lib/python3.7/dist-packages/seaborn/distributions.py:2619: FutureWarning: `distplot` is a deprecated function and will be removed in a future version. Please adapt your code to use either `displot` (a figure-level function with similar flexibility) or `histplot` (an axes-level function for histograms).\n",
            "  warnings.warn(msg, FutureWarning)\n"
          ]
        },
        {
          "output_type": "execute_result",
          "data": {
            "text/plain": [
              "<matplotlib.axes._subplots.AxesSubplot at 0x7ff3fc40d9d0>"
            ]
          },
          "metadata": {},
          "execution_count": 35
        },
        {
          "output_type": "display_data",
          "data": {
            "text/plain": [
              "<Figure size 432x288 with 1 Axes>"
            ],
            "image/png": "[encoded data removed]"
          },
          "metadata": {
            "needs_background": "light"
          }
        }
      ]
    },
    {
      "cell_type": "code",
      "source": [
        "plt.figure(figsize=(20,10))\n",
        "plt.title('Topics vs Gender observation count plot ')\n",
        "plt.xticks(rotation='vertical')\n",
        "sns.countplot(x=\"topic\",hue='gender', data=data)"
      ],
      "metadata": {
        "colab": {
          "base_uri": "https://localhost:8080/",
          "height": 758
        },
        "id": "MJL0iWZfYnVk",
        "outputId": "68eedf53-fe2b-43ca-f334-55c6b9b1547b"
      },
      "execution_count": 36,
      "outputs": [
        {
          "output_type": "execute_result",
          "data": {
            "text/plain": [
              "<matplotlib.axes._subplots.AxesSubplot at 0x7ff3fc34af50>"
            ]
          },
          "metadata": {},
          "execution_count": 36
        },
        {
          "output_type": "display_data",
          "data": {
            "text/plain": [
              "<Figure size 1440x720 with 1 Axes>"
            ],
            "image/png": "[encoded data removed]"
          },
          "metadata": {
            "needs_background": "light"
          }
        }
      ]
    },
    {
      "cell_type": "markdown",
      "source": [
        "observed that in indUnk topics more Female paticipated \n",
        "and in Technology more Males Participated "
      ],
      "metadata": {
        "id": "qEvA_fRwbGcF"
      }
    },
    {
      "cell_type": "code",
      "source": [
        "plt.figure(figsize=(20,8))\n",
        "plt.title('Topic to Sign relation observation ')\n",
        "plt.xticks(rotation='vertical')\n",
        "sns.countplot(x='sign', hue ='age',data=data)\n"
      ],
      "metadata": {
        "colab": {
          "base_uri": "https://localhost:8080/",
          "height": 575
        },
        "id": "q2DSO0RdbdQR",
        "outputId": "ec2a33a6-3aef-4629-fa05-5568b481d1b5"
      },
      "execution_count": 37,
      "outputs": [
        {
          "output_type": "execute_result",
          "data": {
            "text/plain": [
              "<matplotlib.axes._subplots.AxesSubplot at 0x7ff3fc20fc90>"
            ]
          },
          "metadata": {},
          "execution_count": 37
        },
        {
          "output_type": "display_data",
          "data": {
            "text/plain": [
              "<Figure size 1440x576 with 1 Axes>"
            ],
            "image/png": "[encoded data removed]"
          },
          "metadata": {
            "needs_background": "light"
          }
        }
      ]
    },
    {
      "cell_type": "markdown",
      "source": [
        "More persons from Libra sign in 25 age group"
      ],
      "metadata": {
        "id": "eKsh6JfzemLP"
      }
    },
    {
      "cell_type": "code",
      "source": [
        "plt.figure(figsize=(20,10))\n",
        "plt.title('Sign to gender bevaviour observation')\n",
        "sns.countplot( y='age', hue='gender', data=data)"
      ],
      "metadata": {
        "colab": {
          "base_uri": "https://localhost:8080/",
          "height": 639
        },
        "id": "hchpZ64VcfyC",
        "outputId": "3607a79c-39ee-4564-f827-f798f99370ce"
      },
      "execution_count": 38,
      "outputs": [
        {
          "output_type": "execute_result",
          "data": {
            "text/plain": [
              "<matplotlib.axes._subplots.AxesSubplot at 0x7ff3fbcd1650>"
            ]
          },
          "metadata": {},
          "execution_count": 38
        },
        {
          "output_type": "display_data",
          "data": {
            "text/plain": [
              "<Figure size 1440x720 with 1 Axes>"
            ],
            "image/png": "[encoded data removed]"
          },
          "metadata": {
            "needs_background": "light"
          }
        }
      ]
    },
    {
      "cell_type": "markdown",
      "source": [
        "More number of persons \n",
        "More from 17age males and\n",
        "more Females from 23 age "
      ],
      "metadata": {
        "id": "t8kA7L20eARW"
      }
    },
    {
      "cell_type": "code",
      "source": [
        "data.hist(figsize=(10,10))"
      ],
      "metadata": {
        "colab": {
          "base_uri": "https://localhost:8080/",
          "height": 675
        },
        "id": "lzhfpE9VQQnr",
        "outputId": "7494c027-924d-412c-cc9c-40a148353756"
      },
      "execution_count": 39,
      "outputs": [
        {
          "output_type": "execute_result",
          "data": {
            "text/plain": [
              "array([[<matplotlib.axes._subplots.AxesSubplot object at 0x7ff3fbb84390>,\n",
              "        <matplotlib.axes._subplots.AxesSubplot object at 0x7ff3fbc9c750>]],\n",
              "      dtype=object)"
            ]
          },
          "metadata": {},
          "execution_count": 39
        },
        {
          "output_type": "display_data",
          "data": {
            "text/plain": [
              "<Figure size 720x720 with 2 Axes>"
            ],
            "image/png": "[encoded data removed]"
          },
          "metadata": {
            "needs_background": "light"
          }
        }
      ]
    },
    {
      "cell_type": "code",
      "source": [
        "pd.crosstab(data['age'],data['topic'])"
      ],
      "metadata": {
        "colab": {
          "base_uri": "https://localhost:8080/",
          "height": 1000
        },
        "id": "Ql3b5lz8O3ew",
        "outputId": "4ef1bf62-f258-469e-8945-29ee9bb42f90"
      },
      "execution_count": 40,
      "outputs": [
        {
          "output_type": "execute_result",
          "data": {
            "text/plain": [
              "topic  Accounting  Advertising  Agriculture  Architecture  Arts  Automotive  \\\n",
              "age                                                                           \n",
              "13              0           11            0             0   167           0   \n",
              "14              0            0           73            33  1205          28   \n",
              "15             75           21           85            68  1313          29   \n",
              "16             79           12          119            13  2249          14   \n",
              "17            158           65           82            25  1375         141   \n",
              "23            782         1501          180           156  3125          63   \n",
              "24            541          400          190           383  6938          26   \n",
              "25            480          277           40           268  5231         300   \n",
              "26            123          664          287           157  3496          81   \n",
              "27            146          303            4            75  1641          18   \n",
              "33              4           91          136           206  1300          97   \n",
              "34             57          132            0           137   557           0   \n",
              "35             11           69            0             0   549         104   \n",
              "36              4          619            6            24   336         184   \n",
              "37            197            0            0            15   573         123   \n",
              "38             86            0            0             0   195           0   \n",
              "39              0           58            0            44   781           5   \n",
              "40             27            9           11             4    73           0   \n",
              "41              0           33            0            19   624           4   \n",
              "42             33           40            8             0    55           0   \n",
              "43              0           36            0             0   245           0   \n",
              "44              3            0            0             0     9           0   \n",
              "45             16           78            0             0   105           2   \n",
              "46            988           12            0             0    63          25   \n",
              "47             22          245           14             0   240           0   \n",
              "48              0            0            0            11     4           0   \n",
              "\n",
              "topic  Banking  Biotech  BusinessServices  Chemicals  ...  RealEstate  \\\n",
              "age                                                   ...               \n",
              "13           2      109                 0         21  ...           3   \n",
              "14           0      136                14         32  ...           0   \n",
              "15           0      285                18        369  ...          72   \n",
              "16          17      131               184        522  ...           5   \n",
              "17         116       82               173         96  ...         525   \n",
              "23         250      176               429        797  ...         291   \n",
              "24         486      145              1004        533  ...         604   \n",
              "25        2008      619               615       1375  ...         331   \n",
              "26         154      181               650        120  ...          10   \n",
              "27         541       69               303          7  ...         133   \n",
              "33          75      201                73          0  ...           7   \n",
              "34         120       19               105          0  ...          20   \n",
              "35          28        0               118          2  ...          17   \n",
              "36          16        0                62          4  ...         741   \n",
              "37         155       33                21          1  ...          21   \n",
              "38           4        0               134          0  ...          33   \n",
              "39          25        0               148          1  ...          13   \n",
              "40          40        4                22          0  ...           0   \n",
              "41           0       38                17          0  ...           0   \n",
              "42           0        0                 1          0  ...           0   \n",
              "43           0        0                 0         48  ...           0   \n",
              "44           0        6                 7          0  ...           0   \n",
              "45           0        0                 0          0  ...           0   \n",
              "46           0        0                10          0  ...           0   \n",
              "47           0        0               392          0  ...          44   \n",
              "48          12        0                 0          0  ...           0   \n",
              "\n",
              "topic  Religion  Science  Sports-Recreation  Student  Technology  \\\n",
              "age                                                                \n",
              "13            4      291                 10     5310         154   \n",
              "14           30       53                 48    13491         129   \n",
              "15          147      185                167    20681         351   \n",
              "16          543      120                233    40077        2233   \n",
              "17          474       84                822    37608        2678   \n",
              "23          179     1108                766    12862        3140   \n",
              "24          273     1176                198     8569        7288   \n",
              "25           72     1520                324     6334        4787   \n",
              "26          592     1283                109     4624        5052   \n",
              "27         1260      938                 64     3467        5569   \n",
              "33          197       68                 62      121         745   \n",
              "34          147       62                 10      192        1521   \n",
              "35          456       36                 19      144        3834   \n",
              "36           27      134                 12       19        1307   \n",
              "37          309       87                 52      149         578   \n",
              "38            2       28                  0      111         461   \n",
              "39            0       45                  0       21         216   \n",
              "40            7       11                  2        0         305   \n",
              "41           24       17                  0       24         241   \n",
              "42           61        6                  5        5         128   \n",
              "43          250        4                135       33         183   \n",
              "44            0        0                  0        0         190   \n",
              "45           51        0                  0       36         805   \n",
              "46            0       13                  0        0          52   \n",
              "47           88        0                  0       21          69   \n",
              "48           42        0                  0        4          39   \n",
              "\n",
              "topic  Telecommunications  Tourism  Transportation  indUnk  \n",
              "age                                                         \n",
              "13                     15        0               0    5591  \n",
              "14                     50        5              18    9299  \n",
              "15                      0       46              13   14259  \n",
              "16                    162      177              42   21552  \n",
              "17                     13      116              73   25160  \n",
              "23                    170      481              78   26526  \n",
              "24                    240      110             244   32565  \n",
              "25                    789      452             159   23958  \n",
              "26                   1180      126             102   17686  \n",
              "27                     35      106             119   18212  \n",
              "33                    300       18             131    6318  \n",
              "34                    192       91             314   13128  \n",
              "35                     41       32             590    7879  \n",
              "36                    217       11             118    4902  \n",
              "37                    109        3              28    4050  \n",
              "38                     13       57              13    4802  \n",
              "39                    215        0             127    2636  \n",
              "40                      9       13               1    2805  \n",
              "41                      0        2              44    1511  \n",
              "42                     26        1               7    1611  \n",
              "43                      0        4              11    1369  \n",
              "44                     98       64              47     720  \n",
              "45                      4        0               0     969  \n",
              "46                      0        0              46     666  \n",
              "47                      0        0               1     617  \n",
              "48                     13       27               0    2224  \n",
              "\n",
              "[26 rows x 40 columns]"
            ],
            "text/html": [
              "\n",
              "  <div id=\"df-7aa61310-e6d0-4764-b252-e4694b95dfb4\">\n",
              "    <div class=\"colab-df-container\">\n",
              "      <div>\n",
              "<style scoped>\n",
              "    .dataframe tbody tr th:only-of-type {\n",
              "        vertical-align: middle;\n",
              "    }\n",
              "\n",
              "    .dataframe tbody tr th {\n",
              "        vertical-align: top;\n",
              "    }\n",
              "\n",
              "    .dataframe thead th {\n",
              "        text-align: right;\n",
              "    }\n",
              "</style>\n",
              "<table border=\"1\" class=\"dataframe\">\n",
              "  <thead>\n",
              "    <tr style=\"text-align: right;\">\n",
              "      <th>topic</th>\n",
              "      <th>Accounting</th>\n",
              "      <th>Advertising</th>\n",
              "      <th>Agriculture</th>\n",
              "      <th>Architecture</th>\n",
              "      <th>Arts</th>\n",
              "      <th>Automotive</th>\n",
              "      <th>Banking</th>\n",
              "      <th>Biotech</th>\n",
              "      <th>BusinessServices</th>\n",
              "      <th>Chemicals</th>\n",
              "      <th>...</th>\n",
              "      <th>RealEstate</th>\n",
              "      <th>Religion</th>\n",
              "      <th>Science</th>\n",
              "      <th>Sports-Recreation</th>\n",
              "      <th>Student</th>\n",
              "      <th>Technology</th>\n",
              "      <th>Telecommunications</th>\n",
              "      <th>Tourism</th>\n",
              "      <th>Transportation</th>\n",
              "      <th>indUnk</th>\n",
              "    </tr>\n",
              "    <tr>\n",
              "      <th>age</th>\n",
              "      <th></th>\n",
              "      <th></th>\n",
              "      <th></th>\n",
              "      <th></th>\n",
              "      <th></th>\n",
              "      <th></th>\n",
              "      <th></th>\n",
              "      <th></th>\n",
              "      <th></th>\n",
              "      <th></th>\n",
              "      <th></th>\n",
              "      <th></th>\n",
              "      <th></th>\n",
              "      <th></th>\n",
              "      <th></th>\n",
              "      <th></th>\n",
              "      <th></th>\n",
              "      <th></th>\n",
              "      <th></th>\n",
              "      <th></th>\n",
              "      <th></th>\n",
              "    </tr>\n",
              "  </thead>\n",
              "  <tbody>\n",
              "    <tr>\n",
              "      <th>13</th>\n",
              "      <td>0</td>\n",
              "      <td>11</td>\n",
              "      <td>0</td>\n",
              "      <td>0</td>\n",
              "      <td>167</td>\n",
              "      <td>0</td>\n",
              "      <td>2</td>\n",
              "      <td>109</td>\n",
              "      <td>0</td>\n",
              "      <td>21</td>\n",
              "      <td>...</td>\n",
              "      <td>3</td>\n",
              "      <td>4</td>\n",
              "      <td>291</td>\n",
              "      <td>10</td>\n",
              "      <td>5310</td>\n",
              "      <td>154</td>\n",
              "      <td>15</td>\n",
              "      <td>0</td>\n",
              "      <td>0</td>\n",
              "      <td>5591</td>\n",
              "    </tr>\n",
              "    <tr>\n",
              "      <th>14</th>\n",
              "      <td>0</td>\n",
              "      <td>0</td>\n",
              "      <td>73</td>\n",
              "      <td>33</td>\n",
              "      <td>1205</td>\n",
              "      <td>28</td>\n",
              "      <td>0</td>\n",
              "      <td>136</td>\n",
              "      <td>14</td>\n",
              "      <td>32</td>\n",
              "      <td>...</td>\n",
              "      <td>0</td>\n",
              "      <td>30</td>\n",
              "      <td>53</td>\n",
              "      <td>48</td>\n",
              "      <td>13491</td>\n",
              "      <td>129</td>\n",
              "      <td>50</td>\n",
              "      <td>5</td>\n",
              "      <td>18</td>\n",
              "      <td>9299</td>\n",
              "    </tr>\n",
              "    <tr>\n",
              "      <th>15</th>\n",
              "      <td>75</td>\n",
              "      <td>21</td>\n",
              "      <td>85</td>\n",
              "      <td>68</td>\n",
              "      <td>1313</td>\n",
              "      <td>29</td>\n",
              "      <td>0</td>\n",
              "      <td>285</td>\n",
              "      <td>18</td>\n",
              "      <td>369</td>\n",
              "      <td>...</td>\n",
              "      <td>72</td>\n",
              "      <td>147</td>\n",
              "      <td>185</td>\n",
              "      <td>167</td>\n",
              "      <td>20681</td>\n",
              "      <td>351</td>\n",
              "      <td>0</td>\n",
              "      <td>46</td>\n",
              "      <td>13</td>\n",
              "      <td>14259</td>\n",
              "    </tr>\n",
              "    <tr>\n",
              "      <th>16</th>\n",
              "      <td>79</td>\n",
              "      <td>12</td>\n",
              "      <td>119</td>\n",
              "      <td>13</td>\n",
              "      <td>2249</td>\n",
              "      <td>14</td>\n",
              "      <td>17</td>\n",
              "      <td>131</td>\n",
              "      <td>184</td>\n",
              "      <td>522</td>\n",
              "      <td>...</td>\n",
              "      <td>5</td>\n",
              "      <td>543</td>\n",
              "      <td>120</td>\n",
              "      <td>233</td>\n",
              "      <td>40077</td>\n",
              "      <td>2233</td>\n",
              "      <td>162</td>\n",
              "      <td>177</td>\n",
              "      <td>42</td>\n",
              "      <td>21552</td>\n",
              "    </tr>\n",
              "    <tr>\n",
              "      <th>17</th>\n",
              "      <td>158</td>\n",
              "      <td>65</td>\n",
              "      <td>82</td>\n",
              "      <td>25</td>\n",
              "      <td>1375</td>\n",
              "      <td>141</td>\n",
              "      <td>116</td>\n",
              "      <td>82</td>\n",
              "      <td>173</td>\n",
              "      <td>96</td>\n",
              "      <td>...</td>\n",
              "      <td>525</td>\n",
              "      <td>474</td>\n",
              "      <td>84</td>\n",
              "      <td>822</td>\n",
              "      <td>37608</td>\n",
              "      <td>2678</td>\n",
              "      <td>13</td>\n",
              "      <td>116</td>\n",
              "      <td>73</td>\n",
              "      <td>25160</td>\n",
              "    </tr>\n",
              "    <tr>\n",
              "      <th>23</th>\n",
              "      <td>782</td>\n",
              "      <td>1501</td>\n",
              "      <td>180</td>\n",
              "      <td>156</td>\n",
              "      <td>3125</td>\n",
              "      <td>63</td>\n",
              "      <td>250</td>\n",
              "      <td>176</td>\n",
              "      <td>429</td>\n",
              "      <td>797</td>\n",
              "      <td>...</td>\n",
              "      <td>291</td>\n",
              "      <td>179</td>\n",
              "      <td>1108</td>\n",
              "      <td>766</td>\n",
              "      <td>12862</td>\n",
              "      <td>3140</td>\n",
              "      <td>170</td>\n",
              "      <td>481</td>\n",
              "      <td>78</td>\n",
              "      <td>26526</td>\n",
              "    </tr>\n",
              "    <tr>\n",
              "      <th>24</th>\n",
              "      <td>541</td>\n",
              "      <td>400</td>\n",
              "      <td>190</td>\n",
              "      <td>383</td>\n",
              "      <td>6938</td>\n",
              "      <td>26</td>\n",
              "      <td>486</td>\n",
              "      <td>145</td>\n",
              "      <td>1004</td>\n",
              "      <td>533</td>\n",
              "      <td>...</td>\n",
              "      <td>604</td>\n",
              "      <td>273</td>\n",
              "      <td>1176</td>\n",
              "      <td>198</td>\n",
              "      <td>8569</td>\n",
              "      <td>7288</td>\n",
              "      <td>240</td>\n",
              "      <td>110</td>\n",
              "      <td>244</td>\n",
              "      <td>32565</td>\n",
              "    </tr>\n",
              "    <tr>\n",
              "      <th>25</th>\n",
              "      <td>480</td>\n",
              "      <td>277</td>\n",
              "      <td>40</td>\n",
              "      <td>268</td>\n",
              "      <td>5231</td>\n",
              "      <td>300</td>\n",
              "      <td>2008</td>\n",
              "      <td>619</td>\n",
              "      <td>615</td>\n",
              "      <td>1375</td>\n",
              "      <td>...</td>\n",
              "      <td>331</td>\n",
              "      <td>72</td>\n",
              "      <td>1520</td>\n",
              "      <td>324</td>\n",
              "      <td>6334</td>\n",
              "      <td>4787</td>\n",
              "      <td>789</td>\n",
              "      <td>452</td>\n",
              "      <td>159</td>\n",
              "      <td>23958</td>\n",
              "    </tr>\n",
              "    <tr>\n",
              "      <th>26</th>\n",
              "      <td>123</td>\n",
              "      <td>664</td>\n",
              "      <td>287</td>\n",
              "      <td>157</td>\n",
              "      <td>3496</td>\n",
              "      <td>81</td>\n",
              "      <td>154</td>\n",
              "      <td>181</td>\n",
              "      <td>650</td>\n",
              "      <td>120</td>\n",
              "      <td>...</td>\n",
              "      <td>10</td>\n",
              "      <td>592</td>\n",
              "      <td>1283</td>\n",
              "      <td>109</td>\n",
              "      <td>4624</td>\n",
              "      <td>5052</td>\n",
              "      <td>1180</td>\n",
              "      <td>126</td>\n",
              "      <td>102</td>\n",
              "      <td>17686</td>\n",
              "    </tr>\n",
              "    <tr>\n",
              "      <th>27</th>\n",
              "      <td>146</td>\n",
              "      <td>303</td>\n",
              "      <td>4</td>\n",
              "      <td>75</td>\n",
              "      <td>1641</td>\n",
              "      <td>18</td>\n",
              "      <td>541</td>\n",
              "      <td>69</td>\n",
              "      <td>303</td>\n",
              "      <td>7</td>\n",
              "      <td>...</td>\n",
              "      <td>133</td>\n",
              "      <td>1260</td>\n",
              "      <td>938</td>\n",
              "      <td>64</td>\n",
              "      <td>3467</td>\n",
              "      <td>5569</td>\n",
              "      <td>35</td>\n",
              "      <td>106</td>\n",
              "      <td>119</td>\n",
              "      <td>18212</td>\n",
              "    </tr>\n",
              "    <tr>\n",
              "      <th>33</th>\n",
              "      <td>4</td>\n",
              "      <td>91</td>\n",
              "      <td>136</td>\n",
              "      <td>206</td>\n",
              "      <td>1300</td>\n",
              "      <td>97</td>\n",
              "      <td>75</td>\n",
              "      <td>201</td>\n",
              "      <td>73</td>\n",
              "      <td>0</td>\n",
              "      <td>...</td>\n",
              "      <td>7</td>\n",
              "      <td>197</td>\n",
              "      <td>68</td>\n",
              "      <td>62</td>\n",
              "      <td>121</td>\n",
              "      <td>745</td>\n",
              "      <td>300</td>\n",
              "      <td>18</td>\n",
              "      <td>131</td>\n",
              "      <td>6318</td>\n",
              "    </tr>\n",
              "    <tr>\n",
              "      <th>34</th>\n",
              "      <td>57</td>\n",
              "      <td>132</td>\n",
              "      <td>0</td>\n",
              "      <td>137</td>\n",
              "      <td>557</td>\n",
              "      <td>0</td>\n",
              "      <td>120</td>\n",
              "      <td>19</td>\n",
              "      <td>105</td>\n",
              "      <td>0</td>\n",
              "      <td>...</td>\n",
              "      <td>20</td>\n",
              "      <td>147</td>\n",
              "      <td>62</td>\n",
              "      <td>10</td>\n",
              "      <td>192</td>\n",
              "      <td>1521</td>\n",
              "      <td>192</td>\n",
              "      <td>91</td>\n",
              "      <td>314</td>\n",
              "      <td>13128</td>\n",
              "    </tr>\n",
              "    <tr>\n",
              "      <th>35</th>\n",
              "      <td>11</td>\n",
              "      <td>69</td>\n",
              "      <td>0</td>\n",
              "      <td>0</td>\n",
              "      <td>549</td>\n",
              "      <td>104</td>\n",
              "      <td>28</td>\n",
              "      <td>0</td>\n",
              "      <td>118</td>\n",
              "      <td>2</td>\n",
              "      <td>...</td>\n",
              "      <td>17</td>\n",
              "      <td>456</td>\n",
              "      <td>36</td>\n",
              "      <td>19</td>\n",
              "      <td>144</td>\n",
              "      <td>3834</td>\n",
              "      <td>41</td>\n",
              "      <td>32</td>\n",
              "      <td>590</td>\n",
              "      <td>7879</td>\n",
              "    </tr>\n",
              "    <tr>\n",
              "      <th>36</th>\n",
              "      <td>4</td>\n",
              "      <td>619</td>\n",
              "      <td>6</td>\n",
              "      <td>24</td>\n",
              "      <td>336</td>\n",
              "      <td>184</td>\n",
              "      <td>16</td>\n",
              "      <td>0</td>\n",
              "      <td>62</td>\n",
              "      <td>4</td>\n",
              "      <td>...</td>\n",
              "      <td>741</td>\n",
              "      <td>27</td>\n",
              "      <td>134</td>\n",
              "      <td>12</td>\n",
              "      <td>19</td>\n",
              "      <td>1307</td>\n",
              "      <td>217</td>\n",
              "      <td>11</td>\n",
              "      <td>118</td>\n",
              "      <td>4902</td>\n",
              "    </tr>\n",
              "    <tr>\n",
              "      <th>37</th>\n",
              "      <td>197</td>\n",
              "      <td>0</td>\n",
              "      <td>0</td>\n",
              "      <td>15</td>\n",
              "      <td>573</td>\n",
              "      <td>123</td>\n",
              "      <td>155</td>\n",
              "      <td>33</td>\n",
              "      <td>21</td>\n",
              "      <td>1</td>\n",
              "      <td>...</td>\n",
              "      <td>21</td>\n",
              "      <td>309</td>\n",
              "      <td>87</td>\n",
              "      <td>52</td>\n",
              "      <td>149</td>\n",
              "      <td>578</td>\n",
              "      <td>109</td>\n",
              "      <td>3</td>\n",
              "      <td>28</td>\n",
              "      <td>4050</td>\n",
              "    </tr>\n",
              "    <tr>\n",
              "      <th>38</th>\n",
              "      <td>86</td>\n",
              "      <td>0</td>\n",
              "      <td>0</td>\n",
              "      <td>0</td>\n",
              "      <td>195</td>\n",
              "      <td>0</td>\n",
              "      <td>4</td>\n",
              "      <td>0</td>\n",
              "      <td>134</td>\n",
              "      <td>0</td>\n",
              "      <td>...</td>\n",
              "      <td>33</td>\n",
              "      <td>2</td>\n",
              "      <td>28</td>\n",
              "      <td>0</td>\n",
              "      <td>111</td>\n",
              "      <td>461</td>\n",
              "      <td>13</td>\n",
              "      <td>57</td>\n",
              "      <td>13</td>\n",
              "      <td>4802</td>\n",
              "    </tr>\n",
              "    <tr>\n",
              "      <th>39</th>\n",
              "      <td>0</td>\n",
              "      <td>58</td>\n",
              "      <td>0</td>\n",
              "      <td>44</td>\n",
              "      <td>781</td>\n",
              "      <td>5</td>\n",
              "      <td>25</td>\n",
              "      <td>0</td>\n",
              "      <td>148</td>\n",
              "      <td>1</td>\n",
              "      <td>...</td>\n",
              "      <td>13</td>\n",
              "      <td>0</td>\n",
              "      <td>45</td>\n",
              "      <td>0</td>\n",
              "      <td>21</td>\n",
              "      <td>216</td>\n",
              "      <td>215</td>\n",
              "      <td>0</td>\n",
              "      <td>127</td>\n",
              "      <td>2636</td>\n",
              "    </tr>\n",
              "    <tr>\n",
              "      <th>40</th>\n",
              "      <td>27</td>\n",
              "      <td>9</td>\n",
              "      <td>11</td>\n",
              "      <td>4</td>\n",
              "      <td>73</td>\n",
              "      <td>0</td>\n",
              "      <td>40</td>\n",
              "      <td>4</td>\n",
              "      <td>22</td>\n",
              "      <td>0</td>\n",
              "      <td>...</td>\n",
              "      <td>0</td>\n",
              "      <td>7</td>\n",
              "      <td>11</td>\n",
              "      <td>2</td>\n",
              "      <td>0</td>\n",
              "      <td>305</td>\n",
              "      <td>9</td>\n",
              "      <td>13</td>\n",
              "      <td>1</td>\n",
              "      <td>2805</td>\n",
              "    </tr>\n",
              "    <tr>\n",
              "      <th>41</th>\n",
              "      <td>0</td>\n",
              "      <td>33</td>\n",
              "      <td>0</td>\n",
              "      <td>19</td>\n",
              "      <td>624</td>\n",
              "      <td>4</td>\n",
              "      <td>0</td>\n",
              "      <td>38</td>\n",
              "      <td>17</td>\n",
              "      <td>0</td>\n",
              "      <td>...</td>\n",
              "      <td>0</td>\n",
              "      <td>24</td>\n",
              "      <td>17</td>\n",
              "      <td>0</td>\n",
              "      <td>24</td>\n",
              "      <td>241</td>\n",
              "      <td>0</td>\n",
              "      <td>2</td>\n",
              "      <td>44</td>\n",
              "      <td>1511</td>\n",
              "    </tr>\n",
              "    <tr>\n",
              "      <th>42</th>\n",
              "      <td>33</td>\n",
              "      <td>40</td>\n",
              "      <td>8</td>\n",
              "      <td>0</td>\n",
              "      <td>55</td>\n",
              "      <td>0</td>\n",
              "      <td>0</td>\n",
              "      <td>0</td>\n",
              "      <td>1</td>\n",
              "      <td>0</td>\n",
              "      <td>...</td>\n",
              "      <td>0</td>\n",
              "      <td>61</td>\n",
              "      <td>6</td>\n",
              "      <td>5</td>\n",
              "      <td>5</td>\n",
              "      <td>128</td>\n",
              "      <td>26</td>\n",
              "      <td>1</td>\n",
              "      <td>7</td>\n",
              "      <td>1611</td>\n",
              "    </tr>\n",
              "    <tr>\n",
              "      <th>43</th>\n",
              "      <td>0</td>\n",
              "      <td>36</td>\n",
              "      <td>0</td>\n",
              "      <td>0</td>\n",
              "      <td>245</td>\n",
              "      <td>0</td>\n",
              "      <td>0</td>\n",
              "      <td>0</td>\n",
              "      <td>0</td>\n",
              "      <td>48</td>\n",
              "      <td>...</td>\n",
              "      <td>0</td>\n",
              "      <td>250</td>\n",
              "      <td>4</td>\n",
              "      <td>135</td>\n",
              "      <td>33</td>\n",
              "      <td>183</td>\n",
              "      <td>0</td>\n",
              "      <td>4</td>\n",
              "      <td>11</td>\n",
              "      <td>1369</td>\n",
              "    </tr>\n",
              "    <tr>\n",
              "      <th>44</th>\n",
              "      <td>3</td>\n",
              "      <td>0</td>\n",
              "      <td>0</td>\n",
              "      <td>0</td>\n",
              "      <td>9</td>\n",
              "      <td>0</td>\n",
              "      <td>0</td>\n",
              "      <td>6</td>\n",
              "      <td>7</td>\n",
              "      <td>0</td>\n",
              "      <td>...</td>\n",
              "      <td>0</td>\n",
              "      <td>0</td>\n",
              "      <td>0</td>\n",
              "      <td>0</td>\n",
              "      <td>0</td>\n",
              "      <td>190</td>\n",
              "      <td>98</td>\n",
              "      <td>64</td>\n",
              "      <td>47</td>\n",
              "      <td>720</td>\n",
              "    </tr>\n",
              "    <tr>\n",
              "      <th>45</th>\n",
              "      <td>16</td>\n",
              "      <td>78</td>\n",
              "      <td>0</td>\n",
              "      <td>0</td>\n",
              "      <td>105</td>\n",
              "      <td>2</td>\n",
              "      <td>0</td>\n",
              "      <td>0</td>\n",
              "      <td>0</td>\n",
              "      <td>0</td>\n",
              "      <td>...</td>\n",
              "      <td>0</td>\n",
              "      <td>51</td>\n",
              "      <td>0</td>\n",
              "      <td>0</td>\n",
              "      <td>36</td>\n",
              "      <td>805</td>\n",
              "      <td>4</td>\n",
              "      <td>0</td>\n",
              "      <td>0</td>\n",
              "      <td>969</td>\n",
              "    </tr>\n",
              "    <tr>\n",
              "      <th>46</th>\n",
              "      <td>988</td>\n",
              "      <td>12</td>\n",
              "      <td>0</td>\n",
              "      <td>0</td>\n",
              "      <td>63</td>\n",
              "      <td>25</td>\n",
              "      <td>0</td>\n",
              "      <td>0</td>\n",
              "      <td>10</td>\n",
              "      <td>0</td>\n",
              "      <td>...</td>\n",
              "      <td>0</td>\n",
              "      <td>0</td>\n",
              "      <td>13</td>\n",
              "      <td>0</td>\n",
              "      <td>0</td>\n",
              "      <td>52</td>\n",
              "      <td>0</td>\n",
              "      <td>0</td>\n",
              "      <td>46</td>\n",
              "      <td>666</td>\n",
              "    </tr>\n",
              "    <tr>\n",
              "      <th>47</th>\n",
              "      <td>22</td>\n",
              "      <td>245</td>\n",
              "      <td>14</td>\n",
              "      <td>0</td>\n",
              "      <td>240</td>\n",
              "      <td>0</td>\n",
              "      <td>0</td>\n",
              "      <td>0</td>\n",
              "      <td>392</td>\n",
              "      <td>0</td>\n",
              "      <td>...</td>\n",
              "      <td>44</td>\n",
              "      <td>88</td>\n",
              "      <td>0</td>\n",
              "      <td>0</td>\n",
              "      <td>21</td>\n",
              "      <td>69</td>\n",
              "      <td>0</td>\n",
              "      <td>0</td>\n",
              "      <td>1</td>\n",
              "      <td>617</td>\n",
              "    </tr>\n",
              "    <tr>\n",
              "      <th>48</th>\n",
              "      <td>0</td>\n",
              "      <td>0</td>\n",
              "      <td>0</td>\n",
              "      <td>11</td>\n",
              "      <td>4</td>\n",
              "      <td>0</td>\n",
              "      <td>12</td>\n",
              "      <td>0</td>\n",
              "      <td>0</td>\n",
              "      <td>0</td>\n",
              "      <td>...</td>\n",
              "      <td>0</td>\n",
              "      <td>42</td>\n",
              "      <td>0</td>\n",
              "      <td>0</td>\n",
              "      <td>4</td>\n",
              "      <td>39</td>\n",
              "      <td>13</td>\n",
              "      <td>27</td>\n",
              "      <td>0</td>\n",
              "      <td>2224</td>\n",
              "    </tr>\n",
              "  </tbody>\n",
              "</table>\n",
              "<p>26 rows × 40 columns</p>\n",
              "</div>\n",
              "      <button class=\"colab-df-convert\" onclick=\"convertToInteractive('df-7aa61310-e6d0-4764-b252-e4694b95dfb4')\"\n",
              "              title=\"Convert this dataframe to an interactive table.\"\n",
              "              style=\"display:none;\">\n",
              "        \n",
              "  <svg xmlns=\"http://www.w3.org/2000/svg\" height=\"24px\"viewBox=\"0 0 24 24\"\n",
              "       width=\"24px\">\n",
              "    <path d=\"M0 0h24v24H0V0z\" fill=\"none\"/>\n",
              "    <path d=\"M18.56 5.44l.94 2.06.94-2.06 2.06-.94-2.06-.94-.94-2.06-.94 2.06-2.06.94zm-11 1L8.5 8.5l.94-2.06 2.06-.94-2.06-.94L8.5 2.5l-.94 2.06-2.06.94zm10 10l.94 2.06.94-2.06 2.06-.94-2.06-.94-.94-2.06-.94 2.06-2.06.94z\"/><path d=\"M17.41 7.96l-1.37-1.37c-.4-.4-.92-.59-1.43-.59-.52 0-1.04.2-1.43.59L10.3 9.45l-7.72 7.72c-.78.78-.78 2.05 0 2.83L4 21.41c.39.39.9.59 1.41.59.51 0 1.02-.2 1.41-.59l7.78-7.78 2.81-2.81c.8-.78.8-2.07 0-2.86zM5.41 20L4 18.59l7.72-7.72 1.47 1.35L5.41 20z\"/>\n",
              "  </svg>\n",
              "      </button>\n",
              "      \n",
              "  <style>\n",
              "    .colab-df-container {\n",
              "      display:flex;\n",
              "      flex-wrap:wrap;\n",
              "      gap: 12px;\n",
              "    }\n",
              "\n",
              "    .colab-df-convert {\n",
              "      background-color: #E8F0FE;\n",
              "      border: none;\n",
              "      border-radius: 50%;\n",
              "      cursor: pointer;\n",
              "      display: none;\n",
              "      fill: #1967D2;\n",
              "      height: 32px;\n",
              "      padding: 0 0 0 0;\n",
              "      width: 32px;\n",
              "    }\n",
              "\n",
              "    .colab-df-convert:hover {\n",
              "      background-color: #E2EBFA;\n",
              "      box-shadow: 0px 1px 2px rgba(60, 64, 67, 0.3), 0px 1px 3px 1px rgba(60, 64, 67, 0.15);\n",
              "      fill: #174EA6;\n",
              "    }\n",
              "\n",
              "    [theme=dark] .colab-df-convert {\n",
              "      background-color: #3B4455;\n",
              "      fill: #D2E3FC;\n",
              "    }\n",
              "\n",
              "    [theme=dark] .colab-df-convert:hover {\n",
              "      background-color: #434B5C;\n",
              "      box-shadow: 0px 1px 3px 1px rgba(0, 0, 0, 0.15);\n",
              "      filter: drop-shadow(0px 1px 2px rgba(0, 0, 0, 0.3));\n",
              "      fill: #FFFFFF;\n",
              "    }\n",
              "  </style>\n",
              "\n",
              "      <script>\n",
              "        const buttonEl =\n",
              "          document.querySelector('#df-7aa61310-e6d0-4764-b252-e4694b95dfb4 button.colab-df-convert');\n",
              "        buttonEl.style.display =\n",
              "          google.colab.kernel.accessAllowed ? 'block' : 'none';\n",
              "\n",
              "        async function convertToInteractive(key) {\n",
              "          const element = document.querySelector('#df-7aa61310-e6d0-4764-b252-e4694b95dfb4');\n",
              "          const dataTable =\n",
              "            await google.colab.kernel.invokeFunction('convertToInteractive',\n",
              "                                                     [key], {});\n",
              "          if (!dataTable) return;\n",
              "\n",
              "          const docLinkHtml = 'Like what you see? Visit the ' +\n",
              "            '<a target=\"_blank\" href=https://colab.research.google.com/notebooks/data_table.ipynb>data table notebook</a>'\n",
              "            + ' to learn more about interactive tables.';\n",
              "          element.innerHTML = '';\n",
              "          dataTable['output_type'] = 'display_data';\n",
              "          await google.colab.output.renderOutput(dataTable, element);\n",
              "          const docLink = document.createElement('div');\n",
              "          docLink.innerHTML = docLinkHtml;\n",
              "          element.appendChild(docLink);\n",
              "        }\n",
              "      </script>\n",
              "    </div>\n",
              "  </div>\n",
              "  "
            ]
          },
          "metadata": {},
          "execution_count": 40
        }
      ]
    },
    {
      "cell_type": "code",
      "source": [
        "data.describe(include=\"all\")"
      ],
      "metadata": {
        "colab": {
          "base_uri": "https://localhost:8080/",
          "height": 394
        },
        "id": "ZV5ov87DQzhC",
        "outputId": "47642b2c-73d7-4525-99e0-1e9d7ac69bd3"
      },
      "execution_count": 41,
      "outputs": [
        {
          "output_type": "execute_result",
          "data": {
            "text/plain": [
              "                  id  gender            age   topic    sign            date  \\\n",
              "count   6.812840e+05  681284  681284.000000  681284  681284          681284   \n",
              "unique           NaN       2            NaN      40      12            2616   \n",
              "top              NaN    male            NaN  indUnk  Cancer  02,August,2004   \n",
              "freq             NaN  345193            NaN  251015   65048           16544   \n",
              "mean    2.397802e+06     NaN      23.932326     NaN     NaN             NaN   \n",
              "std     1.247723e+06     NaN       7.786009     NaN     NaN             NaN   \n",
              "min     5.114000e+03     NaN      13.000000     NaN     NaN             NaN   \n",
              "25%     1.239610e+06     NaN      17.000000     NaN     NaN             NaN   \n",
              "50%     2.607577e+06     NaN      24.000000     NaN     NaN             NaN   \n",
              "75%     3.525660e+06     NaN      26.000000     NaN     NaN             NaN   \n",
              "max     4.337650e+06     NaN      48.000000     NaN     NaN             NaN   \n",
              "\n",
              "                       text  \n",
              "count                681284  \n",
              "unique               611652  \n",
              "top              urlLink     \n",
              "freq                    445  \n",
              "mean                    NaN  \n",
              "std                     NaN  \n",
              "min                     NaN  \n",
              "25%                     NaN  \n",
              "50%                     NaN  \n",
              "75%                     NaN  \n",
              "max                     NaN  "
            ],
            "text/html": [
              "\n",
              "  <div id=\"df-17f88d10-d0a6-49d7-bab2-e0613fa638e7\">\n",
              "    <div class=\"colab-df-container\">\n",
              "      <div>\n",
              "<style scoped>\n",
              "    .dataframe tbody tr th:only-of-type {\n",
              "        vertical-align: middle;\n",
              "    }\n",
              "\n",
              "    .dataframe tbody tr th {\n",
              "        vertical-align: top;\n",
              "    }\n",
              "\n",
              "    .dataframe thead th {\n",
              "        text-align: right;\n",
              "    }\n",
              "</style>\n",
              "<table border=\"1\" class=\"dataframe\">\n",
              "  <thead>\n",
              "    <tr style=\"text-align: right;\">\n",
              "      <th></th>\n",
              "      <th>id</th>\n",
              "      <th>gender</th>\n",
              "      <th>age</th>\n",
              "      <th>topic</th>\n",
              "      <th>sign</th>\n",
              "      <th>date</th>\n",
              "      <th>text</th>\n",
              "    </tr>\n",
              "  </thead>\n",
              "  <tbody>\n",
              "    <tr>\n",
              "      <th>count</th>\n",
              "      <td>6.812840e+05</td>\n",
              "      <td>681284</td>\n",
              "      <td>681284.000000</td>\n",
              "      <td>681284</td>\n",
              "      <td>681284</td>\n",
              "      <td>681284</td>\n",
              "      <td>681284</td>\n",
              "    </tr>\n",
              "    <tr>\n",
              "      <th>unique</th>\n",
              "      <td>NaN</td>\n",
              "      <td>2</td>\n",
              "      <td>NaN</td>\n",
              "      <td>40</td>\n",
              "      <td>12</td>\n",
              "      <td>2616</td>\n",
              "      <td>611652</td>\n",
              "    </tr>\n",
              "    <tr>\n",
              "      <th>top</th>\n",
              "      <td>NaN</td>\n",
              "      <td>male</td>\n",
              "      <td>NaN</td>\n",
              "      <td>indUnk</td>\n",
              "      <td>Cancer</td>\n",
              "      <td>02,August,2004</td>\n",
              "      <td>urlLink</td>\n",
              "    </tr>\n",
              "    <tr>\n",
              "      <th>freq</th>\n",
              "      <td>NaN</td>\n",
              "      <td>345193</td>\n",
              "      <td>NaN</td>\n",
              "      <td>251015</td>\n",
              "      <td>65048</td>\n",
              "      <td>16544</td>\n",
              "      <td>445</td>\n",
              "    </tr>\n",
              "    <tr>\n",
              "      <th>mean</th>\n",
              "      <td>2.397802e+06</td>\n",
              "      <td>NaN</td>\n",
              "      <td>23.932326</td>\n",
              "      <td>NaN</td>\n",
              "      <td>NaN</td>\n",
              "      <td>NaN</td>\n",
              "      <td>NaN</td>\n",
              "    </tr>\n",
              "    <tr>\n",
              "      <th>std</th>\n",
              "      <td>1.247723e+06</td>\n",
              "      <td>NaN</td>\n",
              "      <td>7.786009</td>\n",
              "      <td>NaN</td>\n",
              "      <td>NaN</td>\n",
              "      <td>NaN</td>\n",
              "      <td>NaN</td>\n",
              "    </tr>\n",
              "    <tr>\n",
              "      <th>min</th>\n",
              "      <td>5.114000e+03</td>\n",
              "      <td>NaN</td>\n",
              "      <td>13.000000</td>\n",
              "      <td>NaN</td>\n",
              "      <td>NaN</td>\n",
              "      <td>NaN</td>\n",
              "      <td>NaN</td>\n",
              "    </tr>\n",
              "    <tr>\n",
              "      <th>25%</th>\n",
              "      <td>1.239610e+06</td>\n",
              "      <td>NaN</td>\n",
              "      <td>17.000000</td>\n",
              "      <td>NaN</td>\n",
              "      <td>NaN</td>\n",
              "      <td>NaN</td>\n",
              "      <td>NaN</td>\n",
              "    </tr>\n",
              "    <tr>\n",
              "      <th>50%</th>\n",
              "      <td>2.607577e+06</td>\n",
              "      <td>NaN</td>\n",
              "      <td>24.000000</td>\n",
              "      <td>NaN</td>\n",
              "      <td>NaN</td>\n",
              "      <td>NaN</td>\n",
              "      <td>NaN</td>\n",
              "    </tr>\n",
              "    <tr>\n",
              "      <th>75%</th>\n",
              "      <td>3.525660e+06</td>\n",
              "      <td>NaN</td>\n",
              "      <td>26.000000</td>\n",
              "      <td>NaN</td>\n",
              "      <td>NaN</td>\n",
              "      <td>NaN</td>\n",
              "      <td>NaN</td>\n",
              "    </tr>\n",
              "    <tr>\n",
              "      <th>max</th>\n",
              "      <td>4.337650e+06</td>\n",
              "      <td>NaN</td>\n",
              "      <td>48.000000</td>\n",
              "      <td>NaN</td>\n",
              "      <td>NaN</td>\n",
              "      <td>NaN</td>\n",
              "      <td>NaN</td>\n",
              "    </tr>\n",
              "  </tbody>\n",
              "</table>\n",
              "</div>\n",
              "      <button class=\"colab-df-convert\" onclick=\"convertToInteractive('df-17f88d10-d0a6-49d7-bab2-e0613fa638e7')\"\n",
              "              title=\"Convert this dataframe to an interactive table.\"\n",
              "              style=\"display:none;\">\n",
              "        \n",
              "  <svg xmlns=\"http://www.w3.org/2000/svg\" height=\"24px\"viewBox=\"0 0 24 24\"\n",
              "       width=\"24px\">\n",
              "    <path d=\"M0 0h24v24H0V0z\" fill=\"none\"/>\n",
              "    <path d=\"M18.56 5.44l.94 2.06.94-2.06 2.06-.94-2.06-.94-.94-2.06-.94 2.06-2.06.94zm-11 1L8.5 8.5l.94-2.06 2.06-.94-2.06-.94L8.5 2.5l-.94 2.06-2.06.94zm10 10l.94 2.06.94-2.06 2.06-.94-2.06-.94-.94-2.06-.94 2.06-2.06.94z\"/><path d=\"M17.41 7.96l-1.37-1.37c-.4-.4-.92-.59-1.43-.59-.52 0-1.04.2-1.43.59L10.3 9.45l-7.72 7.72c-.78.78-.78 2.05 0 2.83L4 21.41c.39.39.9.59 1.41.59.51 0 1.02-.2 1.41-.59l7.78-7.78 2.81-2.81c.8-.78.8-2.07 0-2.86zM5.41 20L4 18.59l7.72-7.72 1.47 1.35L5.41 20z\"/>\n",
              "  </svg>\n",
              "      </button>\n",
              "      \n",
              "  <style>\n",
              "    .colab-df-container {\n",
              "      display:flex;\n",
              "      flex-wrap:wrap;\n",
              "      gap: 12px;\n",
              "    }\n",
              "\n",
              "    .colab-df-convert {\n",
              "      background-color: #E8F0FE;\n",
              "      border: none;\n",
              "      border-radius: 50%;\n",
              "      cursor: pointer;\n",
              "      display: none;\n",
              "      fill: #1967D2;\n",
              "      height: 32px;\n",
              "      padding: 0 0 0 0;\n",
              "      width: 32px;\n",
              "    }\n",
              "\n",
              "    .colab-df-convert:hover {\n",
              "      background-color: #E2EBFA;\n",
              "      box-shadow: 0px 1px 2px rgba(60, 64, 67, 0.3), 0px 1px 3px 1px rgba(60, 64, 67, 0.15);\n",
              "      fill: #174EA6;\n",
              "    }\n",
              "\n",
              "    [theme=dark] .colab-df-convert {\n",
              "      background-color: #3B4455;\n",
              "      fill: #D2E3FC;\n",
              "    }\n",
              "\n",
              "    [theme=dark] .colab-df-convert:hover {\n",
              "      background-color: #434B5C;\n",
              "      box-shadow: 0px 1px 3px 1px rgba(0, 0, 0, 0.15);\n",
              "      filter: drop-shadow(0px 1px 2px rgba(0, 0, 0, 0.3));\n",
              "      fill: #FFFFFF;\n",
              "    }\n",
              "  </style>\n",
              "\n",
              "      <script>\n",
              "        const buttonEl =\n",
              "          document.querySelector('#df-17f88d10-d0a6-49d7-bab2-e0613fa638e7 button.colab-df-convert');\n",
              "        buttonEl.style.display =\n",
              "          google.colab.kernel.accessAllowed ? 'block' : 'none';\n",
              "\n",
              "        async function convertToInteractive(key) {\n",
              "          const element = document.querySelector('#df-17f88d10-d0a6-49d7-bab2-e0613fa638e7');\n",
              "          const dataTable =\n",
              "            await google.colab.kernel.invokeFunction('convertToInteractive',\n",
              "                                                     [key], {});\n",
              "          if (!dataTable) return;\n",
              "\n",
              "          const docLinkHtml = 'Like what you see? Visit the ' +\n",
              "            '<a target=\"_blank\" href=https://colab.research.google.com/notebooks/data_table.ipynb>data table notebook</a>'\n",
              "            + ' to learn more about interactive tables.';\n",
              "          element.innerHTML = '';\n",
              "          dataTable['output_type'] = 'display_data';\n",
              "          await google.colab.output.renderOutput(dataTable, element);\n",
              "          const docLink = document.createElement('div');\n",
              "          docLink.innerHTML = docLinkHtml;\n",
              "          element.appendChild(docLink);\n",
              "        }\n",
              "      </script>\n",
              "    </div>\n",
              "  </div>\n",
              "  "
            ]
          },
          "metadata": {},
          "execution_count": 41
        }
      ]
    },
    {
      "cell_type": "code",
      "source": [
        "Male=data.groupby('gender')"
      ],
      "metadata": {
        "id": "-TN_XuyfOq_2"
      },
      "execution_count": 43,
      "outputs": []
    },
    {
      "cell_type": "code",
      "source": [
        "Male.first()"
      ],
      "metadata": {
        "colab": {
          "base_uri": "https://localhost:8080/",
          "height": 143
        },
        "id": "hsU6w90UjGz6",
        "outputId": "0819be4f-161f-4ed2-de33-e30d41054771"
      },
      "execution_count": 44,
      "outputs": [
        {
          "output_type": "execute_result",
          "data": {
            "text/plain": [
              "             id  age    topic   sign          date  \\\n",
              "gender                                               \n",
              "female  3539003   14   indUnk  Aries  07,June,2004   \n",
              "male    2059027   15  Student    Leo   14,May,2004   \n",
              "\n",
              "                                                     text  \n",
              "gender                                                     \n",
              "female                    O= optimist P= pessimist  My...  \n",
              "male               Info has been found (+/- 100 pages,...  "
            ],
            "text/html": [
              "\n",
              "  <div id=\"df-f6529ccd-9de4-491e-910a-04837dd351ea\">\n",
              "    <div class=\"colab-df-container\">\n",
              "      <div>\n",
              "<style scoped>\n",
              "    .dataframe tbody tr th:only-of-type {\n",
              "        vertical-align: middle;\n",
              "    }\n",
              "\n",
              "    .dataframe tbody tr th {\n",
              "        vertical-align: top;\n",
              "    }\n",
              "\n",
              "    .dataframe thead th {\n",
              "        text-align: right;\n",
              "    }\n",
              "</style>\n",
              "<table border=\"1\" class=\"dataframe\">\n",
              "  <thead>\n",
              "    <tr style=\"text-align: right;\">\n",
              "      <th></th>\n",
              "      <th>id</th>\n",
              "      <th>age</th>\n",
              "      <th>topic</th>\n",
              "      <th>sign</th>\n",
              "      <th>date</th>\n",
              "      <th>text</th>\n",
              "    </tr>\n",
              "    <tr>\n",
              "      <th>gender</th>\n",
              "      <th></th>\n",
              "      <th></th>\n",
              "      <th></th>\n",
              "      <th></th>\n",
              "      <th></th>\n",
              "      <th></th>\n",
              "    </tr>\n",
              "  </thead>\n",
              "  <tbody>\n",
              "    <tr>\n",
              "      <th>female</th>\n",
              "      <td>3539003</td>\n",
              "      <td>14</td>\n",
              "      <td>indUnk</td>\n",
              "      <td>Aries</td>\n",
              "      <td>07,June,2004</td>\n",
              "      <td>O= optimist P= pessimist  My...</td>\n",
              "    </tr>\n",
              "    <tr>\n",
              "      <th>male</th>\n",
              "      <td>2059027</td>\n",
              "      <td>15</td>\n",
              "      <td>Student</td>\n",
              "      <td>Leo</td>\n",
              "      <td>14,May,2004</td>\n",
              "      <td>Info has been found (+/- 100 pages,...</td>\n",
              "    </tr>\n",
              "  </tbody>\n",
              "</table>\n",
              "</div>\n",
              "      <button class=\"colab-df-convert\" onclick=\"convertToInteractive('df-f6529ccd-9de4-491e-910a-04837dd351ea')\"\n",
              "              title=\"Convert this dataframe to an interactive table.\"\n",
              "              style=\"display:none;\">\n",
              "        \n",
              "  <svg xmlns=\"http://www.w3.org/2000/svg\" height=\"24px\"viewBox=\"0 0 24 24\"\n",
              "       width=\"24px\">\n",
              "    <path d=\"M0 0h24v24H0V0z\" fill=\"none\"/>\n",
              "    <path d=\"M18.56 5.44l.94 2.06.94-2.06 2.06-.94-2.06-.94-.94-2.06-.94 2.06-2.06.94zm-11 1L8.5 8.5l.94-2.06 2.06-.94-2.06-.94L8.5 2.5l-.94 2.06-2.06.94zm10 10l.94 2.06.94-2.06 2.06-.94-2.06-.94-.94-2.06-.94 2.06-2.06.94z\"/><path d=\"M17.41 7.96l-1.37-1.37c-.4-.4-.92-.59-1.43-.59-.52 0-1.04.2-1.43.59L10.3 9.45l-7.72 7.72c-.78.78-.78 2.05 0 2.83L4 21.41c.39.39.9.59 1.41.59.51 0 1.02-.2 1.41-.59l7.78-7.78 2.81-2.81c.8-.78.8-2.07 0-2.86zM5.41 20L4 18.59l7.72-7.72 1.47 1.35L5.41 20z\"/>\n",
              "  </svg>\n",
              "      </button>\n",
              "      \n",
              "  <style>\n",
              "    .colab-df-container {\n",
              "      display:flex;\n",
              "      flex-wrap:wrap;\n",
              "      gap: 12px;\n",
              "    }\n",
              "\n",
              "    .colab-df-convert {\n",
              "      background-color: #E8F0FE;\n",
              "      border: none;\n",
              "      border-radius: 50%;\n",
              "      cursor: pointer;\n",
              "      display: none;\n",
              "      fill: #1967D2;\n",
              "      height: 32px;\n",
              "      padding: 0 0 0 0;\n",
              "      width: 32px;\n",
              "    }\n",
              "\n",
              "    .colab-df-convert:hover {\n",
              "      background-color: #E2EBFA;\n",
              "      box-shadow: 0px 1px 2px rgba(60, 64, 67, 0.3), 0px 1px 3px 1px rgba(60, 64, 67, 0.15);\n",
              "      fill: #174EA6;\n",
              "    }\n",
              "\n",
              "    [theme=dark] .colab-df-convert {\n",
              "      background-color: #3B4455;\n",
              "      fill: #D2E3FC;\n",
              "    }\n",
              "\n",
              "    [theme=dark] .colab-df-convert:hover {\n",
              "      background-color: #434B5C;\n",
              "      box-shadow: 0px 1px 3px 1px rgba(0, 0, 0, 0.15);\n",
              "      filter: drop-shadow(0px 1px 2px rgba(0, 0, 0, 0.3));\n",
              "      fill: #FFFFFF;\n",
              "    }\n",
              "  </style>\n",
              "\n",
              "      <script>\n",
              "        const buttonEl =\n",
              "          document.querySelector('#df-f6529ccd-9de4-491e-910a-04837dd351ea button.colab-df-convert');\n",
              "        buttonEl.style.display =\n",
              "          google.colab.kernel.accessAllowed ? 'block' : 'none';\n",
              "\n",
              "        async function convertToInteractive(key) {\n",
              "          const element = document.querySelector('#df-f6529ccd-9de4-491e-910a-04837dd351ea');\n",
              "          const dataTable =\n",
              "            await google.colab.kernel.invokeFunction('convertToInteractive',\n",
              "                                                     [key], {});\n",
              "          if (!dataTable) return;\n",
              "\n",
              "          const docLinkHtml = 'Like what you see? Visit the ' +\n",
              "            '<a target=\"_blank\" href=https://colab.research.google.com/notebooks/data_table.ipynb>data table notebook</a>'\n",
              "            + ' to learn more about interactive tables.';\n",
              "          element.innerHTML = '';\n",
              "          dataTable['output_type'] = 'display_data';\n",
              "          await google.colab.output.renderOutput(dataTable, element);\n",
              "          const docLink = document.createElement('div');\n",
              "          docLink.innerHTML = docLinkHtml;\n",
              "          element.appendChild(docLink);\n",
              "        }\n",
              "      </script>\n",
              "    </div>\n",
              "  </div>\n",
              "  "
            ]
          },
          "metadata": {},
          "execution_count": 44
        }
      ]
    },
    {
      "cell_type": "code",
      "source": [
        "Male.get_group('male')"
      ],
      "metadata": {
        "colab": {
          "base_uri": "https://localhost:8080/",
          "height": 424
        },
        "id": "qmZGc6Vmjgh6",
        "outputId": "03ffa96b-5ac5-4112-83d4-144a42c3fe76"
      },
      "execution_count": 45,
      "outputs": [
        {
          "output_type": "execute_result",
          "data": {
            "text/plain": [
              "             id gender  age              topic      sign          date  \\\n",
              "0       2059027   male   15            Student       Leo   14,May,2004   \n",
              "1       2059027   male   15            Student       Leo   13,May,2004   \n",
              "2       2059027   male   15            Student       Leo   12,May,2004   \n",
              "3       2059027   male   15            Student       Leo   12,May,2004   \n",
              "4       3581210   male   33  InvestmentBanking  Aquarius  11,June,2004   \n",
              "...         ...    ...  ...                ...       ...           ...   \n",
              "681279  1713845   male   23            Student    Taurus  01,July,2004   \n",
              "681280  1713845   male   23            Student    Taurus  01,July,2004   \n",
              "681281  1713845   male   23            Student    Taurus  01,July,2004   \n",
              "681282  1713845   male   23            Student    Taurus  01,July,2004   \n",
              "681283  1713845   male   23            Student    Taurus  01,July,2004   \n",
              "\n",
              "                                                     text  \n",
              "0                  Info has been found (+/- 100 pages,...  \n",
              "1                  These are the team members:   Drewe...  \n",
              "2                  In het kader van kernfusie op aarde...  \n",
              "3                        testing!!!  testing!!!            \n",
              "4                    Thanks to Yahoo!'s Toolbar I can ...  \n",
              "...                                                   ...  \n",
              "681279         Dear Susan,  I could write some really ...  \n",
              "681280         Dear Susan,  'I have the second yeast i...  \n",
              "681281         Dear Susan,  Your 'boyfriend' is fuckin...  \n",
              "681282         Dear Susan:    Just to clarify, I am as...  \n",
              "681283         Hey everybody...and Susan,  You might a...  \n",
              "\n",
              "[345193 rows x 7 columns]"
            ],
            "text/html": [
              "\n",
              "  <div id=\"df-60996d9d-c5b2-421c-8b1c-d9d14267c330\">\n",
              "    <div class=\"colab-df-container\">\n",
              "      <div>\n",
              "<style scoped>\n",
              "    .dataframe tbody tr th:only-of-type {\n",
              "        vertical-align: middle;\n",
              "    }\n",
              "\n",
              "    .dataframe tbody tr th {\n",
              "        vertical-align: top;\n",
              "    }\n",
              "\n",
              "    .dataframe thead th {\n",
              "        text-align: right;\n",
              "    }\n",
              "</style>\n",
              "<table border=\"1\" class=\"dataframe\">\n",
              "  <thead>\n",
              "    <tr style=\"text-align: right;\">\n",
              "      <th></th>\n",
              "      <th>id</th>\n",
              "      <th>gender</th>\n",
              "      <th>age</th>\n",
              "      <th>topic</th>\n",
              "      <th>sign</th>\n",
              "      <th>date</th>\n",
              "      <th>text</th>\n",
              "    </tr>\n",
              "  </thead>\n",
              "  <tbody>\n",
              "    <tr>\n",
              "      <th>0</th>\n",
              "      <td>2059027</td>\n",
              "      <td>male</td>\n",
              "      <td>15</td>\n",
              "      <td>Student</td>\n",
              "      <td>Leo</td>\n",
              "      <td>14,May,2004</td>\n",
              "      <td>Info has been found (+/- 100 pages,...</td>\n",
              "    </tr>\n",
              "    <tr>\n",
              "      <th>1</th>\n",
              "      <td>2059027</td>\n",
              "      <td>male</td>\n",
              "      <td>15</td>\n",
              "      <td>Student</td>\n",
              "      <td>Leo</td>\n",
              "      <td>13,May,2004</td>\n",
              "      <td>These are the team members:   Drewe...</td>\n",
              "    </tr>\n",
              "    <tr>\n",
              "      <th>2</th>\n",
              "      <td>2059027</td>\n",
              "      <td>male</td>\n",
              "      <td>15</td>\n",
              "      <td>Student</td>\n",
              "      <td>Leo</td>\n",
              "      <td>12,May,2004</td>\n",
              "      <td>In het kader van kernfusie op aarde...</td>\n",
              "    </tr>\n",
              "    <tr>\n",
              "      <th>3</th>\n",
              "      <td>2059027</td>\n",
              "      <td>male</td>\n",
              "      <td>15</td>\n",
              "      <td>Student</td>\n",
              "      <td>Leo</td>\n",
              "      <td>12,May,2004</td>\n",
              "      <td>testing!!!  testing!!!</td>\n",
              "    </tr>\n",
              "    <tr>\n",
              "      <th>4</th>\n",
              "      <td>3581210</td>\n",
              "      <td>male</td>\n",
              "      <td>33</td>\n",
              "      <td>InvestmentBanking</td>\n",
              "      <td>Aquarius</td>\n",
              "      <td>11,June,2004</td>\n",
              "      <td>Thanks to Yahoo!'s Toolbar I can ...</td>\n",
              "    </tr>\n",
              "    <tr>\n",
              "      <th>...</th>\n",
              "      <td>...</td>\n",
              "      <td>...</td>\n",
              "      <td>...</td>\n",
              "      <td>...</td>\n",
              "      <td>...</td>\n",
              "      <td>...</td>\n",
              "      <td>...</td>\n",
              "    </tr>\n",
              "    <tr>\n",
              "      <th>681279</th>\n",
              "      <td>1713845</td>\n",
              "      <td>male</td>\n",
              "      <td>23</td>\n",
              "      <td>Student</td>\n",
              "      <td>Taurus</td>\n",
              "      <td>01,July,2004</td>\n",
              "      <td>Dear Susan,  I could write some really ...</td>\n",
              "    </tr>\n",
              "    <tr>\n",
              "      <th>681280</th>\n",
              "      <td>1713845</td>\n",
              "      <td>male</td>\n",
              "      <td>23</td>\n",
              "      <td>Student</td>\n",
              "      <td>Taurus</td>\n",
              "      <td>01,July,2004</td>\n",
              "      <td>Dear Susan,  'I have the second yeast i...</td>\n",
              "    </tr>\n",
              "    <tr>\n",
              "      <th>681281</th>\n",
              "      <td>1713845</td>\n",
              "      <td>male</td>\n",
              "      <td>23</td>\n",
              "      <td>Student</td>\n",
              "      <td>Taurus</td>\n",
              "      <td>01,July,2004</td>\n",
              "      <td>Dear Susan,  Your 'boyfriend' is fuckin...</td>\n",
              "    </tr>\n",
              "    <tr>\n",
              "      <th>681282</th>\n",
              "      <td>1713845</td>\n",
              "      <td>male</td>\n",
              "      <td>23</td>\n",
              "      <td>Student</td>\n",
              "      <td>Taurus</td>\n",
              "      <td>01,July,2004</td>\n",
              "      <td>Dear Susan:    Just to clarify, I am as...</td>\n",
              "    </tr>\n",
              "    <tr>\n",
              "      <th>681283</th>\n",
              "      <td>1713845</td>\n",
              "      <td>male</td>\n",
              "      <td>23</td>\n",
              "      <td>Student</td>\n",
              "      <td>Taurus</td>\n",
              "      <td>01,July,2004</td>\n",
              "      <td>Hey everybody...and Susan,  You might a...</td>\n",
              "    </tr>\n",
              "  </tbody>\n",
              "</table>\n",
              "<p>345193 rows × 7 columns</p>\n",
              "</div>\n",
              "      <button class=\"colab-df-convert\" onclick=\"convertToInteractive('df-60996d9d-c5b2-421c-8b1c-d9d14267c330')\"\n",
              "              title=\"Convert this dataframe to an interactive table.\"\n",
              "              style=\"display:none;\">\n",
              "        \n",
              "  <svg xmlns=\"http://www.w3.org/2000/svg\" height=\"24px\"viewBox=\"0 0 24 24\"\n",
              "       width=\"24px\">\n",
              "    <path d=\"M0 0h24v24H0V0z\" fill=\"none\"/>\n",
              "    <path d=\"M18.56 5.44l.94 2.06.94-2.06 2.06-.94-2.06-.94-.94-2.06-.94 2.06-2.06.94zm-11 1L8.5 8.5l.94-2.06 2.06-.94-2.06-.94L8.5 2.5l-.94 2.06-2.06.94zm10 10l.94 2.06.94-2.06 2.06-.94-2.06-.94-.94-2.06-.94 2.06-2.06.94z\"/><path d=\"M17.41 7.96l-1.37-1.37c-.4-.4-.92-.59-1.43-.59-.52 0-1.04.2-1.43.59L10.3 9.45l-7.72 7.72c-.78.78-.78 2.05 0 2.83L4 21.41c.39.39.9.59 1.41.59.51 0 1.02-.2 1.41-.59l7.78-7.78 2.81-2.81c.8-.78.8-2.07 0-2.86zM5.41 20L4 18.59l7.72-7.72 1.47 1.35L5.41 20z\"/>\n",
              "  </svg>\n",
              "      </button>\n",
              "      \n",
              "  <style>\n",
              "    .colab-df-container {\n",
              "      display:flex;\n",
              "      flex-wrap:wrap;\n",
              "      gap: 12px;\n",
              "    }\n",
              "\n",
              "    .colab-df-convert {\n",
              "      background-color: #E8F0FE;\n",
              "      border: none;\n",
              "      border-radius: 50%;\n",
              "      cursor: pointer;\n",
              "      display: none;\n",
              "      fill: #1967D2;\n",
              "      height: 32px;\n",
              "      padding: 0 0 0 0;\n",
              "      width: 32px;\n",
              "    }\n",
              "\n",
              "    .colab-df-convert:hover {\n",
              "      background-color: #E2EBFA;\n",
              "      box-shadow: 0px 1px 2px rgba(60, 64, 67, 0.3), 0px 1px 3px 1px rgba(60, 64, 67, 0.15);\n",
              "      fill: #174EA6;\n",
              "    }\n",
              "\n",
              "    [theme=dark] .colab-df-convert {\n",
              "      background-color: #3B4455;\n",
              "      fill: #D2E3FC;\n",
              "    }\n",
              "\n",
              "    [theme=dark] .colab-df-convert:hover {\n",
              "      background-color: #434B5C;\n",
              "      box-shadow: 0px 1px 3px 1px rgba(0, 0, 0, 0.15);\n",
              "      filter: drop-shadow(0px 1px 2px rgba(0, 0, 0, 0.3));\n",
              "      fill: #FFFFFF;\n",
              "    }\n",
              "  </style>\n",
              "\n",
              "      <script>\n",
              "        const buttonEl =\n",
              "          document.querySelector('#df-60996d9d-c5b2-421c-8b1c-d9d14267c330 button.colab-df-convert');\n",
              "        buttonEl.style.display =\n",
              "          google.colab.kernel.accessAllowed ? 'block' : 'none';\n",
              "\n",
              "        async function convertToInteractive(key) {\n",
              "          const element = document.querySelector('#df-60996d9d-c5b2-421c-8b1c-d9d14267c330');\n",
              "          const dataTable =\n",
              "            await google.colab.kernel.invokeFunction('convertToInteractive',\n",
              "                                                     [key], {});\n",
              "          if (!dataTable) return;\n",
              "\n",
              "          const docLinkHtml = 'Like what you see? Visit the ' +\n",
              "            '<a target=\"_blank\" href=https://colab.research.google.com/notebooks/data_table.ipynb>data table notebook</a>'\n",
              "            + ' to learn more about interactive tables.';\n",
              "          element.innerHTML = '';\n",
              "          dataTable['output_type'] = 'display_data';\n",
              "          await google.colab.output.renderOutput(dataTable, element);\n",
              "          const docLink = document.createElement('div');\n",
              "          docLink.innerHTML = docLinkHtml;\n",
              "          element.appendChild(docLink);\n",
              "        }\n",
              "      </script>\n",
              "    </div>\n",
              "  </div>\n",
              "  "
            ]
          },
          "metadata": {},
          "execution_count": 45
        }
      ]
    },
    {
      "cell_type": "code",
      "source": [
        "Male.get_group('female')"
      ],
      "metadata": {
        "colab": {
          "base_uri": "https://localhost:8080/",
          "height": 424
        },
        "id": "vUy3XRQ9khrT",
        "outputId": "55ebc224-f2d6-4067-a232-3b67b64a269b"
      },
      "execution_count": 46,
      "outputs": [
        {
          "output_type": "execute_result",
          "data": {
            "text/plain": [
              "             id  gender  age   topic   sign            date  \\\n",
              "74      3539003  female   14  indUnk  Aries    07,June,2004   \n",
              "75      3539003  female   14  indUnk  Aries    05,June,2004   \n",
              "76      3539003  female   14  indUnk  Aries    05,June,2004   \n",
              "77      3539003  female   14  indUnk  Aries    05,June,2004   \n",
              "78      3539003  female   14  indUnk  Aries    04,June,2004   \n",
              "...         ...     ...  ...     ...    ...             ...   \n",
              "681156  4260903  female   34  indUnk  Virgo  23,August,2004   \n",
              "681157  4260903  female   34  indUnk  Virgo  21,August,2004   \n",
              "681158  4260903  female   34  indUnk  Virgo  19,August,2004   \n",
              "681159  4260903  female   34  indUnk  Virgo  18,August,2004   \n",
              "681160  4260903  female   34  indUnk  Virgo  18,August,2004   \n",
              "\n",
              "                                                     text  \n",
              "74                        O= optimist P= pessimist  My...  \n",
              "75                        Look at me. Look at my eyes....  \n",
              "76                        I walk into the only entranc...  \n",
              "77                        Why do I like him? He's funn...  \n",
              "78                        I've fallen so deep, so fast...  \n",
              "...                                                   ...  \n",
              "681156                   I ran around cleaning all mor...  \n",
              "681157                   We just got back from Six Fla...  \n",
              "681158                    urlLink     I  felt kind of ...  \n",
              "681159                   Wow, I love fruit.  I read th...  \n",
              "681160                   I want to consider myself a r...  \n",
              "\n",
              "[336091 rows x 7 columns]"
            ],
            "text/html": [
              "\n",
              "  <div id=\"df-8b06ad02-8513-421e-a783-ecc5825c68da\">\n",
              "    <div class=\"colab-df-container\">\n",
              "      <div>\n",
              "<style scoped>\n",
              "    .dataframe tbody tr th:only-of-type {\n",
              "        vertical-align: middle;\n",
              "    }\n",
              "\n",
              "    .dataframe tbody tr th {\n",
              "        vertical-align: top;\n",
              "    }\n",
              "\n",
              "    .dataframe thead th {\n",
              "        text-align: right;\n",
              "    }\n",
              "</style>\n",
              "<table border=\"1\" class=\"dataframe\">\n",
              "  <thead>\n",
              "    <tr style=\"text-align: right;\">\n",
              "      <th></th>\n",
              "      <th>id</th>\n",
              "      <th>gender</th>\n",
              "      <th>age</th>\n",
              "      <th>topic</th>\n",
              "      <th>sign</th>\n",
              "      <th>date</th>\n",
              "      <th>text</th>\n",
              "    </tr>\n",
              "  </thead>\n",
              "  <tbody>\n",
              "    <tr>\n",
              "      <th>74</th>\n",
              "      <td>3539003</td>\n",
              "      <td>female</td>\n",
              "      <td>14</td>\n",
              "      <td>indUnk</td>\n",
              "      <td>Aries</td>\n",
              "      <td>07,June,2004</td>\n",
              "      <td>O= optimist P= pessimist  My...</td>\n",
              "    </tr>\n",
              "    <tr>\n",
              "      <th>75</th>\n",
              "      <td>3539003</td>\n",
              "      <td>female</td>\n",
              "      <td>14</td>\n",
              "      <td>indUnk</td>\n",
              "      <td>Aries</td>\n",
              "      <td>05,June,2004</td>\n",
              "      <td>Look at me. Look at my eyes....</td>\n",
              "    </tr>\n",
              "    <tr>\n",
              "      <th>76</th>\n",
              "      <td>3539003</td>\n",
              "      <td>female</td>\n",
              "      <td>14</td>\n",
              "      <td>indUnk</td>\n",
              "      <td>Aries</td>\n",
              "      <td>05,June,2004</td>\n",
              "      <td>I walk into the only entranc...</td>\n",
              "    </tr>\n",
              "    <tr>\n",
              "      <th>77</th>\n",
              "      <td>3539003</td>\n",
              "      <td>female</td>\n",
              "      <td>14</td>\n",
              "      <td>indUnk</td>\n",
              "      <td>Aries</td>\n",
              "      <td>05,June,2004</td>\n",
              "      <td>Why do I like him? He's funn...</td>\n",
              "    </tr>\n",
              "    <tr>\n",
              "      <th>78</th>\n",
              "      <td>3539003</td>\n",
              "      <td>female</td>\n",
              "      <td>14</td>\n",
              "      <td>indUnk</td>\n",
              "      <td>Aries</td>\n",
              "      <td>04,June,2004</td>\n",
              "      <td>I've fallen so deep, so fast...</td>\n",
              "    </tr>\n",
              "    <tr>\n",
              "      <th>...</th>\n",
              "      <td>...</td>\n",
              "      <td>...</td>\n",
              "      <td>...</td>\n",
              "      <td>...</td>\n",
              "      <td>...</td>\n",
              "      <td>...</td>\n",
              "      <td>...</td>\n",
              "    </tr>\n",
              "    <tr>\n",
              "      <th>681156</th>\n",
              "      <td>4260903</td>\n",
              "      <td>female</td>\n",
              "      <td>34</td>\n",
              "      <td>indUnk</td>\n",
              "      <td>Virgo</td>\n",
              "      <td>23,August,2004</td>\n",
              "      <td>I ran around cleaning all mor...</td>\n",
              "    </tr>\n",
              "    <tr>\n",
              "      <th>681157</th>\n",
              "      <td>4260903</td>\n",
              "      <td>female</td>\n",
              "      <td>34</td>\n",
              "      <td>indUnk</td>\n",
              "      <td>Virgo</td>\n",
              "      <td>21,August,2004</td>\n",
              "      <td>We just got back from Six Fla...</td>\n",
              "    </tr>\n",
              "    <tr>\n",
              "      <th>681158</th>\n",
              "      <td>4260903</td>\n",
              "      <td>female</td>\n",
              "      <td>34</td>\n",
              "      <td>indUnk</td>\n",
              "      <td>Virgo</td>\n",
              "      <td>19,August,2004</td>\n",
              "      <td>urlLink     I  felt kind of ...</td>\n",
              "    </tr>\n",
              "    <tr>\n",
              "      <th>681159</th>\n",
              "      <td>4260903</td>\n",
              "      <td>female</td>\n",
              "      <td>34</td>\n",
              "      <td>indUnk</td>\n",
              "      <td>Virgo</td>\n",
              "      <td>18,August,2004</td>\n",
              "      <td>Wow, I love fruit.  I read th...</td>\n",
              "    </tr>\n",
              "    <tr>\n",
              "      <th>681160</th>\n",
              "      <td>4260903</td>\n",
              "      <td>female</td>\n",
              "      <td>34</td>\n",
              "      <td>indUnk</td>\n",
              "      <td>Virgo</td>\n",
              "      <td>18,August,2004</td>\n",
              "      <td>I want to consider myself a r...</td>\n",
              "    </tr>\n",
              "  </tbody>\n",
              "</table>\n",
              "<p>336091 rows × 7 columns</p>\n",
              "</div>\n",
              "      <button class=\"colab-df-convert\" onclick=\"convertToInteractive('df-8b06ad02-8513-421e-a783-ecc5825c68da')\"\n",
              "              title=\"Convert this dataframe to an interactive table.\"\n",
              "              style=\"display:none;\">\n",
              "        \n",
              "  <svg xmlns=\"http://www.w3.org/2000/svg\" height=\"24px\"viewBox=\"0 0 24 24\"\n",
              "       width=\"24px\">\n",
              "    <path d=\"M0 0h24v24H0V0z\" fill=\"none\"/>\n",
              "    <path d=\"M18.56 5.44l.94 2.06.94-2.06 2.06-.94-2.06-.94-.94-2.06-.94 2.06-2.06.94zm-11 1L8.5 8.5l.94-2.06 2.06-.94-2.06-.94L8.5 2.5l-.94 2.06-2.06.94zm10 10l.94 2.06.94-2.06 2.06-.94-2.06-.94-.94-2.06-.94 2.06-2.06.94z\"/><path d=\"M17.41 7.96l-1.37-1.37c-.4-.4-.92-.59-1.43-.59-.52 0-1.04.2-1.43.59L10.3 9.45l-7.72 7.72c-.78.78-.78 2.05 0 2.83L4 21.41c.39.39.9.59 1.41.59.51 0 1.02-.2 1.41-.59l7.78-7.78 2.81-2.81c.8-.78.8-2.07 0-2.86zM5.41 20L4 18.59l7.72-7.72 1.47 1.35L5.41 20z\"/>\n",
              "  </svg>\n",
              "      </button>\n",
              "      \n",
              "  <style>\n",
              "    .colab-df-container {\n",
              "      display:flex;\n",
              "      flex-wrap:wrap;\n",
              "      gap: 12px;\n",
              "    }\n",
              "\n",
              "    .colab-df-convert {\n",
              "      background-color: #E8F0FE;\n",
              "      border: none;\n",
              "      border-radius: 50%;\n",
              "      cursor: pointer;\n",
              "      display: none;\n",
              "      fill: #1967D2;\n",
              "      height: 32px;\n",
              "      padding: 0 0 0 0;\n",
              "      width: 32px;\n",
              "    }\n",
              "\n",
              "    .colab-df-convert:hover {\n",
              "      background-color: #E2EBFA;\n",
              "      box-shadow: 0px 1px 2px rgba(60, 64, 67, 0.3), 0px 1px 3px 1px rgba(60, 64, 67, 0.15);\n",
              "      fill: #174EA6;\n",
              "    }\n",
              "\n",
              "    [theme=dark] .colab-df-convert {\n",
              "      background-color: #3B4455;\n",
              "      fill: #D2E3FC;\n",
              "    }\n",
              "\n",
              "    [theme=dark] .colab-df-convert:hover {\n",
              "      background-color: #434B5C;\n",
              "      box-shadow: 0px 1px 3px 1px rgba(0, 0, 0, 0.15);\n",
              "      filter: drop-shadow(0px 1px 2px rgba(0, 0, 0, 0.3));\n",
              "      fill: #FFFFFF;\n",
              "    }\n",
              "  </style>\n",
              "\n",
              "      <script>\n",
              "        const buttonEl =\n",
              "          document.querySelector('#df-8b06ad02-8513-421e-a783-ecc5825c68da button.colab-df-convert');\n",
              "        buttonEl.style.display =\n",
              "          google.colab.kernel.accessAllowed ? 'block' : 'none';\n",
              "\n",
              "        async function convertToInteractive(key) {\n",
              "          const element = document.querySelector('#df-8b06ad02-8513-421e-a783-ecc5825c68da');\n",
              "          const dataTable =\n",
              "            await google.colab.kernel.invokeFunction('convertToInteractive',\n",
              "                                                     [key], {});\n",
              "          if (!dataTable) return;\n",
              "\n",
              "          const docLinkHtml = 'Like what you see? Visit the ' +\n",
              "            '<a target=\"_blank\" href=https://colab.research.google.com/notebooks/data_table.ipynb>data table notebook</a>'\n",
              "            + ' to learn more about interactive tables.';\n",
              "          element.innerHTML = '';\n",
              "          dataTable['output_type'] = 'display_data';\n",
              "          await google.colab.output.renderOutput(dataTable, element);\n",
              "          const docLink = document.createElement('div');\n",
              "          docLink.innerHTML = docLinkHtml;\n",
              "          element.appendChild(docLink);\n",
              "        }\n",
              "      </script>\n",
              "    </div>\n",
              "  </div>\n",
              "  "
            ]
          },
          "metadata": {},
          "execution_count": 46
        }
      ]
    },
    {
      "cell_type": "code",
      "source": [
        "df_top_20 = data['topic'].value_counts().nlargest(20).reset_index()\n",
        "df_top_20 "
      ],
      "metadata": {
        "colab": {
          "base_uri": "https://localhost:8080/",
          "height": 676
        },
        "id": "DGC2llDyZKiv",
        "outputId": "826a6623-4ea4-4cd1-8bdc-16081c83820d"
      },
      "execution_count": 47,
      "outputs": [
        {
          "output_type": "execute_result",
          "data": {
            "text/plain": [
              "                   index   topic\n",
              "0                 indUnk  251015\n",
              "1                Student  153903\n",
              "2             Technology   42055\n",
              "3                   Arts   32449\n",
              "4              Education   29633\n",
              "5   Communications-Media   20140\n",
              "6               Internet   16006\n",
              "7             Non-Profit   14700\n",
              "8            Engineering   11653\n",
              "9                    Law    9040\n",
              "10            Publishing    7753\n",
              "11               Science    7269\n",
              "12            Government    6907\n",
              "13            Consulting    5862\n",
              "14              Religion    5235\n",
              "15               Fashion    4851\n",
              "16             Marketing    4769\n",
              "17           Advertising    4676\n",
              "18      BusinessServices    4500\n",
              "19               Banking    4049"
            ],
            "text/html": [
              "\n",
              "  <div id=\"df-ca91f303-be9f-4268-a4b3-b1d1821cfde8\">\n",
              "    <div class=\"colab-df-container\">\n",
              "      <div>\n",
              "<style scoped>\n",
              "    .dataframe tbody tr th:only-of-type {\n",
              "        vertical-align: middle;\n",
              "    }\n",
              "\n",
              "    .dataframe tbody tr th {\n",
              "        vertical-align: top;\n",
              "    }\n",
              "\n",
              "    .dataframe thead th {\n",
              "        text-align: right;\n",
              "    }\n",
              "</style>\n",
              "<table border=\"1\" class=\"dataframe\">\n",
              "  <thead>\n",
              "    <tr style=\"text-align: right;\">\n",
              "      <th></th>\n",
              "      <th>index</th>\n",
              "      <th>topic</th>\n",
              "    </tr>\n",
              "  </thead>\n",
              "  <tbody>\n",
              "    <tr>\n",
              "      <th>0</th>\n",
              "      <td>indUnk</td>\n",
              "      <td>251015</td>\n",
              "    </tr>\n",
              "    <tr>\n",
              "      <th>1</th>\n",
              "      <td>Student</td>\n",
              "      <td>153903</td>\n",
              "    </tr>\n",
              "    <tr>\n",
              "      <th>2</th>\n",
              "      <td>Technology</td>\n",
              "      <td>42055</td>\n",
              "    </tr>\n",
              "    <tr>\n",
              "      <th>3</th>\n",
              "      <td>Arts</td>\n",
              "      <td>32449</td>\n",
              "    </tr>\n",
              "    <tr>\n",
              "      <th>4</th>\n",
              "      <td>Education</td>\n",
              "      <td>29633</td>\n",
              "    </tr>\n",
              "    <tr>\n",
              "      <th>5</th>\n",
              "      <td>Communications-Media</td>\n",
              "      <td>20140</td>\n",
              "    </tr>\n",
              "    <tr>\n",
              "      <th>6</th>\n",
              "      <td>Internet</td>\n",
              "      <td>16006</td>\n",
              "    </tr>\n",
              "    <tr>\n",
              "      <th>7</th>\n",
              "      <td>Non-Profit</td>\n",
              "      <td>14700</td>\n",
              "    </tr>\n",
              "    <tr>\n",
              "      <th>8</th>\n",
              "      <td>Engineering</td>\n",
              "      <td>11653</td>\n",
              "    </tr>\n",
              "    <tr>\n",
              "      <th>9</th>\n",
              "      <td>Law</td>\n",
              "      <td>9040</td>\n",
              "    </tr>\n",
              "    <tr>\n",
              "      <th>10</th>\n",
              "      <td>Publishing</td>\n",
              "      <td>7753</td>\n",
              "    </tr>\n",
              "    <tr>\n",
              "      <th>11</th>\n",
              "      <td>Science</td>\n",
              "      <td>7269</td>\n",
              "    </tr>\n",
              "    <tr>\n",
              "      <th>12</th>\n",
              "      <td>Government</td>\n",
              "      <td>6907</td>\n",
              "    </tr>\n",
              "    <tr>\n",
              "      <th>13</th>\n",
              "      <td>Consulting</td>\n",
              "      <td>5862</td>\n",
              "    </tr>\n",
              "    <tr>\n",
              "      <th>14</th>\n",
              "      <td>Religion</td>\n",
              "      <td>5235</td>\n",
              "    </tr>\n",
              "    <tr>\n",
              "      <th>15</th>\n",
              "      <td>Fashion</td>\n",
              "      <td>4851</td>\n",
              "    </tr>\n",
              "    <tr>\n",
              "      <th>16</th>\n",
              "      <td>Marketing</td>\n",
              "      <td>4769</td>\n",
              "    </tr>\n",
              "    <tr>\n",
              "      <th>17</th>\n",
              "      <td>Advertising</td>\n",
              "      <td>4676</td>\n",
              "    </tr>\n",
              "    <tr>\n",
              "      <th>18</th>\n",
              "      <td>BusinessServices</td>\n",
              "      <td>4500</td>\n",
              "    </tr>\n",
              "    <tr>\n",
              "      <th>19</th>\n",
              "      <td>Banking</td>\n",
              "      <td>4049</td>\n",
              "    </tr>\n",
              "  </tbody>\n",
              "</table>\n",
              "</div>\n",
              "      <button class=\"colab-df-convert\" onclick=\"convertToInteractive('df-ca91f303-be9f-4268-a4b3-b1d1821cfde8')\"\n",
              "              title=\"Convert this dataframe to an interactive table.\"\n",
              "              style=\"display:none;\">\n",
              "        \n",
              "  <svg xmlns=\"http://www.w3.org/2000/svg\" height=\"24px\"viewBox=\"0 0 24 24\"\n",
              "       width=\"24px\">\n",
              "    <path d=\"M0 0h24v24H0V0z\" fill=\"none\"/>\n",
              "    <path d=\"M18.56 5.44l.94 2.06.94-2.06 2.06-.94-2.06-.94-.94-2.06-.94 2.06-2.06.94zm-11 1L8.5 8.5l.94-2.06 2.06-.94-2.06-.94L8.5 2.5l-.94 2.06-2.06.94zm10 10l.94 2.06.94-2.06 2.06-.94-2.06-.94-.94-2.06-.94 2.06-2.06.94z\"/><path d=\"M17.41 7.96l-1.37-1.37c-.4-.4-.92-.59-1.43-.59-.52 0-1.04.2-1.43.59L10.3 9.45l-7.72 7.72c-.78.78-.78 2.05 0 2.83L4 21.41c.39.39.9.59 1.41.59.51 0 1.02-.2 1.41-.59l7.78-7.78 2.81-2.81c.8-.78.8-2.07 0-2.86zM5.41 20L4 18.59l7.72-7.72 1.47 1.35L5.41 20z\"/>\n",
              "  </svg>\n",
              "      </button>\n",
              "      \n",
              "  <style>\n",
              "    .colab-df-container {\n",
              "      display:flex;\n",
              "      flex-wrap:wrap;\n",
              "      gap: 12px;\n",
              "    }\n",
              "\n",
              "    .colab-df-convert {\n",
              "      background-color: #E8F0FE;\n",
              "      border: none;\n",
              "      border-radius: 50%;\n",
              "      cursor: pointer;\n",
              "      display: none;\n",
              "      fill: #1967D2;\n",
              "      height: 32px;\n",
              "      padding: 0 0 0 0;\n",
              "      width: 32px;\n",
              "    }\n",
              "\n",
              "    .colab-df-convert:hover {\n",
              "      background-color: #E2EBFA;\n",
              "      box-shadow: 0px 1px 2px rgba(60, 64, 67, 0.3), 0px 1px 3px 1px rgba(60, 64, 67, 0.15);\n",
              "      fill: #174EA6;\n",
              "    }\n",
              "\n",
              "    [theme=dark] .colab-df-convert {\n",
              "      background-color: #3B4455;\n",
              "      fill: #D2E3FC;\n",
              "    }\n",
              "\n",
              "    [theme=dark] .colab-df-convert:hover {\n",
              "      background-color: #434B5C;\n",
              "      box-shadow: 0px 1px 3px 1px rgba(0, 0, 0, 0.15);\n",
              "      filter: drop-shadow(0px 1px 2px rgba(0, 0, 0, 0.3));\n",
              "      fill: #FFFFFF;\n",
              "    }\n",
              "  </style>\n",
              "\n",
              "      <script>\n",
              "        const buttonEl =\n",
              "          document.querySelector('#df-ca91f303-be9f-4268-a4b3-b1d1821cfde8 button.colab-df-convert');\n",
              "        buttonEl.style.display =\n",
              "          google.colab.kernel.accessAllowed ? 'block' : 'none';\n",
              "\n",
              "        async function convertToInteractive(key) {\n",
              "          const element = document.querySelector('#df-ca91f303-be9f-4268-a4b3-b1d1821cfde8');\n",
              "          const dataTable =\n",
              "            await google.colab.kernel.invokeFunction('convertToInteractive',\n",
              "                                                     [key], {});\n",
              "          if (!dataTable) return;\n",
              "\n",
              "          const docLinkHtml = 'Like what you see? Visit the ' +\n",
              "            '<a target=\"_blank\" href=https://colab.research.google.com/notebooks/data_table.ipynb>data table notebook</a>'\n",
              "            + ' to learn more about interactive tables.';\n",
              "          element.innerHTML = '';\n",
              "          dataTable['output_type'] = 'display_data';\n",
              "          await google.colab.output.renderOutput(dataTable, element);\n",
              "          const docLink = document.createElement('div');\n",
              "          docLink.innerHTML = docLinkHtml;\n",
              "          element.appendChild(docLink);\n",
              "        }\n",
              "      </script>\n",
              "    </div>\n",
              "  </div>\n",
              "  "
            ]
          },
          "metadata": {},
          "execution_count": 47
        }
      ]
    },
    {
      "cell_type": "code",
      "source": [
        "plt.figure(figsize=(12,6))\n",
        "bars = plt.bar(df_top_20['index'],df_top_20['topic'])\n",
        "plt.title('Top 20 Topics')\n",
        "plt.xlabel('Topic')\n",
        "plt.xticks(rotation=90)\n",
        "plt.ylabel('Number of Topic')\n",
        "\n",
        "for bar in bars:\n",
        "    yval = bar.get_height()\n",
        "    plt.text(bar.get_x(), yval +1, yval)\n",
        "plt.tight_layout()\n",
        "plt.show()"
      ],
      "metadata": {
        "colab": {
          "base_uri": "https://localhost:8080/",
          "height": 441
        },
        "id": "1Zpa-eC1aLjL",
        "outputId": "afd4e1db-59f3-455f-c400-decfa517a9ff"
      },
      "execution_count": 48,
      "outputs": [
        {
          "output_type": "display_data",
          "data": {
            "text/plain": [
              "<Figure size 864x432 with 1 Axes>"
            ],
            "image/png": "[encoded data removed]"
          },
          "metadata": {
            "needs_background": "light"
          }
        }
      ]
    },
    {
      "cell_type": "markdown",
      "metadata": {
        "id": "wRpPdOxx6B0Y"
      },
      "source": [
        "1.1.A. Clearly write outcome of data analysis(Minimum 2 points) [2 Marks]"
      ]
    },
    {
      "cell_type": "markdown",
      "source": [
        "1) The data Provided by Male and Female and in the age group of 17 to 44 years\n",
        "\n",
        "2) More number of persons More from 17age males and more Females from 23 age"
      ],
      "metadata": {
        "id": "E-U8ixfXJM6O"
      }
    },
    {
      "cell_type": "markdown",
      "metadata": {
        "id": "wUEZpSzE6MaP"
      },
      "source": [
        "1.1.B. Clean the Structured Data [3 Marks]\n",
        "\n",
        "i. Missing value analysis and imputation. [1 Marks]\n",
        "\n",
        "ii. Eliminate Non-English textual data. [2 Marks]\n",
        "\n",
        "Hint: Refer ‘langdetect’ library to detect language of the input text)"
      ]
    },
    {
      "cell_type": "code",
      "execution_count": 49,
      "metadata": {
        "colab": {
          "base_uri": "https://localhost:8080/"
        },
        "id": "1JiIo7cb6Xn3",
        "outputId": "d40b1726-208e-4665-c30f-b086150dce17"
      },
      "outputs": [
        {
          "output_type": "execute_result",
          "data": {
            "text/plain": [
              "(681284, 7)"
            ]
          },
          "metadata": {},
          "execution_count": 49
        }
      ],
      "source": [
        "data.shape"
      ]
    },
    {
      "cell_type": "code",
      "execution_count": 50,
      "metadata": {
        "colab": {
          "base_uri": "https://localhost:8080/"
        },
        "id": "uQeoYW8CqRZn",
        "outputId": "e7df4f87-8d24-4f0b-8053-5c535512f06c"
      },
      "outputs": [
        {
          "output_type": "stream",
          "name": "stdout",
          "text": [
            "id\n",
            "gender\n",
            "age\n",
            "topic\n",
            "sign\n",
            "date\n",
            "text\n"
          ]
        }
      ],
      "source": [
        "for mat in data :\n",
        "  print(mat)"
      ]
    },
    {
      "cell_type": "code",
      "source": [
        "df_inc=data['topic'].value_counts().reset_index()\n",
        "df_inc['Percentage']=(df_inc['topic']/df_inc['topic'].sum())*100\n",
        "df_inc"
      ],
      "metadata": {
        "colab": {
          "base_uri": "https://localhost:8080/",
          "height": 1000
        },
        "id": "dSrV-LSp6qkO",
        "outputId": "a9a867eb-3f2c-42b6-deaf-8ce347a0d104"
      },
      "execution_count": 51,
      "outputs": [
        {
          "output_type": "execute_result",
          "data": {
            "text/plain": [
              "                      index   topic  Percentage\n",
              "0                    indUnk  251015   36.844400\n",
              "1                   Student  153903   22.590139\n",
              "2                Technology   42055    6.172903\n",
              "3                      Arts   32449    4.762918\n",
              "4                 Education   29633    4.349581\n",
              "5      Communications-Media   20140    2.956183\n",
              "6                  Internet   16006    2.349387\n",
              "7                Non-Profit   14700    2.157690\n",
              "8               Engineering   11653    1.710447\n",
              "9                       Law    9040    1.326906\n",
              "10               Publishing    7753    1.137998\n",
              "11                  Science    7269    1.066956\n",
              "12               Government    6907    1.013821\n",
              "13               Consulting    5862    0.860434\n",
              "14                 Religion    5235    0.768402\n",
              "15                  Fashion    4851    0.712038\n",
              "16                Marketing    4769    0.700002\n",
              "17              Advertising    4676    0.686351\n",
              "18         BusinessServices    4500    0.660517\n",
              "19                  Banking    4049    0.594319\n",
              "20                Chemicals    3928    0.576558\n",
              "21       Telecommunications    3891    0.571127\n",
              "22               Accounting    3832    0.562467\n",
              "23                 Military    3128    0.459133\n",
              "24        Museums-Libraries    3096    0.454436\n",
              "25        Sports-Recreation    3038    0.445923\n",
              "26           HumanResources    3010    0.441813\n",
              "27               RealEstate    2870    0.421263\n",
              "28           Transportation    2326    0.341414\n",
              "29            Manufacturing    2272    0.333488\n",
              "30                  Biotech    2234    0.327910\n",
              "31                  Tourism    1942    0.285050\n",
              "32  LawEnforcement-Security    1878    0.275656\n",
              "33             Architecture    1638    0.240428\n",
              "34        InvestmentBanking    1292    0.189642\n",
              "35               Automotive    1244    0.182596\n",
              "36              Agriculture    1235    0.181275\n",
              "37             Construction    1093    0.160432\n",
              "38              Environment     592    0.086895\n",
              "39                 Maritime     280    0.041099"
            ],
            "text/html": [
              "\n",
              "  <div id=\"df-9e00d0f5-c444-4587-adb4-da04788b9f35\">\n",
              "    <div class=\"colab-df-container\">\n",
              "      <div>\n",
              "<style scoped>\n",
              "    .dataframe tbody tr th:only-of-type {\n",
              "        vertical-align: middle;\n",
              "    }\n",
              "\n",
              "    .dataframe tbody tr th {\n",
              "        vertical-align: top;\n",
              "    }\n",
              "\n",
              "    .dataframe thead th {\n",
              "        text-align: right;\n",
              "    }\n",
              "</style>\n",
              "<table border=\"1\" class=\"dataframe\">\n",
              "  <thead>\n",
              "    <tr style=\"text-align: right;\">\n",
              "      <th></th>\n",
              "      <th>index</th>\n",
              "      <th>topic</th>\n",
              "      <th>Percentage</th>\n",
              "    </tr>\n",
              "  </thead>\n",
              "  <tbody>\n",
              "    <tr>\n",
              "      <th>0</th>\n",
              "      <td>indUnk</td>\n",
              "      <td>251015</td>\n",
              "      <td>36.844400</td>\n",
              "    </tr>\n",
              "    <tr>\n",
              "      <th>1</th>\n",
              "      <td>Student</td>\n",
              "      <td>153903</td>\n",
              "      <td>22.590139</td>\n",
              "    </tr>\n",
              "    <tr>\n",
              "      <th>2</th>\n",
              "      <td>Technology</td>\n",
              "      <td>42055</td>\n",
              "      <td>6.172903</td>\n",
              "    </tr>\n",
              "    <tr>\n",
              "      <th>3</th>\n",
              "      <td>Arts</td>\n",
              "      <td>32449</td>\n",
              "      <td>4.762918</td>\n",
              "    </tr>\n",
              "    <tr>\n",
              "      <th>4</th>\n",
              "      <td>Education</td>\n",
              "      <td>29633</td>\n",
              "      <td>4.349581</td>\n",
              "    </tr>\n",
              "    <tr>\n",
              "      <th>5</th>\n",
              "      <td>Communications-Media</td>\n",
              "      <td>20140</td>\n",
              "      <td>2.956183</td>\n",
              "    </tr>\n",
              "    <tr>\n",
              "      <th>6</th>\n",
              "      <td>Internet</td>\n",
              "      <td>16006</td>\n",
              "      <td>2.349387</td>\n",
              "    </tr>\n",
              "    <tr>\n",
              "      <th>7</th>\n",
              "      <td>Non-Profit</td>\n",
              "      <td>14700</td>\n",
              "      <td>2.157690</td>\n",
              "    </tr>\n",
              "    <tr>\n",
              "      <th>8</th>\n",
              "      <td>Engineering</td>\n",
              "      <td>11653</td>\n",
              "      <td>1.710447</td>\n",
              "    </tr>\n",
              "    <tr>\n",
              "      <th>9</th>\n",
              "      <td>Law</td>\n",
              "      <td>9040</td>\n",
              "      <td>1.326906</td>\n",
              "    </tr>\n",
              "    <tr>\n",
              "      <th>10</th>\n",
              "      <td>Publishing</td>\n",
              "      <td>7753</td>\n",
              "      <td>1.137998</td>\n",
              "    </tr>\n",
              "    <tr>\n",
              "      <th>11</th>\n",
              "      <td>Science</td>\n",
              "      <td>7269</td>\n",
              "      <td>1.066956</td>\n",
              "    </tr>\n",
              "    <tr>\n",
              "      <th>12</th>\n",
              "      <td>Government</td>\n",
              "      <td>6907</td>\n",
              "      <td>1.013821</td>\n",
              "    </tr>\n",
              "    <tr>\n",
              "      <th>13</th>\n",
              "      <td>Consulting</td>\n",
              "      <td>5862</td>\n",
              "      <td>0.860434</td>\n",
              "    </tr>\n",
              "    <tr>\n",
              "      <th>14</th>\n",
              "      <td>Religion</td>\n",
              "      <td>5235</td>\n",
              "      <td>0.768402</td>\n",
              "    </tr>\n",
              "    <tr>\n",
              "      <th>15</th>\n",
              "      <td>Fashion</td>\n",
              "      <td>4851</td>\n",
              "      <td>0.712038</td>\n",
              "    </tr>\n",
              "    <tr>\n",
              "      <th>16</th>\n",
              "      <td>Marketing</td>\n",
              "      <td>4769</td>\n",
              "      <td>0.700002</td>\n",
              "    </tr>\n",
              "    <tr>\n",
              "      <th>17</th>\n",
              "      <td>Advertising</td>\n",
              "      <td>4676</td>\n",
              "      <td>0.686351</td>\n",
              "    </tr>\n",
              "    <tr>\n",
              "      <th>18</th>\n",
              "      <td>BusinessServices</td>\n",
              "      <td>4500</td>\n",
              "      <td>0.660517</td>\n",
              "    </tr>\n",
              "    <tr>\n",
              "      <th>19</th>\n",
              "      <td>Banking</td>\n",
              "      <td>4049</td>\n",
              "      <td>0.594319</td>\n",
              "    </tr>\n",
              "    <tr>\n",
              "      <th>20</th>\n",
              "      <td>Chemicals</td>\n",
              "      <td>3928</td>\n",
              "      <td>0.576558</td>\n",
              "    </tr>\n",
              "    <tr>\n",
              "      <th>21</th>\n",
              "      <td>Telecommunications</td>\n",
              "      <td>3891</td>\n",
              "      <td>0.571127</td>\n",
              "    </tr>\n",
              "    <tr>\n",
              "      <th>22</th>\n",
              "      <td>Accounting</td>\n",
              "      <td>3832</td>\n",
              "      <td>0.562467</td>\n",
              "    </tr>\n",
              "    <tr>\n",
              "      <th>23</th>\n",
              "      <td>Military</td>\n",
              "      <td>3128</td>\n",
              "      <td>0.459133</td>\n",
              "    </tr>\n",
              "    <tr>\n",
              "      <th>24</th>\n",
              "      <td>Museums-Libraries</td>\n",
              "      <td>3096</td>\n",
              "      <td>0.454436</td>\n",
              "    </tr>\n",
              "    <tr>\n",
              "      <th>25</th>\n",
              "      <td>Sports-Recreation</td>\n",
              "      <td>3038</td>\n",
              "      <td>0.445923</td>\n",
              "    </tr>\n",
              "    <tr>\n",
              "      <th>26</th>\n",
              "      <td>HumanResources</td>\n",
              "      <td>3010</td>\n",
              "      <td>0.441813</td>\n",
              "    </tr>\n",
              "    <tr>\n",
              "      <th>27</th>\n",
              "      <td>RealEstate</td>\n",
              "      <td>2870</td>\n",
              "      <td>0.421263</td>\n",
              "    </tr>\n",
              "    <tr>\n",
              "      <th>28</th>\n",
              "      <td>Transportation</td>\n",
              "      <td>2326</td>\n",
              "      <td>0.341414</td>\n",
              "    </tr>\n",
              "    <tr>\n",
              "      <th>29</th>\n",
              "      <td>Manufacturing</td>\n",
              "      <td>2272</td>\n",
              "      <td>0.333488</td>\n",
              "    </tr>\n",
              "    <tr>\n",
              "      <th>30</th>\n",
              "      <td>Biotech</td>\n",
              "      <td>2234</td>\n",
              "      <td>0.327910</td>\n",
              "    </tr>\n",
              "    <tr>\n",
              "      <th>31</th>\n",
              "      <td>Tourism</td>\n",
              "      <td>1942</td>\n",
              "      <td>0.285050</td>\n",
              "    </tr>\n",
              "    <tr>\n",
              "      <th>32</th>\n",
              "      <td>LawEnforcement-Security</td>\n",
              "      <td>1878</td>\n",
              "      <td>0.275656</td>\n",
              "    </tr>\n",
              "    <tr>\n",
              "      <th>33</th>\n",
              "      <td>Architecture</td>\n",
              "      <td>1638</td>\n",
              "      <td>0.240428</td>\n",
              "    </tr>\n",
              "    <tr>\n",
              "      <th>34</th>\n",
              "      <td>InvestmentBanking</td>\n",
              "      <td>1292</td>\n",
              "      <td>0.189642</td>\n",
              "    </tr>\n",
              "    <tr>\n",
              "      <th>35</th>\n",
              "      <td>Automotive</td>\n",
              "      <td>1244</td>\n",
              "      <td>0.182596</td>\n",
              "    </tr>\n",
              "    <tr>\n",
              "      <th>36</th>\n",
              "      <td>Agriculture</td>\n",
              "      <td>1235</td>\n",
              "      <td>0.181275</td>\n",
              "    </tr>\n",
              "    <tr>\n",
              "      <th>37</th>\n",
              "      <td>Construction</td>\n",
              "      <td>1093</td>\n",
              "      <td>0.160432</td>\n",
              "    </tr>\n",
              "    <tr>\n",
              "      <th>38</th>\n",
              "      <td>Environment</td>\n",
              "      <td>592</td>\n",
              "      <td>0.086895</td>\n",
              "    </tr>\n",
              "    <tr>\n",
              "      <th>39</th>\n",
              "      <td>Maritime</td>\n",
              "      <td>280</td>\n",
              "      <td>0.041099</td>\n",
              "    </tr>\n",
              "  </tbody>\n",
              "</table>\n",
              "</div>\n",
              "      <button class=\"colab-df-convert\" onclick=\"convertToInteractive('df-9e00d0f5-c444-4587-adb4-da04788b9f35')\"\n",
              "              title=\"Convert this dataframe to an interactive table.\"\n",
              "              style=\"display:none;\">\n",
              "        \n",
              "  <svg xmlns=\"http://www.w3.org/2000/svg\" height=\"24px\"viewBox=\"0 0 24 24\"\n",
              "       width=\"24px\">\n",
              "    <path d=\"M0 0h24v24H0V0z\" fill=\"none\"/>\n",
              "    <path d=\"M18.56 5.44l.94 2.06.94-2.06 2.06-.94-2.06-.94-.94-2.06-.94 2.06-2.06.94zm-11 1L8.5 8.5l.94-2.06 2.06-.94-2.06-.94L8.5 2.5l-.94 2.06-2.06.94zm10 10l.94 2.06.94-2.06 2.06-.94-2.06-.94-.94-2.06-.94 2.06-2.06.94z\"/><path d=\"M17.41 7.96l-1.37-1.37c-.4-.4-.92-.59-1.43-.59-.52 0-1.04.2-1.43.59L10.3 9.45l-7.72 7.72c-.78.78-.78 2.05 0 2.83L4 21.41c.39.39.9.59 1.41.59.51 0 1.02-.2 1.41-.59l7.78-7.78 2.81-2.81c.8-.78.8-2.07 0-2.86zM5.41 20L4 18.59l7.72-7.72 1.47 1.35L5.41 20z\"/>\n",
              "  </svg>\n",
              "      </button>\n",
              "      \n",
              "  <style>\n",
              "    .colab-df-container {\n",
              "      display:flex;\n",
              "      flex-wrap:wrap;\n",
              "      gap: 12px;\n",
              "    }\n",
              "\n",
              "    .colab-df-convert {\n",
              "      background-color: #E8F0FE;\n",
              "      border: none;\n",
              "      border-radius: 50%;\n",
              "      cursor: pointer;\n",
              "      display: none;\n",
              "      fill: #1967D2;\n",
              "      height: 32px;\n",
              "      padding: 0 0 0 0;\n",
              "      width: 32px;\n",
              "    }\n",
              "\n",
              "    .colab-df-convert:hover {\n",
              "      background-color: #E2EBFA;\n",
              "      box-shadow: 0px 1px 2px rgba(60, 64, 67, 0.3), 0px 1px 3px 1px rgba(60, 64, 67, 0.15);\n",
              "      fill: #174EA6;\n",
              "    }\n",
              "\n",
              "    [theme=dark] .colab-df-convert {\n",
              "      background-color: #3B4455;\n",
              "      fill: #D2E3FC;\n",
              "    }\n",
              "\n",
              "    [theme=dark] .colab-df-convert:hover {\n",
              "      background-color: #434B5C;\n",
              "      box-shadow: 0px 1px 3px 1px rgba(0, 0, 0, 0.15);\n",
              "      filter: drop-shadow(0px 1px 2px rgba(0, 0, 0, 0.3));\n",
              "      fill: #FFFFFF;\n",
              "    }\n",
              "  </style>\n",
              "\n",
              "      <script>\n",
              "        const buttonEl =\n",
              "          document.querySelector('#df-9e00d0f5-c444-4587-adb4-da04788b9f35 button.colab-df-convert');\n",
              "        buttonEl.style.display =\n",
              "          google.colab.kernel.accessAllowed ? 'block' : 'none';\n",
              "\n",
              "        async function convertToInteractive(key) {\n",
              "          const element = document.querySelector('#df-9e00d0f5-c444-4587-adb4-da04788b9f35');\n",
              "          const dataTable =\n",
              "            await google.colab.kernel.invokeFunction('convertToInteractive',\n",
              "                                                     [key], {});\n",
              "          if (!dataTable) return;\n",
              "\n",
              "          const docLinkHtml = 'Like what you see? Visit the ' +\n",
              "            '<a target=\"_blank\" href=https://colab.research.google.com/notebooks/data_table.ipynb>data table notebook</a>'\n",
              "            + ' to learn more about interactive tables.';\n",
              "          element.innerHTML = '';\n",
              "          dataTable['output_type'] = 'display_data';\n",
              "          await google.colab.output.renderOutput(dataTable, element);\n",
              "          const docLink = document.createElement('div');\n",
              "          docLink.innerHTML = docLinkHtml;\n",
              "          element.appendChild(docLink);\n",
              "        }\n",
              "      </script>\n",
              "    </div>\n",
              "  </div>\n",
              "  "
            ]
          },
          "metadata": {},
          "execution_count": 51
        }
      ]
    },
    {
      "cell_type": "code",
      "execution_count": 52,
      "metadata": {
        "colab": {
          "base_uri": "https://localhost:8080/"
        },
        "id": "-3tpgEnl521C",
        "outputId": "bca2fcd1-bc23-486e-bbe2-c3bbcc7c9a54"
      },
      "outputs": [
        {
          "output_type": "stream",
          "name": "stdout",
          "text": [
            "Looking in indexes: https://pypi.org/simple, https://us-python.pkg.dev/colab-wheels/public/simple/\n",
            "Collecting langdetect\n",
            "  Downloading langdetect-1.0.9.tar.gz (981 kB)\n",
            "\u001b[K     |████████████████████████████████| 981 kB 17.5 MB/s \n",
            "\u001b[?25hRequirement already satisfied: six in /usr/local/lib/python3.7/dist-packages (from langdetect) (1.15.0)\n",
            "Building wheels for collected packages: langdetect\n",
            "  Building wheel for langdetect (setup.py) ... \u001b[?25l\u001b[?25hdone\n",
            "  Created wheel for langdetect: filename=langdetect-1.0.9-py3-none-any.whl size=993242 sha256=f48b0f6e08d270a02bab7762afc81ffa85049dd393504b5e633d0302c2b43d38\n",
            "  Stored in directory: /root/.cache/pip/wheels/c5/96/8a/f90c59ed25d75e50a8c10a1b1c2d4c402e4dacfa87f3aff36a\n",
            "Successfully built langdetect\n",
            "Installing collected packages: langdetect\n",
            "Successfully installed langdetect-1.0.9\n"
          ]
        }
      ],
      "source": [
        "pip install langdetect"
      ]
    },
    {
      "cell_type": "code",
      "execution_count": null,
      "metadata": {
        "colab": {
          "base_uri": "https://localhost:8080/",
          "height": 36
        },
        "id": "cgHpfQF06DyJ",
        "outputId": "c55cb210-22f2-4692-fac8-4591d3e0b088"
      },
      "outputs": [
        {
          "output_type": "execute_result",
          "data": {
            "text/plain": [
              "'ja'"
            ],
            "application/vnd.google.colaboratory.intrinsic+json": {
              "type": "string"
            }
          },
          "metadata": {},
          "execution_count": 17
        }
      ],
      "source": [
        "from langdetect import detect, DetectorFactory\n",
        "DetectorFactory.seed = 0\n",
        "detect('今一はお前さん')"
      ]
    },
    {
      "cell_type": "code",
      "execution_count": null,
      "metadata": {
        "colab": {
          "base_uri": "https://localhost:8080/",
          "height": 36
        },
        "id": "amQHCGsY8L-V",
        "outputId": "7aa6dd25-430c-4cb4-ba8a-8f5d5975c0e3"
      },
      "outputs": [
        {
          "output_type": "execute_result",
          "data": {
            "text/plain": [
              "'id'"
            ],
            "application/vnd.google.colaboratory.intrinsic+json": {
              "type": "string"
            }
          },
          "metadata": {},
          "execution_count": 18
        }
      ],
      "source": [
        "from langdetect import detect, DetectorFactory\n",
        "DetectorFactory.seed = 0\n",
        "detect('[data]')"
      ]
    },
    {
      "cell_type": "code",
      "execution_count": null,
      "metadata": {
        "id": "4iscGbWcmGIh"
      },
      "outputs": [],
      "source": [
        "import re\n",
        "import nltk\n",
        "%matplotlib inline\n",
        "\n",
        "import warnings\n",
        "warnings.filterwarnings('ignore')"
      ]
    },
    {
      "cell_type": "code",
      "execution_count": null,
      "metadata": {
        "colab": {
          "base_uri": "https://localhost:8080/"
        },
        "id": "Je8gUDEJleuG",
        "outputId": "090cb2d4-227a-4978-f55e-17094d9ee934"
      },
      "outputs": [
        {
          "output_type": "stream",
          "name": "stdout",
          "text": [
            "<class 'pandas.core.frame.DataFrame'>\n",
            "RangeIndex: 681284 entries, 0 to 681283\n",
            "Data columns (total 7 columns):\n",
            " #   Column  Non-Null Count   Dtype \n",
            "---  ------  --------------   ----- \n",
            " 0   id      681284 non-null  int64 \n",
            " 1   gender  681284 non-null  object\n",
            " 2   age     681284 non-null  int64 \n",
            " 3   topic   681284 non-null  object\n",
            " 4   sign    681284 non-null  object\n",
            " 5   date    681284 non-null  object\n",
            " 6   text    681284 non-null  object\n",
            "dtypes: int64(2), object(5)\n",
            "memory usage: 36.4+ MB\n"
          ]
        }
      ],
      "source": [
        "data.info()"
      ]
    },
    {
      "cell_type": "markdown",
      "metadata": {
        "id": "xUB2NkbZ6jSn"
      },
      "source": [
        "## 1.2. Preprocess unstructured data to make it consumable for model training. [5 Marks]"
      ]
    },
    {
      "cell_type": "markdown",
      "metadata": {
        "id": "e0tkbxVUbvGj"
      },
      "source": [
        "1.2.A. Eliminate All special Characters and Numbers [2 Marks]"
      ]
    },
    {
      "cell_type": "code",
      "execution_count": null,
      "metadata": {
        "colab": {
          "base_uri": "https://localhost:8080/",
          "height": 423
        },
        "id": "nQS-xBagIrIX",
        "outputId": "b3f199b6-d8f1-41e6-99c1-e30a12c85f48"
      },
      "outputs": [
        {
          "output_type": "execute_result",
          "data": {
            "text/plain": [
              "                    topic                                               text\n",
              "0                 Student             Info has been found (+/- 100 pages,...\n",
              "1                 Student             These are the team members:   Drewe...\n",
              "2                 Student             In het kader van kernfusie op aarde...\n",
              "3                 Student                   testing!!!  testing!!!          \n",
              "4       InvestmentBanking               Thanks to Yahoo!'s Toolbar I can ...\n",
              "...                   ...                                                ...\n",
              "681279            Student         Dear Susan,  I could write some really ...\n",
              "681280            Student         Dear Susan,  'I have the second yeast i...\n",
              "681281            Student         Dear Susan,  Your 'boyfriend' is fuckin...\n",
              "681282            Student         Dear Susan:    Just to clarify, I am as...\n",
              "681283            Student         Hey everybody...and Susan,  You might a...\n",
              "\n",
              "[681284 rows x 2 columns]"
            ],
            "text/html": [
              "\n",
              "  <div id=\"df-2c890674-f69c-4eb0-b942-3299694b7752\">\n",
              "    <div class=\"colab-df-container\">\n",
              "      <div>\n",
              "<style scoped>\n",
              "    .dataframe tbody tr th:only-of-type {\n",
              "        vertical-align: middle;\n",
              "    }\n",
              "\n",
              "    .dataframe tbody tr th {\n",
              "        vertical-align: top;\n",
              "    }\n",
              "\n",
              "    .dataframe thead th {\n",
              "        text-align: right;\n",
              "    }\n",
              "</style>\n",
              "<table border=\"1\" class=\"dataframe\">\n",
              "  <thead>\n",
              "    <tr style=\"text-align: right;\">\n",
              "      <th></th>\n",
              "      <th>topic</th>\n",
              "      <th>text</th>\n",
              "    </tr>\n",
              "  </thead>\n",
              "  <tbody>\n",
              "    <tr>\n",
              "      <th>0</th>\n",
              "      <td>Student</td>\n",
              "      <td>Info has been found (+/- 100 pages,...</td>\n",
              "    </tr>\n",
              "    <tr>\n",
              "      <th>1</th>\n",
              "      <td>Student</td>\n",
              "      <td>These are the team members:   Drewe...</td>\n",
              "    </tr>\n",
              "    <tr>\n",
              "      <th>2</th>\n",
              "      <td>Student</td>\n",
              "      <td>In het kader van kernfusie op aarde...</td>\n",
              "    </tr>\n",
              "    <tr>\n",
              "      <th>3</th>\n",
              "      <td>Student</td>\n",
              "      <td>testing!!!  testing!!!</td>\n",
              "    </tr>\n",
              "    <tr>\n",
              "      <th>4</th>\n",
              "      <td>InvestmentBanking</td>\n",
              "      <td>Thanks to Yahoo!'s Toolbar I can ...</td>\n",
              "    </tr>\n",
              "    <tr>\n",
              "      <th>...</th>\n",
              "      <td>...</td>\n",
              "      <td>...</td>\n",
              "    </tr>\n",
              "    <tr>\n",
              "      <th>681279</th>\n",
              "      <td>Student</td>\n",
              "      <td>Dear Susan,  I could write some really ...</td>\n",
              "    </tr>\n",
              "    <tr>\n",
              "      <th>681280</th>\n",
              "      <td>Student</td>\n",
              "      <td>Dear Susan,  'I have the second yeast i...</td>\n",
              "    </tr>\n",
              "    <tr>\n",
              "      <th>681281</th>\n",
              "      <td>Student</td>\n",
              "      <td>Dear Susan,  Your 'boyfriend' is fuckin...</td>\n",
              "    </tr>\n",
              "    <tr>\n",
              "      <th>681282</th>\n",
              "      <td>Student</td>\n",
              "      <td>Dear Susan:    Just to clarify, I am as...</td>\n",
              "    </tr>\n",
              "    <tr>\n",
              "      <th>681283</th>\n",
              "      <td>Student</td>\n",
              "      <td>Hey everybody...and Susan,  You might a...</td>\n",
              "    </tr>\n",
              "  </tbody>\n",
              "</table>\n",
              "<p>681284 rows × 2 columns</p>\n",
              "</div>\n",
              "      <button class=\"colab-df-convert\" onclick=\"convertToInteractive('df-2c890674-f69c-4eb0-b942-3299694b7752')\"\n",
              "              title=\"Convert this dataframe to an interactive table.\"\n",
              "              style=\"display:none;\">\n",
              "        \n",
              "  <svg xmlns=\"http://www.w3.org/2000/svg\" height=\"24px\"viewBox=\"0 0 24 24\"\n",
              "       width=\"24px\">\n",
              "    <path d=\"M0 0h24v24H0V0z\" fill=\"none\"/>\n",
              "    <path d=\"M18.56 5.44l.94 2.06.94-2.06 2.06-.94-2.06-.94-.94-2.06-.94 2.06-2.06.94zm-11 1L8.5 8.5l.94-2.06 2.06-.94-2.06-.94L8.5 2.5l-.94 2.06-2.06.94zm10 10l.94 2.06.94-2.06 2.06-.94-2.06-.94-.94-2.06-.94 2.06-2.06.94z\"/><path d=\"M17.41 7.96l-1.37-1.37c-.4-.4-.92-.59-1.43-.59-.52 0-1.04.2-1.43.59L10.3 9.45l-7.72 7.72c-.78.78-.78 2.05 0 2.83L4 21.41c.39.39.9.59 1.41.59.51 0 1.02-.2 1.41-.59l7.78-7.78 2.81-2.81c.8-.78.8-2.07 0-2.86zM5.41 20L4 18.59l7.72-7.72 1.47 1.35L5.41 20z\"/>\n",
              "  </svg>\n",
              "      </button>\n",
              "      \n",
              "  <style>\n",
              "    .colab-df-container {\n",
              "      display:flex;\n",
              "      flex-wrap:wrap;\n",
              "      gap: 12px;\n",
              "    }\n",
              "\n",
              "    .colab-df-convert {\n",
              "      background-color: #E8F0FE;\n",
              "      border: none;\n",
              "      border-radius: 50%;\n",
              "      cursor: pointer;\n",
              "      display: none;\n",
              "      fill: #1967D2;\n",
              "      height: 32px;\n",
              "      padding: 0 0 0 0;\n",
              "      width: 32px;\n",
              "    }\n",
              "\n",
              "    .colab-df-convert:hover {\n",
              "      background-color: #E2EBFA;\n",
              "      box-shadow: 0px 1px 2px rgba(60, 64, 67, 0.3), 0px 1px 3px 1px rgba(60, 64, 67, 0.15);\n",
              "      fill: #174EA6;\n",
              "    }\n",
              "\n",
              "    [theme=dark] .colab-df-convert {\n",
              "      background-color: #3B4455;\n",
              "      fill: #D2E3FC;\n",
              "    }\n",
              "\n",
              "    [theme=dark] .colab-df-convert:hover {\n",
              "      background-color: #434B5C;\n",
              "      box-shadow: 0px 1px 3px 1px rgba(0, 0, 0, 0.15);\n",
              "      filter: drop-shadow(0px 1px 2px rgba(0, 0, 0, 0.3));\n",
              "      fill: #FFFFFF;\n",
              "    }\n",
              "  </style>\n",
              "\n",
              "      <script>\n",
              "        const buttonEl =\n",
              "          document.querySelector('#df-2c890674-f69c-4eb0-b942-3299694b7752 button.colab-df-convert');\n",
              "        buttonEl.style.display =\n",
              "          google.colab.kernel.accessAllowed ? 'block' : 'none';\n",
              "\n",
              "        async function convertToInteractive(key) {\n",
              "          const element = document.querySelector('#df-2c890674-f69c-4eb0-b942-3299694b7752');\n",
              "          const dataTable =\n",
              "            await google.colab.kernel.invokeFunction('convertToInteractive',\n",
              "                                                     [key], {});\n",
              "          if (!dataTable) return;\n",
              "\n",
              "          const docLinkHtml = 'Like what you see? Visit the ' +\n",
              "            '<a target=\"_blank\" href=https://colab.research.google.com/notebooks/data_table.ipynb>data table notebook</a>'\n",
              "            + ' to learn more about interactive tables.';\n",
              "          element.innerHTML = '';\n",
              "          dataTable['output_type'] = 'display_data';\n",
              "          await google.colab.output.renderOutput(dataTable, element);\n",
              "          const docLink = document.createElement('div');\n",
              "          docLink.innerHTML = docLinkHtml;\n",
              "          element.appendChild(docLink);\n",
              "        }\n",
              "      </script>\n",
              "    </div>\n",
              "  </div>\n",
              "  "
            ]
          },
          "metadata": {},
          "execution_count": 21
        }
      ],
      "source": [
        "messages = data[[\"topic\",\"text\"]]\n",
        "messages\n"
      ]
    },
    {
      "cell_type": "code",
      "execution_count": null,
      "metadata": {
        "colab": {
          "base_uri": "https://localhost:8080/"
        },
        "id": "oV8fT6SeLJQK",
        "outputId": "1b1e4b06-c4c2-49fb-de4a-d908d8562e45"
      },
      "outputs": [
        {
          "output_type": "execute_result",
          "data": {
            "text/plain": [
              "(681284, 2)"
            ]
          },
          "metadata": {},
          "execution_count": 22
        }
      ],
      "source": [
        "messages.shape"
      ]
    },
    {
      "cell_type": "code",
      "source": [
        "data.fillna(\" \",inplace=True)"
      ],
      "metadata": {
        "id": "PlT8jXKSv7MU"
      },
      "execution_count": null,
      "outputs": []
    },
    {
      "cell_type": "code",
      "source": [
        "data.isna().sum()"
      ],
      "metadata": {
        "colab": {
          "base_uri": "https://localhost:8080/"
        },
        "id": "e_yyOPAzwbVY",
        "outputId": "bc71f5fc-24fc-4aa2-965d-4ce6218019eb"
      },
      "execution_count": null,
      "outputs": [
        {
          "output_type": "execute_result",
          "data": {
            "text/plain": [
              "id        0\n",
              "gender    0\n",
              "age       0\n",
              "topic     0\n",
              "sign      0\n",
              "date      0\n",
              "text      0\n",
              "dtype: int64"
            ]
          },
          "metadata": {},
          "execution_count": 24
        }
      ]
    },
    {
      "cell_type": "code",
      "source": [
        "data.nunique()"
      ],
      "metadata": {
        "colab": {
          "base_uri": "https://localhost:8080/"
        },
        "id": "RicoawgowsSO",
        "outputId": "4d0d9ca8-58c0-4a11-c2dc-c6319c1cdbfb"
      },
      "execution_count": null,
      "outputs": [
        {
          "output_type": "execute_result",
          "data": {
            "text/plain": [
              "id         19320\n",
              "gender         2\n",
              "age           26\n",
              "topic         40\n",
              "sign          12\n",
              "date        2616\n",
              "text      611652\n",
              "dtype: int64"
            ]
          },
          "metadata": {},
          "execution_count": 25
        }
      ]
    },
    {
      "cell_type": "code",
      "source": [
        "data.describe().T"
      ],
      "metadata": {
        "id": "HN2SzqRJwx1I",
        "outputId": "31c12364-2248-4f20-8285-d2b1595d765a",
        "colab": {
          "base_uri": "https://localhost:8080/",
          "height": 112
        }
      },
      "execution_count": null,
      "outputs": [
        {
          "output_type": "execute_result",
          "data": {
            "text/plain": [
              "        count          mean           std     min        25%        50%  \\\n",
              "id   681284.0  2.397802e+06  1.247723e+06  5114.0  1239610.0  2607577.0   \n",
              "age  681284.0  2.393233e+01  7.786009e+00    13.0       17.0       24.0   \n",
              "\n",
              "           75%        max  \n",
              "id   3525660.0  4337650.0  \n",
              "age       26.0       48.0  "
            ],
            "text/html": [
              "\n",
              "  <div id=\"df-d93dfc07-53df-482d-bf12-9de0825edb04\">\n",
              "    <div class=\"colab-df-container\">\n",
              "      <div>\n",
              "<style scoped>\n",
              "    .dataframe tbody tr th:only-of-type {\n",
              "        vertical-align: middle;\n",
              "    }\n",
              "\n",
              "    .dataframe tbody tr th {\n",
              "        vertical-align: top;\n",
              "    }\n",
              "\n",
              "    .dataframe thead th {\n",
              "        text-align: right;\n",
              "    }\n",
              "</style>\n",
              "<table border=\"1\" class=\"dataframe\">\n",
              "  <thead>\n",
              "    <tr style=\"text-align: right;\">\n",
              "      <th></th>\n",
              "      <th>count</th>\n",
              "      <th>mean</th>\n",
              "      <th>std</th>\n",
              "      <th>min</th>\n",
              "      <th>25%</th>\n",
              "      <th>50%</th>\n",
              "      <th>75%</th>\n",
              "      <th>max</th>\n",
              "    </tr>\n",
              "  </thead>\n",
              "  <tbody>\n",
              "    <tr>\n",
              "      <th>id</th>\n",
              "      <td>681284.0</td>\n",
              "      <td>2.397802e+06</td>\n",
              "      <td>1.247723e+06</td>\n",
              "      <td>5114.0</td>\n",
              "      <td>1239610.0</td>\n",
              "      <td>2607577.0</td>\n",
              "      <td>3525660.0</td>\n",
              "      <td>4337650.0</td>\n",
              "    </tr>\n",
              "    <tr>\n",
              "      <th>age</th>\n",
              "      <td>681284.0</td>\n",
              "      <td>2.393233e+01</td>\n",
              "      <td>7.786009e+00</td>\n",
              "      <td>13.0</td>\n",
              "      <td>17.0</td>\n",
              "      <td>24.0</td>\n",
              "      <td>26.0</td>\n",
              "      <td>48.0</td>\n",
              "    </tr>\n",
              "  </tbody>\n",
              "</table>\n",
              "</div>\n",
              "      <button class=\"colab-df-convert\" onclick=\"convertToInteractive('df-d93dfc07-53df-482d-bf12-9de0825edb04')\"\n",
              "              title=\"Convert this dataframe to an interactive table.\"\n",
              "              style=\"display:none;\">\n",
              "        \n",
              "  <svg xmlns=\"http://www.w3.org/2000/svg\" height=\"24px\"viewBox=\"0 0 24 24\"\n",
              "       width=\"24px\">\n",
              "    <path d=\"M0 0h24v24H0V0z\" fill=\"none\"/>\n",
              "    <path d=\"M18.56 5.44l.94 2.06.94-2.06 2.06-.94-2.06-.94-.94-2.06-.94 2.06-2.06.94zm-11 1L8.5 8.5l.94-2.06 2.06-.94-2.06-.94L8.5 2.5l-.94 2.06-2.06.94zm10 10l.94 2.06.94-2.06 2.06-.94-2.06-.94-.94-2.06-.94 2.06-2.06.94z\"/><path d=\"M17.41 7.96l-1.37-1.37c-.4-.4-.92-.59-1.43-.59-.52 0-1.04.2-1.43.59L10.3 9.45l-7.72 7.72c-.78.78-.78 2.05 0 2.83L4 21.41c.39.39.9.59 1.41.59.51 0 1.02-.2 1.41-.59l7.78-7.78 2.81-2.81c.8-.78.8-2.07 0-2.86zM5.41 20L4 18.59l7.72-7.72 1.47 1.35L5.41 20z\"/>\n",
              "  </svg>\n",
              "      </button>\n",
              "      \n",
              "  <style>\n",
              "    .colab-df-container {\n",
              "      display:flex;\n",
              "      flex-wrap:wrap;\n",
              "      gap: 12px;\n",
              "    }\n",
              "\n",
              "    .colab-df-convert {\n",
              "      background-color: #E8F0FE;\n",
              "      border: none;\n",
              "      border-radius: 50%;\n",
              "      cursor: pointer;\n",
              "      display: none;\n",
              "      fill: #1967D2;\n",
              "      height: 32px;\n",
              "      padding: 0 0 0 0;\n",
              "      width: 32px;\n",
              "    }\n",
              "\n",
              "    .colab-df-convert:hover {\n",
              "      background-color: #E2EBFA;\n",
              "      box-shadow: 0px 1px 2px rgba(60, 64, 67, 0.3), 0px 1px 3px 1px rgba(60, 64, 67, 0.15);\n",
              "      fill: #174EA6;\n",
              "    }\n",
              "\n",
              "    [theme=dark] .colab-df-convert {\n",
              "      background-color: #3B4455;\n",
              "      fill: #D2E3FC;\n",
              "    }\n",
              "\n",
              "    [theme=dark] .colab-df-convert:hover {\n",
              "      background-color: #434B5C;\n",
              "      box-shadow: 0px 1px 3px 1px rgba(0, 0, 0, 0.15);\n",
              "      filter: drop-shadow(0px 1px 2px rgba(0, 0, 0, 0.3));\n",
              "      fill: #FFFFFF;\n",
              "    }\n",
              "  </style>\n",
              "\n",
              "      <script>\n",
              "        const buttonEl =\n",
              "          document.querySelector('#df-d93dfc07-53df-482d-bf12-9de0825edb04 button.colab-df-convert');\n",
              "        buttonEl.style.display =\n",
              "          google.colab.kernel.accessAllowed ? 'block' : 'none';\n",
              "\n",
              "        async function convertToInteractive(key) {\n",
              "          const element = document.querySelector('#df-d93dfc07-53df-482d-bf12-9de0825edb04');\n",
              "          const dataTable =\n",
              "            await google.colab.kernel.invokeFunction('convertToInteractive',\n",
              "                                                     [key], {});\n",
              "          if (!dataTable) return;\n",
              "\n",
              "          const docLinkHtml = 'Like what you see? Visit the ' +\n",
              "            '<a target=\"_blank\" href=https://colab.research.google.com/notebooks/data_table.ipynb>data table notebook</a>'\n",
              "            + ' to learn more about interactive tables.';\n",
              "          element.innerHTML = '';\n",
              "          dataTable['output_type'] = 'display_data';\n",
              "          await google.colab.output.renderOutput(dataTable, element);\n",
              "          const docLink = document.createElement('div');\n",
              "          docLink.innerHTML = docLinkHtml;\n",
              "          element.appendChild(docLink);\n",
              "        }\n",
              "      </script>\n",
              "    </div>\n",
              "  </div>\n",
              "  "
            ]
          },
          "metadata": {},
          "execution_count": 26
        }
      ]
    },
    {
      "cell_type": "code",
      "execution_count": null,
      "metadata": {
        "colab": {
          "base_uri": "https://localhost:8080/",
          "height": 73
        },
        "id": "WoZ34yQGMGfJ",
        "outputId": "7d0e03ac-2ef1-4a40-c268-37e320139c60"
      },
      "outputs": [
        {
          "output_type": "execute_result",
          "data": {
            "text/plain": [
              "\"              Silly Songs with Sarah  I'm not sure if I've ever shared my 'Wilbur' song with anyone via my blog, but I thought, heck, maybe I should entertain people once in awhile...   To the tune of Copacabana     His name was Wilbur He was a show-pig With that blue ribbon on his snout He was the one that was no doubt He was the winner! For all their dinners... Bring out the forks,  and the knives, and the plates, Because dear Wilbur...  bam bam bam  He's Christmas ham...   How didja like that? Didja didja  DIDJA ??!!            \""
            ],
            "application/vnd.google.colaboratory.intrinsic+json": {
              "type": "string"
            }
          },
          "metadata": {},
          "execution_count": 27
        }
      ],
      "source": [
        "messages['text'].loc[451]"
      ]
    },
    {
      "cell_type": "code",
      "execution_count": null,
      "metadata": {
        "colab": {
          "base_uri": "https://localhost:8080/",
          "height": 110
        },
        "id": "8pnjv5b8FpU7",
        "outputId": "a2990662-2262-4518-b400-d98f04c41c45"
      },
      "outputs": [
        {
          "output_type": "execute_result",
          "data": {
            "text/plain": [
              "\"       On Monday I started the possibility of the process of buying my own place.  I just met with a realtor, that's all, no paper-signing going on, no commitments, yet.  It's a scary thing this idea of home ownership, signing away your life for 30 years.  It's a good idea, financially, but mentally, is this good for me?    I have a few single girlfriends who have bought places.  Two friends in Richmond bought houses.  I think they have balls.  Not that home ownership is that big of a deal, but a house is a big deal.  I personally can't go that big.  The mowing, the pruning, roof replacement, window washing, it's too much.  I can barely handle keeping my 6-room apartment in orderly shape.  I can just imagine the letters from neighbors that I would get concerning the jungle that would certainly grow outside my home.  So a condo, a condo sounds good to me.  It's like an apartment, but I'd get to paint the walls and a tax deduction.    Condo searching is hard.  While I'm still in the beginning stages, I've already seen 3 in person and a bunch online.  Nothing has caught my eye.  I think I am waiting for the perfect one to just fall into my lap.  I'm picky, but open-minded.  I've told my realtor that I'm interested in city properties and no new construction.  I want an old, lived in, worn and wise place.  My very nice, my age, trying to sell me a place realtor took notes.  I checked for a ring. There was one.  What does it say about me when the men I am not attracted to are married?  Does that mean that somewhere out there there is someone who would love my winning personality and bright smile?  Oh, this is not blog about me wanting a relationship.  This is a blog about me wanting, something, a little more of myself, I guess.  There are friends who say, 'You will find him when you least expect it.'  A good friend who is getting married this summer tells every single girl who claims they are OK with being single that they should watch what they say because she felt the same way last year and poof she's getting married.  Well, with my relationship phobias, I haven't been expecting it for um, 27 years so, um where is the unexpected?  OK, I'm still not ready for all that commitment, so am I ready to commit to a condo?  We will surely see.           \""
            ],
            "application/vnd.google.colaboratory.intrinsic+json": {
              "type": "string"
            }
          },
          "metadata": {},
          "execution_count": 28
        }
      ],
      "source": [
        "messages['text'].loc[500]"
      ]
    },
    {
      "cell_type": "markdown",
      "metadata": {
        "id": "2-cbYxN1b-ZL"
      },
      "source": [
        "1.2.B. Lowercase all textual data [1 Marks]"
      ]
    },
    {
      "cell_type": "markdown",
      "metadata": {
        "id": "1cI7qD67cHPq"
      },
      "source": [
        "1.2.C. Remove all Stopwords [1 Marks]"
      ]
    },
    {
      "cell_type": "code",
      "execution_count": null,
      "metadata": {
        "colab": {
          "base_uri": "https://localhost:8080/"
        },
        "id": "_Wfm8toGGNFB",
        "outputId": "0ddcabd6-51ac-4f1d-99f1-6df5876ca219"
      },
      "outputs": [
        {
          "output_type": "stream",
          "name": "stderr",
          "text": [
            "[nltk_data] Downloading package stopwords to /root/nltk_data...\n",
            "[nltk_data]   Unzipping corpora/stopwords.zip.\n"
          ]
        },
        {
          "output_type": "execute_result",
          "data": {
            "text/plain": [
              "True"
            ]
          },
          "metadata": {},
          "execution_count": 29
        }
      ],
      "source": [
        "#Data cleaning and preprocessing\n",
        "import re\n",
        "import nltk\n",
        "nltk.download('stopwords')"
      ]
    },
    {
      "cell_type": "markdown",
      "metadata": {
        "id": "4GX8F_qjcM8S"
      },
      "source": [
        "1.2.D. Remove all extra white spaces [1 Marks]"
      ]
    },
    {
      "cell_type": "code",
      "execution_count": null,
      "metadata": {
        "id": "bzULpyyHMvwf"
      },
      "outputs": [],
      "source": [
        "from nltk.corpus import stopwords\n",
        "from nltk.stem.porter import PorterStemmer\n",
        "ps = PorterStemmer()"
      ]
    },
    {
      "cell_type": "code",
      "execution_count": null,
      "metadata": {
        "id": "WK99q02X34zE"
      },
      "outputs": [],
      "source": [
        "# Select only alphabets\n",
        "import re\n",
        "data.text = data.text.apply(lambda x: re.sub('[^A-Za-z]+', ' ', x))\n",
        "\n",
        "# Convert text to lowercase\n",
        "data.text = data.text.apply(lambda x: x.lower())\n",
        "\n",
        "# Strip unwanted spaces\n",
        "data.text = data.text.apply(lambda x: x.strip())\n",
        "\n",
        "# Remove stopwords\n",
        "from nltk.corpus import stopwords\n",
        "stopwords = set(stopwords.words('english'))\n",
        "data.text = data.text.apply(lambda x: ' '.join([word for word in x.split() if word not in stopwords]))"
      ]
    },
    {
      "cell_type": "code",
      "execution_count": null,
      "metadata": {
        "id": "1-i2THgzAa8Q",
        "colab": {
          "base_uri": "https://localhost:8080/",
          "height": 91
        },
        "outputId": "e620f63f-a4cf-4d22-9caa-77a69102c5f0"
      },
      "outputs": [
        {
          "output_type": "execute_result",
          "data": {
            "text/plain": [
              "'somehow coca cola way summing things well early flagship jingle like buy world coke tune like teach world sing pretty much summed post woodstock era well add much sales catchy tune korea coke theme urllink stop thinking feel pretty much sums lot korea koreans look relaxed couple stopped thinking started feeling course high regard education math logic deep think many koreans really like work emotion anything else westerners seem sublimate moreso least display different way maybe scratch westerners koreans probably pretty similar context different anyways think losing korea repeat stop thinking feel stop thinking feel stop thinking feel everything alright'"
            ],
            "application/vnd.google.colaboratory.intrinsic+json": {
              "type": "string"
            }
          },
          "metadata": {},
          "execution_count": 32
        }
      ],
      "source": [
        "data.text[6]"
      ]
    },
    {
      "cell_type": "code",
      "execution_count": null,
      "metadata": {
        "id": "5wZ30zq7_l3H",
        "colab": {
          "base_uri": "https://localhost:8080/",
          "height": 36
        },
        "outputId": "231fd2da-e2fb-40c4-8ce6-3423f22134a7"
      },
      "outputs": [
        {
          "output_type": "execute_result",
          "data": {
            "text/plain": [
              "'bill reilly said anything comment since'"
            ],
            "application/vnd.google.colaboratory.intrinsic+json": {
              "type": "string"
            }
          },
          "metadata": {},
          "execution_count": 33
        }
      ],
      "source": [
        "data.text[3000]"
      ]
    },
    {
      "cell_type": "markdown",
      "metadata": {
        "id": "cMim4D0ccTJZ"
      },
      "source": [
        "##1.3. Build a base Classification model [8 Marks]"
      ]
    },
    {
      "cell_type": "markdown",
      "metadata": {
        "id": "OPImVqyvcZtA"
      },
      "source": [
        "1.3.A. Create dependent and independent variables [2 Marks]\n",
        "\n",
        "Hint: Treat ‘topic’ as a Target variable."
      ]
    },
    {
      "cell_type": "code",
      "execution_count": null,
      "metadata": {
        "id": "a8Ff4BSHBCuO"
      },
      "outputs": [],
      "source": [
        "from sklearn.model_selection import train_test_split\n",
        "X_train, X_test, y_train, y_test = train_test_split(data.text.values, data.topic.values, test_size=0.20, random_state=42)"
      ]
    },
    {
      "cell_type": "markdown",
      "metadata": {
        "id": "7ClyePvgchsJ"
      },
      "source": [
        "1.3.B. Split data into train and test. [1 Marks]"
      ]
    },
    {
      "cell_type": "code",
      "execution_count": null,
      "metadata": {
        "id": "C_vdaXwTCF1t",
        "colab": {
          "base_uri": "https://localhost:8080/"
        },
        "outputId": "4eddca39-7200-425a-90b2-dd385bb63148"
      },
      "outputs": [
        {
          "output_type": "execute_result",
          "data": {
            "text/plain": [
              "array(['usual getting daily dose blog never taken drugs life blogs truly addictive come across guy blog talking gun shit getting techincal today sake sanity life gun freak spelled vivid detail today wow guns possible tell guns could get intellectual tell break hk without even breaking sweat could tell glock best gun street battle could tell gun made davis worth three bucks could tell smith wesson priceless street could also tell powerful handgun ever fired super python magnum get point probably somewhere deep recesses body gun fanatic every since young father held interest projectile weaponry seeped genes father owned mossberg bolt action shotgun antique used take leather case touch butt gave tingly type feeling first gun ever raven automatic clip bullets hole chamber cheapest gun made man whole pin exposed inside chamber pin piece metal hits bullet makes fire bullet fires chamber slides back another bullet loaded uh exposed pin one jam pin breaks gun worthless course would think would learn pins raven first gun father ever found room living elder remember walking father hand gun hand asked told gun pa amused let wanted said would feel consequences ever got caught gun always thought meant would try beat case second gun italian beretta f model deluxe gun sweetest gun third cal starfire compact combat style bulldog gun fourth gun amt hardballer cal competition pistol gun huge kick crazy came desert eagle cal gun probably gun ever scared brought mossberg assault shotgun collapsable stock beretta wallet holster shit hot holster actual wallet gun went right middle anyone tried rob would go pocket remove looked like wallet would hand huge surprise shots face feather target pistol came across walter ppk cal gun rolls royce gun world came across small cal derringer two shots got every single club ever went hint hint grab chain put gun chain put gun chest place back chain looks like choker many bouncers check far back harrington cal shot revolver gun cool revolvers come shots one think done whoah comes three finally pride joy glock cal extended shot clip silencer miss gun got caught day miss gun like lost child main ones remember things getting kinda crazy life synonymous carrying gun everywhere went ever saw fish gun common knowledge area best aim knowledge mechanical skills dealing guns took many levels buying magazines researching everything subject used go gun shows try best steal many guns possible buy fuck gun shows expensive funny thing many guns house young tend blabber made story someone broke house stole guns even broke window make look believable could believe people come saying knew took shit pretty amazed whole thing guns wow think replaced love guns poetry thing could figure love poetry soo much guns course possession heheeehehehe would tell sure dead leave note much write incriminating lol peace love porkchops fish',\n",
              "       'sure gonna song album listening lately urllink love guess best option right click save file actually posted file linking sure work',\n",
              "       'homes great summer want post experiences summer urllink email send invitation post project impact huge success likely returning chicago next summer',\n",
              "       ...,\n",
              "       'schwarz urges end san francisco marriage bonanza one listens urllink californians spoke issue sex marriage overwhelmingly approved california law defines marriage man woman support law encourage san francisco officials obey law former actor said nyp',\n",
              "       'saw sign recently advertising product guaranteed would make fill better exactly mean nbsp stand advertising bad grammar misspellings sort mistakes get limited number words get point across least make sure right nbsp driving months ago saw one south border huge billboards glad know bus es welcome nbsp went see dolly urllink dixie stampede show pigeon forge tenn recently brochure show one sold nearly every night makes tons money told us pigeon forges greatest dinner show would think someone would understand possessives copy editor nbsp maybe anal things since copy editor really bugs see things like especially nbsp editors nbsp probably getting paid hell lot working advertising',\n",
              "       'ok time update leave f well know start um good time kat new years eve lan party btw happy new year people de ever lan party awesome cept katherine getting sick like really sick good whole getting sick part computer turned fixed got new better mobo w working playing daoc whole fucking lot zak nate nice tons fun must forget anything ups downs mmmm lays drool slept whole lot lan much day home till felt better afterwards spent night zak nate played daoc till got get nate bus stop missed went breakfast tom kat alpenglow zak mom went balistic pissed tom drove nate kat portland fun much glad nate left mom cool met brew pub ate dinner force something got chicken strips rolls eyes afterwards got inn watched upon time mexico um definatly strange movie like trying make funny trying make really serious time yeah kat liked though watch cough brat cough drove nuts went bed cause kat sleeping room close yet far big obsical us oh well fun went powells headed feeling great slept time needed got home sorta know computer still zak desk feels really crappy mac sitting empty good computerless day got ready eyes closed hard took long time find something wear tired open eyes got eventually twas fun stood degree weather talking alex john little freshman kid stood little lot realized bus coming half hour late john dad gave us ride got school went class minutes late thing design tech want anything math carpenter teaching something new pay attention nice see trevor good mood going eugene youd know went taco bell jen house ate strangest assortment food lunch little cookie dough balls cheese crackers eggo waffles enchiladas chips trevor old mountain dew back frozen stil good decided start putting stuff like eggnog chocolate strawberry candies lemon juice apple cider honey interesting awful good fun time skrewed around lot go back went drama stuff fun happy kat going summit second semster still know actually wants still time think really trying update energy think something post sometimes sit stare screen thinking oh well love kat'],\n",
              "      dtype=object)"
            ]
          },
          "metadata": {},
          "execution_count": 35
        }
      ],
      "source": [
        "X_train"
      ]
    },
    {
      "cell_type": "code",
      "execution_count": null,
      "metadata": {
        "id": "Ascrj6BACON8",
        "colab": {
          "base_uri": "https://localhost:8080/"
        },
        "outputId": "83c9d95a-2c60-44d1-deaf-1340964a8740"
      },
      "outputs": [
        {
          "output_type": "execute_result",
          "data": {
            "text/plain": [
              "array(['corinthians written keep company anyone named brother sexually immoral covetous idolater reviler drunkard extortioner even eat person sounds somewhat simple right wrong applying verse life hard sister fits things need figure obedient much time okay spend parents supposed ostricize family know uncle mostly also cousins probably claim many people christians yet drunks go family functions supposed like grandad pretend like going going seek',\n",
              "       'moved jersey city nearly month ago idea would packing camp original homeland philippines well perhaps homeland away homeland new jersey familiarizing new neighborhood strolled west side avenue dumbfounded see large wooden sign overhead local store carved lettering filipinas market wait filipina even perfume called filipina extraordinary woman arranged adoption back gave years ago birthday use special occasions hoping make last bottle bone dry even like puny little puddle molasses like shampoo might take days finally ooze add little water shake like martini voila watered bubbly yet officially usable shampoo first started riding bus path station found surrounded distant relatives familiar faces nose young kids would ask nose flatter never bothered used tomboy could beat biggest boy class fact high school known able throw ball farther boys ok bragging would usually shrug perfectly innocent question resume digging dirt looking gold using twig parents took back philippines allowed embrace culture see heritage granted age embarrassing seen parents especially agitating wear fanny pack difficult see filipino people embraced sweet demeanor donned warm smiles would explain got rep always smiling th grade year book change schools since every moment display freeze frame whites crest smile people asked ok recently acquired mess subway walking anywhere look city life though waiting bus morning met woman knew adam eve filipino believe worked manhattan telling dreaded look like still high school tell something know tried explain connecticut think may slightly confused sweeter butter cookie made feel right home',\n",
              "       'urllink hey metro need save money take hike comes heels second fare hike two years make parking attendants stealing cash tills nation finest public transportation system ass',\n",
              "       ...,\n",
              "       'gifted rapper say rap along pretty much rap song heard least dozen times even generally know enough lyrics fake pretty well song playing club like dance hip hop opposed typical house music play europe cuz cuttin rug fit slag even minger drunk enough show rapping along gives something facing know kind expression make takes attention away whiteboy dance moves plus lets say kind shit hot stranger could never say otherwise example said hot summer intern party pretty young thing go around dick tongue ring fucking night like e sex aint making love impressing charmingly ignorant brits knowing rap songs playing cool back room fabric ok one thing bugs records guy spinning clean versions songs fucking hate clean version shit rap dirty version sometimes like whole different fucking song imagine one listening confusion kid knows lot words rap songs changing words keep throwing f word b word even gasp n word freak',\n",
              "       'normal never felt good ap history exam tomorrow even though stayed home school today study still feel like massive gaps knowledge really concern though happen happen gonna look notes minutes call night cityfest live weekend hehe hope dreams wrecking car like night one year ago smacked lauren brantley next day well back work te quiero martha alegro de que estes bien feliz nos vemos ana finalmente hope understandable p',\n",
              "       'oh god best big day ever perthians ticket yet fuckin run get one like darkness amazing datsuns amazing peaches unbelievably amazing muse almost callapsed orgasmic spiral strokes flawless surly brilliant basement jaxx act day might premium drugs talkin top hired driver extremely expensive car drive us city lookin place kick settle revolver bottles moet rest cab home leads centrelink right supposedly looking jobs hmmmm got aaaaaaah muse tonight similar behaviour'],\n",
              "      dtype=object)"
            ]
          },
          "metadata": {},
          "execution_count": 36
        }
      ],
      "source": [
        "X_test"
      ]
    },
    {
      "cell_type": "code",
      "execution_count": null,
      "metadata": {
        "id": "l-BXLYQ6CU6U",
        "colab": {
          "base_uri": "https://localhost:8080/"
        },
        "outputId": "f9688e42-ba8e-4ced-a481-024ffc61858b"
      },
      "outputs": [
        {
          "output_type": "execute_result",
          "data": {
            "text/plain": [
              "array(['Arts', 'indUnk', 'indUnk', ..., 'indUnk', 'Communications-Media',\n",
              "       'Education'], dtype=object)"
            ]
          },
          "metadata": {},
          "execution_count": 37
        }
      ],
      "source": [
        "y_train"
      ]
    },
    {
      "cell_type": "code",
      "execution_count": null,
      "metadata": {
        "id": "Bpiqg2kUCdrj",
        "colab": {
          "base_uri": "https://localhost:8080/"
        },
        "outputId": "f397622e-7778-4b84-8486-48e1b4ba8599"
      },
      "outputs": [
        {
          "output_type": "execute_result",
          "data": {
            "text/plain": [
              "array(['indUnk', 'Arts', 'indUnk', ..., 'Law', 'Student', 'Arts'],\n",
              "      dtype=object)"
            ]
          },
          "metadata": {},
          "execution_count": 38
        }
      ],
      "source": [
        "y_test"
      ]
    },
    {
      "cell_type": "markdown",
      "metadata": {
        "id": "g_uJCJf7c2zb"
      },
      "source": [
        "1.3.C. Vectorize data using any one vectorizer. [2 Marks]"
      ]
    },
    {
      "cell_type": "code",
      "execution_count": null,
      "metadata": {
        "id": "2jLuxW_fCpBz"
      },
      "outputs": [],
      "source": [
        "from sklearn.feature_extraction.text import CountVectorizer\n",
        "\n",
        "vectorizer = CountVectorizer(binary=True, ngram_range=(1, 2))\n",
        "X_train_bow = vectorizer.fit_transform(X_train)\n",
        "X_test_bow = vectorizer.transform(X_test)"
      ]
    },
    {
      "cell_type": "markdown",
      "metadata": {
        "id": "SJvN9ZR9dERg"
      },
      "source": [
        "1.3.D. Build a base model for Supervised Learning - Classification. [2 Marks]"
      ]
    },
    {
      "cell_type": "code",
      "execution_count": null,
      "metadata": {
        "id": "Oz3u3n3oc_5o",
        "colab": {
          "base_uri": "https://localhost:8080/"
        },
        "outputId": "f256964b-9581-4248-caa2-55df94cf4c7a"
      },
      "outputs": [
        {
          "output_type": "execute_result",
          "data": {
            "text/plain": [
              "['aa', 'aa aa', 'aa aaa', 'aa aaaa', 'aa aaaaa']"
            ]
          },
          "metadata": {},
          "execution_count": 40
        }
      ],
      "source": [
        "vectorizer.get_feature_names()[:5]"
      ]
    },
    {
      "cell_type": "markdown",
      "metadata": {
        "id": "i8Y8jCS-dHZH"
      },
      "source": [
        "1.3.E. Clearly print Performance Metrics. [1 Marks]\n",
        "\n",
        "Hint: Accuracy, Precision, Recall, ROC-AUC"
      ]
    },
    {
      "cell_type": "markdown",
      "metadata": {
        "id": "sHyph2C5dS_i"
      },
      "source": [
        "1.4. Improve Performance of model. [14 Marks]"
      ]
    },
    {
      "cell_type": "code",
      "execution_count": null,
      "metadata": {
        "id": "LPkko2TcI914"
      },
      "outputs": [],
      "source": [
        "topic_counts = dict()\n",
        "for topic in data.topic.values:\n",
        "    for topic in topic:\n",
        "        if topic in topic_counts:\n",
        "           topic_counts[topic] += 1\n",
        "        else:\n",
        "            topic_counts[topic] = 1"
      ]
    },
    {
      "cell_type": "code",
      "execution_count": null,
      "metadata": {
        "id": "sTAGHM51MJ-d",
        "colab": {
          "base_uri": "https://localhost:8080/"
        },
        "outputId": "734499cf-daaa-4563-d179-62e608ecbf54"
      },
      "outputs": [
        {
          "output_type": "execute_result",
          "data": {
            "text/plain": [
              "{'S': 170588,\n",
              " 't': 507176,\n",
              " 'u': 256535,\n",
              " 'd': 459367,\n",
              " 'e': 380765,\n",
              " 'n': 965837,\n",
              " 'I': 17298,\n",
              " 'v': 19211,\n",
              " 's': 129419,\n",
              " 'm': 72231,\n",
              " 'B': 12075,\n",
              " 'a': 131099,\n",
              " 'k': 261125,\n",
              " 'i': 499536,\n",
              " 'g': 106336,\n",
              " 'U': 251015,\n",
              " 'N': 14700,\n",
              " 'o': 242950,\n",
              " '-': 42852,\n",
              " 'P': 22453,\n",
              " 'r': 134399,\n",
              " 'f': 18850,\n",
              " 'E': 46626,\n",
              " 'c': 150154,\n",
              " 'C': 31023,\n",
              " 'M': 33685,\n",
              " 'p': 5364,\n",
              " 'R': 14153,\n",
              " 'A': 45074,\n",
              " 'L': 14014,\n",
              " 'b': 10849,\n",
              " 'T': 50214,\n",
              " 'h': 62459,\n",
              " 'l': 75957,\n",
              " 'y': 47061,\n",
              " 'w': 10918,\n",
              " 'F': 4851,\n",
              " 'H': 3010,\n",
              " 'G': 6907}"
            ]
          },
          "metadata": {},
          "execution_count": 42
        }
      ],
      "source": [
        "topic_counts"
      ]
    },
    {
      "cell_type": "code",
      "execution_count": null,
      "metadata": {
        "id": "VblxmuFnnjcb"
      },
      "outputs": [],
      "source": [
        "from sklearn.preprocessing import MultiLabelBinarizer\n",
        "\n",
        "mlb = MultiLabelBinarizer(classes=sorted(topic_counts.keys()))\n",
        "y_train = mlb.fit_transform(y_train)\n",
        "y_test = mlb.transform(y_test)"
      ]
    },
    {
      "cell_type": "markdown",
      "metadata": {
        "id": "NJGPBmK0dZvY"
      },
      "source": [
        "1.4.A. Experiment with other vectorisers. [4 Marks]"
      ]
    },
    {
      "cell_type": "code",
      "source": [
        "from sklearn.multiclass import OneVsRestClassifier\n",
        "from sklearn.linear_model import LogisticRegression\n",
        "\n",
        "clf = LogisticRegression(solver='lbfgs')\n",
        "clf = OneVsRestClassifier(clf)\n"
      ],
      "metadata": {
        "id": "Xonl_YKgWXfC"
      },
      "execution_count": null,
      "outputs": []
    },
    {
      "cell_type": "markdown",
      "metadata": {
        "id": "d7tCSs53dC-Y"
      },
      "source": [
        "1.4.B. Build classifier Models using other algorithms than base model. [4 Marks]"
      ]
    },
    {
      "cell_type": "markdown",
      "metadata": {
        "id": "_XJiUc6udmDP"
      },
      "source": [
        "1.4.C. Tune Parameters/Hyperparameters of the model/s. [4 Marks]"
      ]
    },
    {
      "cell_type": "markdown",
      "metadata": {
        "id": "gAROCXiWdqYY"
      },
      "source": [
        "1.4.D. Clearly print Performance Metrics. [2 Marks]\n",
        "\n",
        "Hint: Accuracy, Precision, Recall, ROC-AUC"
      ]
    },
    {
      "cell_type": "code",
      "execution_count": null,
      "metadata": {
        "id": "4he13Kx09ZHU"
      },
      "outputs": [],
      "source": [
        "from sklearn.metrics import accuracy_score\n",
        "from sklearn.metrics import f1_score\n",
        "from sklearn.metrics import average_precision_score\n",
        "from sklearn.metrics import recall_score"
      ]
    },
    {
      "cell_type": "code",
      "execution_count": null,
      "metadata": {
        "id": "vvkgtNUU9eAz"
      },
      "outputs": [],
      "source": [
        "\n",
        "def print_evaluation_scores(y_val, predicted):\n",
        "    print('Accuracy score: ', accuracy_score(y_val, predicted))\n",
        "    print('F1 score: ', f1_score(y_val, predicted, average='micro'))\n",
        "    print('Average precision score: ', average_precision_score(y_val, predicted, average='micro'))\n",
        "    print('Average recall score: ', recall_score(y_val, predicted, average='micro'))"
      ]
    },
    {
      "cell_type": "markdown",
      "metadata": {
        "id": "0QIb8NY4du5Q"
      },
      "source": [
        "##1.5. Share insights on relative performance comparison [8 Marks]"
      ]
    },
    {
      "cell_type": "markdown",
      "metadata": {
        "id": "rRaELAhTd5o3"
      },
      "source": [
        "1.5.A. Which vectorizer performed better? Probable reason?.\n",
        "[2 Marks]"
      ]
    },
    {
      "cell_type": "code",
      "source": [
        "import gensim"
      ],
      "metadata": {
        "id": "YAL3pJbyazGi"
      },
      "execution_count": null,
      "outputs": []
    },
    {
      "cell_type": "code",
      "source": [
        "from gensim.models import Word2Vec, KeyedVectors"
      ],
      "metadata": {
        "id": "5JHbSj54a0ya"
      },
      "execution_count": null,
      "outputs": []
    },
    {
      "cell_type": "code",
      "source": [
        "from gensim import models"
      ],
      "metadata": {
        "id": "VsvH5wGabHXx"
      },
      "execution_count": null,
      "outputs": []
    },
    {
      "cell_type": "markdown",
      "metadata": {
        "id": "i4pG2_lBeJ5n"
      },
      "source": [
        "1.5.B. Which model outperformed? Probable reason? [2 Marks]"
      ]
    },
    {
      "cell_type": "code",
      "source": [
        "!pip install tensorflow-gpu"
      ],
      "metadata": {
        "colab": {
          "base_uri": "https://localhost:8080/"
        },
        "id": "7vP0TB1Sb3Pq",
        "outputId": "6b06fe84-a92c-4f12-e408-d1e8f538a145"
      },
      "execution_count": null,
      "outputs": [
        {
          "output_type": "stream",
          "name": "stdout",
          "text": [
            "Looking in indexes: https://pypi.org/simple, https://us-python.pkg.dev/colab-wheels/public/simple/\n",
            "Collecting tensorflow-gpu\n",
            "  Downloading tensorflow_gpu-2.9.1-cp37-cp37m-manylinux_2_17_x86_64.manylinux2014_x86_64.whl (511.7 MB)\n",
            "\u001b[K     |████████████████████████████████| 511.7 MB 5.5 kB/s \n",
            "\u001b[?25hRequirement already satisfied: protobuf<3.20,>=3.9.2 in /usr/local/lib/python3.7/dist-packages (from tensorflow-gpu) (3.17.3)\n",
            "Requirement already satisfied: tensorflow-io-gcs-filesystem>=0.23.1 in /usr/local/lib/python3.7/dist-packages (from tensorflow-gpu) (0.26.0)\n",
            "Requirement already satisfied: libclang>=13.0.0 in /usr/local/lib/python3.7/dist-packages (from tensorflow-gpu) (14.0.6)\n",
            "Requirement already satisfied: opt-einsum>=2.3.2 in /usr/local/lib/python3.7/dist-packages (from tensorflow-gpu) (3.3.0)\n",
            "Requirement already satisfied: keras-preprocessing>=1.1.1 in /usr/local/lib/python3.7/dist-packages (from tensorflow-gpu) (1.1.2)\n",
            "Collecting tensorflow-estimator<2.10.0,>=2.9.0rc0\n",
            "  Downloading tensorflow_estimator-2.9.0-py2.py3-none-any.whl (438 kB)\n",
            "\u001b[K     |████████████████████████████████| 438 kB 45.8 MB/s \n",
            "\u001b[?25hRequirement already satisfied: setuptools in /usr/local/lib/python3.7/dist-packages (from tensorflow-gpu) (57.4.0)\n",
            "Requirement already satisfied: absl-py>=1.0.0 in /usr/local/lib/python3.7/dist-packages (from tensorflow-gpu) (1.2.0)\n",
            "Collecting gast<=0.4.0,>=0.2.1\n",
            "  Downloading gast-0.4.0-py3-none-any.whl (9.8 kB)\n",
            "Collecting tensorboard<2.10,>=2.9\n",
            "  Downloading tensorboard-2.9.1-py3-none-any.whl (5.8 MB)\n",
            "\u001b[K     |████████████████████████████████| 5.8 MB 775 kB/s \n",
            "\u001b[?25hRequirement already satisfied: wrapt>=1.11.0 in /usr/local/lib/python3.7/dist-packages (from tensorflow-gpu) (1.14.1)\n",
            "Requirement already satisfied: grpcio<2.0,>=1.24.3 in /usr/local/lib/python3.7/dist-packages (from tensorflow-gpu) (1.47.0)\n",
            "Requirement already satisfied: packaging in /usr/local/lib/python3.7/dist-packages (from tensorflow-gpu) (21.3)\n",
            "Requirement already satisfied: six>=1.12.0 in /usr/local/lib/python3.7/dist-packages (from tensorflow-gpu) (1.15.0)\n",
            "Requirement already satisfied: numpy>=1.20 in /usr/local/lib/python3.7/dist-packages (from tensorflow-gpu) (1.21.6)\n",
            "Collecting keras<2.10.0,>=2.9.0rc0\n",
            "  Downloading keras-2.9.0-py2.py3-none-any.whl (1.6 MB)\n",
            "\u001b[K     |████████████████████████████████| 1.6 MB 49.8 MB/s \n",
            "\u001b[?25hRequirement already satisfied: google-pasta>=0.1.1 in /usr/local/lib/python3.7/dist-packages (from tensorflow-gpu) (0.2.0)\n",
            "Requirement already satisfied: termcolor>=1.1.0 in /usr/local/lib/python3.7/dist-packages (from tensorflow-gpu) (1.1.0)\n",
            "Collecting flatbuffers<2,>=1.12\n",
            "  Downloading flatbuffers-1.12-py2.py3-none-any.whl (15 kB)\n",
            "Requirement already satisfied: h5py>=2.9.0 in /usr/local/lib/python3.7/dist-packages (from tensorflow-gpu) (3.1.0)\n",
            "Requirement already satisfied: astunparse>=1.6.0 in /usr/local/lib/python3.7/dist-packages (from tensorflow-gpu) (1.6.3)\n",
            "Requirement already satisfied: typing-extensions>=3.6.6 in /usr/local/lib/python3.7/dist-packages (from tensorflow-gpu) (4.1.1)\n",
            "Requirement already satisfied: wheel<1.0,>=0.23.0 in /usr/local/lib/python3.7/dist-packages (from astunparse>=1.6.0->tensorflow-gpu) (0.37.1)\n",
            "Requirement already satisfied: cached-property in /usr/local/lib/python3.7/dist-packages (from h5py>=2.9.0->tensorflow-gpu) (1.5.2)\n",
            "Requirement already satisfied: google-auth-oauthlib<0.5,>=0.4.1 in /usr/local/lib/python3.7/dist-packages (from tensorboard<2.10,>=2.9->tensorflow-gpu) (0.4.6)\n",
            "Requirement already satisfied: google-auth<3,>=1.6.3 in /usr/local/lib/python3.7/dist-packages (from tensorboard<2.10,>=2.9->tensorflow-gpu) (1.35.0)\n",
            "Requirement already satisfied: tensorboard-data-server<0.7.0,>=0.6.0 in /usr/local/lib/python3.7/dist-packages (from tensorboard<2.10,>=2.9->tensorflow-gpu) (0.6.1)\n",
            "Requirement already satisfied: markdown>=2.6.8 in /usr/local/lib/python3.7/dist-packages (from tensorboard<2.10,>=2.9->tensorflow-gpu) (3.4.1)\n",
            "Requirement already satisfied: werkzeug>=1.0.1 in /usr/local/lib/python3.7/dist-packages (from tensorboard<2.10,>=2.9->tensorflow-gpu) (1.0.1)\n",
            "Requirement already satisfied: requests<3,>=2.21.0 in /usr/local/lib/python3.7/dist-packages (from tensorboard<2.10,>=2.9->tensorflow-gpu) (2.23.0)\n",
            "Requirement already satisfied: tensorboard-plugin-wit>=1.6.0 in /usr/local/lib/python3.7/dist-packages (from tensorboard<2.10,>=2.9->tensorflow-gpu) (1.8.1)\n",
            "Requirement already satisfied: cachetools<5.0,>=2.0.0 in /usr/local/lib/python3.7/dist-packages (from google-auth<3,>=1.6.3->tensorboard<2.10,>=2.9->tensorflow-gpu) (4.2.4)\n",
            "Requirement already satisfied: pyasn1-modules>=0.2.1 in /usr/local/lib/python3.7/dist-packages (from google-auth<3,>=1.6.3->tensorboard<2.10,>=2.9->tensorflow-gpu) (0.2.8)\n",
            "Requirement already satisfied: rsa<5,>=3.1.4 in /usr/local/lib/python3.7/dist-packages (from google-auth<3,>=1.6.3->tensorboard<2.10,>=2.9->tensorflow-gpu) (4.9)\n",
            "Requirement already satisfied: requests-oauthlib>=0.7.0 in /usr/local/lib/python3.7/dist-packages (from google-auth-oauthlib<0.5,>=0.4.1->tensorboard<2.10,>=2.9->tensorflow-gpu) (1.3.1)\n",
            "Requirement already satisfied: importlib-metadata>=4.4 in /usr/local/lib/python3.7/dist-packages (from markdown>=2.6.8->tensorboard<2.10,>=2.9->tensorflow-gpu) (4.12.0)\n",
            "Requirement already satisfied: zipp>=0.5 in /usr/local/lib/python3.7/dist-packages (from importlib-metadata>=4.4->markdown>=2.6.8->tensorboard<2.10,>=2.9->tensorflow-gpu) (3.8.1)\n",
            "Requirement already satisfied: pyasn1<0.5.0,>=0.4.6 in /usr/local/lib/python3.7/dist-packages (from pyasn1-modules>=0.2.1->google-auth<3,>=1.6.3->tensorboard<2.10,>=2.9->tensorflow-gpu) (0.4.8)\n",
            "Requirement already satisfied: idna<3,>=2.5 in /usr/local/lib/python3.7/dist-packages (from requests<3,>=2.21.0->tensorboard<2.10,>=2.9->tensorflow-gpu) (2.10)\n",
            "Requirement already satisfied: certifi>=2017.4.17 in /usr/local/lib/python3.7/dist-packages (from requests<3,>=2.21.0->tensorboard<2.10,>=2.9->tensorflow-gpu) (2022.6.15)\n",
            "Requirement already satisfied: chardet<4,>=3.0.2 in /usr/local/lib/python3.7/dist-packages (from requests<3,>=2.21.0->tensorboard<2.10,>=2.9->tensorflow-gpu) (3.0.4)\n",
            "Requirement already satisfied: urllib3!=1.25.0,!=1.25.1,<1.26,>=1.21.1 in /usr/local/lib/python3.7/dist-packages (from requests<3,>=2.21.0->tensorboard<2.10,>=2.9->tensorflow-gpu) (1.24.3)\n",
            "Requirement already satisfied: oauthlib>=3.0.0 in /usr/local/lib/python3.7/dist-packages (from requests-oauthlib>=0.7.0->google-auth-oauthlib<0.5,>=0.4.1->tensorboard<2.10,>=2.9->tensorflow-gpu) (3.2.0)\n",
            "Requirement already satisfied: pyparsing!=3.0.5,>=2.0.2 in /usr/local/lib/python3.7/dist-packages (from packaging->tensorflow-gpu) (3.0.9)\n",
            "Installing collected packages: tensorflow-estimator, tensorboard, keras, gast, flatbuffers, tensorflow-gpu\n",
            "  Attempting uninstall: tensorflow-estimator\n",
            "    Found existing installation: tensorflow-estimator 2.8.0\n",
            "    Uninstalling tensorflow-estimator-2.8.0:\n",
            "      Successfully uninstalled tensorflow-estimator-2.8.0\n",
            "  Attempting uninstall: tensorboard\n",
            "    Found existing installation: tensorboard 2.8.0\n",
            "    Uninstalling tensorboard-2.8.0:\n",
            "      Successfully uninstalled tensorboard-2.8.0\n",
            "  Attempting uninstall: keras\n",
            "    Found existing installation: keras 2.8.0\n",
            "    Uninstalling keras-2.8.0:\n",
            "      Successfully uninstalled keras-2.8.0\n",
            "  Attempting uninstall: gast\n",
            "    Found existing installation: gast 0.5.3\n",
            "    Uninstalling gast-0.5.3:\n",
            "      Successfully uninstalled gast-0.5.3\n",
            "  Attempting uninstall: flatbuffers\n",
            "    Found existing installation: flatbuffers 2.0\n",
            "    Uninstalling flatbuffers-2.0:\n",
            "      Successfully uninstalled flatbuffers-2.0\n",
            "\u001b[31mERROR: pip's dependency resolver does not currently take into account all the packages that are installed. This behaviour is the source of the following dependency conflicts.\n",
            "tensorflow 2.8.2+zzzcolab20220719082949 requires keras<2.9,>=2.8.0rc0, but you have keras 2.9.0 which is incompatible.\n",
            "tensorflow 2.8.2+zzzcolab20220719082949 requires tensorboard<2.9,>=2.8, but you have tensorboard 2.9.1 which is incompatible.\n",
            "tensorflow 2.8.2+zzzcolab20220719082949 requires tensorflow-estimator<2.9,>=2.8, but you have tensorflow-estimator 2.9.0 which is incompatible.\u001b[0m\n",
            "Successfully installed flatbuffers-1.12 gast-0.4.0 keras-2.9.0 tensorboard-2.9.1 tensorflow-estimator-2.9.0 tensorflow-gpu-2.9.1\n"
          ]
        }
      ]
    },
    {
      "cell_type": "code",
      "source": [
        "import tensorflow as tf\n",
        "print(tf.__version__)"
      ],
      "metadata": {
        "colab": {
          "base_uri": "https://localhost:8080/"
        },
        "id": "fWi8B7d_cRCo",
        "outputId": "d30328d7-193e-4d0a-d4fc-7ae9acf8d2fd"
      },
      "execution_count": null,
      "outputs": [
        {
          "output_type": "stream",
          "name": "stdout",
          "text": [
            "2.9.1\n"
          ]
        }
      ]
    },
    {
      "cell_type": "code",
      "source": [
        "##tensorflow >2.0\n",
        "from tensorflow.keras.preprocessing.text import one_hot"
      ],
      "metadata": {
        "id": "HYj45gXBckuP"
      },
      "execution_count": null,
      "outputs": []
    },
    {
      "cell_type": "code",
      "source": [
        "#List to hold all words in each review\n",
        "documents = []\n",
        "\n",
        "#Iterate over each review\n",
        "for doc in data['text']:\n",
        "    documents.append(doc.split(' '))"
      ],
      "metadata": {
        "id": "bNHEACwndCzm"
      },
      "execution_count": null,
      "outputs": []
    },
    {
      "cell_type": "code",
      "source": [
        "print(len(documents))"
      ],
      "metadata": {
        "colab": {
          "base_uri": "https://localhost:8080/"
        },
        "id": "UGI8DO_rdSl1",
        "outputId": "f21f4ab3-5224-4070-ef72-047e5b8a1997"
      },
      "execution_count": null,
      "outputs": [
        {
          "output_type": "stream",
          "name": "stdout",
          "text": [
            "681284\n"
          ]
        }
      ]
    },
    {
      "cell_type": "code",
      "source": [
        "print(documents[0])"
      ],
      "metadata": {
        "colab": {
          "base_uri": "https://localhost:8080/"
        },
        "id": "8HDXP2iBdYFV",
        "outputId": "ebb4fcf9-8d3b-40c5-9d06-679ddf5a0643"
      },
      "execution_count": null,
      "outputs": [
        {
          "output_type": "stream",
          "name": "stdout",
          "text": [
            "['info', 'found', 'pages', 'mb', 'pdf', 'files', 'wait', 'untill', 'team', 'leader', 'processed', 'learns', 'html']\n"
          ]
        }
      ]
    },
    {
      "cell_type": "markdown",
      "metadata": {
        "id": "_WqGIvK8eL2-"
      },
      "source": [
        "1.5.C. Which parameter/hyperparameter significantly helped to improve performance?Probable reason?. [2 Marks]"
      ]
    },
    {
      "cell_type": "markdown",
      "metadata": {
        "id": "MVcK8ARueRxG"
      },
      "source": [
        "1.5.D. According to you, which performance metric should be given most importance, why?. [2 Marks]"
      ]
    },
    {
      "cell_type": "markdown",
      "metadata": {
        "id": "ilV5hWvReXF3"
      },
      "source": [
        "#Part B - 20 Marks"
      ]
    },
    {
      "cell_type": "markdown",
      "metadata": {
        "id": "S8aqLSBheby-"
      },
      "source": [
        "**• DOMAIN:** Customer support\n",
        "\n",
        "**• CONTEXT:** Great Learning has a an academic support department which receives numerous support requests every day throughout the year.\n",
        "Teams are spread across geographies and try to provide support round the year. Sometimes there are circumstances where due to heavy\n",
        "workload certain request resolutions are delayed, impacting company’s business. Some of the requests are very generic where a proper\n",
        "resolution procedure delivered to the user can solve the problem. Company is looking forward to design an automation which can interact with\n",
        "the user, understand the problem and display the resolution procedure [ if found as a generic request ] or redirect the request to an actual human\n",
        "support executive if the request is complex or not in it’s database.\n",
        "\n",
        "**DATA DESCRIPTION:** A sample corpus is attached for your reference. Please enhance/add more data to the corpus using your linguistics skills."
      ]
    },
    {
      "cell_type": "markdown",
      "metadata": {
        "id": "ro-fUJzCfCYV"
      },
      "source": [
        "**• PROJECT OBJECTIVE:** Design a python based interactive semi - rule based chatbot which can do the following:"
      ]
    },
    {
      "cell_type": "markdown",
      "metadata": {
        "id": "vf07GoDFfISM"
      },
      "source": [
        "2.1. Start chat session with greetings and ask what the user is looking for. [5 Marks]"
      ]
    },
    {
      "cell_type": "code",
      "source": [
        "import json"
      ],
      "metadata": {
        "id": "xEyIxNZWfvsi"
      },
      "execution_count": null,
      "outputs": []
    },
    {
      "cell_type": "code",
      "source": [
        "gl=pd.read_json(project_path+'/GL Bot.json')\n",
        "gl.info()"
      ],
      "metadata": {
        "colab": {
          "base_uri": "https://localhost:8080/"
        },
        "id": "MOITu1SmerCc",
        "outputId": "ee9de7f6-5bf9-40fb-a725-6f1b9529adc3"
      },
      "execution_count": null,
      "outputs": [
        {
          "output_type": "stream",
          "name": "stdout",
          "text": [
            "<class 'pandas.core.frame.DataFrame'>\n",
            "RangeIndex: 8 entries, 0 to 7\n",
            "Data columns (total 1 columns):\n",
            " #   Column   Non-Null Count  Dtype \n",
            "---  ------   --------------  ----- \n",
            " 0   intents  8 non-null      object\n",
            "dtypes: object(1)\n",
            "memory usage: 192.0+ bytes\n"
          ]
        }
      ]
    },
    {
      "cell_type": "code",
      "source": [
        "### Vocabulary size\n",
        "voc_size=500"
      ],
      "metadata": {
        "id": "j-glR-NGh2EA"
      },
      "execution_count": null,
      "outputs": []
    },
    {
      "cell_type": "code",
      "source": [
        "sent=[gl]\n",
        "sent"
      ],
      "metadata": {
        "colab": {
          "base_uri": "https://localhost:8080/"
        },
        "id": "6vlwS9-giBAm",
        "outputId": "089ea4da-fccf-4ae6-e000-0acc906e212f"
      },
      "execution_count": null,
      "outputs": [
        {
          "output_type": "execute_result",
          "data": {
            "text/plain": [
              "[                                             intents\n",
              " 0  {'tag': 'Intro', 'patterns': ['hi', 'how are y...\n",
              " 1  {'tag': 'Exit', 'patterns': ['thank you', 'tha...\n",
              " 2  {'tag': 'Olympus', 'patterns': ['olympus', 'ex...\n",
              " 3  {'tag': 'SL', 'patterns': ['i am not able to u...\n",
              " 4  {'tag': 'NN', 'patterns': ['what is deep learn...\n",
              " 5  {'tag': 'Bot', 'patterns': ['what is your name...\n",
              " 6  {'tag': 'Profane', 'patterns': ['what the hell...\n",
              " 7  {'tag': 'Ticket', 'patterns': ['my problem is ...]"
            ]
          },
          "metadata": {},
          "execution_count": 59
        }
      ]
    },
    {
      "cell_type": "code",
      "source": [
        "ner=[sent]"
      ],
      "metadata": {
        "id": "V7DwwOI1jN-r"
      },
      "execution_count": null,
      "outputs": []
    },
    {
      "cell_type": "code",
      "source": [
        "#Writing a function to put the entity, its label, and explanation together.\n",
        "def display_entity(doc):\n",
        "  if doc.ents:\n",
        "    for entity in doc.ents:\n",
        "      print(entity.text + '-' + entity.label_ + '-' + str(spacy.explain(entity.label_)))\n",
        "  else:\n",
        "    print('Entity not found')"
      ],
      "metadata": {
        "id": "hq2h2GyNjDCV"
      },
      "execution_count": null,
      "outputs": []
    },
    {
      "cell_type": "code",
      "source": [
        "from spacy.tokens import Span"
      ],
      "metadata": {
        "id": "HWdxiKofjpyi"
      },
      "execution_count": null,
      "outputs": []
    },
    {
      "cell_type": "code",
      "source": [
        "from tensorflow.keras.layers import Embedding\n",
        "from tensorflow.keras.preprocessing.sequence import pad_sequences\n",
        "from tensorflow.keras.models import Sequential"
      ],
      "metadata": {
        "id": "ea1O8PQdiRwN"
      },
      "execution_count": null,
      "outputs": []
    },
    {
      "cell_type": "code",
      "source": [
        "#Visualize NER\n",
        "from spacy import displacy"
      ],
      "metadata": {
        "id": "BtqJ3eyij86b"
      },
      "execution_count": null,
      "outputs": []
    },
    {
      "cell_type": "code",
      "source": [
        "test=gl\n"
      ],
      "metadata": {
        "id": "la4zaEVpkDHK"
      },
      "execution_count": null,
      "outputs": []
    },
    {
      "cell_type": "code",
      "source": [
        "Corpus=gl\n",
        "print(Corpus\n",
        "      )"
      ],
      "metadata": {
        "colab": {
          "base_uri": "https://localhost:8080/"
        },
        "id": "HoUikRyolRhx",
        "outputId": "120b5eb8-df15-4aa0-c7ae-2c9febd8f8a2"
      },
      "execution_count": null,
      "outputs": [
        {
          "output_type": "stream",
          "name": "stdout",
          "text": [
            "                                             intents\n",
            "0  {'tag': 'Intro', 'patterns': ['hi', 'how are y...\n",
            "1  {'tag': 'Exit', 'patterns': ['thank you', 'tha...\n",
            "2  {'tag': 'Olympus', 'patterns': ['olympus', 'ex...\n",
            "3  {'tag': 'SL', 'patterns': ['i am not able to u...\n",
            "4  {'tag': 'NN', 'patterns': ['what is deep learn...\n",
            "5  {'tag': 'Bot', 'patterns': ['what is your name...\n",
            "6  {'tag': 'Profane', 'patterns': ['what the hell...\n",
            "7  {'tag': 'Ticket', 'patterns': ['my problem is ...\n"
          ]
        }
      ]
    },
    {
      "cell_type": "markdown",
      "metadata": {
        "id": "NXnmERovhZP5"
      },
      "source": [
        "2.2. Accept dynamic text based questions from the user. Reply back with relevant answer from the designed corpus. [10 Marks]"
      ]
    },
    {
      "cell_type": "markdown",
      "metadata": {
        "id": "xjHduDqHhiqp"
      },
      "source": [
        "2.3. End the chat session only if the user requests to end else ask what the user is looking for. Loop continues till the user asks to end it. [5 Marks]\n",
        "\n",
        "**Hint:** There are a lot of techniques using which one can clean and prepare the data which can be used to train a ML/DL classifier. Hence, it might\n",
        "require you to experiment, research, self learn and implement the above classifier. There might be many iterations between hand building the\n",
        "corpus and designing the best fit text classifier. As the quality and quantity of corpus increases the model’s performance i.e. ability to answer\n",
        "right questions also increases.\n",
        "\n",
        "Reference: https://www.mygreatlearning.com/blog/basics-of-building-an-artificial-intelligence-chatbot/"
      ]
    }
  ],
  "metadata": {
    "colab": {
      "collapsed_sections": [],
      "name": "NLP_Project1_Updated.ipynb",
      "provenance": [],
      "authorship_tag": "ABX9TyNIynFz+aqYB0WruGW0LGpC",
      "include_colab_link": true
    },
    "kernelspec": {
      "display_name": "Python 3",
      "name": "python3"
    },
    "language_info": {
      "name": "python"
    }
  },
  "nbformat": 4,
  "nbformat_minor": 0
}